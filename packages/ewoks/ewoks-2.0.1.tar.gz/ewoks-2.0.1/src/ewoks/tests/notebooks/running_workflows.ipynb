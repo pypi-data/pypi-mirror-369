{
 "cells": [
  {
   "cell_type": "markdown",
   "id": "68fe18a0",
   "metadata": {},
   "source": [
    "# Use different engines\n",
    "\n",
    "This notebook demonstrates how to execute a workflow with different engines."
   ]
  },
  {
   "cell_type": "code",
   "execution_count": 1,
   "id": "9c0eb2c7",
   "metadata": {},
   "outputs": [],
   "source": [
    "import os\n",
    "import shutil\n",
    "\n",
    "from ewoks import execute_graph\n",
    "from ewokscore.variable import value_from_transfer\n",
    "from ewokscore.tests.utils.show import show_graph\n",
    "from ewokscore.tests.examples.graphs import get_graph"
   ]
  },
  {
   "cell_type": "markdown",
   "id": "47adb79c",
   "metadata": {},
   "source": [
    "## Select and configure a task scheduler"
   ]
  },
  {
   "cell_type": "code",
   "execution_count": 2,
   "id": "e0b355d2",
   "metadata": {},
   "outputs": [],
   "source": [
    "scheduler = None  # select any of the schedulers shown below\n",
    "\n",
    "execute_options = dict()\n",
    "\n",
    "if scheduler == \"dask_multithreading\":\n",
    "    # tasks are distributed by a local scheduler over multiple threads\n",
    "    execute_options[\"engine\"] = \"dask\"\n",
    "    execute_options[\"scheduler\"] = \"multithreading\"\n",
    "elif scheduler == \"dask_multiprocessing\":\n",
    "    # tasks are distributed by a local scheduler over multiple processes\n",
    "    execute_options[\"engine\"] = \"dask\"\n",
    "    execute_options[\"scheduler\"] = \"multiprocessing\"\n",
    "elif scheduler == \"dask_local_cluster\":\n",
    "    # tasks are distributed by a local scheduler\n",
    "    execute_options[\"engine\"] = \"dask\"\n",
    "    execute_options[\"scheduler\"] = \"cluster\"\n",
    "elif scheduler == \"dask_remote_cluster\":\n",
    "    # tasks are distributed by a remote scheduler\n",
    "    execute_options[\"engine\"] = \"dask\"\n",
    "    execute_options[\"scheduler\"] = \"127.0.0.1:40331\"\n",
    "\n",
    "    # There are different ways to start a remote scheduler\n",
    "    #\n",
    "    # Start a dask scheduler on any host:\n",
    "    #  >>> from ewoksdask.schedulers import local_scheduler\n",
    "    #  >>> scheduler = local_scheduler(n_workers=5)\n",
    "    #\n",
    "    # Start a dask scheduler on a host that can launch slurm jobs:\n",
    "    #  >>> from ewoksdask.schedulers import slurm_scheduler\n",
    "    #  >>> scheduler = slurm_scheduler(maximum_jobs=5)\n",
    "\n",
    "elif scheduler == \"pypushflow\":\n",
    "    # tasks are distributed by a local scheduler over multiple processes\n",
    "    execute_options[\"engine\"] = \"ppf\"\n",
    "else:\n",
    "    # tasks are executed in a single thread\n",
    "    scheduler = None\n",
    "    pass"
   ]
  },
  {
   "cell_type": "markdown",
   "id": "7bce49c6",
   "metadata": {},
   "source": [
    "## Select a task graph"
   ]
  },
  {
   "cell_type": "code",
   "execution_count": 7,
   "id": "52a3e417",
   "metadata": {},
   "outputs": [
    {
     "data": {
      "image/png": "[encoded data removed]",
      "text/plain": [
       "<Figure size 432x288 with 1 Axes>"
      ]
     },
     "metadata": {},
     "output_type": "display_data"
    }
   ],
   "source": [
    "taskgraph, expected_results = get_graph(\"acyclic1\")\n",
    "show_graph(taskgraph, stdout=False, plot=True)"
   ]
  },
  {
   "cell_type": "markdown",
   "id": "af5e69b3",
   "metadata": {},
   "source": [
    "## Configure storage of results (if any)"
   ]
  },
  {
   "cell_type": "code",
   "execution_count": 4,
   "id": "085f154b",
   "metadata": {},
   "outputs": [],
   "source": [
    "def prepare_storage(clean=True):\n",
    "    if not varinfo[\"root_uri\"]:\n",
    "        return  # results are not persisted by ewoks\n",
    "    if clean:\n",
    "        shutil.rmtree(varinfo[\"root_uri\"], ignore_errors=True)\n",
    "    os.makedirs(varinfo[\"root_uri\"], exist_ok=True)\n",
    "\n",
    "\n",
    "varinfo = {\"root_uri\": None}  # folder where all results will be saved\n",
    "execute_options[\"varinfo\"] = varinfo\n",
    "prepare_storage(clean=True)"
   ]
  },
  {
   "cell_type": "markdown",
   "id": "0b3cfedd",
   "metadata": {},
   "source": [
    "## Execute the workflow"
   ]
  },
  {
   "cell_type": "code",
   "execution_count": 5,
   "id": "0e52aac1",
   "metadata": {},
   "outputs": [
    {
     "name": "stdout",
     "output_type": "stream",
     "text": [
      "Execution options:\n",
      "{'varinfo': {'root_uri': None}}\n"
     ]
    }
   ],
   "source": [
    "print(\"Execution options:\")\n",
    "print(execute_options)\n",
    "results = execute_graph(taskgraph, **execute_options)"
   ]
  },
  {
   "cell_type": "markdown",
   "id": "577fc5a9-c215-458f-afe1-b5b354e90d10",
   "metadata": {},
   "source": [
    "## Inspect results"
   ]
  },
  {
   "cell_type": "code",
   "execution_count": 6,
   "id": "8fb1abbb-9c09-4465-85c5-237b9c8a193c",
   "metadata": {},
   "outputs": [
    {
     "name": "stdout",
     "output_type": "stream",
     "text": [
      " result = 16\n"
     ]
    }
   ],
   "source": [
    "for name, result in results.items():\n",
    "    value = value_from_transfer(result, varinfo=varinfo)\n",
    "    print(f\" {name} =\", value)"
   ]
  }
 ],
 "metadata": {
  "language_info": {
   "name": "python"
  }
 },
 "nbformat": 4,
 "nbformat_minor": 5
}
