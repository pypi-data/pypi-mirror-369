{
 "cells": [
  {
   "cell_type": "code",
   "execution_count": 1,
   "id": "d14df880",
   "metadata": {},
   "outputs": [
    {
     "name": "stdout",
     "output_type": "stream",
     "text": [
      "<!doctype html>\n",
      "<html dir=\"rtl\" lang=\"fa-IR\" class=\"no-js\">\n",
      "<head>\n",
      "<meta charset=\"UTF-8\" />\n",
      "<meta http-equiv=\"Content-Type\" content=\"text/html; charset=UTF-8\" />\n",
      "<meta http-equiv=\"X-UA-Compatible\" content=\"IE=edge,chrome=1\" />\n",
      "<meta name=\"HandheldFriendly\" content=\"true\" /><title>فارسی شکر است — محمدعلی جمال‌زاده &#8211; داستان کوتاه</title>\n",
      "<meta name='robots' content='max-image-preview:large' />\n",
      "\t<style>img:is([sizes=\"auto\" i], [sizes^=\"auto,\" i]) { contain-intrinsic-size: 3000px 1500px }</style>\n",
      "\t<link rel='dns-prefetch' href='//rawcdn.githack.com' />\n",
      "<link href='https://rawcdn.githack.com' crossorigin rel='preconnect' />\n",
      "<link rel=\"alternate\" type=\"application/rss+xml\" title=\"داستان کوتاه &raquo; خوراک\" href=\"https://shortstories.ir/feed\" />\n",
      "<link rel=\"alternate\" type=\"application/rss+xml\" title=\"داستان کوتاه &raquo; خوراک دیدگاه‌ها\" href=\"https://shortstories.ir/comments/feed\" />\n",
      "<meta name=\"viewport\" content=\"width=device-width,initial-scale=1,maximum-scale=1,user-scalable=no\" />\n"
     ]
    }
   ],
   "source": [
    "import requests\n",
    "\n",
    "url = f\"https://shortstories.ir/entry/%D9%81%D8%A7%D8%B1%D8%B3%DB%8C-%D8%B4%DA%A9%D8%B1-%D8%A7%D8%B3%D8%AA-%D9%85%D8%AD%D9%85%D8%AF%D8%B9%D9%84%DB%8C-%D8%AC%D9%85%D8%A7%D9%84-%D8%B2%D8%A7%D8%AF%D9%87\"\n",
    "response = requests.get(url)\n",
    "html_content = response.text\n",
    "print(html_content[0:1000])"
   ]
  },
  {
   "cell_type": "code",
   "execution_count": 2,
   "id": "e1dfb007",
   "metadata": {},
   "outputs": [],
   "source": [
    "from shekar.preprocessing import (\n",
    "  RemoveHTMLTags,\n",
    "  RemoveDiacritics,\n",
    "  RemoveNonPersianLetters,\n",
    "  NormalizeArabicUnicodes,\n",
    "  StandardizeSpacings,\n",
    ")\n",
    "cleaners = RemoveHTMLTags(replace_with=\"\\n\") | RemoveDiacritics() | RemoveNonPersianLetters()\n",
    "normalizers = NormalizeArabicUnicodes() | StandardizeSpacings()\n",
    "\n",
    "preprocessing_pipeline = cleaners | normalizers"
   ]
  },
  {
   "cell_type": "code",
   "execution_count": 3,
   "id": "63eda552",
   "metadata": {},
   "outputs": [],
   "source": [
    "clean_text = preprocessing_pipeline(html_content)"
   ]
  },
  {
   "cell_type": "code",
   "execution_count": 4,
   "id": "c0ba87d1",
   "metadata": {},
   "outputs": [
    {
     "name": "stdout",
     "output_type": "stream",
     "text": [
      "برنداری وامی‌دارم بیایند\n",
      "وامی‌دارم بیایند پوزه\n",
      "چکاندن دردی شفا\n",
      "دردی شفا نمی‌یابد\n",
      "والمقام باسوء احوال\n",
      "باسوء احوال معرض\n",
      "گری برنداری وامی‌دارم\n",
      "بیایند پوزه بندت\n",
      "خاکه زغالی چنبره\n",
      "مسموع سمع حضار\n"
     ]
    }
   ],
   "source": [
    "from shekar import RAKE\n",
    "\n",
    "extractor = RAKE(top_n=10)\n",
    "keywords = extractor(clean_text)\n",
    "for kw in keywords:\n",
    "    print(kw)"
   ]
  }
 ],
 "metadata": {
  "kernelspec": {
   "display_name": ".venv",
   "language": "python",
   "name": "python3"
  },
  "language_info": {
   "codemirror_mode": {
    "name": "ipython",
    "version": 3
   },
   "file_extension": ".py",
   "mimetype": "text/x-python",
   "name": "python",
   "nbconvert_exporter": "python",
   "pygments_lexer": "ipython3",
   "version": "3.10.16"
  }
 },
 "nbformat": 4,
 "nbformat_minor": 5
}
