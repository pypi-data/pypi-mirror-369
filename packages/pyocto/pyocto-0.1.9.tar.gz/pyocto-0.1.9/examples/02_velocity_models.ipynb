{
  "cells": [
    {
      "cell_type": "markdown",
      "id": "319b7752-2e20-4a0f-b5f9-d2b76ec94fc8",
      "metadata": {
        "execution": {
          "iopub.execute_input": "2023-10-16T13:52:18.438305Z",
          "iopub.status.busy": "2023-10-16T13:52:18.437006Z",
          "iopub.status.idle": "2023-10-16T13:52:18.451538Z",
          "shell.execute_reply": "2023-10-16T13:52:18.450717Z",
          "shell.execute_reply.started": "2023-10-16T13:52:18.438253Z"
        }
      },
      "source": [
        "<a href=\"https://colab.research.google.com/github/yetinam/pyocto/blob/examples/02_velocity_models.ipynb\" target=\"_parent\"><img src=\"https://colab.research.google.com/assets/colab-badge.svg\" alt=\"Open In Colab\"/></a>"
      ]
    },
    {
      "cell_type": "markdown",
      "id": "1618400c-8c79-4a48-a54a-05d7b6993e17",
      "metadata": {},
      "source": [
        "![image](https://raw.githubusercontent.com/yetinam/pyocto/main/docs/_static/pyocto_logo_outlined.svg)"
      ]
    },
    {
      "cell_type": "markdown",
      "id": "03bd0c0b-bd61-4c66-a4aa-ddf86ebdc589",
      "metadata": {
        "execution": {
          "iopub.execute_input": "2023-10-16T13:52:39.804088Z",
          "iopub.status.busy": "2023-10-16T13:52:39.803573Z",
          "iopub.status.idle": "2023-10-16T13:52:39.811155Z",
          "shell.execute_reply": "2023-10-16T13:52:39.810001Z",
          "shell.execute_reply.started": "2023-10-16T13:52:39.804030Z"
        }
      },
      "source": [
        "*This code is necessary on colab to install PyOcto. If PyOcto is already installed on your machine, you can skip this. In addition, we install PyArrow and Pyrocko. PyArrow is required for reading our example data in parquet format. PyRocko for creating the 1D velocity models.*"
      ]
    },
    {
      "cell_type": "code",
      "execution_count": null,
      "id": "eca54050-6771-4e34-8991-a960c598f5cc",
      "metadata": {},
      "outputs": [],
      "source": [
        "!pip install pyocto pyarrow pyrocko"
      ]
    },
    {
      "cell_type": "markdown",
      "id": "860f33da-4904-4675-afb3-71662645af63",
      "metadata": {},
      "source": [
        "# Velocity models\n",
        "\n",
        "This tutorial introduces the PyOcto velocity models. PyOcto supports homogeneous models and 1D layered velocity models. For this tutorial, we assume familiarity with the basics of PyOcto. Take a look at the basics tutorial if you haven't done so yet."
      ]
    },
    {
      "cell_type": "code",
      "execution_count": 1,
      "id": "72389fa6-0e3a-495d-804f-dd7aa1091c9d",
      "metadata": {
        "execution": {
          "iopub.execute_input": "2023-10-16T15:09:43.971060Z",
          "iopub.status.busy": "2023-10-16T15:09:43.970750Z",
          "iopub.status.idle": "2023-10-16T15:09:44.455646Z",
          "shell.execute_reply": "2023-10-16T15:09:44.455215Z",
          "shell.execute_reply.started": "2023-10-16T15:09:43.971030Z"
        }
      },
      "outputs": [],
      "source": [
        "import pyocto\n",
        "import pandas as pd\n",
        "import datetime\n",
        "import matplotlib.pyplot as plt"
      ]
    },
    {
      "cell_type": "markdown",
      "id": "6e261420-c74b-4c59-aed4-8a637b825cf9",
      "metadata": {},
      "source": [
        "For this notebook, we use the same example data as for the basics notebook, i.e., synthetic events in Chile."
      ]
    },
    {
      "cell_type": "code",
      "execution_count": null,
      "id": "1c52ed9e-d9c1-4fa6-a549-de702bc9d439",
      "metadata": {},
      "outputs": [],
      "source": [
        "!wget https://github.com/yetinam/pyocto/raw/main/tests/data/picks\n",
        "!wget https://github.com/yetinam/pyocto/raw/main/tests/data/stations\n",
        "!wget https://github.com/yetinam/pyocto/raw/main/tests/data/graeber.csv"
      ]
    },
    {
      "cell_type": "code",
      "execution_count": 2,
      "id": "53eb70ea-8f4f-41e7-804d-05fddd43f282",
      "metadata": {
        "execution": {
          "iopub.execute_input": "2023-10-16T15:09:44.731699Z",
          "iopub.status.busy": "2023-10-16T15:09:44.731195Z",
          "iopub.status.idle": "2023-10-16T15:09:44.766640Z",
          "shell.execute_reply": "2023-10-16T15:09:44.766168Z",
          "shell.execute_reply.started": "2023-10-16T15:09:44.731663Z"
        }
      },
      "outputs": [],
      "source": [
        "picks = pd.read_parquet(\"picks\")\n",
        "picks[\"time\"] = picks[\"time\"].apply(lambda x: x.timestamp())\n",
        "stations = pd.read_parquet(\"stations\")"
      ]
    },
    {
      "cell_type": "markdown",
      "id": "b54cfe97-7a65-4ed9-826c-f79d5b54282b",
      "metadata": {
        "execution": {
          "iopub.execute_input": "2023-10-16T13:55:42.972418Z",
          "iopub.status.busy": "2023-10-16T13:55:42.971819Z",
          "iopub.status.idle": "2023-10-16T13:55:42.974969Z",
          "shell.execute_reply": "2023-10-16T13:55:42.974605Z",
          "shell.execute_reply.started": "2023-10-16T13:55:42.972376Z"
        }
      },
      "source": [
        "## Homogeneous velocity models\n",
        "\n",
        "In the basics tutorial, we already introduced the homogeneous velocity model. It assumes a constant P and S velocity everywhere in the medium. This assumption is usually sufficient for shallow seismicity and even for subduction zones leads to good results. Let's create a velocity model."
      ]
    },
    {
      "cell_type": "code",
      "execution_count": 3,
      "id": "0176ee46-f486-4317-b755-252def1cfd40",
      "metadata": {
        "execution": {
          "iopub.execute_input": "2023-10-16T15:09:45.331340Z",
          "iopub.status.busy": "2023-10-16T15:09:45.330944Z",
          "iopub.status.idle": "2023-10-16T15:09:45.336142Z",
          "shell.execute_reply": "2023-10-16T15:09:45.335413Z",
          "shell.execute_reply.started": "2023-10-16T15:09:45.331307Z"
        }
      },
      "outputs": [],
      "source": [
        "velocity_model = pyocto.VelocityModel0D(\n",
        "    p_velocity=7.0,\n",
        "    s_velocity=4.0,\n",
        "    tolerance=2.0,\n",
        ")"
      ]
    },
    {
      "cell_type": "markdown",
      "id": "22b34e32-8da4-4f99-93ab-e983ee3648a2",
      "metadata": {},
      "source": [
        "With the velocity model, we create an associator instance and run the association. This will take a few seconds."
      ]
    },
    {
      "cell_type": "code",
      "execution_count": 4,
      "id": "94d7d3d8-009c-401a-a33d-5a0200d74b30",
      "metadata": {
        "execution": {
          "iopub.execute_input": "2023-10-16T15:09:45.881573Z",
          "iopub.status.busy": "2023-10-16T15:09:45.881370Z",
          "iopub.status.idle": "2023-10-16T15:09:52.156909Z",
          "shell.execute_reply": "2023-10-16T15:09:52.156482Z",
          "shell.execute_reply.started": "2023-10-16T15:09:45.881560Z"
        }
      },
      "outputs": [],
      "source": [
        "associator = pyocto.OctoAssociator.from_area(\n",
        "    lat=(-25, -18),\n",
        "    lon=(-71.5, -68),\n",
        "    zlim=(0, 200),\n",
        "    time_before=300,\n",
        "    velocity_model=velocity_model,\n",
        "    n_picks=10,\n",
        "    n_p_and_s_picks=4,\n",
        ")\n",
        "associator.transform_stations(stations)\n",
        "events_0d, assignments_0d = associator.associate(picks, stations)"
      ]
    },
    {
      "cell_type": "markdown",
      "id": "f2525af1-87fa-433a-8be1-dd9fa6c8bcba",
      "metadata": {},
      "source": [
        "## 1D velocity models\n",
        "\n",
        "Using a 1D velocity model consists of two steps. First, we need to prepare the model. Second, we create an instance of the model to pass to PyOcto. Let's start by loading our velocity model from a csv file."
      ]
    },
    {
      "cell_type": "code",
      "execution_count": 5,
      "id": "3ad0a056-4dd3-4c24-b2b8-6d581029e1a0",
      "metadata": {
        "execution": {
          "iopub.execute_input": "2023-10-16T15:09:52.157706Z",
          "iopub.status.busy": "2023-10-16T15:09:52.157584Z",
          "iopub.status.idle": "2023-10-16T15:09:52.169110Z",
          "shell.execute_reply": "2023-10-16T15:09:52.168714Z",
          "shell.execute_reply.started": "2023-10-16T15:09:52.157695Z"
        }
      },
      "outputs": [
        {
          "data": {
            "text/html": [
              "<div>\n",
              "<style scoped>\n",
              "    .dataframe tbody tr th:only-of-type {\n",
              "        vertical-align: middle;\n",
              "    }\n",
              "\n",
              "    .dataframe tbody tr th {\n",
              "        vertical-align: top;\n",
              "    }\n",
              "\n",
              "    .dataframe thead th {\n",
              "        text-align: right;\n",
              "    }\n",
              "</style>\n",
              "<table border=\"1\" class=\"dataframe\">\n",
              "  <thead>\n",
              "    <tr style=\"text-align: right;\">\n",
              "      <th></th>\n",
              "      <th>depth</th>\n",
              "      <th>vp</th>\n",
              "      <th>vp_grad</th>\n",
              "      <th>vs</th>\n",
              "      <th>vs_grad</th>\n",
              "      <th>x</th>\n",
              "      <th>y</th>\n",
              "    </tr>\n",
              "  </thead>\n",
              "  <tbody>\n",
              "    <tr>\n",
              "      <th>0</th>\n",
              "      <td>0.0</td>\n",
              "      <td>6.1</td>\n",
              "      <td>0.00</td>\n",
              "      <td>3.6</td>\n",
              "      <td>0.00</td>\n",
              "      <td>1.0</td>\n",
              "      <td>0.0</td>\n",
              "    </tr>\n",
              "    <tr>\n",
              "      <th>1</th>\n",
              "      <td>10.0</td>\n",
              "      <td>6.1</td>\n",
              "      <td>0.03</td>\n",
              "      <td>3.6</td>\n",
              "      <td>0.02</td>\n",
              "      <td>1.0</td>\n",
              "      <td>0.0</td>\n",
              "    </tr>\n",
              "    <tr>\n",
              "      <th>2</th>\n",
              "      <td>20.0</td>\n",
              "      <td>6.4</td>\n",
              "      <td>0.01</td>\n",
              "      <td>3.8</td>\n",
              "      <td>0.01</td>\n",
              "      <td>1.0</td>\n",
              "      <td>0.0</td>\n",
              "    </tr>\n",
              "    <tr>\n",
              "      <th>3</th>\n",
              "      <td>30.0</td>\n",
              "      <td>6.5</td>\n",
              "      <td>0.06</td>\n",
              "      <td>3.8</td>\n",
              "      <td>0.04</td>\n",
              "      <td>1.0</td>\n",
              "      <td>0.0</td>\n",
              "    </tr>\n",
              "    <tr>\n",
              "      <th>4</th>\n",
              "      <td>40.0</td>\n",
              "      <td>7.1</td>\n",
              "      <td>0.00</td>\n",
              "      <td>4.2</td>\n",
              "      <td>0.00</td>\n",
              "      <td>1.0</td>\n",
              "      <td>0.0</td>\n",
              "    </tr>\n",
              "    <tr>\n",
              "      <th>5</th>\n",
              "      <td>50.0</td>\n",
              "      <td>7.1</td>\n",
              "      <td>0.02</td>\n",
              "      <td>4.2</td>\n",
              "      <td>0.01</td>\n",
              "      <td>1.0</td>\n",
              "      <td>0.0</td>\n",
              "    </tr>\n",
              "    <tr>\n",
              "      <th>6</th>\n",
              "      <td>60.0</td>\n",
              "      <td>7.3</td>\n",
              "      <td>0.06</td>\n",
              "      <td>4.3</td>\n",
              "      <td>0.04</td>\n",
              "      <td>1.0</td>\n",
              "      <td>0.0</td>\n",
              "    </tr>\n",
              "    <tr>\n",
              "      <th>7</th>\n",
              "      <td>70.0</td>\n",
              "      <td>7.9</td>\n",
              "      <td>0.02</td>\n",
              "      <td>4.7</td>\n",
              "      <td>0.01</td>\n",
              "      <td>1.0</td>\n",
              "      <td>0.0</td>\n",
              "    </tr>\n",
              "    <tr>\n",
              "      <th>8</th>\n",
              "      <td>80.0</td>\n",
              "      <td>8.1</td>\n",
              "      <td>0.04</td>\n",
              "      <td>4.8</td>\n",
              "      <td>0.02</td>\n",
              "      <td>1.0</td>\n",
              "      <td>0.0</td>\n",
              "    </tr>\n",
              "    <tr>\n",
              "      <th>9</th>\n",
              "      <td>90.0</td>\n",
              "      <td>8.5</td>\n",
              "      <td>0.00</td>\n",
              "      <td>5.1</td>\n",
              "      <td>0.00</td>\n",
              "      <td>1.0</td>\n",
              "      <td>0.0</td>\n",
              "    </tr>\n",
              "    <tr>\n",
              "      <th>10</th>\n",
              "      <td>110.0</td>\n",
              "      <td>8.5</td>\n",
              "      <td>0.00</td>\n",
              "      <td>5.1</td>\n",
              "      <td>0.00</td>\n",
              "      <td>1.0</td>\n",
              "      <td>0.0</td>\n",
              "    </tr>\n",
              "    <tr>\n",
              "      <th>11</th>\n",
              "      <td>130.0</td>\n",
              "      <td>8.5</td>\n",
              "      <td>0.00</td>\n",
              "      <td>5.1</td>\n",
              "      <td>0.00</td>\n",
              "      <td>1.0</td>\n",
              "      <td>0.0</td>\n",
              "    </tr>\n",
              "  </tbody>\n",
              "</table>\n",
              "</div>"
            ],
            "text/plain": [
              "    depth   vp  vp_grad   vs  vs_grad    x    y\n",
              "0     0.0  6.1     0.00  3.6     0.00  1.0  0.0\n",
              "1    10.0  6.1     0.03  3.6     0.02  1.0  0.0\n",
              "2    20.0  6.4     0.01  3.8     0.01  1.0  0.0\n",
              "3    30.0  6.5     0.06  3.8     0.04  1.0  0.0\n",
              "4    40.0  7.1     0.00  4.2     0.00  1.0  0.0\n",
              "5    50.0  7.1     0.02  4.2     0.01  1.0  0.0\n",
              "6    60.0  7.3     0.06  4.3     0.04  1.0  0.0\n",
              "7    70.0  7.9     0.02  4.7     0.01  1.0  0.0\n",
              "8    80.0  8.1     0.04  4.8     0.02  1.0  0.0\n",
              "9    90.0  8.5     0.00  5.1     0.00  1.0  0.0\n",
              "10  110.0  8.5     0.00  5.1     0.00  1.0  0.0\n",
              "11  130.0  8.5     0.00  5.1     0.00  1.0  0.0"
            ]
          },
          "execution_count": 5,
          "metadata": {},
          "output_type": "execute_result"
        }
      ],
      "source": [
        "layers = pd.read_csv(\"graeber.csv\")\n",
        "layers"
      ]
    },
    {
      "cell_type": "markdown",
      "id": "49d31a26-80cf-4da7-ae28-fe137e772c89",
      "metadata": {},
      "source": [
        "For creating a velocity model, we need a data frame with three columns (and all other columns will be ignored): depth, vp, vs. The depth describes the depth in kilometers and vp and vs the P and S wave velocity at these depth. Velocities are interpolated linearly between the provided depth levels.\n",
        "\n",
        "To prepare the velocity model, we use the `create_model` function. This function will create a travel time grid and save it in a binary format. It takes five arguments:\n",
        "- The velocity model in the data frame\n",
        "- The spacing between grid nodes in km\n",
        "- The horizontal extent of the grid\n",
        "- The vertical extent of the grid\n",
        "- The path to write the final model to\n",
        "The velocity grid will always be anchored at depth 0 and distance 0."
      ]
    },
    {
      "cell_type": "code",
      "execution_count": 6,
      "id": "2940fe52-216e-4142-8071-5ad7786fb809",
      "metadata": {
        "execution": {
          "iopub.execute_input": "2023-10-16T15:09:52.169703Z",
          "iopub.status.busy": "2023-10-16T15:09:52.169551Z",
          "iopub.status.idle": "2023-10-16T15:09:52.476923Z",
          "shell.execute_reply": "2023-10-16T15:09:52.476563Z",
          "shell.execute_reply.started": "2023-10-16T15:09:52.169691Z"
        }
      },
      "outputs": [],
      "source": [
        "model_path = \"velocity_model\"\n",
        "pyocto.VelocityModel1D.create_model(layers, 1., 400, 250, model_path)"
      ]
    },
    {
      "cell_type": "markdown",
      "id": "39ff0099-3fc5-47a2-9195-bce798995a29",
      "metadata": {},
      "source": [
        "To load the model, we use a similar call as for the homogeneous model. However, instead of passing p and s velocities, we now pass the model path. Note that this means that we can reuse a model that we created once multiple times."
      ]
    },
    {
      "cell_type": "code",
      "execution_count": 7,
      "id": "1ad9468e-0035-4ff0-aa6a-e03a90f5f619",
      "metadata": {
        "execution": {
          "iopub.execute_input": "2023-10-16T15:09:52.478177Z",
          "iopub.status.busy": "2023-10-16T15:09:52.477986Z",
          "iopub.status.idle": "2023-10-16T15:09:52.480719Z",
          "shell.execute_reply": "2023-10-16T15:09:52.480273Z",
          "shell.execute_reply.started": "2023-10-16T15:09:52.478158Z"
        }
      },
      "outputs": [],
      "source": [
        "velocity_model = pyocto.VelocityModel1D(model_path, tolerance=2.0)"
      ]
    },
    {
      "cell_type": "code",
      "execution_count": 8,
      "id": "1e26bd84-3044-474a-90fd-0445c5f3b483",
      "metadata": {
        "execution": {
          "iopub.execute_input": "2023-10-16T15:09:52.481578Z",
          "iopub.status.busy": "2023-10-16T15:09:52.481296Z",
          "iopub.status.idle": "2023-10-16T15:09:58.074655Z",
          "shell.execute_reply": "2023-10-16T15:09:58.074242Z",
          "shell.execute_reply.started": "2023-10-16T15:09:52.481558Z"
        }
      },
      "outputs": [],
      "source": [
        "associator = pyocto.OctoAssociator.from_area(\n",
        "    lat=(-25, -18),\n",
        "    lon=(-71.5, -68),\n",
        "    zlim=(0, 200),\n",
        "    time_before=300,\n",
        "    velocity_model=velocity_model,\n",
        "    n_picks=10,\n",
        "    n_p_and_s_picks=4,\n",
        ")\n",
        "associator.transform_stations(stations)\n",
        "events_1d, assignments_1d = associator.associate(picks, stations)"
      ]
    },
    {
      "cell_type": "markdown",
      "id": "5d7241a9-c600-423d-965c-59a6d9b9986b",
      "metadata": {},
      "source": [
        "Let's compare the outputs of the two models. In this case, both models found the same number of events (often the 1D model finds more). However, the 1D model was able to associate substantially more picks to these events."
      ]
    },
    {
      "cell_type": "code",
      "execution_count": 9,
      "id": "4ec00b49-e70a-4b1c-83c7-bbe500c78ad0",
      "metadata": {
        "execution": {
          "iopub.execute_input": "2023-10-16T15:09:58.075383Z",
          "iopub.status.busy": "2023-10-16T15:09:58.075211Z",
          "iopub.status.idle": "2023-10-16T15:09:58.078480Z",
          "shell.execute_reply": "2023-10-16T15:09:58.078127Z",
          "shell.execute_reply.started": "2023-10-16T15:09:58.075367Z"
        }
      },
      "outputs": [
        {
          "name": "stdout",
          "output_type": "stream",
          "text": [
            "0D model - Events:  48 Picks:  864\n",
            "1D model - Events:  48 Picks:  1069\n"
          ]
        }
      ],
      "source": [
        "print(\"0D model - Events: \", len(events_0d), \"Picks: \", events_0d[\"picks\"].sum())\n",
        "print(\"1D model - Events: \", len(events_1d), \"Picks: \", events_1d[\"picks\"].sum())"
      ]
    },
    {
      "cell_type": "markdown",
      "id": "637dd9e1-4f6e-4ca1-815a-fb4cf36e138a",
      "metadata": {},
      "source": [
        "Let's compare the detected event catalogs visually. The two catalogs show both systematic and stoachstic differences. The homogeneous model consistently overestimates depth of the deeper events as the assumed phase velocities here are too low. In addition, the model shows more scatter as the locations are not as focussed."
      ]
    },
    {
      "cell_type": "code",
      "execution_count": 10,
      "id": "020d7906-e1f0-48ac-93ae-2f3c8e9aa38d",
      "metadata": {
        "execution": {
          "iopub.execute_input": "2023-10-16T15:09:58.079099Z",
          "iopub.status.busy": "2023-10-16T15:09:58.078945Z",
          "iopub.status.idle": "2023-10-16T15:09:58.373587Z",
          "shell.execute_reply": "2023-10-16T15:09:58.373203Z",
          "shell.execute_reply.started": "2023-10-16T15:09:58.079083Z"
        }
      },
      "outputs": [
        {
          "data": {
            "text/plain": [
              "<matplotlib.collections.PathCollection at 0x7ff4b7012350>"
            ]
          },
          "execution_count": 10,
          "metadata": {},
          "output_type": "execute_result"
        },
        {
          "data": {
            "image/png": "[encoded data removed]",
            "text/plain": [
              "<Figure size 900x800 with 2 Axes>"
            ]
          },
          "metadata": {},
          "output_type": "display_data"
        }
      ],
      "source": [
        "fig = plt.figure(figsize=(9, 8))\n",
        "axs = fig.subplots(1, 2, sharex=True, sharey=True)\n",
        "\n",
        "for ax in axs:\n",
        "    ax.set_aspect(\"equal\")\n",
        "    ax.set_xlabel(\"Easting [km]\")\n",
        "    ax.set_ylabel(\"Northing [km]\")\n",
        "\n",
        "axs[0].set_title(\"Homogeneous model\")\n",
        "axs[1].set_title(\"1D layered model\")\n",
        "axs[0].scatter(events_0d[\"x\"], events_0d[\"y\"], c=events_0d[\"z\"])\n",
        "axs[1].scatter(events_1d[\"x\"], events_1d[\"y\"], c=events_1d[\"z\"])"
      ]
    },
    {
      "cell_type": "markdown",
      "id": "d110088e-bccb-43d1-be99-1af0b410f51d",
      "metadata": {},
      "source": [
        "## Additional configuration options\n",
        "\n",
        "Velocity models offer additional configuration options. We already used the `tolerance` parameter. This parameter describes by how much an observed and a predicted travel time are allowed to differ. This accounts for inaccuracies in the velocity model and the pick times. In general, a lower tolerance will lead to fewer detected events, a higher tolerance to more events. However, a too high tolerance will lead to too many false detections. In addition, higher tolerance values lead to longer run times.\n",
        "\n",
        "On important option for large deployments is the `association_cutoff_distance`. For large deployments, it is often sufficient to only search among stations up to a certain distance, if their picks could be associated. Afterwards, picks at further away stations can be added in the localisation and pick matching stage. This safes substantial runtime. Let's try this out with a 1D velocity model."
      ]
    },
    {
      "cell_type": "code",
      "execution_count": 11,
      "id": "38b5d291-9842-4e73-9dab-156f8319cfac",
      "metadata": {
        "execution": {
          "iopub.execute_input": "2023-10-16T15:09:58.374241Z",
          "iopub.status.busy": "2023-10-16T15:09:58.374109Z",
          "iopub.status.idle": "2023-10-16T15:10:02.883037Z",
          "shell.execute_reply": "2023-10-16T15:10:02.882676Z",
          "shell.execute_reply.started": "2023-10-16T15:09:58.374223Z"
        }
      },
      "outputs": [],
      "source": [
        "velocity_model = pyocto.VelocityModel1D(model_path, tolerance=2.0, association_cutoff_distance=250)\n",
        "associator = pyocto.OctoAssociator.from_area(\n",
        "    lat=(-25, -18),\n",
        "    lon=(-71.5, -68),\n",
        "    zlim=(0, 200),\n",
        "    time_before=300,\n",
        "    velocity_model=velocity_model,\n",
        "    n_picks=10,\n",
        "    n_p_and_s_picks=4,\n",
        ")\n",
        "associator.transform_stations(stations)\n",
        "events, assignments = associator.associate(picks, stations)"
      ]
    },
    {
      "cell_type": "markdown",
      "id": "a8a61d48-3c29-476b-bd47-c626cc4c53fe",
      "metadata": {},
      "source": [
        "Comparing the outputs, we found the same number of events, even though we lost 10 picks through the cutoff. If these picks were actual picks or false associations is unclear."
      ]
    },
    {
      "cell_type": "code",
      "execution_count": 12,
      "id": "8e6e62aa-6a44-4ae5-830a-3c1509422595",
      "metadata": {
        "execution": {
          "iopub.execute_input": "2023-10-16T15:10:02.883654Z",
          "iopub.status.busy": "2023-10-16T15:10:02.883526Z",
          "iopub.status.idle": "2023-10-16T15:10:02.886627Z",
          "shell.execute_reply": "2023-10-16T15:10:02.886151Z",
          "shell.execute_reply.started": "2023-10-16T15:10:02.883643Z"
        }
      },
      "outputs": [
        {
          "name": "stdout",
          "output_type": "stream",
          "text": [
            "1D model (250 km cutoff) - Events:  48 Picks:  1059\n",
            "1D model - Events:  48 Picks:  1069\n"
          ]
        }
      ],
      "source": [
        "print(\"1D model (250 km cutoff) - Events: \", len(events), \"Picks: \", events[\"picks\"].sum())\n",
        "print(\"1D model - Events: \", len(events_1d), \"Picks: \", events_1d[\"picks\"].sum())"
      ]
    },
    {
      "cell_type": "markdown",
      "id": "21a5cf3d-b006-44f0-b57d-0fd26fa071bb",
      "metadata": {},
      "source": [
        "If you want to know more details on velocity models and their parameters, check out the [documentation page](https://pyocto.readthedocs.io/en/latest/pages/velocity_models.html)."
      ]
    }
  ],
  "metadata": {
    "kernelspec": {
      "display_name": "Python 3 (ipykernel)",
      "language": "python",
      "name": "python3"
    },
    "language_info": {
      "codemirror_mode": {
        "name": "ipython",
        "version": 3
      },
      "file_extension": ".py",
      "mimetype": "text/x-python",
      "name": "python",
      "nbconvert_exporter": "python",
      "pygments_lexer": "ipython3",
      "version": "3.11.5"
    }
  },
  "nbformat": 4,
  "nbformat_minor": 5
}
