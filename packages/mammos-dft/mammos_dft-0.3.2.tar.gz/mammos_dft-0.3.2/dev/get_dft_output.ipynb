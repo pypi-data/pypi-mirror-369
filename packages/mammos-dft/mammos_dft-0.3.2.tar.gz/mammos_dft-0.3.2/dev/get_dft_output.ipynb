{
 "cells": [
  {
   "cell_type": "markdown",
   "id": "f5d49241",
   "metadata": {},
   "source": [
    "# Load dft output from database"
   ]
  },
  {
   "cell_type": "markdown",
   "id": "b338a5db",
   "metadata": {
    "vscode": {
     "languageId": "plaintext"
    }
   },
   "source": [
    "Use case: I want to load already executed dft calculations of a specific material."
   ]
  },
  {
   "cell_type": "code",
   "execution_count": 1,
   "id": "59e76035",
   "metadata": {},
   "outputs": [],
   "source": [
    "from mammos_dft.db import get_dft_output"
   ]
  },
  {
   "cell_type": "markdown",
   "id": "c9a19214",
   "metadata": {},
   "source": [
    "With the following function we store the output in a directory called `FeCoSi`:"
   ]
  },
  {
   "cell_type": "code",
   "execution_count": 2,
   "id": "7e26656c",
   "metadata": {},
   "outputs": [],
   "source": [
    "get_dft_output(\"FeCoSi-62\", outdir=\"FeCoSi\")"
   ]
  },
  {
   "cell_type": "code",
   "execution_count": 3,
   "id": "1ad9a77a-6a61-4f5f-96e9-8f0c035f9e35",
   "metadata": {},
   "outputs": [
    {
     "name": "stdout",
     "output_type": "stream",
     "text": [
      "jfile  momfile\tposfile\n"
     ]
    }
   ],
   "source": [
    "!ls FeCoSi"
   ]
  },
  {
   "cell_type": "code",
   "execution_count": 4,
   "id": "a5c3d873-29b7-4cdd-9af0-be6b4977f2a4",
   "metadata": {},
   "outputs": [
    {
     "name": "stdout",
     "output_type": "stream",
     "text": [
      "   1    5    0    0    0    0.802673\n",
      "   1    6    0    0    0    0.320508\n",
      "   1    6    0    1    0    0.320508\n",
      "   1    7    0    0    0    0.374650\n",
      "   1    7    0    1    0    0.374650\n",
      "   1    8    1    0    0    0.167248\n",
      "   1    3    0    1    0    0.082691\n",
      "   1    3    0    0    0    0.082691\n",
      "   1    4    0    0    0   -0.033023\n",
      "   1    4    1    0    0   -0.033023\n"
     ]
    }
   ],
   "source": [
    "!head FeCoSi/jfile"
   ]
  },
  {
   "cell_type": "code",
   "execution_count": 5,
   "id": "e62d7d09-3ad8-4e9b-af1d-e8b61837e9a3",
   "metadata": {},
   "outputs": [
    {
     "name": "stdout",
     "output_type": "stream",
     "text": [
      "1 1 0.5562519 0.0 0.0 1.0 0.0\n",
      "2 1 0.5562514 0.0 0.0 1.0 0.0\n",
      "3 1 0.5562520 0.0 0.0 1.0 0.0\n",
      "4 1 0.5562514 0.0 0.0 1.0 0.0\n",
      "5 1 1.8355300 0.0 0.0 1.0 0.0\n",
      "6 1 1.8355241 0.0 0.0 1.0 0.0\n",
      "7 1 1.8355294 0.0 0.0 1.0 0.0\n",
      "8 1 1.8355247 0.0 0.0 1.0 0.0\n"
     ]
    }
   ],
   "source": [
    "!head FeCoSi/momfile"
   ]
  },
  {
   "cell_type": "code",
   "execution_count": 6,
   "id": "9696d17d-e633-4fbb-93f3-3a4e97eb9c10",
   "metadata": {},
   "outputs": [
    {
     "name": "stdout",
     "output_type": "stream",
     "text": [
      "1 1   0.176600   0.250000   0.064400\n",
      "2 2   0.323400   0.750000   0.564400\n",
      "3 3   0.823400   0.750000   0.935600\n",
      "4 4   0.676600   0.250000   0.435600\n",
      "5 5   0.038600   0.250000   0.721600\n",
      "6 6   0.461400   0.750000   0.221600\n",
      "7 7   0.961400   0.750000   0.278400\n",
      "8 8   0.538600   0.250000   0.778400\n"
     ]
    }
   ],
   "source": [
    "!head FeCoSi/posfile"
   ]
  },
  {
   "cell_type": "code",
   "execution_count": null,
   "id": "8b7399fd-323b-4b7f-bfb7-5afc685c1b91",
   "metadata": {},
   "outputs": [],
   "source": []
  }
 ],
 "metadata": {
  "kernelspec": {
   "display_name": "Python 3 (ipykernel)",
   "language": "python",
   "name": "python3"
  },
  "language_info": {
   "codemirror_mode": {
    "name": "ipython",
    "version": 3
   },
   "file_extension": ".py",
   "mimetype": "text/x-python",
   "name": "python",
   "nbconvert_exporter": "python",
   "pygments_lexer": "ipython3",
   "version": "3.13.3"
  }
 },
 "nbformat": 4,
 "nbformat_minor": 5
}
