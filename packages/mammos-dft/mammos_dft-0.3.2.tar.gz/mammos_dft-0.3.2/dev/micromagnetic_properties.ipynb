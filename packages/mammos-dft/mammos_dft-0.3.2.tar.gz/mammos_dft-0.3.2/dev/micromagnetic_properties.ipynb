{
 "cells": [
  {
   "cell_type": "markdown",
   "metadata": {},
   "source": [
    "# Load micromagnetic intrinsic properties (at zero Kelvin temperature) from ab-initio calculations database"
   ]
  },
  {
   "cell_type": "markdown",
   "metadata": {},
   "source": [
    "This notebook shows how to extract results from a database of available ab-initio calculations.\n",
    "Starting from the material structure it is possible to extract intrinsic properties at zero Kelvin temperature.\n",
    "\n",
    "The database can be queried for:\n",
    "- `short_label`: Label containing chemical formula and space group number separated by a hyphen. (`str`)\n",
    "- `chemical_formula`: Chemical formula. (`str`)\n",
    "- `space_group_name`: Space group name. (`str`)\n",
    "- `space_group_number`: Space group number. (`int`)\n",
    "- `cell_length_a`: Cell length a in armstrong. (`float`)\n",
    "- `cell_length_b`: Cell length b in armstrong. (`float`)\n",
    "- `cell_length_c`: Cell length c in armstrong. (`float`)\n",
    "- `cell_angle_alpha`: Cell angle alpha in degrees. (`float`)\n",
    "- `cell_angle_beta`: Cell angle beta in degrees. (`float`)\n",
    "- `cell_angle_gamma`: Cell angle gamma in degrees. (`float`)\n",
    "- `cell_volume`: Cell volume in armstrong cubed. (`float`)\n",
    "- `ICSD_label`: Label in the NIST Inorganic Crystal Structure Database. (`str`)\n",
    "- `OQMD_label`: Label in the the Open Quantum Materials Database. (`str`)\n",
    "\n",
    "The micromagnetic properties stored in the database are:\n",
    "- `Ms_0`: spontaneous magnetisation $M_s$ at temperature 0K expressed in A/m.\n",
    "- `K_0`: uniaxial magnetocrystalline anisotropy $K_u$ at temperature 0K expressed in J/m^3."
   ]
  },
  {
   "cell_type": "code",
   "execution_count": 1,
   "metadata": {},
   "outputs": [],
   "source": [
    "from mammos_dft.db import (\n",
    "    get_micromagnetic_properties,\n",
    "    get_micromagnetic_properties_floats,\n",
    ")"
   ]
  },
  {
   "cell_type": "markdown",
   "metadata": {},
   "source": [
    "## Short label: only chemical information and space group number"
   ]
  },
  {
   "cell_type": "markdown",
   "metadata": {},
   "source": [
    "As a first example, we extract a material given the formula and space group information. The results will be `mammos_entity.Entity` objects."
   ]
  },
  {
   "cell_type": "code",
   "execution_count": 2,
   "metadata": {},
   "outputs": [
    {
     "data": {
      "text/html": [
       "<pre style=\"white-space:pre;overflow-x:auto;line-height:normal;font-family:Menlo,'DejaVu Sans Mono',consolas,'Courier New',monospace\">Found material in database.\n",
       "</pre>\n"
      ],
      "text/plain": [
       "Found material in database.\n"
      ]
     },
     "metadata": {},
     "output_type": "display_data"
    },
    {
     "data": {
      "text/html": [
       "<pre style=\"white-space:pre;overflow-x:auto;line-height:normal;font-family:Menlo,'DejaVu Sans Mono',consolas,'Courier New',monospace\">\n",
       "Chemical Formula: Nd2Fe14B\n",
       "Space group name: P42/mnm\n",
       "Space group number: <span style=\"color: #008080; text-decoration-color: #008080; font-weight: bold\">136</span>\n",
       "Cell length a: <span style=\"color: #008080; text-decoration-color: #008080; font-weight: bold\">8.78</span> Angstrom\n",
       "Cell length b: <span style=\"color: #008080; text-decoration-color: #008080; font-weight: bold\">8.78</span> Angstrom\n",
       "Cell length c: <span style=\"color: #008080; text-decoration-color: #008080; font-weight: bold\">12.12</span> Angstrom\n",
       "Cell angle alpha: <span style=\"color: #008080; text-decoration-color: #008080; font-weight: bold\">90.0</span> deg\n",
       "Cell angle beta: <span style=\"color: #008080; text-decoration-color: #008080; font-weight: bold\">90.0</span> deg\n",
       "Cell angle gamma: <span style=\"color: #008080; text-decoration-color: #008080; font-weight: bold\">90.0</span> deg\n",
       "Cell volume: <span style=\"color: #008080; text-decoration-color: #008080; font-weight: bold\">933.42</span> Angstrom\n",
       "ICSD_label: \n",
       "OQMD_label: \n",
       "\n",
       "</pre>\n"
      ],
      "text/plain": [
       "\n",
       "Chemical Formula: Nd2Fe14B\n",
       "Space group name: P42/mnm\n",
       "Space group number: \u001b[1;36m136\u001b[0m\n",
       "Cell length a: \u001b[1;36m8.78\u001b[0m Angstrom\n",
       "Cell length b: \u001b[1;36m8.78\u001b[0m Angstrom\n",
       "Cell length c: \u001b[1;36m12.12\u001b[0m Angstrom\n",
       "Cell angle alpha: \u001b[1;36m90.0\u001b[0m deg\n",
       "Cell angle beta: \u001b[1;36m90.0\u001b[0m deg\n",
       "Cell angle gamma: \u001b[1;36m90.0\u001b[0m deg\n",
       "Cell volume: \u001b[1;36m933.42\u001b[0m Angstrom\n",
       "ICSD_label: \n",
       "OQMD_label: \n",
       "\n"
      ]
     },
     "metadata": {},
     "output_type": "display_data"
    },
    {
     "data": {
      "text/plain": [
       "(SpontaneousMagnetization(value=1280000.0, unit=A / m),\n",
       " UniaxialAnisotropyConstant(value=4300000.0, unit=J / m3))"
      ]
     },
     "execution_count": 2,
     "metadata": {},
     "output_type": "execute_result"
    }
   ],
   "source": [
    "Ms_0, Ku_0 = get_micromagnetic_properties(\"Nd2Fe14B-136\")\n",
    "Ms_0, Ku_0"
   ]
  },
  {
   "cell_type": "markdown",
   "metadata": {},
   "source": [
    "This is the same as the following lookup:"
   ]
  },
  {
   "cell_type": "code",
   "execution_count": 3,
   "metadata": {},
   "outputs": [
    {
     "data": {
      "text/html": [
       "<pre style=\"white-space:pre;overflow-x:auto;line-height:normal;font-family:Menlo,'DejaVu Sans Mono',consolas,'Courier New',monospace\">Found material in database.\n",
       "</pre>\n"
      ],
      "text/plain": [
       "Found material in database.\n"
      ]
     },
     "metadata": {},
     "output_type": "display_data"
    },
    {
     "data": {
      "text/html": [
       "<pre style=\"white-space:pre;overflow-x:auto;line-height:normal;font-family:Menlo,'DejaVu Sans Mono',consolas,'Courier New',monospace\">\n",
       "Chemical Formula: Nd2Fe14B\n",
       "Space group name: P42/mnm\n",
       "Space group number: <span style=\"color: #008080; text-decoration-color: #008080; font-weight: bold\">136</span>\n",
       "Cell length a: <span style=\"color: #008080; text-decoration-color: #008080; font-weight: bold\">8.78</span> Angstrom\n",
       "Cell length b: <span style=\"color: #008080; text-decoration-color: #008080; font-weight: bold\">8.78</span> Angstrom\n",
       "Cell length c: <span style=\"color: #008080; text-decoration-color: #008080; font-weight: bold\">12.12</span> Angstrom\n",
       "Cell angle alpha: <span style=\"color: #008080; text-decoration-color: #008080; font-weight: bold\">90.0</span> deg\n",
       "Cell angle beta: <span style=\"color: #008080; text-decoration-color: #008080; font-weight: bold\">90.0</span> deg\n",
       "Cell angle gamma: <span style=\"color: #008080; text-decoration-color: #008080; font-weight: bold\">90.0</span> deg\n",
       "Cell volume: <span style=\"color: #008080; text-decoration-color: #008080; font-weight: bold\">933.42</span> Angstrom\n",
       "ICSD_label: \n",
       "OQMD_label: \n",
       "\n",
       "</pre>\n"
      ],
      "text/plain": [
       "\n",
       "Chemical Formula: Nd2Fe14B\n",
       "Space group name: P42/mnm\n",
       "Space group number: \u001b[1;36m136\u001b[0m\n",
       "Cell length a: \u001b[1;36m8.78\u001b[0m Angstrom\n",
       "Cell length b: \u001b[1;36m8.78\u001b[0m Angstrom\n",
       "Cell length c: \u001b[1;36m12.12\u001b[0m Angstrom\n",
       "Cell angle alpha: \u001b[1;36m90.0\u001b[0m deg\n",
       "Cell angle beta: \u001b[1;36m90.0\u001b[0m deg\n",
       "Cell angle gamma: \u001b[1;36m90.0\u001b[0m deg\n",
       "Cell volume: \u001b[1;36m933.42\u001b[0m Angstrom\n",
       "ICSD_label: \n",
       "OQMD_label: \n",
       "\n"
      ]
     },
     "metadata": {},
     "output_type": "display_data"
    },
    {
     "data": {
      "text/plain": [
       "MicromagneticProperties(Ms_0=SpontaneousMagnetization(value=1280000.0, unit=A / m), K1_0=UniaxialAnisotropyConstant(value=4300000.0, unit=J / m3))"
      ]
     },
     "execution_count": 3,
     "metadata": {},
     "output_type": "execute_result"
    }
   ],
   "source": [
    "get_micromagnetic_properties(\n",
    "    chemical_formula=\"Nd2Fe14B\",\n",
    "    space_group_number=136,\n",
    ")"
   ]
  },
  {
   "cell_type": "markdown",
   "metadata": {},
   "source": [
    "## Hide the information output"
   ]
  },
  {
   "cell_type": "markdown",
   "metadata": {},
   "source": [
    "We can hide the `Found material` information:"
   ]
  },
  {
   "cell_type": "code",
   "execution_count": 4,
   "metadata": {},
   "outputs": [
    {
     "data": {
      "text/plain": [
       "MicromagneticProperties(Ms_0=SpontaneousMagnetization(value=1280000.0, unit=A / m), K1_0=UniaxialAnisotropyConstant(value=4300000.0, unit=J / m3))"
      ]
     },
     "execution_count": 4,
     "metadata": {},
     "output_type": "execute_result"
    }
   ],
   "source": [
    "get_micromagnetic_properties(\"Nd2Fe14B-136\", print_info=False)"
   ]
  },
  {
   "cell_type": "markdown",
   "metadata": {},
   "source": [
    "## Only return floats"
   ]
  },
  {
   "cell_type": "markdown",
   "metadata": {},
   "source": [
    "If we just want float numbers (in the standard unit specified in the ontology), we can run"
   ]
  },
  {
   "cell_type": "code",
   "execution_count": 5,
   "metadata": {},
   "outputs": [
    {
     "data": {
      "text/plain": [
       "(np.float64(1280000.0), np.float64(4300000.0))"
      ]
     },
     "execution_count": 5,
     "metadata": {},
     "output_type": "execute_result"
    }
   ],
   "source": [
    "get_micromagnetic_properties_floats(\"Nd2Fe14B-136\", print_info=False)"
   ]
  },
  {
   "cell_type": "markdown",
   "metadata": {},
   "source": [
    "## Using other existing databases"
   ]
  },
  {
   "cell_type": "markdown",
   "metadata": {},
   "source": [
    "Some materials are published in bigger databases, such as the NIST Inorganic Crystal Structure Database (ICSD) or the Open Quantum Materials Database (OQMD).\n",
    "We can query for such materials using those databases' labels:"
   ]
  },
  {
   "cell_type": "code",
   "execution_count": 6,
   "metadata": {},
   "outputs": [
    {
     "data": {
      "text/html": [
       "<pre style=\"white-space:pre;overflow-x:auto;line-height:normal;font-family:Menlo,'DejaVu Sans Mono',consolas,'Courier New',monospace\">Found material in database.\n",
       "</pre>\n"
      ],
      "text/plain": [
       "Found material in database.\n"
      ]
     },
     "metadata": {},
     "output_type": "display_data"
    },
    {
     "data": {
      "text/html": [
       "<pre style=\"white-space:pre;overflow-x:auto;line-height:normal;font-family:Menlo,'DejaVu Sans Mono',consolas,'Courier New',monospace\">\n",
       "Chemical Formula: FeCoSi\n",
       "Space group name: Pnma\n",
       "Space group number: <span style=\"color: #008080; text-decoration-color: #008080; font-weight: bold\">62</span>\n",
       "Cell length a: <span style=\"color: #008080; text-decoration-color: #008080; font-weight: bold\">4.942</span> Angstrom\n",
       "Cell length b: <span style=\"color: #008080; text-decoration-color: #008080; font-weight: bold\">3.776</span> Angstrom\n",
       "Cell length c: <span style=\"color: #008080; text-decoration-color: #008080; font-weight: bold\">7.172</span> Angstrom\n",
       "Cell angle alpha: <span style=\"color: #008080; text-decoration-color: #008080; font-weight: bold\">90.0</span> deg\n",
       "Cell angle beta: <span style=\"color: #008080; text-decoration-color: #008080; font-weight: bold\">90.0</span> deg\n",
       "Cell angle gamma: <span style=\"color: #008080; text-decoration-color: #008080; font-weight: bold\">90.0</span> deg\n",
       "Cell volume: <span style=\"color: #008080; text-decoration-color: #008080; font-weight: bold\">133.84</span> Angstrom3\n",
       "ICSD_label: <span style=\"color: #008080; text-decoration-color: #008080; font-weight: bold\">165250</span>\n",
       "OQMD_label: icsd-<span style=\"color: #008080; text-decoration-color: #008080; font-weight: bold\">165250</span>\n",
       "\n",
       "</pre>\n"
      ],
      "text/plain": [
       "\n",
       "Chemical Formula: FeCoSi\n",
       "Space group name: Pnma\n",
       "Space group number: \u001b[1;36m62\u001b[0m\n",
       "Cell length a: \u001b[1;36m4.942\u001b[0m Angstrom\n",
       "Cell length b: \u001b[1;36m3.776\u001b[0m Angstrom\n",
       "Cell length c: \u001b[1;36m7.172\u001b[0m Angstrom\n",
       "Cell angle alpha: \u001b[1;36m90.0\u001b[0m deg\n",
       "Cell angle beta: \u001b[1;36m90.0\u001b[0m deg\n",
       "Cell angle gamma: \u001b[1;36m90.0\u001b[0m deg\n",
       "Cell volume: \u001b[1;36m133.84\u001b[0m Angstrom3\n",
       "ICSD_label: \u001b[1;36m165250\u001b[0m\n",
       "OQMD_label: icsd-\u001b[1;36m165250\u001b[0m\n",
       "\n"
      ]
     },
     "metadata": {},
     "output_type": "display_data"
    },
    {
     "data": {
      "text/plain": [
       "MicromagneticProperties(Ms_0=SpontaneousMagnetization(value=684366.2549226, unit=A / m), K1_0=UniaxialAnisotropyConstant(value=440000.0, unit=J / m3))"
      ]
     },
     "execution_count": 6,
     "metadata": {},
     "output_type": "execute_result"
    }
   ],
   "source": [
    "get_micromagnetic_properties(ICSD_label=\"165250\")"
   ]
  },
  {
   "cell_type": "markdown",
   "metadata": {},
   "source": [
    "## Note: `get_intrinsic_properties` only accepts unique lookup results"
   ]
  },
  {
   "cell_type": "markdown",
   "metadata": {},
   "source": [
    "The following lookup fails because there are multiple entries with a `gamma` angle of 90 degrees."
   ]
  },
  {
   "cell_type": "code",
   "execution_count": 7,
   "metadata": {},
   "outputs": [
    {
     "ename": "LookupError",
     "evalue": "Too many results. Please refine your search.\nAvilable materials based on request:\n\nChemical Formula: FeCoSi\nSpace group name: Pnma\nSpace group number: 62\nCell length a: 4.942 Angstrom\nCell length b: 3.776 Angstrom\nCell length c: 7.172 Angstrom\nCell angle alpha: 90.0 deg\nCell angle beta: 90.0 deg\nCell angle gamma: 90.0 deg\nCell volume: 133.84 Angstrom3\nICSD_label: 165250\nOQMD_label: icsd-165250\n\nChemical Formula: Nd2Fe14B\nSpace group name: P42/mnm\nSpace group number: 136\nCell length a: 8.78 Angstrom\nCell length b: 8.78 Angstrom\nCell length c: 12.12 Angstrom\nCell angle alpha: 90.0 deg\nCell angle beta: 90.0 deg\nCell angle gamma: 90.0 deg\nCell volume: 933.42 Angstrom\nICSD_label: \nOQMD_label: \n",
     "output_type": "error",
     "traceback": [
      "\u001b[31m---------------------------------------------------------------------------\u001b[39m",
      "\u001b[31mLookupError\u001b[39m                               Traceback (most recent call last)",
      "\u001b[36mCell\u001b[39m\u001b[36m \u001b[39m\u001b[32mIn[7]\u001b[39m\u001b[32m, line 1\u001b[39m\n\u001b[32m----> \u001b[39m\u001b[32m1\u001b[39m \u001b[43mget_micromagnetic_properties\u001b[49m\u001b[43m(\u001b[49m\u001b[43mcell_angle_gamma\u001b[49m\u001b[43m=\u001b[49m\u001b[33;43m\"\u001b[39;49m\u001b[33;43m90 deg\u001b[39;49m\u001b[33;43m\"\u001b[39;49m\u001b[43m)\u001b[49m\n",
      "\u001b[36mFile \u001b[39m\u001b[32m~/repo/mammos/mammos-dft/src/mammos_dft/db.py:100\u001b[39m, in \u001b[36mget_micromagnetic_properties\u001b[39m\u001b[34m(short_label, chemical_formula, space_group_name, space_group_number, cell_length_a, cell_length_b, cell_length_c, cell_angle_alpha, cell_angle_beta, cell_angle_gamma, cell_volume, ICSD_label, OQMD_label, print_info)\u001b[39m\n\u001b[32m     98\u001b[39m \u001b[38;5;28;01mif\u001b[39;00m short_label \u001b[38;5;129;01mis\u001b[39;00m \u001b[38;5;129;01mnot\u001b[39;00m \u001b[38;5;28;01mNone\u001b[39;00m:\n\u001b[32m     99\u001b[39m     chemical_formula, space_group_number = check_short_label(short_label)\n\u001b[32m--> \u001b[39m\u001b[32m100\u001b[39m material = \u001b[43mfind_unique_material\u001b[49m\u001b[43m(\u001b[49m\n\u001b[32m    101\u001b[39m \u001b[43m    \u001b[49m\u001b[43mprint_info\u001b[49m\u001b[43m=\u001b[49m\u001b[43mprint_info\u001b[49m\u001b[43m,\u001b[49m\n\u001b[32m    102\u001b[39m \u001b[43m    \u001b[49m\u001b[43mchemical_formula\u001b[49m\u001b[43m=\u001b[49m\u001b[43mchemical_formula\u001b[49m\u001b[43m,\u001b[49m\n\u001b[32m    103\u001b[39m \u001b[43m    \u001b[49m\u001b[43mspace_group_name\u001b[49m\u001b[43m=\u001b[49m\u001b[43mspace_group_name\u001b[49m\u001b[43m,\u001b[49m\n\u001b[32m    104\u001b[39m \u001b[43m    \u001b[49m\u001b[43mspace_group_number\u001b[49m\u001b[43m=\u001b[49m\u001b[43mspace_group_number\u001b[49m\u001b[43m,\u001b[49m\n\u001b[32m    105\u001b[39m \u001b[43m    \u001b[49m\u001b[43mcell_length_a\u001b[49m\u001b[43m=\u001b[49m\u001b[43mcell_length_a\u001b[49m\u001b[43m,\u001b[49m\n\u001b[32m    106\u001b[39m \u001b[43m    \u001b[49m\u001b[43mcell_length_b\u001b[49m\u001b[43m=\u001b[49m\u001b[43mcell_length_b\u001b[49m\u001b[43m,\u001b[49m\n\u001b[32m    107\u001b[39m \u001b[43m    \u001b[49m\u001b[43mcell_length_c\u001b[49m\u001b[43m=\u001b[49m\u001b[43mcell_length_c\u001b[49m\u001b[43m,\u001b[49m\n\u001b[32m    108\u001b[39m \u001b[43m    \u001b[49m\u001b[43mcell_angle_alpha\u001b[49m\u001b[43m=\u001b[49m\u001b[43mcell_angle_alpha\u001b[49m\u001b[43m,\u001b[49m\n\u001b[32m    109\u001b[39m \u001b[43m    \u001b[49m\u001b[43mcell_angle_beta\u001b[49m\u001b[43m=\u001b[49m\u001b[43mcell_angle_beta\u001b[49m\u001b[43m,\u001b[49m\n\u001b[32m    110\u001b[39m \u001b[43m    \u001b[49m\u001b[43mcell_angle_gamma\u001b[49m\u001b[43m=\u001b[49m\u001b[43mcell_angle_gamma\u001b[49m\u001b[43m,\u001b[49m\n\u001b[32m    111\u001b[39m \u001b[43m    \u001b[49m\u001b[43mcell_volume\u001b[49m\u001b[43m=\u001b[49m\u001b[43mcell_volume\u001b[49m\u001b[43m,\u001b[49m\n\u001b[32m    112\u001b[39m \u001b[43m    \u001b[49m\u001b[43mICSD_label\u001b[49m\u001b[43m=\u001b[49m\u001b[43mICSD_label\u001b[49m\u001b[43m,\u001b[49m\n\u001b[32m    113\u001b[39m \u001b[43m    \u001b[49m\u001b[43mOQMD_label\u001b[49m\u001b[43m=\u001b[49m\u001b[43mOQMD_label\u001b[49m\u001b[43m,\u001b[49m\n\u001b[32m    114\u001b[39m \u001b[43m\u001b[49m\u001b[43m)\u001b[49m\n\u001b[32m    115\u001b[39m MicromagneticProperties = typing.NamedTuple(\n\u001b[32m    116\u001b[39m     \u001b[33m\"\u001b[39m\u001b[33mMicromagneticProperties\u001b[39m\u001b[33m\"\u001b[39m, [(\u001b[33m\"\u001b[39m\u001b[33mMs_0\u001b[39m\u001b[33m\"\u001b[39m, me.Entity), (\u001b[33m\"\u001b[39m\u001b[33mK1_0\u001b[39m\u001b[33m\"\u001b[39m, me.Entity)]\n\u001b[32m    117\u001b[39m )\n\u001b[32m    118\u001b[39m \u001b[38;5;28;01mreturn\u001b[39;00m MicromagneticProperties(\n\u001b[32m    119\u001b[39m     me.Ms(material.SpontaneousMagnetization),\n\u001b[32m    120\u001b[39m     me.Ku(material.UniaxialAnisotropyConstant),\n\u001b[32m    121\u001b[39m )\n",
      "\u001b[36mFile \u001b[39m\u001b[32m~/repo/mammos/mammos-dft/src/mammos_dft/db.py:263\u001b[39m, in \u001b[36mfind_unique_material\u001b[39m\u001b[34m(print_info, **kwargs)\u001b[39m\n\u001b[32m    261\u001b[39m     \u001b[38;5;28;01mfor\u001b[39;00m row, material \u001b[38;5;129;01min\u001b[39;00m df.iterrows():\n\u001b[32m    262\u001b[39m         error_string += describe_material(material)\n\u001b[32m--> \u001b[39m\u001b[32m263\u001b[39m     \u001b[38;5;28;01mraise\u001b[39;00m \u001b[38;5;167;01mLookupError\u001b[39;00m(error_string)\n\u001b[32m    264\u001b[39m \u001b[38;5;28;01melse\u001b[39;00m:\n\u001b[32m    265\u001b[39m     material = df.iloc[\u001b[32m0\u001b[39m]\n",
      "\u001b[31mLookupError\u001b[39m: Too many results. Please refine your search.\nAvilable materials based on request:\n\nChemical Formula: FeCoSi\nSpace group name: Pnma\nSpace group number: 62\nCell length a: 4.942 Angstrom\nCell length b: 3.776 Angstrom\nCell length c: 7.172 Angstrom\nCell angle alpha: 90.0 deg\nCell angle beta: 90.0 deg\nCell angle gamma: 90.0 deg\nCell volume: 133.84 Angstrom3\nICSD_label: 165250\nOQMD_label: icsd-165250\n\nChemical Formula: Nd2Fe14B\nSpace group name: P42/mnm\nSpace group number: 136\nCell length a: 8.78 Angstrom\nCell length b: 8.78 Angstrom\nCell length c: 12.12 Angstrom\nCell angle alpha: 90.0 deg\nCell angle beta: 90.0 deg\nCell angle gamma: 90.0 deg\nCell volume: 933.42 Angstrom\nICSD_label: \nOQMD_label: \n"
     ]
    }
   ],
   "source": [
    "get_micromagnetic_properties(cell_angle_gamma=\"90 deg\")"
   ]
  }
 ],
 "metadata": {
  "kernelspec": {
   "display_name": "Python 3 (ipykernel)",
   "language": "python",
   "name": "python3"
  },
  "language_info": {
   "codemirror_mode": {
    "name": "ipython",
    "version": 3
   },
   "file_extension": ".py",
   "mimetype": "text/x-python",
   "name": "python",
   "nbconvert_exporter": "python",
   "pygments_lexer": "ipython3",
   "version": "3.13.3"
  }
 },
 "nbformat": 4,
 "nbformat_minor": 4
}
