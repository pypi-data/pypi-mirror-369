{
 "cells": [
  {
   "cell_type": "markdown",
   "id": "f5d49241",
   "metadata": {},
   "source": [
    "# Load cif from database"
   ]
  },
  {
   "cell_type": "markdown",
   "id": "b338a5db",
   "metadata": {
    "vscode": {
     "languageId": "plaintext"
    }
   },
   "source": [
    "Use case: I know some information about the material, I want to load the full material structure and move it into the `FeCoSi` directory."
   ]
  },
  {
   "cell_type": "code",
   "execution_count": 1,
   "id": "59e76035",
   "metadata": {},
   "outputs": [],
   "source": [
    "from mammos_dft.db import get_cif\n",
    "\n",
    "get_cif(\"FeCoSi-62\", outdir=\"FeCoSi\")"
   ]
  },
  {
   "cell_type": "code",
   "execution_count": 3,
   "id": "809f6905-16d7-47dd-ab7a-9e9fff8932ad",
   "metadata": {},
   "outputs": [
    {
     "name": "stdout",
     "output_type": "stream",
     "text": [
      "structure.cif\n"
     ]
    }
   ],
   "source": [
    "!ls FeCoSi/"
   ]
  },
  {
   "cell_type": "code",
   "execution_count": 4,
   "id": "cd5864f6-06ab-41e8-9444-77f155a0d863",
   "metadata": {},
   "outputs": [
    {
     "name": "stdout",
     "output_type": "stream",
     "text": [
      "\n",
      "#(C) 2019 by FIZ Karlsruhe - Leibniz Institute for Information Infrastructure.  All rights reserved.\n",
      "data_165250-ICSD\n",
      "_database_code_ICSD 165250\n",
      "_audit_creation_date 2010-02-01\n",
      "_chemical_name_systematic 'Iron cobalt silicide'\n",
      "_chemical_formula_structural 'Fe Co Si'\n",
      "_chemical_formula_sum 'Co1 Fe1 Si1'\n",
      "_chemical_name_structure_type Co2Si\n",
      "_exptl_crystal_density_diffrn 7.09\n",
      "_publ_section_title 'The Ti Ni Si family of compounds: structure and bonding'\n",
      "loop_\n",
      "_citation_id\n",
      "_citation_journal_full\n",
      "_citation_year\n",
      "_citation_journal_volume\n",
      "_citation_page_first\n",
      "_citation_page_last\n",
      "_citation_journal_id_ASTM\n",
      "primary 'Inorganic Chemistry' 1998 37 5754 5763 INOCAJ\n",
      "loop_\n",
      "_publ_author_name\n",
      "'Landrum, G.A.'\n",
      "'Hoffmann, R.'\n",
      "'Evers, J.'\n",
      "'Boysen, H.'\n",
      "_cell_length_a 4.942(2)\n",
      "_cell_length_b 3.776(1)\n",
      "_cell_length_c 7.172(2)\n",
      "_cell_angle_alpha 90.\n",
      "_cell_angle_beta 90.\n",
      "_cell_angle_gamma 90.\n",
      "_cell_volume 133.84\n",
      "_cell_formula_units_Z 4\n",
      "_symmetry_space_group_name_H-M 'P n m a'\n",
      "_symmetry_Int_Tables_number 62\n",
      "_refine_ls_R_factor_all 0.0862\n",
      "loop_\n",
      "_symmetry_equiv_pos_site_id\n",
      "_symmetry_equiv_pos_as_xyz\n",
      "1 'x+1/2, y, -z+1/2'\n",
      "2 'x, -y+1/2, z'\n",
      "3 '-x+1/2, y+1/2, z+1/2'\n",
      "4 '-x, -y, -z'\n",
      "5 '-x+1/2, -y, z+1/2'\n",
      "6 '-x, y+1/2, -z'\n",
      "7 'x+1/2, -y+1/2, -z+1/2'\n",
      "8 'x, y, z'\n",
      "loop_\n",
      "_atom_type_symbol\n",
      "_atom_type_oxidation_number\n",
      "Fe2+ 2\n",
      "Co2+ 2\n",
      "Si4- -4\n",
      "loop_\n",
      "_atom_site_label\n",
      "_atom_site_type_symbol\n",
      "_atom_site_symmetry_multiplicity\n",
      "_atom_site_Wyckoff_symbol\n",
      "_atom_site_fract_x\n",
      "_atom_site_fract_y\n",
      "_atom_site_fract_z\n",
      "_atom_site_B_iso_or_equiv\n",
      "_atom_site_occupancy\n",
      "_atom_site_attached_hydrogens\n",
      "Fe1 Fe2+ 4 c 0.0386(14) 0.25 0.7216(6) . 1. 0\n",
      "Co1 Co2+ 4 c 0.1766(11) 0.25 0.0644(7) . 1. 0\n",
      "Si1 Si4- 4 c 0.1986(25) 0.25 0.3899(17) . 1. 0\n",
      "#End of TTdata_165250-ICSD\n"
     ]
    }
   ],
   "source": [
    "!cat FeCoSi/structure.cif"
   ]
  },
  {
   "cell_type": "code",
   "execution_count": null,
   "id": "7cb92925-37a6-402d-89ee-3d3f8476f052",
   "metadata": {},
   "outputs": [],
   "source": []
  }
 ],
 "metadata": {
  "kernelspec": {
   "display_name": "Python 3 (ipykernel)",
   "language": "python",
   "name": "python3"
  },
  "language_info": {
   "codemirror_mode": {
    "name": "ipython",
    "version": 3
   },
   "file_extension": ".py",
   "mimetype": "text/x-python",
   "name": "python",
   "nbconvert_exporter": "python",
   "pygments_lexer": "ipython3",
   "version": "3.13.3"
  }
 },
 "nbformat": 4,
 "nbformat_minor": 5
}
