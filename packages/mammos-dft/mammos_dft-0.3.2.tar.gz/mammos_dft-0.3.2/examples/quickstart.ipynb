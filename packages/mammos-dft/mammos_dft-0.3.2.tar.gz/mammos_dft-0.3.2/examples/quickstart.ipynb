{
 "cells": [
  {
   "cell_type": "markdown",
   "id": "bc56bc42-44c3-4fce-b40c-e80002fbff20",
   "metadata": {},
   "source": [
    "# `mammos_dft` quickstart\n",
    "\n",
    "`mammos_dft` provides access to entities that can be computed with DFT.\n",
    "\n",
    "- The `db` (database) submodule contains pre-computed materials."
   ]
  },
  {
   "cell_type": "code",
   "execution_count": 1,
   "id": "31e66662-e117-472f-9ffa-451ec7bf42f0",
   "metadata": {},
   "outputs": [],
   "source": [
    "import mammos_dft"
   ]
  },
  {
   "cell_type": "markdown",
   "id": "fb669399-c339-4374-992d-69566100e8c3",
   "metadata": {},
   "source": [
    "## Querying the database – `mammos_dft.db`\n",
    "\n",
    "Use the following function to get a list of all available materials:"
   ]
  },
  {
   "cell_type": "code",
   "execution_count": 2,
   "id": "731c4a93-3f6c-42b3-97cc-c5e52e00e026",
   "metadata": {},
   "outputs": [
    {
     "data": {
      "text/html": [
       "<div>\n",
       "<style scoped>\n",
       "    .dataframe tbody tr th:only-of-type {\n",
       "        vertical-align: middle;\n",
       "    }\n",
       "\n",
       "    .dataframe tbody tr th {\n",
       "        vertical-align: top;\n",
       "    }\n",
       "\n",
       "    .dataframe thead th {\n",
       "        text-align: right;\n",
       "    }\n",
       "</style>\n",
       "<table border=\"1\" class=\"dataframe\">\n",
       "  <thead>\n",
       "    <tr style=\"text-align: right;\">\n",
       "      <th></th>\n",
       "      <th>chemical_formula</th>\n",
       "      <th>space_group_name</th>\n",
       "      <th>space_group_number</th>\n",
       "      <th>cell_length_a</th>\n",
       "      <th>cell_length_b</th>\n",
       "      <th>cell_length_c</th>\n",
       "      <th>cell_angle_alpha</th>\n",
       "      <th>cell_angle_beta</th>\n",
       "      <th>cell_angle_gamma</th>\n",
       "      <th>cell_volume</th>\n",
       "      <th>ICSD_label</th>\n",
       "      <th>OQMD_label</th>\n",
       "      <th>label</th>\n",
       "      <th>SpontaneousMagnetization</th>\n",
       "      <th>UniaxialAnisotropyConstant</th>\n",
       "    </tr>\n",
       "  </thead>\n",
       "  <tbody>\n",
       "    <tr>\n",
       "      <th>0</th>\n",
       "      <td>Co2Fe2H4</td>\n",
       "      <td>P6_3/mmc</td>\n",
       "      <td>194</td>\n",
       "      <td>2.645345 Angstrom</td>\n",
       "      <td>2.645314 Angstrom</td>\n",
       "      <td>8.539476 Angstrom</td>\n",
       "      <td>90.0 deg</td>\n",
       "      <td>90.0 deg</td>\n",
       "      <td>120.0 deg</td>\n",
       "      <td>51.751119 Angstrom3</td>\n",
       "      <td></td>\n",
       "      <td></td>\n",
       "      <td>0001</td>\n",
       "      <td>1190240.2412648 A / m</td>\n",
       "      <td>2810000.0 J / m3</td>\n",
       "    </tr>\n",
       "    <tr>\n",
       "      <th>1</th>\n",
       "      <td>FeCoSi</td>\n",
       "      <td>Pnma</td>\n",
       "      <td>62</td>\n",
       "      <td>4.942 Angstrom</td>\n",
       "      <td>3.776 Angstrom</td>\n",
       "      <td>7.172 Angstrom</td>\n",
       "      <td>90.0 deg</td>\n",
       "      <td>90.0 deg</td>\n",
       "      <td>90.0 deg</td>\n",
       "      <td>133.84 Angstrom3</td>\n",
       "      <td>165250</td>\n",
       "      <td>icsd-165250</td>\n",
       "      <td>0002</td>\n",
       "      <td>684366.2549226 A / m</td>\n",
       "      <td>440000.0 J / m3</td>\n",
       "    </tr>\n",
       "    <tr>\n",
       "      <th>2</th>\n",
       "      <td>Nd2Fe14B</td>\n",
       "      <td>P42/mnm</td>\n",
       "      <td>136</td>\n",
       "      <td>8.78 Angstrom</td>\n",
       "      <td>8.78 Angstrom</td>\n",
       "      <td>12.12 Angstrom</td>\n",
       "      <td>90.0 deg</td>\n",
       "      <td>90.0 deg</td>\n",
       "      <td>90.0 deg</td>\n",
       "      <td>933.42 Angstrom3</td>\n",
       "      <td></td>\n",
       "      <td></td>\n",
       "      <td>0003</td>\n",
       "      <td>1280000.0 A / m</td>\n",
       "      <td>4300000.0 J / m3</td>\n",
       "    </tr>\n",
       "  </tbody>\n",
       "</table>\n",
       "</div>"
      ],
      "text/plain": [
       "  chemical_formula space_group_name  space_group_number      cell_length_a  \\\n",
       "0         Co2Fe2H4         P6_3/mmc                 194  2.645345 Angstrom   \n",
       "1           FeCoSi             Pnma                  62     4.942 Angstrom   \n",
       "2         Nd2Fe14B          P42/mnm                 136      8.78 Angstrom   \n",
       "\n",
       "       cell_length_b      cell_length_c cell_angle_alpha cell_angle_beta  \\\n",
       "0  2.645314 Angstrom  8.539476 Angstrom         90.0 deg        90.0 deg   \n",
       "1     3.776 Angstrom     7.172 Angstrom         90.0 deg        90.0 deg   \n",
       "2      8.78 Angstrom     12.12 Angstrom         90.0 deg        90.0 deg   \n",
       "\n",
       "  cell_angle_gamma          cell_volume ICSD_label   OQMD_label label  \\\n",
       "0        120.0 deg  51.751119 Angstrom3                          0001   \n",
       "1         90.0 deg     133.84 Angstrom3     165250  icsd-165250  0002   \n",
       "2         90.0 deg     933.42 Angstrom3                          0003   \n",
       "\n",
       "  SpontaneousMagnetization UniaxialAnisotropyConstant  \n",
       "0    1190240.2412648 A / m           2810000.0 J / m3  \n",
       "1     684366.2549226 A / m            440000.0 J / m3  \n",
       "2          1280000.0 A / m           4300000.0 J / m3  "
      ]
     },
     "execution_count": 2,
     "metadata": {},
     "output_type": "execute_result"
    }
   ],
   "source": [
    "mammos_dft.db.find_materials()"
   ]
  },
  {
   "cell_type": "markdown",
   "id": "8489e0d0-fb60-4163-9883-ac78d46f018a",
   "metadata": {},
   "source": [
    "Use the following function to get an object that contains spontaneous magnetization `Ms_0` and uniaxial anisotropy constant `Ku_0` at T=0K:"
   ]
  },
  {
   "cell_type": "code",
   "execution_count": 3,
   "id": "0ab7e70d-c167-4fcb-b5a3-e5bcbd470c47",
   "metadata": {},
   "outputs": [
    {
     "data": {
      "text/plain": [
       "MicromagneticProperties(Ms_0=SpontaneousMagnetization(value=1190240.2412648, unit=A / m), K1_0=UniaxialAnisotropyConstant(value=2810000.0, unit=J / m3))"
      ]
     },
     "execution_count": 3,
     "metadata": {},
     "output_type": "execute_result"
    }
   ],
   "source": [
    "results_dft = mammos_dft.db.get_micromagnetic_properties(\"Co2Fe2H4\")\n",
    "results_dft"
   ]
  },
  {
   "cell_type": "code",
   "execution_count": 4,
   "id": "e6b6b086-fb4c-4373-a31b-7fc3044a2255",
   "metadata": {},
   "outputs": [
    {
     "data": {
      "text/latex": [
       "SpontaneousMagnetization(value=1190240.2412648, unit=A / m)"
      ],
      "text/plain": [
       "SpontaneousMagnetization(value=1190240.2412648, unit=A / m)"
      ]
     },
     "execution_count": 4,
     "metadata": {},
     "output_type": "execute_result"
    }
   ],
   "source": [
    "results_dft.Ms_0"
   ]
  },
  {
   "cell_type": "code",
   "execution_count": 5,
   "id": "6cb9ee78-19da-485c-9153-bdd823e77af0",
   "metadata": {},
   "outputs": [
    {
     "data": {
      "text/latex": [
       "UniaxialAnisotropyConstant(value=2810000.0, unit=J / m3)"
      ],
      "text/plain": [
       "UniaxialAnisotropyConstant(value=2810000.0, unit=J / m3)"
      ]
     },
     "execution_count": 5,
     "metadata": {},
     "output_type": "execute_result"
    }
   ],
   "source": [
    "results_dft.Ku_0"
   ]
  }
 ],
 "metadata": {
  "kernelspec": {
   "display_name": "Python 3 (ipykernel)",
   "language": "python",
   "name": "python3"
  },
  "language_info": {
   "codemirror_mode": {
    "name": "ipython",
    "version": 3
   },
   "file_extension": ".py",
   "mimetype": "text/x-python",
   "name": "python",
   "nbconvert_exporter": "python",
   "pygments_lexer": "ipython3",
   "version": "3.11.0"
  }
 },
 "nbformat": 4,
 "nbformat_minor": 5
}
