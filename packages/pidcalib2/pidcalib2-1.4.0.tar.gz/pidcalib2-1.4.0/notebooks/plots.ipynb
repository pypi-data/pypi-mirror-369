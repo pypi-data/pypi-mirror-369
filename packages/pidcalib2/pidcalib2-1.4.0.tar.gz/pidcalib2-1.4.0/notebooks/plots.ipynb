{
 "cells": [
  {
   "cell_type": "markdown",
   "metadata": {
    "heading_collapsed": "true",
    "tags": []
   },
   "source": [
    "# Initialization"
   ]
  },
  {
   "cell_type": "code",
   "execution_count": null,
   "metadata": {},
   "outputs": [],
   "source": [
    "# Standard includes\n",
    "%matplotlib inline\n",
    "import pickle\n",
    "from typing import Union\n",
    "\n",
    "import boost_histogram as bh\n",
    "import matplotlib as mpl\n",
    "import matplotlib.pyplot as plt\n",
    "import numpy as np"
   ]
  },
  {
   "cell_type": "code",
   "execution_count": null,
   "metadata": {},
   "outputs": [],
   "source": [
    "# Style setup\n",
    "import seaborn as sns\n",
    "\n",
    "sns.set_palette(\"muted\")\n",
    "sns.set_color_codes()\n",
    "sns.set_style(\"ticks\")\n",
    "sns.set_style({\"xtick.direction\": \"in\", \"ytick.direction\": \"in\"})\n",
    "sns.set_style({\"axes.grid\": \"True\", \"grid.color\": \"0.95\"})\n",
    "\n",
    "plt.rcParams[\"figure.figsize\"] = [6, 6]\n",
    "plt.rcParams[\"figure.dpi\"] = 100\n",
    "plt.rcParams[\"axes.formatter.min_exponent\"] = 0"
   ]
  },
  {
   "cell_type": "code",
   "execution_count": null,
   "metadata": {},
   "outputs": [],
   "source": [
    "import mplhep as hep\n",
    "\n",
    "hep.set_style(\"LHCb2\")\n",
    "\n",
    "plt.rcParams[\"font.size\"] = 28\n",
    "plt.rcParams[\"figure.dpi\"] = 50  # Comment out/set to 300 for production plots\n",
    "plt.rcParams[\"axes.formatter.min_exponent\"] = 0"
   ]
  },
  {
   "cell_type": "markdown",
   "metadata": {},
   "source": [
    "# Setup"
   ]
  },
  {
   "cell_type": "code",
   "execution_count": null,
   "metadata": {},
   "outputs": [],
   "source": [
    "def binomial_uncertainty(\n",
    "    num_pass: Union[float, np.ndarray],\n",
    "    num_total: Union[float, np.ndarray],\n",
    "    err_pass_sq: Union[float, np.ndarray] = None,\n",
    "    err_tot_sq: Union[float, np.ndarray] = None,\n",
    ") -> float:\n",
    "    \"\"\"Return the uncertainty of binomial experiments.\n",
    "\n",
    "    The parameters can be either floats or numpy arrays.\n",
    "\n",
    "    The uncertainty is calculated the way ROOT does it in TH1::Divide() when\n",
    "    binomial errors are specified. This approach has known problems when\n",
    "    num_pass == num_total or 0. We use this approach to ensure compatibility\n",
    "    with the original PIDCalib, and because these edge-cases are unlikely to\n",
    "    occur.\n",
    "\n",
    "    Args:\n",
    "        num_pass: Number of passing events.\n",
    "        num_total: Total number of events.\n",
    "        err_pass_sq: Squared uncertainty on the number of passing events (sum\n",
    "            of squares of the event weights). Can be ommited for unweighted events.\n",
    "        err_tot_sq: Squared uncertainty on the number of total events (sum of\n",
    "            squares of the event weights). Can be ommited for unweighted events.\n",
    "    \"\"\"\n",
    "    if err_pass_sq is None:\n",
    "        err_pass_sq = num_pass\n",
    "    if err_tot_sq is None:\n",
    "        err_tot_sq = num_total\n",
    "    prob = num_pass / num_total\n",
    "    prob_sq = prob ** 2  # type: ignore\n",
    "    num_total_sq = num_total ** 2  # type: ignore\n",
    "    return np.sqrt(  # type: ignore\n",
    "        abs(((1 - 2 * prob) * err_pass_sq + err_tot_sq * prob_sq) / num_total_sq)\n",
    "    )"
   ]
  },
  {
   "cell_type": "markdown",
   "metadata": {
    "tags": []
   },
   "source": [
    "# Data"
   ]
  },
  {
   "cell_type": "markdown",
   "metadata": {},
   "source": [
    "Efficiency histograms for the \"Efficiency vs Momentum\" plots can be made by running:\n",
    "```\n",
    "pidcalib2.make_eff_hists --sample Turbo18 --magnet up --particle K --pid-cut \"DLLK>0\" --pid-cut \"DLLK>5\" --output-dir pidcalib_output_many --bin-var P\n",
    "pidcalib2.make_eff_hists --sample Turbo18 --magnet up --particle Pi --pid-cut \"DLLK>0\" --pid-cut \"DLLK>5\" --output-dir pidcalib_output_many --bin-var P\n",
    "```"
   ]
  },
  {
   "cell_type": "code",
   "execution_count": null,
   "metadata": {},
   "outputs": [],
   "source": [
    "hists = {}\n",
    "particles = [\"K\", \"Pi\"]\n",
    "cuts = [\"DLLK>0\", \"DLLK>5\"]\n",
    "\n",
    "for particle in particles:\n",
    "    for cut in cuts:\n",
    "        with open(\n",
    "            f\"../pidcalib_output_many/effhists-Turbo18-up-{particle}-{cut}-P.pkl\", \"rb\"\n",
    "        ) as f:\n",
    "            hists[f\"eff_{particle}_{cut}\"] = pickle.load(f)\n",
    "            hists[f\"passing_{particle}_{cut}\"] = pickle.load(f)\n",
    "            hists[f\"total_{particle}_{cut}\"] = pickle.load(f)"
   ]
  },
  {
   "cell_type": "markdown",
   "metadata": {},
   "source": [
    "Efficiency histograms for the \"ID Efficiency vs Mis-ID Efficiency\" plots can be made by running:\n",
    "```\n",
    "pidcalib2.make_eff_hists --sample Turbo18 --magnet up --particle K $(for I in $(seq -20 20); do echo \"--pid-cut DLLK>${I} \"; done) --output-dir pidcalib_output_many2 --bin-var P\n",
    "pidcalib2.make_eff_hists --sample Turbo18 --magnet down --particle K $(for I in $(seq -20 20); do echo \"--pid-cut DLLK>${I} \"; done) --output-dir pidcalib_output_many2 --bin-var P\n",
    "pidcalib2.make_eff_hists --sample Turbo18 --magnet up --particle Pi $(for I in $(seq -20 20); do echo \"--pid-cut DLLK>${I} \"; done) --output-dir pidcalib_output_many2 --bin-var P\n",
    "pidcalib2.make_eff_hists --sample Turbo18 --magnet down --particle Pi $(for I in $(seq -20 20); do echo \"--pid-cut DLLK>${I} \"; done) --output-dir pidcalib_output_many2 --bin-var P\n",
    "```"
   ]
  },
  {
   "cell_type": "code",
   "execution_count": null,
   "metadata": {},
   "outputs": [],
   "source": [
    "hists2 = {}\n",
    "particles = [\"K\", \"Pi\"]\n",
    "cuts2 = [f\"DLLK>{cut}\" for cut in range(-20, 21)]\n",
    "mags = [\"up\", \"down\"]\n",
    "\n",
    "for mag in mags:\n",
    "    for particle in particles:\n",
    "        for cut in cuts2:\n",
    "            with open(\n",
    "                f\"../pidcalib_output_many2/effhists-Turbo18-{mag}-{particle}-{cut}-P.pkl\",\n",
    "                \"rb\",\n",
    "            ) as f:\n",
    "                hists2[f\"eff_{particle}_{mag}_{cut}\"] = pickle.load(f)\n",
    "                hists2[f\"passing_{particle}_{mag}_{cut}\"] = pickle.load(f)\n",
    "                hists2[f\"total_{particle}_{mag}_{cut}\"] = pickle.load(f)"
   ]
  },
  {
   "cell_type": "markdown",
   "metadata": {
    "tags": []
   },
   "source": [
    "# Plots"
   ]
  },
  {
   "cell_type": "code",
   "execution_count": null,
   "metadata": {},
   "outputs": [],
   "source": [
    "plots_save = True\n",
    "plots_format = \".pdf\""
   ]
  },
  {
   "cell_type": "markdown",
   "metadata": {
    "tags": []
   },
   "source": [
    "## Efficiency vs Momentum"
   ]
  },
  {
   "cell_type": "code",
   "execution_count": null,
   "metadata": {},
   "outputs": [],
   "source": [
    "colors = {\n",
    "    \"eff_K_DLLK>0\": \"xkcd:light salmon\",\n",
    "    \"eff_K_DLLK>5\": \"xkcd:red\",\n",
    "    \"eff_Pi_DLLK>0\": \"xkcd:pastel blue\",\n",
    "    \"eff_Pi_DLLK>5\": \"xkcd:blue\",\n",
    "}\n",
    "for name, hist in hists.items():\n",
    "    if \"eff_\" not in name:\n",
    "        continue\n",
    "    plt.hist(\n",
    "        hist.axes[0].edges[:-1],\n",
    "        bins=hist.axes[0].edges,\n",
    "        weights=hist.values(),\n",
    "        histtype=\"stepfilled\",\n",
    "        label=name.replace(\"eff_\", \"\").replace(\"_\", \" \").replace(\"pi\", r\"$\\pi$\"),\n",
    "        color=colors[name],\n",
    "        edgecolor=colors[name],\n",
    "        linewidth=1.5,\n",
    "        fc=(*mpl.colors.to_rgb(colors[name]), 0.03),\n",
    "    )\n",
    "    # Comment the errorbar to remove error bars\n",
    "    # plt.errorbar(\n",
    "    #     hist.axes[0].centers,\n",
    "    #     hist.values(),\n",
    "    #     yerr=binomial_uncertainty(\n",
    "    #         hists[name.replace(\"eff_\", \"passing_\")].values(),\n",
    "    #         hists[name.replace(\"eff_\", \"total_\")].values(),\n",
    "    #     ),        \n",
    "    #     fmt=\"none\",\n",
    "    #     color=colors[name],\n",
    "    #     capsize=0,\n",
    "    #     linewidth=1.5,\n",
    "    #     drawstyle=\"steps-mid\",\n",
    "    # )\n",
    "plt.ylim(top=1.35)\n",
    "plt.margins(x=-0.01)\n",
    "plt.legend()\n",
    "plt.xlabel(\"Momentum [MeV/c]\")\n",
    "plt.ylabel(\"Efficiency\")\n",
    "plt.figtext(0.2, 0.8, \"LHCb\\n $\\\\sqrt{s}$=13 TeV 2018 Validation\")\n",
    "if plots_save:\n",
    "    plt.savefig(\"eff_v_mom_fill\" + plots_format)"
   ]
  },
  {
   "cell_type": "code",
   "execution_count": null,
   "metadata": {},
   "outputs": [],
   "source": [
    "colors = {\n",
    "    \"eff_K_DLLK>0\": \"xkcd:light salmon\",\n",
    "    \"eff_K_DLLK>5\": \"xkcd:red\",\n",
    "    \"eff_Pi_DLLK>0\": \"xkcd:pastel blue\",\n",
    "    \"eff_Pi_DLLK>5\": \"xkcd:blue\",\n",
    "}\n",
    "for name, hist in hists.items():\n",
    "    if \"eff_\" not in name:\n",
    "        continue\n",
    "    plt.hist(\n",
    "        hist.axes[0].edges[:-1],\n",
    "        bins=hist.axes[0].edges,\n",
    "        weights=hist.values(),\n",
    "        histtype=\"step\",\n",
    "        label=name.replace(\"_\", \" \").replace(\"pi\", r\"$\\pi$\"),\n",
    "        color=colors[name],\n",
    "        linewidth=1.5,\n",
    "    )\n",
    "    # Comment the errorbar to remove error bars\n",
    "    # plt.errorbar(\n",
    "    #     hist.axes[0].centers,\n",
    "    #     hist.values(),\n",
    "    #     yerr=binomial_uncertainty(\n",
    "    #         hists[name.replace(\"eff_\", \"passing_\")].values(),\n",
    "    #         hists[name.replace(\"eff_\", \"total_\")].values(),\n",
    "    #     ),\n",
    "    #     fmt=\"none\",\n",
    "    #     color=colors[name],\n",
    "    #     capsize=0,\n",
    "    #     linewidth=1.5,\n",
    "    #     drawstyle=\"steps-mid\",\n",
    "    # )\n",
    "plt.ylim(top=1.35)\n",
    "plt.margins(x=-0.01)\n",
    "plt.legend()\n",
    "plt.xlabel(\"Momentum [MeV/c]\")\n",
    "plt.ylabel(\"Efficiency\")\n",
    "plt.figtext(0.2, 0.8, \"LHCb\\n $\\\\sqrt{s}$=13 TeV 2018 Validation\")\n",
    "if plots_save:\n",
    "    plt.savefig(\"eff_v_mom_nofill\" + plots_format)"
   ]
  },
  {
   "cell_type": "markdown",
   "metadata": {},
   "source": [
    "## ID Efficiency vs Mis-ID Efficiency"
   ]
  },
  {
   "cell_type": "code",
   "execution_count": null,
   "metadata": {},
   "outputs": [],
   "source": [
    "K_eff_up = [\n",
    "    hists2[f\"passing_K_up_{cut}\"].sum() / hists2[f\"total_K_up_{cut}\"].sum()\n",
    "    for cut in cuts2\n",
    "]\n",
    "\n",
    "pi_eff_up = [\n",
    "    hists2[f\"passing_Pi_up_{cut}\"].sum() / hists2[f\"total_Pi_up_{cut}\"].sum()\n",
    "    for cut in cuts2\n",
    "]\n",
    "\n",
    "K_eff_down = [\n",
    "    hists2[f\"passing_K_down_{cut}\"].sum() / hists2[f\"total_K_down_{cut}\"].sum()\n",
    "    for cut in cuts2\n",
    "]\n",
    "\n",
    "pi_eff_down = [\n",
    "    hists2[f\"passing_Pi_down_{cut}\"].sum() / hists2[f\"total_Pi_down_{cut}\"].sum()\n",
    "    for cut in cuts2\n",
    "]"
   ]
  },
  {
   "cell_type": "code",
   "execution_count": null,
   "metadata": {},
   "outputs": [],
   "source": [
    "plt.plot(K_eff_up, pi_eff_up, \"s-\", markersize=8, label=\"2018 MagUp\")\n",
    "plt.plot(K_eff_down, pi_eff_down, \".-\", label=\"2018 MagDown\")\n",
    "plt.yscale(\"log\")\n",
    "plt.xlabel(\"Kaon ID Efficiency\")\n",
    "plt.ylabel(\"Pion Mis-ID Efficiency\")\n",
    "plt.figtext(0.2, 0.8, \"LHCb\\n $\\\\sqrt{s}$=13 TeV 2018 Validation\")\n",
    "plt.legend(bbox_to_anchor=(0.02, 0.8), loc=\"upper left\")\n",
    "if plots_save:\n",
    "    plt.savefig(\"k_id_v_pi_mid_markers\" + plots_format)"
   ]
  },
  {
   "cell_type": "code",
   "execution_count": null,
   "metadata": {},
   "outputs": [],
   "source": [
    "plt.plot(K_eff_up, pi_eff_up, label=\"2018 MagUp\")\n",
    "plt.plot(K_eff_down, pi_eff_down, \"--\", label=\"2018 MagDown\")\n",
    "plt.yscale(\"log\")\n",
    "plt.xlabel(\"Kaon ID Efficiency\")\n",
    "plt.ylabel(\"Pion Mis-ID Efficiency\")\n",
    "plt.figtext(0.2, 0.8, \"LHCb\\n $\\sqrt{s}$=13 TeV 2018 Validation\")\n",
    "plt.legend(bbox_to_anchor=(0.02, 0.8), loc=\"upper left\")\n",
    "if plots_save:\n",
    "    plt.savefig(\"k_id_v_pi_mid_nomarkers\" + plots_format)"
   ]
  },
  {
   "cell_type": "code",
   "execution_count": null,
   "metadata": {},
   "outputs": [],
   "source": [
    "K_eff = []\n",
    "pi_eff = []\n",
    "\n",
    "mom_cuts = [3000, 10000, 20000, 50000, 100000]\n",
    "\n",
    "for i in range(len(mom_cuts) - 1):\n",
    "    K_eff.append(\n",
    "        [\n",
    "            hists2[f\"passing_K_up_{cut}\"][\n",
    "                bh.loc(mom_cuts[i]) : bh.loc(mom_cuts[i + 1])\n",
    "            ].sum()\n",
    "            / hists2[f\"total_K_up_{cut}\"][\n",
    "                bh.loc(mom_cuts[i]) : bh.loc(mom_cuts[i + 1])\n",
    "            ].sum()\n",
    "            for cut in cuts2\n",
    "        ]\n",
    "    )\n",
    "\n",
    "    pi_eff.append(\n",
    "        [\n",
    "            hists2[f\"passing_Pi_up_{cut}\"][\n",
    "                bh.loc(mom_cuts[i]) : bh.loc(mom_cuts[i + 1])\n",
    "            ].sum()\n",
    "            / hists2[f\"total_Pi_up_{cut}\"][\n",
    "                bh.loc(mom_cuts[i]) : bh.loc(mom_cuts[i + 1])\n",
    "            ].sum()\n",
    "            for cut in cuts2\n",
    "        ]\n",
    "    )"
   ]
  },
  {
   "cell_type": "code",
   "execution_count": null,
   "metadata": {},
   "outputs": [],
   "source": [
    "plt.plot(K_eff[0], pi_eff[0], \".-\", label=\"p < 9.3 GeV\")\n",
    "plt.plot(K_eff[1], pi_eff[1], \".-\", label=\"9.3 < p < 19 GeV\")\n",
    "plt.plot(K_eff[2], pi_eff[2], \".-\", label=\"19 < p < 46 GeV\")\n",
    "plt.plot(K_eff[3], pi_eff[3], \".-\", label=\"46 < p < 100 GeV\")\n",
    "plt.yscale(\"log\")\n",
    "plt.xlabel(\"Kaon ID Efficiency\")\n",
    "plt.ylabel(\"Pion Mis-ID Efficiency\")\n",
    "plt.figtext(0.2, 0.8, \"LHCb\\n $\\\\sqrt{s}$=13 TeV 2018 Validation\")\n",
    "plt.legend(bbox_to_anchor=(0.02, 0.8), loc=\"upper left\")\n",
    "if plots_save:\n",
    "    plt.savefig(\"k_id_v_pi_mid_mom_ranges\" + plots_format)"
   ]
  },
  {
   "cell_type": "code",
   "execution_count": null,
   "metadata": {},
   "outputs": [],
   "source": []
  }
 ],
 "metadata": {
  "kernelspec": {
   "display_name": "Python 3 (ipykernel)",
   "language": "python",
   "name": "python3"
  },
  "language_info": {
   "codemirror_mode": {
    "name": "ipython",
    "version": 3
   },
   "file_extension": ".py",
   "mimetype": "text/x-python",
   "name": "python",
   "nbconvert_exporter": "python",
   "pygments_lexer": "ipython3",
   "version": "3.8.10"
  }
 },
 "nbformat": 4,
 "nbformat_minor": 4
}
