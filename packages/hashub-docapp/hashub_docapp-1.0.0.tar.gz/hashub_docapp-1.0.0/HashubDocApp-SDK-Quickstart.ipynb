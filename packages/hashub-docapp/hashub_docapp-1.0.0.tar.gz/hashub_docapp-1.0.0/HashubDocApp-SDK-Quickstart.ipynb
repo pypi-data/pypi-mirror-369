{
 "cells": [
  {
   "cell_type": "markdown",
   "id": "4f83b6ca",
   "metadata": {},
   "source": [
    "# HashubDocApp SDK — Hızlı Başlangıç ve Test Defteri\n",
    "**Tarih:** 2025-08-15\n",
    "\n",
    "Bu notebook, **HashubDocApp Python SDK**'sını hızlıca test etmek için hazırlandı. Bölümler:\n",
    "1. Kurulum ve Ortam\n",
    "2. Hızlı Başlangıç (Quick Start)\n",
    "3. Çekirdek Metodlar (convert_fast, convert_smart, convert_doc, convert_html_string)\n",
    "4. Toplu İşleme (batch_*)\n",
    "5. İş Yönetimi (status/wait/result/cancel)\n",
    "6. Dil Yardımcısı (LanguageHelper)\n",
    "7. Görüntü İyileştirme (Enhancement Presets)\n",
    "8. Hata Yönetimi ve İpuçları\n",
    "\n",
    "> **Not:** Yerel dosya yollarını kendi ortamınıza göre düzenleyin. Bu defter Colab'da da çalışır.\n"
   ]
  },
  {
   "cell_type": "markdown",
   "id": "305e995f",
   "metadata": {},
   "source": [
    "## 1) Kurulum ve Ortam"
   ]
  },
  {
   "cell_type": "code",
   "execution_count": null,
   "id": "01330b11",
   "metadata": {},
   "outputs": [],
   "source": [
    "# Eğer ortamınızda kurulu değilse aşağıyı açın (Colab veya lokal).\n",
    "# !pip install -U pip\n",
    "# !pip install hashub-docapp\n",
    "# İsteğe bağlı: progress bar'lar ve tablo görüntüleme için ek paketler\n",
    "# !pip install rich tqdm pandas\n"
   ]
  },
  {
   "cell_type": "markdown",
   "id": "0b87ec31",
   "metadata": {},
   "source": [
    "## 2) API Anahtarı ve İstemci (Client)"
   ]
  },
  {
   "cell_type": "code",
   "execution_count": null,
   "id": "3315a4d5",
   "metadata": {},
   "outputs": [],
   "source": [
    "import os\n",
    "from hashub_docapp import DocAppClient\n",
    "\n",
    "# >>> AYAR GEREKİR <<<\n",
    "# En güvenlisi: ortam değişkeni ile kullanın\n",
    "# os.environ['HASHUB_API_KEY'] = 'your_api_key_here'\n",
    "\n",
    "API_KEY = os.getenv('HASHUB_API_KEY', 'your_api_key_here')  # Colab için fallback\n",
    "BASE_URL = os.getenv('HASHUB_BASE_URL', 'https://doc.hashub.dev/api/v1')\n",
    "\n",
    "client = DocAppClient(\n",
    "    api_key=API_KEY,\n",
    "    base_url=BASE_URL,\n",
    "    timeout=(30, 120),\n",
    "    max_retries=3,\n",
    "    rate_limit_delay=2.0\n",
    ")\n",
    "print('Client hazır. Base URL:', BASE_URL)\n"
   ]
  },
  {
   "cell_type": "markdown",
   "id": "67d5d630",
   "metadata": {},
   "source": [
    "## 3) Hızlı Başlangıç (Quick Start)"
   ]
  },
  {
   "cell_type": "code",
   "execution_count": null,
   "id": "16ec841a",
   "metadata": {},
   "outputs": [],
   "source": [
    "# Örnek dosya yollarını kendinize göre değiştirin\n",
    "PDF_PATH = 'sample_docs/invoice_tr.pdf'   # Örnek: Türkçe bir PDF\n",
    "IMG_PATH = 'sample_docs/photo_scan.jpg'   # Örnek: Fotoğraf ile tarama\n",
    "\n",
    "# FAST OCR — sade ve hızlı metin çıkarımı\n",
    "try:\n",
    "    text_fast = client.convert_fast(PDF_PATH, language='tr', output='txt')\n",
    "    print('--- FAST OCR (TXT) ---\\n', text_fast[:500])\n",
    "except Exception as e:\n",
    "    print('FAST OCR hata:', e)\n",
    "\n",
    "# SMART OCR — karmaşık düzeni korur, markdown/json da alabilirsiniz\n",
    "try:\n",
    "    md_smart = client.convert_smart(PDF_PATH, output='markdown')\n",
    "    print('--- SMART OCR (MD) Özet ---\\n', md_smart[:500])\n",
    "except Exception as e:\n",
    "    print('SMART OCR hata:', e)\n"
   ]
  },
  {
   "cell_type": "markdown",
   "id": "a33d2983",
   "metadata": {},
   "source": [
    "## 4) Çekirdek Metodlar"
   ]
  },
  {
   "cell_type": "code",
   "execution_count": null,
   "id": "686be707",
   "metadata": {},
   "outputs": [],
   "source": [
    "# 4.1 convert_fast — dil ve enhancement ile\n",
    "try:\n",
    "    text_enhanced = client.convert_fast(IMG_PATH, language='tr', enhancement='scan_low_dpi', output='txt')\n",
    "    print('Enhancement ile FAST OCR çıktı (ilk 400 karakter):\\n', text_enhanced[:400])\n",
    "except Exception as e:\n",
    "    print('convert_fast hata:', e)\n",
    "\n",
    "# 4.2 convert_smart — markdown/json ile düzen/tabloları koru\n",
    "try:\n",
    "    smart_json = client.convert_smart(PDF_PATH, output='json')\n",
    "    # Büyük olabilir; sadece tip ve bazı anahtarları gösterelim\n",
    "    print('SMART JSON tip:', type(smart_json))\n",
    "    print('SMART JSON uzunluk/özeti:', str(smart_json)[:400])\n",
    "except Exception as e:\n",
    "    print('convert_smart hata:', e)\n",
    "\n",
    "# 4.3 convert_doc — Office (docx/xlsx/pptx) -> markdown/txt\n",
    "try:\n",
    "    DOCX_PATH = 'sample_docs/sample_contract.docx'\n",
    "    md_from_doc = client.convert_doc(DOCX_PATH, output='markdown')\n",
    "    print('DOCX -> MD (ilk 400):\\n', md_from_doc[:400])\n",
    "except Exception as e:\n",
    "    print('convert_doc hata:', e)\n",
    "\n",
    "# 4.4 convert_html_string — ham HTML -> markdown/txt\n",
    "try:\n",
    "    html = '<h1>Başlık</h1><p>İçerik paragrafı <b>kalın</b> metin.</p>'\n",
    "    md_from_html = client.convert_html_string(html, output='markdown')\n",
    "    print('HTML -> MD:\\n', md_from_html)\n",
    "except Exception as e:\n",
    "    print('convert_html_string hata:', e)\n"
   ]
  },
  {
   "cell_type": "markdown",
   "id": "dfe9d581",
   "metadata": {},
   "source": [
    "## 5) Toplu İşleme (Batch)"
   ]
  },
  {
   "cell_type": "code",
   "execution_count": null,
   "id": "f27a9e4f",
   "metadata": {},
   "outputs": [],
   "source": [
    "from pathlib import Path\n",
    "\n",
    "INPUT_DIR = Path('sample_docs')\n",
    "OUTPUT_DIR = Path('output_docs')\n",
    "OUTPUT_DIR.mkdir(parents=True, exist_ok=True)\n",
    "\n",
    "# 5.1 batch_convert_auto — dosya tipine göre en uygun modu seçer\n",
    "try:\n",
    "    res_auto = client.batch_convert_auto(\n",
    "        directory=INPUT_DIR,\n",
    "        save_to=OUTPUT_DIR,\n",
    "        language='tr',\n",
    "        output_format='markdown',\n",
    "        recursive=True,\n",
    "        show_progress=True,\n",
    "        max_workers=4,\n",
    "        timeout=900\n",
    "    )\n",
    "    print('AUTO batch özet:', {k: res_auto.get(k) for k in ['processed_count','success_count','failed_count']})\n",
    "except Exception as e:\n",
    "    print('batch_convert_auto hata:', e)\n",
    "\n",
    "# 5.2 batch_convert_fast — PDF/IMG için hızlı\n",
    "try:\n",
    "    res_fast = client.batch_convert_fast(\n",
    "        directory=INPUT_DIR,\n",
    "        save_to=OUTPUT_DIR,\n",
    "        language='tr',\n",
    "        enhancement=None,\n",
    "        output_format='txt',\n",
    "        recursive=True,\n",
    "        show_progress=True,\n",
    "        max_workers=5,\n",
    "        timeout=300\n",
    "    )\n",
    "    print('FAST batch özet:', {k: res_fast.get(k) for k in ['processed_count','success_count','failed_count']})\n",
    "except Exception as e:\n",
    "    print('batch_convert_fast hata:', e)\n",
    "\n",
    "# 5.3 batch_convert_smart — karmaşık düzenli belgeler için\n",
    "try:\n",
    "    res_smart = client.batch_convert_smart(\n",
    "        directory=INPUT_DIR,\n",
    "        save_to=OUTPUT_DIR,\n",
    "        output_format='markdown',\n",
    "        recursive=True,\n",
    "        show_progress=True,\n",
    "        max_workers=3,\n",
    "        timeout=600\n",
    "    )\n",
    "    print('SMART batch özet:', {k: res_smart.get(k) for k in ['processed_count','success_count','failed_count']})\n",
    "except Exception as e:\n",
    "    print('batch_convert_smart hata:', e)\n"
   ]
  },
  {
   "cell_type": "markdown",
   "id": "7aeff743",
   "metadata": {},
   "source": [
    "## 6) İş Yönetimi (Durum, Bekleme, Sonuç, İptal)"
   ]
  },
  {
   "cell_type": "code",
   "execution_count": null,
   "id": "db9f009d",
   "metadata": {},
   "outputs": [],
   "source": [
    "# convert_* metodları çoğunlukla senkron içerik döndürür.\n",
    "# Eğer async/queue bazlı bir 'job_id' dönüyorsa (örn. büyük dosyalar) aşağıdaki akış örnektir.\n",
    "\n",
    "job_id = None  # Örnek. Gerçek id'yi API dönüşünden alın.\n",
    "\n",
    "if job_id:\n",
    "    try:\n",
    "        status = client.get_status(job_id)\n",
    "        print('Durum:', status)\n",
    "    except Exception as e:\n",
    "        print('get_status hata:', e)\n",
    "\n",
    "    try:\n",
    "        final = client.wait(job_id, interval=2.0, timeout=300)\n",
    "        print('Final durum:', final)\n",
    "    except Exception as e:\n",
    "        print('wait hata:', e)\n",
    "\n",
    "    try:\n",
    "        result = client.get_result(job_id)\n",
    "        print('Sonuç anahtarları:', list(result.keys()))\n",
    "    except Exception as e:\n",
    "        print('get_result hata:', e)\n",
    "\n",
    "    # İptal örneği\n",
    "    # try:\n",
    "    #     client.cancel(job_id)\n",
    "    # except Exception as e:\n",
    "    #     print('cancel hata:', e)\n",
    "else:\n",
    "    print('Bu örnekte job_id yok. Büyük dosyalarda/queue modlarında kullanın.')\n"
   ]
  },
  {
   "cell_type": "markdown",
   "id": "2740f01d",
   "metadata": {},
   "source": [
    "## 7) Dil Yardımcısı (LanguageHelper)"
   ]
  },
  {
   "cell_type": "code",
   "execution_count": null,
   "id": "cb5c68d7",
   "metadata": {},
   "outputs": [],
   "source": [
    "from hashub_docapp.languages import LanguageHelper\n",
    "\n",
    "try:\n",
    "    langs = LanguageHelper.list_languages()\n",
    "    print('Desteklenen dil sayısı:', len(langs))\n",
    "    # İlk 10 dil örnek gösterimi\n",
    "    for item in langs[:10]:\n",
    "        print(item)\n",
    "    print('Türkçe info:', LanguageHelper.get_language_info('tr'))\n",
    "except Exception as e:\n",
    "    print('LanguageHelper hata:', e)\n"
   ]
  },
  {
   "cell_type": "markdown",
   "id": "f5a2351a",
   "metadata": {},
   "source": [
    "## 8) Görüntü İyileştirme (Enhancement Presets)"
   ]
  },
  {
   "cell_type": "code",
   "execution_count": null,
   "id": "6b0dde7f",
   "metadata": {},
   "outputs": [],
   "source": [
    "enhancements = [\n",
    "    'document_crisp','scan_low_dpi','camera_shadow','photocopy_faded','inverted_scan',\n",
    "    'noisy_dots','tables_fine','receipt_thermal','newspaper_moire','fax_low_quality','blueprint'\n",
    "]\n",
    "print('Örnek preset listesi:', enhancements)\n",
    "\n",
    "# Hızlı kıyas için aynı görüntüde farklı preset denemeleri (zaman ve kota maliyetine dikkat!)\n",
    "TEST_IMG = IMG_PATH  # kendi örneğinizle değiştirin\n",
    "for preset in enhancements[:3]:  # ilk 3 ile kısa demo\n",
    "    try:\n",
    "        out = client.convert_fast(TEST_IMG, language='tr', enhancement=preset, output='txt')\n",
    "        print(f'Preset={preset} | Çıktı (ilk 250):\\n', out[:250])\n",
    "    except Exception as e:\n",
    "        print(f'Preset={preset} hata:', e)\n"
   ]
  },
  {
   "cell_type": "markdown",
   "id": "b24bdd53",
   "metadata": {},
   "source": [
    "## 9) Hata Yönetimi (Exceptions)"
   ]
  },
  {
   "cell_type": "code",
   "execution_count": null,
   "id": "e4ca1932",
   "metadata": {},
   "outputs": [],
   "source": [
    "from hashub_docapp.exceptions import (\n",
    "    AuthenticationError, RateLimitError, ProcessingError, ValidationError\n",
    ")\n",
    "\n",
    "try:\n",
    "    # Bilinçli bir hata tetiklemek için geçersiz yol verelim (örnek)\n",
    "    _ = client.convert_fast('non_existent.pdf')\n",
    "except AuthenticationError:\n",
    "    print('❌ API anahtarı geçersiz')\n",
    "except RateLimitError:\n",
    "    print('⏳ Rate limit aşıldı, bekleyip tekrar deneyin')\n",
    "except ProcessingError as e:\n",
    "    print('💥 İşleme hatası:', e)\n",
    "except ValidationError as e:\n",
    "    print('📝 Doğrulama hatası:', e)\n",
    "except FileNotFoundError:\n",
    "    print('📁 Dosya bulunamadı (beklenen uyarı).')\n",
    "except Exception as e:\n",
    "    print('Beklenmeyen hata:', e)\n"
   ]
  },
  {
   "cell_type": "markdown",
   "id": "af33c7a0",
   "metadata": {},
   "source": [
    "## 10) Performans İpuçları ve Sorun Giderme"
   ]
  },
  {
   "cell_type": "markdown",
   "id": "a880278c",
   "metadata": {},
   "source": [
    "\n",
    "**Performans İpuçları**\n",
    "- Basit belgeler için `convert_fast`, karmaşık düzen için `convert_smart` tercih edin.\n",
    "- Toplu işlemlerde `max_workers` değerini kota limitlerine göre ayarlayın.\n",
    "- Dili doğru ayarlayın (örn. `'tr'`, `'en'`, `'de'`).\n",
    "\n",
    "**Sorun Giderme**\n",
    "- `404` hatası: `base_url` değerini ve uç noktayı doğrulayın.\n",
    "- `Timeout`: Büyük dosyalarda `timeout` değerini yükseltin.\n",
    "- `RateLimit`: `rate_limit_delay` ve `max_retries` değerlerini artırın.\n",
    "- Desteklenen dilleri görmek için `LanguageHelper.list_languages()` kullanın.\n"
   ]
  }
 ],
 "metadata": {
  "colab": {
   "name": "HashubDocApp-SDK-Quickstart.ipynb",
   "provenance": []
  },
  "kernelspec": {
   "display_name": "Python 3",
   "language": "python",
   "name": "python3"
  },
  "language_info": {
   "name": "python",
   "pygments_lexer": "ipython3"
  }
 },
 "nbformat": 4,
 "nbformat_minor": 5
}