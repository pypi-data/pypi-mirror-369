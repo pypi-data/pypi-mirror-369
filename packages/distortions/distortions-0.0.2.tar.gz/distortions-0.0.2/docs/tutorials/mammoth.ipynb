{
 "cells": [
  {
   "cell_type": "code",
   "execution_count": null,
   "id": "f5f874f1",
   "metadata": {},
   "outputs": [],
   "source": [
    "import numpy as np\n",
    "import pandas as pd\n",
    "from distortions.geometry import Geometry, bind_metric, local_distortions\n",
    "\n",
    "n_neighbors = 50\n",
    "data = pd.read_json(\"https://raw.githubusercontent.com/krisrs1128/distortions-data/main/data/mammoth_3d.json\")"
   ]
  },
  {
   "cell_type": "code",
   "execution_count": 2,
   "id": "16adccd2",
   "metadata": {},
   "outputs": [],
   "source": [
    "from anndata import AnnData\n",
    "import scanpy as sc\n",
    "\n",
    "adata = AnnData(X=data, obs=pd.DataFrame(index=data.index))\n",
    "sc.pp.neighbors(adata, n_neighbors=n_neighbors)\n",
    "sc.tl.umap(adata)\n",
    "embedding = adata.obsm[\"X_umap\"].copy()"
   ]
  },
  {
   "cell_type": "code",
   "execution_count": 3,
   "id": "17d20b78",
   "metadata": {},
   "outputs": [],
   "source": [
    "radius = 3 * np.mean(adata.obsp[\"distances\"].data)\n",
    "geom = Geometry(\"brute\", laplacian_method=\"geometric\", affinity_kwds={\"radius\": radius}, adjacency_kwds={\"n_neighbors\": n_neighbors}, laplacian_kwds={\"scaling_epps\": 5})\n",
    "H, Hvv, Hs = local_distortions(embedding, data, geom)\n",
    "embedding = bind_metric(embedding, Hvv, Hs)"
   ]
  },
  {
   "cell_type": "code",
   "execution_count": 4,
   "id": "eb1d8dbd",
   "metadata": {},
   "outputs": [
    {
     "ename": "ValueError",
     "evalue": "Value of 'x' is not the name of a column in 'data_frame'. Expected one of [0, 1, 2] but received: x",
     "output_type": "error",
     "traceback": [
      "\u001b[31m---------------------------------------------------------------------------\u001b[39m",
      "\u001b[31mValueError\u001b[39m                                Traceback (most recent call last)",
      "\u001b[36mCell\u001b[39m\u001b[36m \u001b[39m\u001b[32mIn[4]\u001b[39m\u001b[32m, line 3\u001b[39m\n\u001b[32m      1\u001b[39m \u001b[38;5;28;01mimport\u001b[39;00m\u001b[38;5;250m \u001b[39m\u001b[34;01mplotly\u001b[39;00m\u001b[34;01m.\u001b[39;00m\u001b[34;01mexpress\u001b[39;00m\u001b[38;5;250m \u001b[39m\u001b[38;5;28;01mas\u001b[39;00m\u001b[38;5;250m \u001b[39m\u001b[34;01mpx\u001b[39;00m\n\u001b[32m----> \u001b[39m\u001b[32m3\u001b[39m fig = px.scatter_3d(data, x=\u001b[33m'\u001b[39m\u001b[33mx\u001b[39m\u001b[33m'\u001b[39m, y=\u001b[33m'\u001b[39m\u001b[33mz\u001b[39m\u001b[33m'\u001b[39m, z=\u001b[33m'\u001b[39m\u001b[33my\u001b[39m\u001b[33m'\u001b[39m)\n\u001b[32m      4\u001b[39m fig.update_traces(marker_size=\u001b[32m1\u001b[39m, marker_color=\u001b[33m\"\u001b[39m\u001b[33mblack\u001b[39m\u001b[33m\"\u001b[39m)\n\u001b[32m      5\u001b[39m fig\n",
      "\u001b[36mFile \u001b[39m\u001b[32m/opt/miniconda3/envs/dist2/lib/python3.12/site-packages/plotly/express/_chart_types.py:791\u001b[39m, in \u001b[36mscatter_3d\u001b[39m\u001b[34m(data_frame, x, y, z, color, symbol, size, text, hover_name, hover_data, custom_data, error_x, error_x_minus, error_y, error_y_minus, error_z, error_z_minus, animation_frame, animation_group, category_orders, labels, size_max, color_discrete_sequence, color_discrete_map, color_continuous_scale, range_color, color_continuous_midpoint, symbol_sequence, symbol_map, opacity, log_x, log_y, log_z, range_x, range_y, range_z, title, subtitle, template, width, height)\u001b[39m\n\u001b[32m    744\u001b[39m \u001b[38;5;28;01mdef\u001b[39;00m\u001b[38;5;250m \u001b[39m\u001b[34mscatter_3d\u001b[39m(\n\u001b[32m    745\u001b[39m     data_frame=\u001b[38;5;28;01mNone\u001b[39;00m,\n\u001b[32m    746\u001b[39m     x=\u001b[38;5;28;01mNone\u001b[39;00m,\n\u001b[32m   (...)\u001b[39m\u001b[32m    785\u001b[39m     height=\u001b[38;5;28;01mNone\u001b[39;00m,\n\u001b[32m    786\u001b[39m ) -> go.Figure:\n\u001b[32m    787\u001b[39m \u001b[38;5;250m    \u001b[39m\u001b[33;03m\"\"\"\u001b[39;00m\n\u001b[32m    788\u001b[39m \u001b[33;03m    In a 3D scatter plot, each row of `data_frame` is represented by a\u001b[39;00m\n\u001b[32m    789\u001b[39m \u001b[33;03m    symbol mark in 3D space.\u001b[39;00m\n\u001b[32m    790\u001b[39m \u001b[33;03m    \"\"\"\u001b[39;00m\n\u001b[32m--> \u001b[39m\u001b[32m791\u001b[39m     \u001b[38;5;28;01mreturn\u001b[39;00m make_figure(args=\u001b[38;5;28mlocals\u001b[39m(), constructor=go.Scatter3d)\n",
      "\u001b[36mFile \u001b[39m\u001b[32m/opt/miniconda3/envs/dist2/lib/python3.12/site-packages/plotly/express/_core.py:2491\u001b[39m, in \u001b[36mmake_figure\u001b[39m\u001b[34m(args, constructor, trace_patch, layout_patch)\u001b[39m\n\u001b[32m   2488\u001b[39m layout_patch = layout_patch \u001b[38;5;129;01mor\u001b[39;00m {}\n\u001b[32m   2489\u001b[39m apply_default_cascade(args)\n\u001b[32m-> \u001b[39m\u001b[32m2491\u001b[39m args = build_dataframe(args, constructor)\n\u001b[32m   2492\u001b[39m \u001b[38;5;28;01mif\u001b[39;00m constructor \u001b[38;5;129;01min\u001b[39;00m [go.Treemap, go.Sunburst, go.Icicle] \u001b[38;5;129;01mand\u001b[39;00m args[\u001b[33m\"\u001b[39m\u001b[33mpath\u001b[39m\u001b[33m\"\u001b[39m] \u001b[38;5;129;01mis\u001b[39;00m \u001b[38;5;129;01mnot\u001b[39;00m \u001b[38;5;28;01mNone\u001b[39;00m:\n\u001b[32m   2493\u001b[39m     args = process_dataframe_hierarchy(args)\n",
      "\u001b[36mFile \u001b[39m\u001b[32m/opt/miniconda3/envs/dist2/lib/python3.12/site-packages/plotly/express/_core.py:1737\u001b[39m, in \u001b[36mbuild_dataframe\u001b[39m\u001b[34m(args, constructor)\u001b[39m\n\u001b[32m   1734\u001b[39m     args[\u001b[33m\"\u001b[39m\u001b[33mcolor\u001b[39m\u001b[33m\"\u001b[39m] = \u001b[38;5;28;01mNone\u001b[39;00m\n\u001b[32m   1735\u001b[39m \u001b[38;5;66;03m# now that things have been prepped, we do the systematic rewriting of `args`\u001b[39;00m\n\u001b[32m-> \u001b[39m\u001b[32m1737\u001b[39m df_output, wide_id_vars = process_args_into_dataframe(\n\u001b[32m   1738\u001b[39m     args,\n\u001b[32m   1739\u001b[39m     wide_mode,\n\u001b[32m   1740\u001b[39m     var_name,\n\u001b[32m   1741\u001b[39m     value_name,\n\u001b[32m   1742\u001b[39m     is_pd_like,\n\u001b[32m   1743\u001b[39m     native_namespace,\n\u001b[32m   1744\u001b[39m )\n\u001b[32m   1745\u001b[39m df_output: nw.DataFrame\n\u001b[32m   1746\u001b[39m \u001b[38;5;66;03m# now that `df_output` exists and `args` contains only references, we complete\u001b[39;00m\n\u001b[32m   1747\u001b[39m \u001b[38;5;66;03m# the special-case and wide-mode handling by further rewriting args and/or mutating\u001b[39;00m\n\u001b[32m   1748\u001b[39m \u001b[38;5;66;03m# df_output\u001b[39;00m\n",
      "\u001b[36mFile \u001b[39m\u001b[32m/opt/miniconda3/envs/dist2/lib/python3.12/site-packages/plotly/express/_core.py:1338\u001b[39m, in \u001b[36mprocess_args_into_dataframe\u001b[39m\u001b[34m(args, wide_mode, var_name, value_name, is_pd_like, native_namespace)\u001b[39m\n\u001b[32m   1336\u001b[39m         \u001b[38;5;28;01mif\u001b[39;00m argument == \u001b[33m\"\u001b[39m\u001b[33mindex\u001b[39m\u001b[33m\"\u001b[39m:\n\u001b[32m   1337\u001b[39m             err_msg += \u001b[33m\"\u001b[39m\u001b[38;5;130;01m\\n\u001b[39;00m\u001b[33m To use the index, pass it in directly as `df.index`.\u001b[39m\u001b[33m\"\u001b[39m\n\u001b[32m-> \u001b[39m\u001b[32m1338\u001b[39m         \u001b[38;5;28;01mraise\u001b[39;00m \u001b[38;5;167;01mValueError\u001b[39;00m(err_msg)\n\u001b[32m   1339\u001b[39m \u001b[38;5;28;01melif\u001b[39;00m length \u001b[38;5;129;01mand\u001b[39;00m (actual_len := \u001b[38;5;28mlen\u001b[39m(df_input)) != length:\n\u001b[32m   1340\u001b[39m     \u001b[38;5;28;01mraise\u001b[39;00m \u001b[38;5;167;01mValueError\u001b[39;00m(\n\u001b[32m   1341\u001b[39m         \u001b[33m\"\u001b[39m\u001b[33mAll arguments should have the same length. \u001b[39m\u001b[33m\"\u001b[39m\n\u001b[32m   1342\u001b[39m         \u001b[33m\"\u001b[39m\u001b[33mThe length of column argument `df[\u001b[39m\u001b[38;5;132;01m%s\u001b[39;00m\u001b[33m]` is \u001b[39m\u001b[38;5;132;01m%d\u001b[39;00m\u001b[33m, whereas the \u001b[39m\u001b[33m\"\u001b[39m\n\u001b[32m   (...)\u001b[39m\u001b[32m   1349\u001b[39m         )\n\u001b[32m   1350\u001b[39m     )\n",
      "\u001b[31mValueError\u001b[39m: Value of 'x' is not the name of a column in 'data_frame'. Expected one of [0, 1, 2] but received: x"
     ]
    }
   ],
   "source": [
    "import plotly.express as px\n",
    "\n",
    "fig = px.scatter_3d(data, x='x', y='z', z='y')\n",
    "fig.update_traces(marker_size=1, marker_color=\"black\")\n",
    "fig"
   ]
  },
  {
   "cell_type": "code",
   "execution_count": null,
   "id": "ce8518b3",
   "metadata": {},
   "outputs": [],
   "source": [
    "import altair as alt\n",
    "alt.data_transformers.enable(\"vegafusion\")\n",
    "\n",
    "alt.Chart(embedding).mark_circle(color=\"black\").encode(\n",
    "    x=alt.X(\"embedding_0\"),\n",
    "    y=alt.Y(\"embedding_1\")\n",
    ").properties(width=450, height=350)"
   ]
  },
  {
   "cell_type": "code",
   "execution_count": null,
   "id": "69519bcf",
   "metadata": {},
   "outputs": [],
   "source": [
    "from distortions.geometry import neighborhood_distances\n",
    "\n",
    "distances = neighborhood_distances(adata)\n",
    "alt.Chart(distances).mark_boxplot(outliers=True).encode(\n",
    "    x=alt.X('true', bin={\"maxbins\": 20}),\n",
    "    y=alt.Y('embedding')\n",
    ")"
   ]
  },
  {
   "cell_type": "code",
   "execution_count": null,
   "id": "a8ceb5c1",
   "metadata": {},
   "outputs": [],
   "source": [
    "from distortions.geometry import neighborhoods\n",
    "from distortions.visualization import dplot\n",
    "\n",
    "plots = {}\n",
    "N = neighborhoods(adata, threshold=.1, outlier_factor=3)\n",
    "plots[\"mamoth_links\"] = dplot(embedding, height = 350, width=450)\\\n",
    "    .mapping(x=\"embedding_0\", y=\"embedding_1\")\\\n",
    "    .inter_edge_link(N=N, strokeWidth=.2, opacity=0.7, threshold=4, stroke=\"#F25E7A\", highlightColor=\"#C83F58\")\\\n",
    "    .geom_ellipse(opacity=0.8, radiusMin=.5, radiusMax=10)"
   ]
  },
  {
   "cell_type": "code",
   "execution_count": null,
   "id": "66694e22",
   "metadata": {},
   "outputs": [],
   "source": [
    "metrics = {k: H[k] for k in range(len(H))}\n",
    "plots[\"mammoth_isometry\"] = dplot(embedding, height=350, width=450)\\\n",
    "    .mapping(x=\"embedding_0\", y=\"embedding_1\")\\\n",
    "    .inter_isometry(metrics=metrics, transformation_bw=.5, metric_bw=.1)\\\n",
    "    .geom_ellipse(opacity=0.8, radiusMin=.5, radiusMax=10)"
   ]
  },
  {
   "cell_type": "code",
   "execution_count": null,
   "id": "ccc853e5",
   "metadata": {},
   "outputs": [],
   "source": [
    "plots[\"mammoth_box\"] = dplot(embedding, height=350, width=530)\\\n",
    "    .mapping(x=\"embedding_0\", y=\"embedding_1\")\\\n",
    "    .geom_ellipse(radiusMax=10, radiusMin=.5)\\\n",
    "    .inter_boxplot(dists=distances, outlier_iqr=10, highlightColor=\"#F25E7A\", strokeWidth=0.4)"
   ]
  },
  {
   "cell_type": "code",
   "execution_count": null,
   "id": "4e0bd478",
   "metadata": {},
   "outputs": [],
   "source": [
    "[display(p) for p in plots.values()]"
   ]
  },
  {
   "cell_type": "code",
   "execution_count": null,
   "id": "3b6ba770",
   "metadata": {},
   "outputs": [],
   "source": [
    "#[p.save(f\"../paper/figures/{k}.svg\") for k, p in plots.items()]"
   ]
  },
  {
   "cell_type": "code",
   "execution_count": null,
   "id": "3e7499a5",
   "metadata": {},
   "outputs": [],
   "source": [
    "len(N)"
   ]
  }
 ],
 "metadata": {
  "kernelspec": {
   "display_name": "dist2",
   "language": "python",
   "name": "python3"
  },
  "language_info": {
   "codemirror_mode": {
    "name": "ipython",
    "version": 3
   },
   "file_extension": ".py",
   "mimetype": "text/x-python",
   "name": "python",
   "nbconvert_exporter": "python",
   "pygments_lexer": "ipython3",
   "version": "3.12.2"
  }
 },
 "nbformat": 4,
 "nbformat_minor": 5
}
