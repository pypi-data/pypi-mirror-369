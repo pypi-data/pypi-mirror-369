{
 "cells": [
  {
   "cell_type": "code",
   "execution_count": 1,
   "id": "8ebcfac5",
   "metadata": {},
   "outputs": [
    {
     "ename": "FileNotFoundError",
     "evalue": "[Errno 2] Unable to synchronously open file (unable to open file: name = 'https://raw.githubusercontent.com/krisrs1128/distortions-data/main/data/hydra.h5ad', errno = 2, error message = 'No such file or directory', flags = 0, o_flags = 0)",
     "output_type": "error",
     "traceback": [
      "\u001b[31m---------------------------------------------------------------------------\u001b[39m",
      "\u001b[31mFileNotFoundError\u001b[39m                         Traceback (most recent call last)",
      "\u001b[36mCell\u001b[39m\u001b[36m \u001b[39m\u001b[32mIn[1]\u001b[39m\u001b[32m, line 6\u001b[39m\n\u001b[32m      3\u001b[39m \u001b[38;5;28;01mimport\u001b[39;00m\u001b[38;5;250m \u001b[39m\u001b[34;01mnumpy\u001b[39;00m\u001b[38;5;250m \u001b[39m\u001b[38;5;28;01mas\u001b[39;00m\u001b[38;5;250m \u001b[39m\u001b[34;01mnp\u001b[39;00m\n\u001b[32m      4\u001b[39m random.seed(\u001b[32m20250409\u001b[39m)\n\u001b[32m----> \u001b[39m\u001b[32m6\u001b[39m adata = sc.read_h5ad(\u001b[33m\"\u001b[39m\u001b[33mhttps://raw.githubusercontent.com/krisrs1128/distortions-data/main/data/hydra.h5ad\u001b[39m\u001b[33m\"\u001b[39m)\n\u001b[32m      7\u001b[39m adata.X = adata.X.todense()\n\u001b[32m      9\u001b[39m sc.pp.normalize_total(adata)\n",
      "\u001b[36mFile \u001b[39m\u001b[32m/opt/miniconda3/envs/dist2/lib/python3.12/site-packages/anndata/_io/h5ad.py:239\u001b[39m, in \u001b[36mread_h5ad\u001b[39m\u001b[34m(filename, backed, as_sparse, as_sparse_fmt, chunk_size)\u001b[39m\n\u001b[32m    233\u001b[39m         \u001b[38;5;28;01mraise\u001b[39;00m \u001b[38;5;167;01mNotImplementedError\u001b[39;00m(msg)\n\u001b[32m    235\u001b[39m rdasp = partial(\n\u001b[32m    236\u001b[39m     read_dense_as_sparse, sparse_format=as_sparse_fmt, axis_chunk=chunk_size\n\u001b[32m    237\u001b[39m )\n\u001b[32m--> \u001b[39m\u001b[32m239\u001b[39m \u001b[38;5;28;01mwith\u001b[39;00m h5py.File(filename, \u001b[33m\"\u001b[39m\u001b[33mr\u001b[39m\u001b[33m\"\u001b[39m) \u001b[38;5;28;01mas\u001b[39;00m f:\n\u001b[32m    241\u001b[39m     \u001b[38;5;28;01mdef\u001b[39;00m\u001b[38;5;250m \u001b[39m\u001b[34mcallback\u001b[39m(func, elem_name: \u001b[38;5;28mstr\u001b[39m, elem, iospec):\n\u001b[32m    242\u001b[39m         \u001b[38;5;28;01mif\u001b[39;00m iospec.encoding_type == \u001b[33m\"\u001b[39m\u001b[33manndata\u001b[39m\u001b[33m\"\u001b[39m \u001b[38;5;129;01mor\u001b[39;00m elem_name.endswith(\u001b[33m\"\u001b[39m\u001b[33m/\u001b[39m\u001b[33m\"\u001b[39m):\n",
      "\u001b[36mFile \u001b[39m\u001b[32m/opt/miniconda3/envs/dist2/lib/python3.12/site-packages/h5py/_hl/files.py:561\u001b[39m, in \u001b[36mFile.__init__\u001b[39m\u001b[34m(self, name, mode, driver, libver, userblock_size, swmr, rdcc_nslots, rdcc_nbytes, rdcc_w0, track_order, fs_strategy, fs_persist, fs_threshold, fs_page_size, page_buf_size, min_meta_keep, min_raw_keep, locking, alignment_threshold, alignment_interval, meta_block_size, **kwds)\u001b[39m\n\u001b[32m    552\u001b[39m     fapl = make_fapl(driver, libver, rdcc_nslots, rdcc_nbytes, rdcc_w0,\n\u001b[32m    553\u001b[39m                      locking, page_buf_size, min_meta_keep, min_raw_keep,\n\u001b[32m    554\u001b[39m                      alignment_threshold=alignment_threshold,\n\u001b[32m    555\u001b[39m                      alignment_interval=alignment_interval,\n\u001b[32m    556\u001b[39m                      meta_block_size=meta_block_size,\n\u001b[32m    557\u001b[39m                      **kwds)\n\u001b[32m    558\u001b[39m     fcpl = make_fcpl(track_order=track_order, fs_strategy=fs_strategy,\n\u001b[32m    559\u001b[39m                      fs_persist=fs_persist, fs_threshold=fs_threshold,\n\u001b[32m    560\u001b[39m                      fs_page_size=fs_page_size)\n\u001b[32m--> \u001b[39m\u001b[32m561\u001b[39m     fid = make_fid(name, mode, userblock_size, fapl, fcpl, swmr=swmr)\n\u001b[32m    563\u001b[39m \u001b[38;5;28;01mif\u001b[39;00m \u001b[38;5;28misinstance\u001b[39m(libver, \u001b[38;5;28mtuple\u001b[39m):\n\u001b[32m    564\u001b[39m     \u001b[38;5;28mself\u001b[39m._libver = libver\n",
      "\u001b[36mFile \u001b[39m\u001b[32m/opt/miniconda3/envs/dist2/lib/python3.12/site-packages/h5py/_hl/files.py:235\u001b[39m, in \u001b[36mmake_fid\u001b[39m\u001b[34m(name, mode, userblock_size, fapl, fcpl, swmr)\u001b[39m\n\u001b[32m    233\u001b[39m     \u001b[38;5;28;01mif\u001b[39;00m swmr \u001b[38;5;129;01mand\u001b[39;00m swmr_support:\n\u001b[32m    234\u001b[39m         flags |= h5f.ACC_SWMR_READ\n\u001b[32m--> \u001b[39m\u001b[32m235\u001b[39m     fid = h5f.open(name, flags, fapl=fapl)\n\u001b[32m    236\u001b[39m \u001b[38;5;28;01melif\u001b[39;00m mode == \u001b[33m'\u001b[39m\u001b[33mr+\u001b[39m\u001b[33m'\u001b[39m:\n\u001b[32m    237\u001b[39m     fid = h5f.open(name, h5f.ACC_RDWR, fapl=fapl)\n",
      "\u001b[36mFile \u001b[39m\u001b[32mh5py/_objects.pyx:54\u001b[39m, in \u001b[36mh5py._objects.with_phil.wrapper\u001b[39m\u001b[34m()\u001b[39m\n",
      "\u001b[36mFile \u001b[39m\u001b[32mh5py/_objects.pyx:55\u001b[39m, in \u001b[36mh5py._objects.with_phil.wrapper\u001b[39m\u001b[34m()\u001b[39m\n",
      "\u001b[36mFile \u001b[39m\u001b[32mh5py/h5f.pyx:102\u001b[39m, in \u001b[36mh5py.h5f.open\u001b[39m\u001b[34m()\u001b[39m\n",
      "\u001b[31mFileNotFoundError\u001b[39m: [Errno 2] Unable to synchronously open file (unable to open file: name = 'https://raw.githubusercontent.com/krisrs1128/distortions-data/main/data/hydra.h5ad', errno = 2, error message = 'No such file or directory', flags = 0, o_flags = 0)"
     ]
    }
   ],
   "source": [
    "import random\n",
    "import scanpy as sc\n",
    "import numpy as np\n",
    "random.seed(20250409)\n",
    "\n",
    "adata = sc.read_h5ad(\"https://raw.githubusercontent.com/krisrs1128/distortions-data/main/data/hydra.h5ad\")\n",
    "adata.X = adata.X.todense()\n",
    "\n",
    "sc.pp.normalize_total(adata)\n",
    "sc.pp.log1p(adata)\n",
    "sc.pp.highly_variable_genes(adata, n_top_genes=1000)\n",
    "\n",
    "n_neighbors = 50\n",
    "ix = np.random.choice(len(adata), 2000, replace=False)\n",
    "adata = adata[ix, adata.var.highly_variable]\n",
    "sc.pp.neighbors(adata, n_neighbors=n_neighbors)\n",
    "sc.tl.tsne(adata, n_pcs=30, perplexity=80)"
   ]
  },
  {
   "cell_type": "code",
   "execution_count": null,
   "id": "33711433",
   "metadata": {},
   "outputs": [],
   "source": [
    "from distortions.geometry import Geometry, bind_metric, local_distortions\n",
    "\n",
    "embedding = adata.obsm[\"X_tsne\"].copy()\n",
    "radius = 3 * np.mean(adata.obsp[\"distances\"].data)\n",
    "geom = Geometry(\"brute\", laplacian_method=\"geometric\", affinity_kwds={\"radius\": radius}, adjacency_kwds={\"n_neighbors\": n_neighbors}, laplacian_kwds={\"scaling_epps\": 5})\n",
    "H, Hvv, Hs = local_distortions(embedding, adata.X, geom)\n",
    "embedding = bind_metric(embedding, Hvv, Hs)\n",
    "embedding[\"ident\"] = adata.obs[\"ident\"].str.split(\"-\").str[1].values"
   ]
  },
  {
   "cell_type": "code",
   "execution_count": null,
   "id": "8ddaeed5",
   "metadata": {},
   "outputs": [],
   "source": [
    "import altair as alt\n",
    "alt.data_transformers.enable(\"vegafusion\")\n",
    "\n",
    "alt.Chart(embedding).mark_circle(opacity=1).encode(\n",
    "    x=alt.X(\"embedding_0\"),\n",
    "    y=alt.Y(\"embedding_1\")\n",
    ").properties(width=400, height=400)"
   ]
  },
  {
   "cell_type": "code",
   "execution_count": null,
   "id": "b8cccc68",
   "metadata": {},
   "outputs": [],
   "source": [
    "from distortions.visualization import dplot\n",
    "from distortions.geometry import neighborhoods\n",
    "\n",
    "plots = {}\n",
    "N = neighborhoods(adata, threshold=.2, outlier_factor=3, embed_key=\"X_tsne\", frame=[100, 100], method=\"window\")\n",
    "plots[\"hydra_link_80\"] = dplot(embedding, width=440, height=440)\\\n",
    "   .mapping(x=\"embedding_0\", y=\"embedding_1\")\\\n",
    "   .inter_edge_link(N=N, threshold=3, stroke=\"#F25E7A\", highlightColor=\"#F25E7A\", backgroundOpacity=0.2, strokeWidth=0.2, opacity=0.6)\\\n",
    "   .geom_ellipse(radiusMax=10, radiusMin=.8)\\\n",
    "   .labs(x=\"t-SNE 1\", y=\"t-SNE 2\")"
   ]
  },
  {
   "cell_type": "code",
   "execution_count": null,
   "id": "ff59ea2e",
   "metadata": {},
   "outputs": [],
   "source": [
    "metrics = {k: H[k] for k in range(len(H))}\n",
    "dplot(embedding, width=440, height=440)\\\n",
    "    .mapping(x=\"embedding_0\", y=\"embedding_1\")\\\n",
    "    .inter_isometry(metrics=metrics, metrics_bw=.05, transformation_bw=.1)\\\n",
    "    .geom_ellipse(radiusMax=10, radiusMin=.8)\\\n",
    "    .labs(x=\"t-SNE 1\", y=\"t-SNE 2\")"
   ]
  },
  {
   "cell_type": "code",
   "execution_count": null,
   "id": "9452443c",
   "metadata": {},
   "outputs": [],
   "source": [
    "from distortions.geometry import neighborhood_distances\n",
    "\n",
    "dists = neighborhood_distances(adata, embed_key=\"X_tsne\")\n",
    "dplot(embedding, width=550, height=440)\\\n",
    "    .mapping(x=\"embedding_0\", y=\"embedding_1\")\\\n",
    "    .geom_ellipse(radiusMax=8, radiusMin=.5)\\\n",
    "    .inter_boxplot(dists=dists, strokeWidth=0.2)\\\n",
    "    .labs(x = \"t-SNE 1\", y = \"t-SNE 2\")"
   ]
  },
  {
   "cell_type": "code",
   "execution_count": null,
   "id": "4a0c3db5",
   "metadata": {},
   "outputs": [],
   "source": [
    "#[p.save(f\"../paper/figures/{k}.svg\") for k, p in plots.items()]"
   ]
  },
  {
   "cell_type": "code",
   "execution_count": null,
   "id": "8b0c0124",
   "metadata": {},
   "outputs": [],
   "source": [
    "[display(p) for p in plots.values()]"
   ]
  },
  {
   "cell_type": "code",
   "execution_count": null,
   "id": "a0656b98",
   "metadata": {},
   "outputs": [],
   "source": []
  }
 ],
 "metadata": {
  "kernelspec": {
   "display_name": "dist2",
   "language": "python",
   "name": "python3"
  },
  "language_info": {
   "codemirror_mode": {
    "name": "ipython",
    "version": 3
   },
   "file_extension": ".py",
   "mimetype": "text/x-python",
   "name": "python",
   "nbconvert_exporter": "python",
   "pygments_lexer": "ipython3",
   "version": "3.12.2"
  }
 },
 "nbformat": 4,
 "nbformat_minor": 5
}
