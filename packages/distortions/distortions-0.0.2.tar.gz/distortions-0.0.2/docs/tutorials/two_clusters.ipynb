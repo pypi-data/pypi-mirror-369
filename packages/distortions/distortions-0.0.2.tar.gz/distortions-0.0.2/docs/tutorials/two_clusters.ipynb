{
 "cells": [
  {
   "cell_type": "code",
   "execution_count": 1,
   "id": "4c3f5244",
   "metadata": {},
   "outputs": [],
   "source": [
    "import numpy as np\n",
    "import pandas as pd\n",
    "from distortions.geometry import Geometry, bind_metric, local_distortions\n",
    "np.random.seed(20250702)\n",
    "\n",
    "def two_clusters_differential(n):\n",
    "    \"\"\"Two 2D clusters of different sizes.\"\"\"\n",
    "    points = []\n",
    "    for _ in range(n):\n",
    "        points.append([10 * np.random.normal(), 10 * np.random.normal()])\n",
    "        points.append([30 + np.random.normal(), np.random.normal()])\n",
    "    return np.array(points)"
   ]
  },
  {
   "cell_type": "code",
   "execution_count": 2,
   "id": "b122b4b1",
   "metadata": {},
   "outputs": [],
   "source": [
    "from anndata import AnnData\n",
    "import scanpy as sc\n",
    "\n",
    "M = 500\n",
    "n_neighbors = 50\n",
    "data = two_clusters_differential(M)\n",
    "\n",
    "adata = AnnData(X=data, obs=pd.DataFrame(range(2 * M)))\n",
    "sc.pp.neighbors(adata, n_neighbors=n_neighbors)\n",
    "sc.tl.umap(adata)\n",
    "embedding = adata.obsm[\"X_umap\"].copy()\n",
    "\n",
    "radius = np.mean(adata.obsp[\"distances\"].data)\n",
    "geom = Geometry(\"brute\", laplacian_method=\"geometric\", affinity_kwds={\"radius\": radius}, adjacency_kwds={\"n_neighbors\": n_neighbors}, laplacian_kwds={\"scaling_epps\": 1})\n",
    "H, Hvv, Hs = local_distortions(embedding, data, geom)\n",
    "\n",
    "# postprocessing\n",
    "Hs[Hs > 5] = 5\n",
    "Hs /= Hs.mean()\n",
    "for i in range(len(H)):\n",
    "    H[i] = Hvv[i] @ np.diag(Hs[i]) @ Hvv[i].T\n",
    "\n",
    "embedding = bind_metric(embedding, Hvv, Hs)\n",
    "embedding[\"cluster\"] = [\"A\", \"B\"] * M"
   ]
  },
  {
   "cell_type": "code",
   "execution_count": null,
   "id": "6bf349ed",
   "metadata": {},
   "outputs": [],
   "source": [
    "import altair as alt\n",
    "\n",
    "df_plot = pd.DataFrame({ \"s0\": Hs[:, 0], \"s1\": Hs[:, 1], \"cluster\": embedding[\"cluster\"] })\n",
    "lambda_plot = alt.Chart(df_plot).mark_circle()\\\n",
    "    .encode(\n",
    "        x=alt.X(\"s0\", axis=alt.Axis(title=\"λ₁\")),\n",
    "        y=alt.Y(\"s1\", axis=alt.Axis(title=\"λ₂\")),\n",
    "        color=alt.Color(\"cluster\", scale=alt.Scale(domain=[\"A\", \"B\"], range=[\"#40e0d0\", \"#ff9d06\"]))\n",
    "    )\\\n",
    "    .configure_axis(grid=False)\n",
    "\n",
    "#lambda_plot.save(\"../paper/figures/two_clusters_lambda.svg\")"
   ]
  },
  {
   "cell_type": "code",
   "execution_count": 4,
   "id": "ca16bc40",
   "metadata": {},
   "outputs": [],
   "source": [
    "data = pd.DataFrame(data)\n",
    "data[\"cluster\"] = embedding[\"cluster\"]\n",
    "data.columns = [\"x\", \"y\", \"cluster\"]\n",
    "data[\"s0\"] = 1\n",
    "data[\"s1\"] = 1"
   ]
  },
  {
   "cell_type": "code",
   "execution_count": 5,
   "id": "d72dadd3",
   "metadata": {},
   "outputs": [],
   "source": [
    "from distortions.visualization import dplot\n",
    "\n",
    "plots = {}\n",
    "plots[\"two_clusters\"] = dplot(data, width=450, height=350, labelFontSize=14)\\\n",
    "    .mapping(x=\"x\", y=\"y\", color=\"cluster\")\\\n",
    "    .scale_color(scheme=[\"turquoise\", \"orange\"])\\\n",
    "    .geom_ellipse(radiusMax=6, radiusMin=1)\\\n",
    "    .labs(x = \"Original 1\", y = \"Original 2\")"
   ]
  },
  {
   "cell_type": "code",
   "execution_count": 6,
   "id": "87a161ed",
   "metadata": {},
   "outputs": [
    {
     "data": {
      "application/vnd.jupyter.widget-view+json": {
       "model_id": "04082fabe8cd44faa8af53507e1bc3b9",
       "version_major": 2,
       "version_minor": 1
      },
      "text/plain": [
       "dplot(dataset=[{'embedding_0': -7.3624162673950195, 'embedding_1': 5.324365139007568, 'x0': -0.061769458747554…"
      ]
     },
     "execution_count": 6,
     "metadata": {},
     "output_type": "execute_result"
    }
   ],
   "source": [
    "from distortions.geometry import neighborhoods\n",
    "\n",
    "N = neighborhoods(adata, threshold=0.1, outlier_factor=3)\n",
    "dplot(embedding, width=450, height=350, labelFontSize=14)\\\n",
    "    .mapping(x=\"embedding_0\", y=\"embedding_1\", color=\"cluster\")\\\n",
    "    .inter_edge_link(N=N, threshold=1, backgroundOpacity=0.8)\\\n",
    "    .scale_color(scheme=[\"turquoise\", \"orange\"])\\\n",
    "    .geom_ellipse(radiusMax=10, radiusMin=1)\\\n",
    "    .labs(x = \"UMAP1\", y = \"UMAP2\")"
   ]
  },
  {
   "cell_type": "code",
   "execution_count": 7,
   "id": "79ccf582",
   "metadata": {},
   "outputs": [],
   "source": [
    "metrics = {k: H[k] for k in range(len(H))}\n",
    "plots[\"two_clusters_isometry\"] = dplot(embedding, width=450, height=350, labelFontSize=14)\\\n",
    "    .mapping(x=\"embedding_0\", y=\"embedding_1\", color=\"cluster\")\\\n",
    "    .geom_ellipse(radiusMin=1, radiusMax=10)\\\n",
    "    .inter_isometry(metrics=metrics, metric_bw=1, transformation_bw=.1, stroke=\"#f7f7f7\")\\\n",
    "    .scale_color(scheme=[\"turquoise\", \"orange\"])\\\n",
    "    .scale_size()\\\n",
    "    .labs(x=\"UMAP1\", y=\"UMAP2\")\n",
    "\n",
    "plots[\"two_clusters_metric\"] = dplot(embedding, width=450, height=350, labelFontSize=14)\\\n",
    "    .mapping(x=\"embedding_0\", y=\"embedding_1\", color=\"kernel_metric\")\\\n",
    "    .geom_ellipse(radiusMin=1, radiusMax=10)\\\n",
    "    .inter_isometry(metrics=metrics, metric_bw=1, transformation_bw=.1, stroke=\"#f7f7f7\")\\\n",
    "    .scale_color(scheme=[\"turquoise\", \"orange\"])\\\n",
    "    .scale_size()\\\n",
    "    .labs(x=\"UMAP1\", y=\"UMAP2\")\n",
    "\n",
    "plots[\"two_clusters_transform\"] = dplot(embedding, width=450, height=350, labelFontSize=14)\\\n",
    "    .mapping(x=\"embedding_0\", y=\"embedding_1\", color=\"kernel_transform\")\\\n",
    "    .geom_ellipse(radiusMin=1, radiusMax=10)\\\n",
    "    .inter_isometry(metrics=metrics, metric_bw=1, transformation_bw=.1, stroke=\"#f7f7f7\")\\\n",
    "    .scale_color(scheme=[\"turquoise\", \"orange\"])\\\n",
    "    .scale_size()\\\n",
    "    .labs(x=\"UMAP1\", y=\"UMAP2\")"
   ]
  },
  {
   "cell_type": "code",
   "execution_count": null,
   "id": "b4db74f1",
   "metadata": {},
   "outputs": [
    {
     "data": {
      "text/plain": [
       "[None, None, None, None]"
      ]
     },
     "execution_count": 18,
     "metadata": {},
     "output_type": "execute_result"
    }
   ],
   "source": [
    "#[p.save(f\"../paper/figures/{k}.svg\") for k, p in plots.items()]"
   ]
  },
  {
   "cell_type": "code",
   "execution_count": 9,
   "id": "acf33c60",
   "metadata": {},
   "outputs": [
    {
     "data": {
      "application/vnd.jupyter.widget-view+json": {
       "model_id": "f6e31de7baf24e59b7fdfe60e3ad5306",
       "version_major": 2,
       "version_minor": 1
      },
      "text/plain": [
       "dplot(dataset=[{'x': -10.53549603766011, 'y': -1.8629896720824943, 'cluster': 'A', 's0': 1, 's1': 1}, {'x': 29…"
      ]
     },
     "metadata": {},
     "output_type": "display_data"
    },
    {
     "data": {
      "application/vnd.jupyter.widget-view+json": {
       "model_id": "758a4a11df1c4af3868dd6ab4e4ee75f",
       "version_major": 2,
       "version_minor": 1
      },
      "text/plain": [
       "dplot(dataset=[{'embedding_0': -7.3624162673950195, 'embedding_1': 5.324365139007568, 'x0': -0.061769458747554…"
      ]
     },
     "metadata": {},
     "output_type": "display_data"
    },
    {
     "data": {
      "application/vnd.jupyter.widget-view+json": {
       "model_id": "18d0c447d1a54527a54d348360ab8a3b",
       "version_major": 2,
       "version_minor": 1
      },
      "text/plain": [
       "dplot(dataset=[{'embedding_0': -7.3624162673950195, 'embedding_1': 5.324365139007568, 'x0': -0.061769458747554…"
      ]
     },
     "metadata": {},
     "output_type": "display_data"
    },
    {
     "data": {
      "application/vnd.jupyter.widget-view+json": {
       "model_id": "bbd0fa758cf940c3b21fd1bd256cfee0",
       "version_major": 2,
       "version_minor": 1
      },
      "text/plain": [
       "dplot(dataset=[{'embedding_0': -7.3624162673950195, 'embedding_1': 5.324365139007568, 'x0': -0.061769458747554…"
      ]
     },
     "metadata": {},
     "output_type": "display_data"
    },
    {
     "data": {
      "text/plain": [
       "[None, None, None, None]"
      ]
     },
     "execution_count": 9,
     "metadata": {},
     "output_type": "execute_result"
    }
   ],
   "source": [
    "[display(p) for p in plots.values()]"
   ]
  },
  {
   "cell_type": "markdown",
   "id": "780778ca",
   "metadata": {},
   "source": [
    "Here is an example with a random initialization."
   ]
  },
  {
   "cell_type": "code",
   "execution_count": 10,
   "id": "dd54aef1",
   "metadata": {},
   "outputs": [],
   "source": [
    "sc.tl.umap(adata, init_pos=\"random\")\n",
    "embedding_random = adata.obsm[\"X_umap\"].copy()\n",
    "\n",
    "H, Hvv, Hs = local_distortions(embedding_random, data, geom)\n",
    "embedding_random = bind_metric(embedding_random, Hvv, Hs)\n",
    "embedding_random[\"cluster\"] = [\"A\", \"B\"] * M"
   ]
  },
  {
   "cell_type": "code",
   "execution_count": 11,
   "id": "e96bd424",
   "metadata": {},
   "outputs": [
    {
     "data": {
      "application/vnd.jupyter.widget-view+json": {
       "model_id": "f1e67257b1724a2686a56ec420b1ea7e",
       "version_major": 2,
       "version_minor": 1
      },
      "text/plain": [
       "dplot(dataset=[{'embedding_0': 11.932002067565918, 'embedding_1': 3.433741331100464, 'x0': -0.8767524756933656…"
      ]
     },
     "execution_count": 11,
     "metadata": {},
     "output_type": "execute_result"
    }
   ],
   "source": [
    "N = neighborhoods(adata, threshold=0.1, outlier_factor=2)\n",
    "dplot(embedding_random, width=450, height=350, labelFontSize=14)\\\n",
    "    .mapping(x=\"embedding_0\", y=\"embedding_1\", color=\"cluster\")\\\n",
    "    .inter_edge_link(N=N, threshold=1, backgroundOpacity=0.8)\\\n",
    "    .scale_color(scheme=[\"turquoise\", \"orange\"])\\\n",
    "    .geom_ellipse(radiusMax=6, radiusMin=1)"
   ]
  },
  {
   "cell_type": "code",
   "execution_count": null,
   "id": "622ca2c9",
   "metadata": {},
   "outputs": [],
   "source": []
  }
 ],
 "metadata": {
  "kernelspec": {
   "display_name": "dist2",
   "language": "python",
   "name": "python3"
  },
  "language_info": {
   "codemirror_mode": {
    "name": "ipython",
    "version": 3
   },
   "file_extension": ".py",
   "mimetype": "text/x-python",
   "name": "python",
   "nbconvert_exporter": "python",
   "pygments_lexer": "ipython3",
   "version": "3.12.2"
  }
 },
 "nbformat": 4,
 "nbformat_minor": 5
}
