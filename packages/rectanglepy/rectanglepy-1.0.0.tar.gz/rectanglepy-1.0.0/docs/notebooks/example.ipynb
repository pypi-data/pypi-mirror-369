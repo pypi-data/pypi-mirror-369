{
 "cells": [
  {
   "cell_type": "markdown",
   "metadata": {},
   "source": "# Quick start"
  },
  {
   "cell_type": "markdown",
   "source": [],
   "metadata": {
    "collapsed": false
   }
  },
  {
   "cell_type": "code",
   "metadata": {
    "ExecuteTime": {
     "end_time": "2025-08-09T11:51:57.078112Z",
     "start_time": "2025-08-09T11:51:56.408950Z"
    }
   },
   "source": [
    "import rectanglepy as rectangle\n",
    "import pandas as pd\n",
    "from anndata import AnnData, read_h5ad\n",
    "import matplotlib.pyplot as plt"
   ],
   "outputs": [],
   "execution_count": 3
  },
  {
   "cell_type": "markdown",
   "source": "## Creating the input data",
   "metadata": {
    "collapsed": false
   }
  },
  {
   "metadata": {},
   "cell_type": "markdown",
   "source": "The tutorial data set contains single-cell RNA-seq counts as a pandas DataFrame, with the cell type annotations as a pandas Series."
  },
  {
   "metadata": {},
   "cell_type": "markdown",
   "source": "The scRNA-seq data must come in the form of unnormalized gene counts, together with the associated cell-type annotations for the cell types of interest. The bulk RNA-seq data should be normalized as transcripts per million (TPM) –or counts per millions (CPM) in case of tag-based spatial transcriptomics. The gene nomenclature used for the single-cell and bulk datasets must match (e.g., gene synonyms) to provide meaningful results."
  },
  {
   "metadata": {},
   "cell_type": "markdown",
   "source": "To see an example dataset, we can load the (small) tutorial data provided by Rectangle:"
  },
  {
   "metadata": {
    "ExecuteTime": {
     "end_time": "2025-08-09T11:52:00.209348Z",
     "start_time": "2025-08-09T11:51:59.512742Z"
    }
   },
   "cell_type": "code",
   "source": "sc_counts, annotations, bulks  = rectangle.load_tutorial_data()",
   "outputs": [],
   "execution_count": 4
  },
  {
   "metadata": {},
   "cell_type": "markdown",
   "source": "The tutorial data set contains (scRNA-seq data counts as a pandas DataFrame (cell by genes), with the cell-type annotations as a pandas Series (cell-type label for every cell ID)."
  },
  {
   "cell_type": "code",
   "source": "sc_counts[['FCGR3A', 'RPL5', 'SF3B4','S100A10', 'ZBTB7B']].head()",
   "metadata": {
    "collapsed": false,
    "ExecuteTime": {
     "end_time": "2025-08-09T11:55:32.251226Z",
     "start_time": "2025-08-09T11:55:32.241720Z"
    }
   },
   "outputs": [
    {
     "data": {
      "text/plain": [
       "                       FCGR3A  RPL5  SF3B4  S100A10  ZBTB7B\n",
       "E2L4_GATGCTACAGGCACAA      37    23      0       10       0\n",
       "L5_AACAACCAGGAACTAT         0    15      0       12       2\n",
       "L5_TCCTTCTGTACTCCGG         0     5      0        1       0\n",
       "L2_GCCCGAACACGTATAC         0    15      1       12       1\n",
       "E2L2_ATGCATGTCACACCCT       0    24      1       18       3"
      ],
      "text/html": [
       "<div>\n",
       "<style scoped>\n",
       "    .dataframe tbody tr th:only-of-type {\n",
       "        vertical-align: middle;\n",
       "    }\n",
       "\n",
       "    .dataframe tbody tr th {\n",
       "        vertical-align: top;\n",
       "    }\n",
       "\n",
       "    .dataframe thead th {\n",
       "        text-align: right;\n",
       "    }\n",
       "</style>\n",
       "<table border=\"1\" class=\"dataframe\">\n",
       "  <thead>\n",
       "    <tr style=\"text-align: right;\">\n",
       "      <th></th>\n",
       "      <th>FCGR3A</th>\n",
       "      <th>RPL5</th>\n",
       "      <th>SF3B4</th>\n",
       "      <th>S100A10</th>\n",
       "      <th>ZBTB7B</th>\n",
       "    </tr>\n",
       "  </thead>\n",
       "  <tbody>\n",
       "    <tr>\n",
       "      <th>E2L4_GATGCTACAGGCACAA</th>\n",
       "      <td>37</td>\n",
       "      <td>23</td>\n",
       "      <td>0</td>\n",
       "      <td>10</td>\n",
       "      <td>0</td>\n",
       "    </tr>\n",
       "    <tr>\n",
       "      <th>L5_AACAACCAGGAACTAT</th>\n",
       "      <td>0</td>\n",
       "      <td>15</td>\n",
       "      <td>0</td>\n",
       "      <td>12</td>\n",
       "      <td>2</td>\n",
       "    </tr>\n",
       "    <tr>\n",
       "      <th>L5_TCCTTCTGTACTCCGG</th>\n",
       "      <td>0</td>\n",
       "      <td>5</td>\n",
       "      <td>0</td>\n",
       "      <td>1</td>\n",
       "      <td>0</td>\n",
       "    </tr>\n",
       "    <tr>\n",
       "      <th>L2_GCCCGAACACGTATAC</th>\n",
       "      <td>0</td>\n",
       "      <td>15</td>\n",
       "      <td>1</td>\n",
       "      <td>12</td>\n",
       "      <td>1</td>\n",
       "    </tr>\n",
       "    <tr>\n",
       "      <th>E2L2_ATGCATGTCACACCCT</th>\n",
       "      <td>0</td>\n",
       "      <td>24</td>\n",
       "      <td>1</td>\n",
       "      <td>18</td>\n",
       "      <td>3</td>\n",
       "    </tr>\n",
       "  </tbody>\n",
       "</table>\n",
       "</div>"
      ]
     },
     "execution_count": 12,
     "metadata": {},
     "output_type": "execute_result"
    }
   ],
   "execution_count": 12
  },
  {
   "cell_type": "code",
   "source": [
    "annotations.head()"
   ],
   "metadata": {
    "collapsed": false,
    "ExecuteTime": {
     "end_time": "2025-06-01T19:21:24.786234Z",
     "start_time": "2025-06-01T19:21:24.782923Z"
    }
   },
   "outputs": [
    {
     "data": {
      "text/plain": [
       "E2L4_GATGCTACAGGCACAA    Monocytes\n",
       "L5_AACAACCAGGAACTAT      Monocytes\n",
       "L5_TCCTTCTGTACTCCGG      Monocytes\n",
       "L2_GCCCGAACACGTATAC      Monocytes\n",
       "E2L2_ATGCATGTCACACCCT    Monocytes\n",
       "Name: 0, dtype: object"
      ]
     },
     "execution_count": 12,
     "metadata": {},
     "output_type": "execute_result"
    }
   ],
   "execution_count": 12
  },
  {
   "metadata": {},
   "cell_type": "markdown",
   "source": [
    "And the bulk RNA-seq data as a pandas DataFrame,\n",
    "where the index is the sample ID and the columns are the genes."
   ]
  },
  {
   "cell_type": "code",
   "source": "bulks[['FCGR3A', 'RPL5', 'SF3B4','S100A10', 'ZBTB7B']].head()",
   "metadata": {
    "collapsed": false,
    "ExecuteTime": {
     "end_time": "2025-08-09T12:17:10.750718Z",
     "start_time": "2025-08-09T12:17:10.742580Z"
    }
   },
   "outputs": [
    {
     "data": {
      "text/plain": [
       "             FCGR3A         RPL5      SF3B4  S100A10     ZBTB7B\n",
       "pbmc_1   145.144880  2505.165434  78.708398  415.135  49.318210\n",
       "pbmc_10  137.999249  2296.208027  79.041928  475.642  53.047700\n",
       "pbmc_12  456.966440  2544.939500  74.853167  443.532  45.043961"
      ],
      "text/html": [
       "<div>\n",
       "<style scoped>\n",
       "    .dataframe tbody tr th:only-of-type {\n",
       "        vertical-align: middle;\n",
       "    }\n",
       "\n",
       "    .dataframe tbody tr th {\n",
       "        vertical-align: top;\n",
       "    }\n",
       "\n",
       "    .dataframe thead th {\n",
       "        text-align: right;\n",
       "    }\n",
       "</style>\n",
       "<table border=\"1\" class=\"dataframe\">\n",
       "  <thead>\n",
       "    <tr style=\"text-align: right;\">\n",
       "      <th></th>\n",
       "      <th>FCGR3A</th>\n",
       "      <th>RPL5</th>\n",
       "      <th>SF3B4</th>\n",
       "      <th>S100A10</th>\n",
       "      <th>ZBTB7B</th>\n",
       "    </tr>\n",
       "  </thead>\n",
       "  <tbody>\n",
       "    <tr>\n",
       "      <th>pbmc_1</th>\n",
       "      <td>145.144880</td>\n",
       "      <td>2505.165434</td>\n",
       "      <td>78.708398</td>\n",
       "      <td>415.135</td>\n",
       "      <td>49.318210</td>\n",
       "    </tr>\n",
       "    <tr>\n",
       "      <th>pbmc_10</th>\n",
       "      <td>137.999249</td>\n",
       "      <td>2296.208027</td>\n",
       "      <td>79.041928</td>\n",
       "      <td>475.642</td>\n",
       "      <td>53.047700</td>\n",
       "    </tr>\n",
       "    <tr>\n",
       "      <th>pbmc_12</th>\n",
       "      <td>456.966440</td>\n",
       "      <td>2544.939500</td>\n",
       "      <td>74.853167</td>\n",
       "      <td>443.532</td>\n",
       "      <td>45.043961</td>\n",
       "    </tr>\n",
       "  </tbody>\n",
       "</table>\n",
       "</div>"
      ]
     },
     "execution_count": 18,
     "metadata": {},
     "output_type": "execute_result"
    }
   ],
   "execution_count": 18
  },
  {
   "cell_type": "markdown",
   "metadata": {},
   "source": "The count dataframe with its annotations can be easily convert into an AnnData object.\n"
  },
  {
   "cell_type": "code",
   "source": [
    "sc_adata = AnnData(sc_counts, obs=annotations.to_frame(name=\"cell_type\"))"
   ],
   "metadata": {
    "collapsed": false,
    "ExecuteTime": {
     "end_time": "2025-06-01T19:31:39.172686Z",
     "start_time": "2025-06-01T19:31:39.143823Z"
    }
   },
   "outputs": [],
   "execution_count": 4
  },
  {
   "cell_type": "markdown",
   "source": "## Single-step deconvolution",
   "metadata": {
    "collapsed": false
   }
  },
  {
   "metadata": {},
   "cell_type": "markdown",
   "source": "To deconvolute the bulk data in a single step, use the “rectangle()” function. This method returns the results of the signature-building step (signature_result) and a tuple with the estimated cell type proportions for every sample of the deconvolved bulk dataset (estimations)"
  },
  {
   "cell_type": "code",
   "source": "estimations, signature_result = rectangle.rectangle(sc_adata, bulks)",
   "metadata": {
    "collapsed": false
   },
   "outputs": [],
   "execution_count": null
  },
  {
   "metadata": {},
   "cell_type": "markdown",
   "source": [
    "The rectangle method returns two objects:\n",
    "1. `estimations`: a pandas DataFrame with the estimated cell type proportions for each bulk sample.\n",
    "2. `signature_result`: a [`RectangleSignatureResult`](../generated/rectanglepy.pp.RectangleSignatureResult.rst) object containing  additional information about the signature and the unknown content.\n"
   ]
  },
  {
   "cell_type": "code",
   "source": "estimations",
   "metadata": {
    "collapsed": false,
    "ExecuteTime": {
     "end_time": "2025-06-01T19:32:21.785924Z",
     "start_time": "2025-06-01T19:32:21.777949Z"
    }
   },
   "outputs": [
    {
     "data": {
      "text/plain": [
       "          B cells       ILC  Monocytes  NK cells  Plasma cells  Platelet   \n",
       "pbmc_1   0.090739  0.011386   0.229843  0.022667      0.005956  0.004898  \\\n",
       "pbmc_10  0.110518  0.016910   0.297931  0.016344      0.000659  0.021996   \n",
       "pbmc_12  0.071532  0.007335   0.225517  0.101075      0.003095  0.018637   \n",
       "\n",
       "         T cells CD4 conv  T cells CD8     Tregs       mDC       pDC   Unknown  \n",
       "pbmc_1       2.833039e-02     0.162392  0.416964  0.024425  0.002401  0.000000  \n",
       "pbmc_10      8.220139e-18     0.118382  0.391830  0.020750  0.004678  0.000000  \n",
       "pbmc_12      0.000000e+00     0.275009  0.256503  0.010054  0.002985  0.028258  "
      ],
      "text/html": [
       "<div>\n",
       "<style scoped>\n",
       "    .dataframe tbody tr th:only-of-type {\n",
       "        vertical-align: middle;\n",
       "    }\n",
       "\n",
       "    .dataframe tbody tr th {\n",
       "        vertical-align: top;\n",
       "    }\n",
       "\n",
       "    .dataframe thead th {\n",
       "        text-align: right;\n",
       "    }\n",
       "</style>\n",
       "<table border=\"1\" class=\"dataframe\">\n",
       "  <thead>\n",
       "    <tr style=\"text-align: right;\">\n",
       "      <th></th>\n",
       "      <th>B cells</th>\n",
       "      <th>ILC</th>\n",
       "      <th>Monocytes</th>\n",
       "      <th>NK cells</th>\n",
       "      <th>Plasma cells</th>\n",
       "      <th>Platelet</th>\n",
       "      <th>T cells CD4 conv</th>\n",
       "      <th>T cells CD8</th>\n",
       "      <th>Tregs</th>\n",
       "      <th>mDC</th>\n",
       "      <th>pDC</th>\n",
       "      <th>Unknown</th>\n",
       "    </tr>\n",
       "  </thead>\n",
       "  <tbody>\n",
       "    <tr>\n",
       "      <th>pbmc_1</th>\n",
       "      <td>0.090739</td>\n",
       "      <td>0.011386</td>\n",
       "      <td>0.229843</td>\n",
       "      <td>0.022667</td>\n",
       "      <td>0.005956</td>\n",
       "      <td>0.004898</td>\n",
       "      <td>2.833039e-02</td>\n",
       "      <td>0.162392</td>\n",
       "      <td>0.416964</td>\n",
       "      <td>0.024425</td>\n",
       "      <td>0.002401</td>\n",
       "      <td>0.000000</td>\n",
       "    </tr>\n",
       "    <tr>\n",
       "      <th>pbmc_10</th>\n",
       "      <td>0.110518</td>\n",
       "      <td>0.016910</td>\n",
       "      <td>0.297931</td>\n",
       "      <td>0.016344</td>\n",
       "      <td>0.000659</td>\n",
       "      <td>0.021996</td>\n",
       "      <td>8.220139e-18</td>\n",
       "      <td>0.118382</td>\n",
       "      <td>0.391830</td>\n",
       "      <td>0.020750</td>\n",
       "      <td>0.004678</td>\n",
       "      <td>0.000000</td>\n",
       "    </tr>\n",
       "    <tr>\n",
       "      <th>pbmc_12</th>\n",
       "      <td>0.071532</td>\n",
       "      <td>0.007335</td>\n",
       "      <td>0.225517</td>\n",
       "      <td>0.101075</td>\n",
       "      <td>0.003095</td>\n",
       "      <td>0.018637</td>\n",
       "      <td>0.000000e+00</td>\n",
       "      <td>0.275009</td>\n",
       "      <td>0.256503</td>\n",
       "      <td>0.010054</td>\n",
       "      <td>0.002985</td>\n",
       "      <td>0.028258</td>\n",
       "    </tr>\n",
       "  </tbody>\n",
       "</table>\n",
       "</div>"
      ]
     },
     "execution_count": 6,
     "metadata": {},
     "output_type": "execute_result"
    }
   ],
   "execution_count": 6
  },
  {
   "metadata": {
    "ExecuteTime": {
     "end_time": "2025-06-01T19:33:38.353766Z",
     "start_time": "2025-06-01T19:33:38.350959Z"
    }
   },
   "cell_type": "code",
   "source": "signature_result",
   "outputs": [
    {
     "data": {
      "text/plain": [
       "<rectanglepy.pp.rectangle_signature.RectangleSignatureResult at 0x166e33280>"
      ]
     },
     "execution_count": 7,
     "metadata": {},
     "output_type": "execute_result"
    }
   ],
   "execution_count": 7
  },
  {
   "cell_type": "markdown",
   "source": "## 2-step deconvolution",
   "metadata": {
    "collapsed": false
   }
  },
  {
   "cell_type": "markdown",
   "source": "Rectangle can also be run in two steps, first creating the signature and then deconvolving the bulk data.",
   "metadata": {
    "collapsed": false
   }
  },
  {
   "cell_type": "markdown",
   "source": "**1. Create Signature result**",
   "metadata": {
    "collapsed": false
   }
  },
  {
   "cell_type": "code",
   "source": [
    "signature_result = rectangle.pp.build_rectangle_signatures(sc_adata, bulks=bulks)"
   ],
   "metadata": {
    "collapsed": false
   },
   "outputs": [],
   "execution_count": null
  },
  {
   "cell_type": "markdown",
   "source": [
    "This creates a [`RectangleSignatureResult`](../generated/rectanglepy.pp.RectangleSignatureResult.rst) object."
   ],
   "metadata": {
    "collapsed": false
   }
  },
  {
   "cell_type": "markdown",
   "source": "**2. Deconvolve bulk data**",
   "metadata": {
    "collapsed": false
   }
  },
  {
   "metadata": {},
   "cell_type": "markdown",
   "source": "We can then use the signature result to deconvolve the bulk data. This is done using the `deconvolution` method of the `RectangleSignatureResult` object, which should be fed with the signature_result object obtained at the previous step and the bulk dataset to be deconvolved"
  },
  {
   "cell_type": "code",
   "source": "estimations, _ = rectangle.tl.deconvolution(signature_result, bulks)",
   "metadata": {
    "collapsed": false
   },
   "outputs": [],
   "execution_count": null
  },
  {
   "cell_type": "markdown",
   "source": "This call returns a pandas DataFrame with the estimated cell type proportions.",
   "metadata": {
    "collapsed": false
   }
  },
  {
   "cell_type": "code",
   "source": "estimations",
   "metadata": {
    "collapsed": false,
    "ExecuteTime": {
     "end_time": "2025-06-01T19:36:26.049491Z",
     "start_time": "2025-06-01T19:36:26.040208Z"
    }
   },
   "outputs": [
    {
     "data": {
      "text/plain": [
       "          B cells       ILC  Monocytes  NK cells  Plasma cells  Platelet   \n",
       "pbmc_1   0.090739  0.011386   0.229843  0.022667      0.005956  0.004898  \\\n",
       "pbmc_10  0.110518  0.016910   0.297931  0.016344      0.000659  0.021996   \n",
       "pbmc_12  0.071532  0.007335   0.225517  0.101075      0.003095  0.018637   \n",
       "\n",
       "         T cells CD4 conv  T cells CD8     Tregs       mDC       pDC   Unknown  \n",
       "pbmc_1       2.833039e-02     0.162392  0.416964  0.024425  0.002401  0.000000  \n",
       "pbmc_10      8.220139e-18     0.118382  0.391830  0.020750  0.004678  0.000000  \n",
       "pbmc_12      0.000000e+00     0.275009  0.256503  0.010054  0.002985  0.028258  "
      ],
      "text/html": [
       "<div>\n",
       "<style scoped>\n",
       "    .dataframe tbody tr th:only-of-type {\n",
       "        vertical-align: middle;\n",
       "    }\n",
       "\n",
       "    .dataframe tbody tr th {\n",
       "        vertical-align: top;\n",
       "    }\n",
       "\n",
       "    .dataframe thead th {\n",
       "        text-align: right;\n",
       "    }\n",
       "</style>\n",
       "<table border=\"1\" class=\"dataframe\">\n",
       "  <thead>\n",
       "    <tr style=\"text-align: right;\">\n",
       "      <th></th>\n",
       "      <th>B cells</th>\n",
       "      <th>ILC</th>\n",
       "      <th>Monocytes</th>\n",
       "      <th>NK cells</th>\n",
       "      <th>Plasma cells</th>\n",
       "      <th>Platelet</th>\n",
       "      <th>T cells CD4 conv</th>\n",
       "      <th>T cells CD8</th>\n",
       "      <th>Tregs</th>\n",
       "      <th>mDC</th>\n",
       "      <th>pDC</th>\n",
       "      <th>Unknown</th>\n",
       "    </tr>\n",
       "  </thead>\n",
       "  <tbody>\n",
       "    <tr>\n",
       "      <th>pbmc_1</th>\n",
       "      <td>0.090739</td>\n",
       "      <td>0.011386</td>\n",
       "      <td>0.229843</td>\n",
       "      <td>0.022667</td>\n",
       "      <td>0.005956</td>\n",
       "      <td>0.004898</td>\n",
       "      <td>2.833039e-02</td>\n",
       "      <td>0.162392</td>\n",
       "      <td>0.416964</td>\n",
       "      <td>0.024425</td>\n",
       "      <td>0.002401</td>\n",
       "      <td>0.000000</td>\n",
       "    </tr>\n",
       "    <tr>\n",
       "      <th>pbmc_10</th>\n",
       "      <td>0.110518</td>\n",
       "      <td>0.016910</td>\n",
       "      <td>0.297931</td>\n",
       "      <td>0.016344</td>\n",
       "      <td>0.000659</td>\n",
       "      <td>0.021996</td>\n",
       "      <td>8.220139e-18</td>\n",
       "      <td>0.118382</td>\n",
       "      <td>0.391830</td>\n",
       "      <td>0.020750</td>\n",
       "      <td>0.004678</td>\n",
       "      <td>0.000000</td>\n",
       "    </tr>\n",
       "    <tr>\n",
       "      <th>pbmc_12</th>\n",
       "      <td>0.071532</td>\n",
       "      <td>0.007335</td>\n",
       "      <td>0.225517</td>\n",
       "      <td>0.101075</td>\n",
       "      <td>0.003095</td>\n",
       "      <td>0.018637</td>\n",
       "      <td>0.000000e+00</td>\n",
       "      <td>0.275009</td>\n",
       "      <td>0.256503</td>\n",
       "      <td>0.010054</td>\n",
       "      <td>0.002985</td>\n",
       "      <td>0.028258</td>\n",
       "    </tr>\n",
       "  </tbody>\n",
       "</table>\n",
       "</div>"
      ]
     },
     "execution_count": 12,
     "metadata": {},
     "output_type": "execute_result"
    }
   ],
   "execution_count": 12
  },
  {
   "metadata": {},
   "cell_type": "markdown",
   "source": "# Bulk RNA-seq deconvolution"
  },
  {
   "metadata": {},
   "cell_type": "markdown",
   "source": [
    "To apply Rectangle to a more meaningful use case, we will perform the deconvolution of 9 bulk RNA-seq samples from blood-cell mixtures generated in the {cite}`Finotello2019` study.\n",
    "We can access this dataset from [deconvData](https://figshare.com/articles/dataset/Validation_real/25347757?file=44877523){cite}`Dietrich2024`\n"
   ]
  },
  {
   "metadata": {
    "ExecuteTime": {
     "end_time": "2025-08-09T12:18:22.402668Z",
     "start_time": "2025-08-09T12:18:21.529051Z"
    }
   },
   "cell_type": "code",
   "source": [
    "url = \"https://figshare.com/ndownloader/files/44877523\"\n",
    "bulks_fino = pd.read_csv(url, index_col=0)\n",
    "bulks_fino.T[['LYZ', 'CD14', 'FCGR3A', 'CD8A', 'CD3D']].head()"
   ],
   "outputs": [
    {
     "data": {
      "text/plain": [
       "             LYZ      CD14      FCGR3A        CD8A       CD3D\n",
       "pbmc_1   7912.41  645.8500  145.144880  123.580148  357.85446\n",
       "pbmc_10  9331.48  800.9088  137.999249   99.817693  258.58275\n",
       "pbmc_12  9506.39  512.9779  456.966440  179.161160  328.40886\n",
       "pbmc_2   6048.82  505.6502  158.455478   87.202916  320.96350\n",
       "pbmc_4   3547.27  288.5666  314.124590  175.999580  267.81102"
      ],
      "text/html": [
       "<div>\n",
       "<style scoped>\n",
       "    .dataframe tbody tr th:only-of-type {\n",
       "        vertical-align: middle;\n",
       "    }\n",
       "\n",
       "    .dataframe tbody tr th {\n",
       "        vertical-align: top;\n",
       "    }\n",
       "\n",
       "    .dataframe thead th {\n",
       "        text-align: right;\n",
       "    }\n",
       "</style>\n",
       "<table border=\"1\" class=\"dataframe\">\n",
       "  <thead>\n",
       "    <tr style=\"text-align: right;\">\n",
       "      <th></th>\n",
       "      <th>LYZ</th>\n",
       "      <th>CD14</th>\n",
       "      <th>FCGR3A</th>\n",
       "      <th>CD8A</th>\n",
       "      <th>CD3D</th>\n",
       "    </tr>\n",
       "  </thead>\n",
       "  <tbody>\n",
       "    <tr>\n",
       "      <th>pbmc_1</th>\n",
       "      <td>7912.41</td>\n",
       "      <td>645.8500</td>\n",
       "      <td>145.144880</td>\n",
       "      <td>123.580148</td>\n",
       "      <td>357.85446</td>\n",
       "    </tr>\n",
       "    <tr>\n",
       "      <th>pbmc_10</th>\n",
       "      <td>9331.48</td>\n",
       "      <td>800.9088</td>\n",
       "      <td>137.999249</td>\n",
       "      <td>99.817693</td>\n",
       "      <td>258.58275</td>\n",
       "    </tr>\n",
       "    <tr>\n",
       "      <th>pbmc_12</th>\n",
       "      <td>9506.39</td>\n",
       "      <td>512.9779</td>\n",
       "      <td>456.966440</td>\n",
       "      <td>179.161160</td>\n",
       "      <td>328.40886</td>\n",
       "    </tr>\n",
       "    <tr>\n",
       "      <th>pbmc_2</th>\n",
       "      <td>6048.82</td>\n",
       "      <td>505.6502</td>\n",
       "      <td>158.455478</td>\n",
       "      <td>87.202916</td>\n",
       "      <td>320.96350</td>\n",
       "    </tr>\n",
       "    <tr>\n",
       "      <th>pbmc_4</th>\n",
       "      <td>3547.27</td>\n",
       "      <td>288.5666</td>\n",
       "      <td>314.124590</td>\n",
       "      <td>175.999580</td>\n",
       "      <td>267.81102</td>\n",
       "    </tr>\n",
       "  </tbody>\n",
       "</table>\n",
       "</div>"
      ]
     },
     "execution_count": 19,
     "metadata": {},
     "output_type": "execute_result"
    }
   ],
   "execution_count": 19
  },
  {
   "metadata": {},
   "cell_type": "markdown",
   "source": "To train rectangle and build the signature matrix, we will use single-cell dataset human peripheral blood mononuclear cells (PBMC) profiled with the CITE-seq technology in the Hao et al. study {cite}`Hao2021`. We will use a reduced and reannotated version of this dataset which is accessible through [deconvData](https://figshare.com/articles/dataset/Training_sc/25348051?file=56063936)\n"
  },
  {
   "metadata": {
    "ExecuteTime": {
     "end_time": "2025-07-27T18:50:11.766153Z",
     "start_time": "2025-07-27T18:50:10.958546Z"
    }
   },
   "cell_type": "code",
   "source": [
    "# the files are originaly in an rds format,\n",
    "# we skip the conversion step here and load an AnnData object directly\n",
    "haoSub_adata = read_h5ad(\"../data/haoSub_adata.h5ad\")\n",
    "haoSub_adata"
   ],
   "outputs": [
    {
     "data": {
      "text/plain": [
       "AnnData object with n_obs × n_vars = 14744 × 24049\n",
       "    obs: 'cell_type'"
      ]
     },
     "execution_count": 11,
     "metadata": {},
     "output_type": "execute_result"
    }
   ],
   "execution_count": 11
  },
  {
   "metadata": {},
   "cell_type": "markdown",
   "source": "We can now use the `rectangle` method to deconvolute the bulk data guided by the single-cell expression profiles and annotations using just a single command."
  },
  {
   "metadata": {},
   "cell_type": "code",
   "source": "estimations, signature_result = rectangle.rectangle(haoSub_adata, bulks_fino.T)",
   "execution_count": null,
   "outputs": []
  },
  {
   "metadata": {},
   "cell_type": "markdown",
   "source": "The estimated cell-type fractions can be visualized in Python as a stacked barplot using matplotlib:"
  },
  {
   "metadata": {
    "ExecuteTime": {
     "end_time": "2025-08-09T12:31:22.981708Z",
     "start_time": "2025-08-09T12:31:22.757614Z"
    }
   },
   "cell_type": "code",
   "source": [
    "import matplotlib.pyplot as plt\n",
    "\n",
    "fig, ax = plt.subplots()\n",
    "colors = plt.get_cmap('tab20').colors  # More distinct colors\n",
    "estimations.plot(kind='bar', stacked=True, ax=ax, color=colors)\n",
    "ax.set_title('Rectangle deconvolution Results (Finotello dataset)', fontsize=16)\n",
    "ax.set_ylabel('Cell fractions (%)', fontsize=14)\n",
    "ax.set_xlabel('Bulk sample', fontsize=14)\n",
    "ax.legend(title='Cell type', bbox_to_anchor=(1.05, 1), loc='upper left', fontsize=12)\n",
    "plt.tight_layout()\n",
    "plt.show()"
   ],
   "outputs": [
    {
     "data": {
      "text/plain": [
       "<Figure size 640x480 with 1 Axes>"
      ],
      "image/png": "[encoded data removed]"
     },
     "metadata": {},
     "output_type": "display_data"
    }
   ],
   "execution_count": 24
  },
  {
   "metadata": {},
   "cell_type": "markdown",
   "source": [
    "The Finotello dataset also provides ground-truth cell fractions obtained via fluorescence-activated cell sorting (FACS) from all the analyzed bulk samples, which can be used to validate Rectangle estimates.\n",
    "\n",
    "So let us further explore the  estimation performance by plotting the estimated cell type proportions against the true cell type proportions we can again obtain from [deconvData](https://figshare.com/articles/dataset/Validation_real/25347757?file=44877526).\n"
   ]
  },
  {
   "metadata": {
    "ExecuteTime": {
     "end_time": "2025-08-09T12:33:58.954246Z",
     "start_time": "2025-08-09T12:33:58.528276Z"
    }
   },
   "cell_type": "code",
   "source": [
    "url = \"https://figshare.com/ndownloader/files/44877526\"\n",
    "finotello_true = pd.read_csv(url, index_col=0).T\n",
    "# rename the columns to match the cell types in the estimations\n",
    "finotello_true.columns = [\"NK cells\", 'B cells', 'Tregs', 'mDC', 'Monocytes', 'Neutrophils', 'T cells CD8',\n",
    "                         'T cells CD4 conv', 'Other']"
   ],
   "outputs": [],
   "execution_count": 28
  },
  {
   "metadata": {},
   "cell_type": "markdown",
   "source": "First, we need to do some data wrangling to make the data compatible.\n"
  },
  {
   "metadata": {
    "ExecuteTime": {
     "end_time": "2025-08-09T12:34:45.768167Z",
     "start_time": "2025-08-09T12:34:45.756970Z"
    }
   },
   "cell_type": "code",
   "source": [
    "# funtion to match the dataframes by index and columns\n",
    "# and sort them by index and columns\n",
    "def match_dfs(df1, df2):\n",
    "    common_rows = df1.index.intersection(df2.index)\n",
    "    common_cols = df1.columns.intersection(df2.columns)\n",
    "    df1_matched = df1.loc[common_rows, common_cols].sort_index().sort_index(axis=1)\n",
    "    df2_matched = df2.loc[common_rows, common_cols].sort_index().sort_index(axis=1)\n",
    "    return df1_matched, df2_matched\n",
    "\n",
    "# function to create a dataframe for evaluation\n",
    "# it takes the expected and estimated dataframes and returns a melted dataframe\n",
    "def create_evaluation_df(expected_df, estimated_df):\n",
    "    evaluation_df = expected_df.T.melt()\n",
    "    estimated_df_e = estimated_df.T.melt()\n",
    "    evaluation_df['result'] = estimated_df_e['value']\n",
    "    evaluation_df.columns = ['Cell type','True Fractions' , 'Estimated Fractions']\n",
    "    return evaluation_df\n",
    "\n",
    "true_m, finotello_m = match_dfs(finotello_true.T, estimations.T)\n",
    "true_m = true_m.sort_index(key=lambda x: x.str.lower())\n",
    "finotello_m = finotello_m.sort_index(key=lambda x: x.str.lower())\n",
    "\n",
    "evaluation_df = create_evaluation_df(true_m, finotello_m)\n"
   ],
   "outputs": [],
   "execution_count": 29
  },
  {
   "metadata": {},
   "cell_type": "markdown",
   "source": "Next, we quantitatively compare Rectangle estimates to the ground-truth cell fractions using Pearson correlation (r) and root-mean square error (RMSE), as well as cell-fraction scatter plots:"
  },
  {
   "metadata": {
    "ExecuteTime": {
     "end_time": "2025-08-09T12:33:19.455511Z",
     "start_time": "2025-08-09T12:33:19.280902Z"
    }
   },
   "cell_type": "code",
   "source": [
    "import numpy as np\n",
    "from scipy.stats import pearsonr\n",
    "import seaborn as sns\n",
    "\n",
    "def evaulate_total_df(df):\n",
    "    rsme_total = np.sqrt(np.mean((df['Estimated Fractions'] - df['True Fractions']) ** 2))\n",
    "    r_value_total, p_value_total =  pearsonr(df['Estimated Fractions'], df['True Fractions'])\n",
    "    return rsme_total, r_value_total, p_value_total\n",
    "\n",
    "rsme_finotello_rectangle, r_finotello_rectangle, p_finotello_rectangle = evaulate_total_df(evaluation_df)\n",
    "\n",
    "def create_scatter_plot_total(df, rsme, p_value, r_value, title=\"Total\", y_axis_label=\"Estimated Fractions\", x_axis_label=\"True Fractions\", hue=\"Cell type\"):\n",
    "    sns.set_style(\"white\")\n",
    "    g = sns.scatterplot(x=\"True Fractions\", y=\"Estimated Fractions\",hue=hue, data=df)\n",
    "    sns.regplot(x=\"True Fractions\", y=\"Estimated Fractions\", data=df, scatter=False, color='#444444', ci=None)\n",
    "    text = f\"r = {round(r_value, 3)}, p = {round(p_value, 10)} \\nRMSE = {round(rsme, 3)}\\nn = {len(df)}\"\n",
    "    g.set(xlabel=x_axis_label, ylabel=y_axis_label)\n",
    "    g.legend(loc='center left', bbox_to_anchor=(1, 0.5))\n",
    "    g.annotate(text, xy=(0.01, 0.95), xycoords=\"axes fraction\",\n",
    "                xytext=(5, -5), textcoords=\"offset points\",\n",
    "                ha=\"left\", va=\"top\")\n",
    "    g.set_xlim(0, g.get_xlim()[1])\n",
    "    g.set_ylim(0, g.get_ylim()[1])\n",
    "    return g\n",
    "\n",
    "rsme_finotello_rectangle, r_finotello_rectangle, p_finotello_rectangle = evaulate_total_df(evaluation_df)\n",
    "create_scatter_plot_total(evaluation_df, rsme_finotello_rectangle, p_finotello_rectangle, r_finotello_rectangle)"
   ],
   "outputs": [
    {
     "data": {
      "text/plain": [
       "<Axes: xlabel='True Fractions', ylabel='Estimated Fractions'>"
      ]
     },
     "execution_count": 27,
     "metadata": {},
     "output_type": "execute_result"
    },
    {
     "data": {
      "text/plain": [
       "<Figure size 640x480 with 1 Axes>"
      ],
      "image/png": "[encoded data removed]"
     },
     "metadata": {},
     "output_type": "display_data"
    }
   ],
   "execution_count": 27
  },
  {
   "metadata": {},
   "cell_type": "markdown",
   "source": "# Spatial deconvolution"
  },
  {
   "metadata": {},
   "cell_type": "markdown",
   "source": [
    "Rectangle can be also effectively applied to spot-based spatial transcriptomics data, seamlessly integrating with the `spatialdata` package.\n",
    "See the [spatialdata documentation](https://spatialdata.scverse.org/en/stable/index.html) for more details.\n",
    "\n",
    "\n",
    "To showcase an example of spatial deconvolution with Rectangle, we will consider the spatial transcriptomics dataset generated from the human dorsolateral prefrontal cortex generated with the 10x Genomics Visium platform{cite}`Maynard2021`.\n",
    " In particular, we will focus on the '151673' slide, which can be downloaded from here:\n",
    "[https://spatial-dlpfc.s3.us-east-2.amazonaws.com/h5/151673_filtered_feature_bc_matrix.h5](https://spatial-dlpfc.s3.us-east-2.amazonaws.com/h5/151673_filtered_feature_bc_matrix.h5)"
   ]
  },
  {
   "metadata": {},
   "cell_type": "code",
   "source": [
    "import spatialdata\n",
    "import spatialdata_io\n",
    "\n",
    "s_data = spatialdata_io.visium(path='../data', dataset_id='151673',scalefactors_file='scalefactors_json.json', tissue_positions_file='tissue_positions.csv', counts_file='151673_filtered_feature_bc_matrix.h5')\n"
   ],
   "execution_count": null,
   "outputs": []
  },
  {
   "metadata": {},
   "cell_type": "markdown",
   "source": "To train Rectangle and build the signature matrix, we will use the single-nuclei RNA-se (snRNA-seq) “M1” dataset from the Allen Brain Atlas{cite}`Bakken2021`. The single-cell expression profiles (gene counts) and asscciated annotations can be downloaded from [M1 Allen Brain atlas](https://portal.brain-map.org/atlases-and-data/rnaseq/human-m1-10x)"
  },
  {
   "metadata": {},
   "cell_type": "code",
   "execution_count": null,
   "source": [
    "counts = pd.read_csv('../data/human_m1/matrix.csv', index_col=0)\n",
    "counts = counts.astype(int)\n",
    "metadata = pd.read_csv('../data/human_m1/metadata.csv', index_col=0)\n",
    "annotations = metadata['cell_type_alias_label']\n"
   ],
   "outputs": []
  },
  {
   "metadata": {},
   "cell_type": "markdown",
   "source": "We do a simple preprocessing of the annotations to group the cell types into coarser cell types:"
  },
  {
   "metadata": {},
   "cell_type": "code",
   "outputs": [],
   "execution_count": null,
   "source": [
    "# remove anything after the second space(word)\n",
    "annotations = annotations.str.split(' ', n=2).str[:2].str.join(' ')\n",
    "# remove anything afert first minus\n",
    "annotations = annotations.str.split('-', n=1).str[0]"
   ]
  },
  {
   "metadata": {},
   "cell_type": "markdown",
   "source": "We can run Rectangle on the spatial data using the `rectangle method, by using the ‘table’ object of the `SpatialData` object. As the spatial expression data is summarized as raw gene counts, we will first convert it to CPM."
  },
  {
   "metadata": {},
   "cell_type": "code",
   "source": [
    "adata = AnnData(counts, obs=annotations.to_frame(name='cell_type'))\n",
    "\n",
    "data_table = s_data['table']\n",
    "bulks = data_table.to_df()\n",
    "# Convert bulks from counts to CPM\n",
    "bulks_cpm = bulks.div(bulks.sum(axis=1), axis=0) * 1e6\n"
   ],
   "outputs": [],
   "execution_count": null
  },
  {
   "metadata": {},
   "cell_type": "code",
   "outputs": [],
   "execution_count": null,
   "source": "estimations, signature_result = rectangle.rectangle(adata, bulks_cpm)\n"
  },
  {
   "metadata": {},
   "cell_type": "markdown",
   "source": "We can add our estimations to the spatial data by creating a new `AnnData` object from the estimations and adding it to the `SpatialData` object."
  },
  {
   "metadata": {},
   "cell_type": "code",
   "outputs": [],
   "execution_count": null,
   "source": [
    "from spatialdata.models import TableModel\n",
    "\n",
    "table_data = AnnData(estimations)\n",
    "adata_for_sdata = TableModel.parse(table_data)\n",
    "\n",
    "adata_for_sdata.uns[\"spatialdata_attrs\"] = {\n",
    "    \"region\": \"spots\",\n",
    "    \"region_key\": \"region\",\n",
    "    \"instance_key\": \"spot_id\",\n",
    "}\n",
    "\n",
    "adata_for_sdata.obs[\"region\"] = pd.Categorical([\"spots\"] * len(adata_for_sdata))\n",
    "adata_for_sdata.obs[\"spot_id\"] = s_data.tables.data['table'].obs[\"spot_id\"]\n",
    "\n",
    "s_data.tables[\"rectangle_results\"] = adata_for_sdata"
   ]
  }
 ],
 "metadata": {
  "kernelspec": {
   "display_name": "Python 3.9.12 ('squidpy39')",
   "language": "python",
   "name": "python3"
  },
  "language_info": {
   "codemirror_mode": {
    "name": "ipython",
    "version": 3
   },
   "file_extension": ".py",
   "mimetype": "text/x-python",
   "name": "python",
   "nbconvert_exporter": "python",
   "pygments_lexer": "ipython3",
   "version": "3.9.12"
  },
  "vscode": {
   "interpreter": {
    "hash": "ae6466e8d4f517858789b5c9e8f0ed238fb8964458a36305fca7bddc149e9c64"
   }
  }
 },
 "nbformat": 4,
 "nbformat_minor": 4
}
