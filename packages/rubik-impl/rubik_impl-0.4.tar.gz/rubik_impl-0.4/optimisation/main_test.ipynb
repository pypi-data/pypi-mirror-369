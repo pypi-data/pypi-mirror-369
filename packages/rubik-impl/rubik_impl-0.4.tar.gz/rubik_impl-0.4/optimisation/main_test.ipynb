{
 "cells": [
  {
   "cell_type": "code",
   "execution_count": 1,
   "id": "d3a04f69",
   "metadata": {},
   "outputs": [
    {
     "ename": "ModuleNotFoundError",
     "evalue": "No module named 'main'",
     "output_type": "error",
     "traceback": [
      "\u001b[31m---------------------------------------------------------------------------\u001b[39m",
      "\u001b[31mModuleNotFoundError\u001b[39m                       Traceback (most recent call last)",
      "\u001b[36mCell\u001b[39m\u001b[36m \u001b[39m\u001b[32mIn[1]\u001b[39m\u001b[32m, line 1\u001b[39m\n\u001b[32m----> \u001b[39m\u001b[32m1\u001b[39m \u001b[38;5;28;01mimport\u001b[39;00m\u001b[38;5;250m \u001b[39m\u001b[34;01mmain\u001b[39;00m\n\u001b[32m      2\u001b[39m c = main.Cube()\n",
      "\u001b[31mModuleNotFoundError\u001b[39m: No module named 'main'"
     ]
    }
   ],
   "source": [
    "import main\n",
    "c = main.Cube()"
   ]
  },
  {
   "cell_type": "code",
   "execution_count": 5,
   "id": "ebd524b4",
   "metadata": {},
   "outputs": [
    {
     "data": {
      "text/plain": [
       "\"'w'\""
      ]
     },
     "execution_count": 5,
     "metadata": {},
     "output_type": "execute_result"
    }
   ],
   "source": [
    "a=\"w\"\n",
    "f\"{a!r}\""
   ]
  },
  {
   "cell_type": "code",
   "execution_count": 198,
   "id": "883f50b6",
   "metadata": {},
   "outputs": [
    {
     "name": "stdout",
     "output_type": "stream",
     "text": [
      "4.50033\n"
     ]
    }
   ],
   "source": [
    "import random\n",
    "s = []\n",
    "n = 1000000\n",
    "for i in range(n):\n",
    "    t = random.randrange(1000000)\n",
    "    t_attente = t%10\n",
    "    s.append(t_attente)\n",
    "print(sum(s)/n)\n"
   ]
  },
  {
   "cell_type": "code",
   "execution_count": 5,
   "id": "1c4f9281",
   "metadata": {},
   "outputs": [
    {
     "name": "stdout",
     "output_type": "stream",
     "text": [
      "836 ns ± 19.5 ns per loop (mean ± std. dev. of 7 runs, 1,000,000 loops each)\n",
      "1.36 μs ± 8.07 ns per loop (mean ± std. dev. of 7 runs, 1,000,000 loops each)\n",
      "1.44 μs ± 18.4 ns per loop (mean ± std. dev. of 7 runs, 1,000,000 loops each)\n",
      "1.37 μs ± 15.6 ns per loop (mean ± std. dev. of 7 runs, 1,000,000 loops each)\n",
      "1.42 μs ± 15.2 ns per loop (mean ± std. dev. of 7 runs, 1,000,000 loops each)\n",
      "790 ns ± 18.2 ns per loop (mean ± std. dev. of 7 runs, 1,000,000 loops each)\n"
     ]
    }
   ],
   "source": [
    "%timeit c.U()\n",
    "%timeit c.L()\n",
    "%timeit c.F()\n",
    "%timeit c.R()\n",
    "%timeit c.B()\n",
    "%timeit c.D()\n"
   ]
  },
  {
   "cell_type": "code",
   "execution_count": 4,
   "id": "7e0669a6",
   "metadata": {},
   "outputs": [
    {
     "name": "stdout",
     "output_type": "stream",
     "text": [
      "[[['W20' 'W10' 'W00']\n",
      "  ['W21' 'W11' 'W01']\n",
      "  ['W22' 'W12' 'W02']]\n",
      "\n",
      " [['G00' 'G01' 'G02']\n",
      "  ['O10' 'O11' 'O12']\n",
      "  ['O20' 'O21' 'O22']]\n",
      "\n",
      " [['R00' 'R01' 'R02']\n",
      "  ['G10' 'G11' 'G12']\n",
      "  ['G20' 'G21' 'G22']]\n",
      "\n",
      " [['B00' 'B01' 'B02']\n",
      "  ['R10' 'R11' 'R12']\n",
      "  ['R20' 'R21' 'R22']]\n",
      "\n",
      " [['O00' 'O01' 'O02']\n",
      "  ['B10' 'B11' 'B12']\n",
      "  ['B20' 'B21' 'B22']]\n",
      "\n",
      " [['Y00' 'Y01' 'Y02']\n",
      "  ['Y10' 'Y11' 'Y12']\n",
      "  ['Y20' 'Y21' 'Y22']]]\n"
     ]
    }
   ],
   "source": [
    "import numpy as np\n",
    "print(np.array(c.cube))\n"
   ]
  },
  {
   "cell_type": "code",
   "execution_count": null,
   "id": "183be707",
   "metadata": {},
   "outputs": [],
   "source": []
  }
 ],
 "metadata": {
  "kernelspec": {
   "display_name": "Python 3",
   "language": "python",
   "name": "python3"
  },
  "language_info": {
   "codemirror_mode": {
    "name": "ipython",
    "version": 3
   },
   "file_extension": ".py",
   "mimetype": "text/x-python",
   "name": "python",
   "nbconvert_exporter": "python",
   "pygments_lexer": "ipython3",
   "version": "3.13.3"
  }
 },
 "nbformat": 4,
 "nbformat_minor": 5
}
