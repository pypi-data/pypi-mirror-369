{
 "cells": [
  {
   "cell_type": "code",
   "execution_count": 2,
   "id": "39bdee27",
   "metadata": {},
   "outputs": [],
   "source": [
    "%pip install pycuber"
   ]
  },
  {
   "cell_type": "code",
   "execution_count": 3,
   "id": "50a60f36",
   "metadata": {},
   "outputs": [
    {
     "name": "stdout",
     "output_type": "stream",
     "text": [
      "         [y][y][y]\n",
      "         [y][y][y]\n",
      "         [y][y][y]\n",
      "[r][r][r][g][g][g][o][o][o][b][b][b]\n",
      "[r][r][r][g][g][g][o][o][o][b][b][b]\n",
      "[r][r][r][g][g][g][o][o][o][b][b][b]\n",
      "         [w][w][w]\n",
      "         [w][w][w]\n",
      "         [w][w][w]\n",
      "\n"
     ]
    }
   ],
   "source": [
    "import pycuber as pc\n",
    "import time\n",
    "\n",
    "# Create a new cube object\n",
    "cube = pc.Cube()\n",
    "\n",
    "print(cube)\n",
    "\n"
   ]
  },
  {
   "cell_type": "code",
   "execution_count": 16,
   "id": "204419be",
   "metadata": {},
   "outputs": [
    {
     "data": {
      "text/plain": [
       "[[\u001b[45m  \u001b[49m, \u001b[45m  \u001b[49m, \u001b[45m  \u001b[49m],\n",
       " [\u001b[45m  \u001b[49m, \u001b[45m  \u001b[49m, \u001b[45m  \u001b[49m],\n",
       " [\u001b[45m  \u001b[49m, \u001b[45m  \u001b[49m, \u001b[45m  \u001b[49m]]"
      ]
     },
     "execution_count": 16,
     "metadata": {},
     "output_type": "execute_result"
    }
   ],
   "source": [
    "cube.L"
   ]
  },
  {
   "cell_type": "code",
   "execution_count": 14,
   "id": "7b3f7109",
   "metadata": {},
   "outputs": [
    {
     "name": "stdout",
     "output_type": "stream",
     "text": [
      "345 μs ± 3.44 μs per loop (mean ± std. dev. of 7 runs, 1,000 loops each)\n",
      "377 μs ± 6.53 μs per loop (mean ± std. dev. of 7 runs, 1,000 loops each)\n",
      "385 μs ± 3.43 μs per loop (mean ± std. dev. of 7 runs, 1,000 loops each)\n",
      "414 μs ± 2.79 μs per loop (mean ± std. dev. of 7 runs, 1,000 loops each)\n",
      "404 μs ± 3.83 μs per loop (mean ± std. dev. of 7 runs, 1,000 loops each)\n",
      "432 μs ± 979 ns per loop (mean ± std. dev. of 7 runs, 1,000 loops each)\n"
     ]
    }
   ],
   "source": [
    "%timeit cube(\"U\") # 345 μs\n",
    "%timeit cube(\"L\") # 377 μs\n",
    "%timeit cube(\"F\") # 385 μs\n",
    "%timeit cube(\"R\") # 441 μs\n",
    "%timeit cube(\"B\") # 457 μs\n",
    "%timeit cube(\"D\") # 436 μs\n",
    "# LOL, 400x slower than mine, i'm the best coder in the world"
   ]
  },
  {
   "cell_type": "code",
   "execution_count": null,
   "id": "a161fada",
   "metadata": {},
   "outputs": [
    {
     "name": "stdout",
     "output_type": "stream",
     "text": [
      "[[['W00', 'W01', 'W02'], ['W10', 'W11', 'W12'], ['W20', 'W21', 'W22']], [['O00', 'O01', 'O02'], ['O10', 'O11', 'O12'], ['O20', 'O21', 'O22']], [['G00', 'G01', 'G02'], ['G10', 'G11', 'G12'], ['G20', 'G21', 'G22']], [['R00', 'R01', 'R02'], ['R10', 'R11', 'R12'], ['R20', 'R21', 'R22']], [['B00', 'B01', 'B02'], ['B10', 'B11', 'B12'], ['B20', 'B21', 'B22']], [['Y00', 'Y01', 'Y02'], ['Y10', 'Y11', 'Y12'], ['Y20', 'Y21', 'Y22']]]\n",
      "132 ns ± 0.522 ns per loop (mean ± std. dev. of 7 runs, 10,000,000 loops each)\n",
      "271 ns ± 0.924 ns per loop (mean ± std. dev. of 7 runs, 1,000,000 loops each)\n",
      "291 ns ± 1.45 ns per loop (mean ± std. dev. of 7 runs, 1,000,000 loops each)\n",
      "[[['W00' 'W01' 'W02']\n",
      "  ['W10' 'W11' 'W12']\n",
      "  ['W20' 'W21' 'W22']]\n",
      "\n",
      " [['R00' 'R01' 'R02']\n",
      "  ['O10' 'O11' 'O12']\n",
      "  ['O20' 'O21' 'O22']]\n",
      "\n",
      " [['B00' 'B01' 'B02']\n",
      "  ['G10' 'G11' 'G12']\n",
      "  ['G20' 'G21' 'G22']]\n",
      "\n",
      " [['O00' 'O01' 'O02']\n",
      "  ['R10' 'R11' 'R12']\n",
      "  ['R20' 'R21' 'R22']]\n",
      "\n",
      " [['G00' 'G01' 'G02']\n",
      "  ['B10' 'B11' 'B12']\n",
      "  ['B20' 'B21' 'B22']]\n",
      "\n",
      " [['Y00' 'Y01' 'Y02']\n",
      "  ['Y10' 'Y11' 'Y12']\n",
      "  ['Y20' 'Y21' 'Y22']]]\n"
     ]
    }
   ],
   "source": [
    "\n",
    "import numpy as np\n",
    "cube = [[[f\"{c}{i}{j}\" for j in range(3)] for i in range(3)] for c in \"WOGRBY\"]\n",
    "\n",
    "#print(cube)\n",
    "class Cube(list):\n",
    "    def U(self):\n",
    "        self._ytwist(0)\n",
    "\n",
    "    def U_(self):\n",
    "        self[1][0],self[2][0],self[3][0],self[4][0] = \\\n",
    "            self[2][0],self[3][0],self[4][0],self[1][0]\n",
    "    def _ytwist(self,layer):\n",
    "        self[1][layer],self[2][layer],self[3][layer],self[4][layer] = \\\n",
    "            self[2][layer],self[3][layer],self[4][layer],self[1][layer]\n",
    "\n",
    "#c = Cube(cube)\n",
    "%timeit Cube.U_(cube) # 132 ns\n",
    "%timeit c.U_() # 271 ns\n",
    "%timeit c.U() # 291 ns (almost no difference, can use _ytwist directly)\n",
    "print(np.array(c))\n",
    "\n",
    "\n"
   ]
  },
  {
   "cell_type": "code",
   "execution_count": 24,
   "id": "39cff24f",
   "metadata": {},
   "outputs": [
    {
     "name": "stdout",
     "output_type": "stream",
     "text": [
      "168 ns ± 0.842 ns per loop (mean ± std. dev. of 7 runs, 10,000,000 loops each)\n",
      "147 ns ± 0.989 ns per loop (mean ± std. dev. of 7 runs, 10,000,000 loops each)\n"
     ]
    }
   ],
   "source": [
    "class Cube2:\n",
    "    def __init__(self):\n",
    "        self.cube = [[[f\"{c}{i}{j}\" for j in range(3)] for i in range(3)] for c in \"WOGRBY\"]\n",
    "    def U_(self):\n",
    "        self.cube[1][0],self.cube[2][0],self.cube[3][0],self.cube[4][0] = \\\n",
    "            self.cube[2][0],self.cube[3][0],self.cube[4][0],self.cube[1][0]\n",
    "    \n",
    "    def U(self):\n",
    "        self._ytwist(0)\n",
    "    \n",
    "    def _ytwist(self,layer):\n",
    "        self.cube[1][layer],self.cube[2][layer],self.cube[3][layer],self.cube[4][layer] = \\\n",
    "            self.cube[2][layer],self.cube[3][layer],self.cube[4][layer],self.cube[1][layer]\n",
    "c=Cube2()\n",
    "%timeit c.U() # 168 ns\n",
    "%timeit c.U_() # 147 ns\n",
    "#print(np.array(c.cube))"
   ]
  },
  {
   "cell_type": "code",
   "execution_count": 5,
   "id": "f4c48a0c",
   "metadata": {},
   "outputs": [
    {
     "data": {
      "text/plain": [
       "array([[3, 3],\n",
       "       [3, 3],\n",
       "       [3, 3],\n",
       "       [3, 3]])"
      ]
     },
     "execution_count": 5,
     "metadata": {},
     "output_type": "execute_result"
    }
   ],
   "source": [
    "import numpy as np\n",
    "a=np.array([[0,0],[1,1],[2,2],[3,3]])\n",
    "#a[0],a[1],a[2],a[3] = a[1],a[2],a[3],a[0]\n",
    "a[0],a[1],a[2],a[3] = a[3],a[0],a[1],a[2]\n",
    "a"
   ]
  }
 ],
 "metadata": {
  "kernelspec": {
   "display_name": "Python 3",
   "language": "python",
   "name": "python3"
  },
  "language_info": {
   "codemirror_mode": {
    "name": "ipython",
    "version": 3
   },
   "file_extension": ".py",
   "mimetype": "text/x-python",
   "name": "python",
   "nbconvert_exporter": "python",
   "pygments_lexer": "ipython3",
   "version": "3.13.3"
  }
 },
 "nbformat": 4,
 "nbformat_minor": 5
}
