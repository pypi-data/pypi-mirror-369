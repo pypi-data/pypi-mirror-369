{
 "cells": [
  {
   "cell_type": "code",
   "execution_count": 2,
   "id": "67d8b6ec",
   "metadata": {},
   "outputs": [],
   "source": [
    "import main\n",
    "from importlib import reload\n",
    "import numpy as np\n"
   ]
  },
  {
   "cell_type": "code",
   "execution_count": null,
   "id": "a695bd88",
   "metadata": {},
   "outputs": [],
   "source": [
    "%timeit c._clockwise(0) # 555 ns\n",
    "%timeit c._counterclockwise(0) #531 ns"
   ]
  },
  {
   "cell_type": "code",
   "execution_count": null,
   "id": "116bed2a",
   "metadata": {},
   "outputs": [
    {
     "name": "stdout",
     "output_type": "stream",
     "text": [
      "577 ns ± 22.6 ns per loop (mean ± std. dev. of 7 runs, 1,000,000 loops each)\n",
      "565 ns ± 8.69 ns per loop (mean ± std. dev. of 7 runs, 1,000,000 loops each)\n",
      "[[['W00' 'W01' 'W02']\n",
      "  ['W10' 'W11' 'W12']\n",
      "  ['W20' 'W21' 'W22']]\n",
      "\n",
      " [['O00' 'O01' 'O02']\n",
      "  ['O10' 'O11' 'O12']\n",
      "  ['O20' 'O21' 'O22']]\n",
      "\n",
      " [['G00' 'G01' 'G02']\n",
      "  ['G10' 'G11' 'G12']\n",
      "  ['G20' 'G21' 'G22']]\n",
      "\n",
      " [['R00' 'R01' 'R02']\n",
      "  ['R10' 'R11' 'R12']\n",
      "  ['R20' 'R21' 'R22']]\n",
      "\n",
      " [['B00' 'B01' 'B02']\n",
      "  ['B10' 'B11' 'B12']\n",
      "  ['B20' 'B21' 'B22']]\n",
      "\n",
      " [['Y00' 'Y01' 'Y02']\n",
      "  ['Y10' 'Y11' 'Y12']\n",
      "  ['Y20' 'Y21' 'Y22']]]\n"
     ]
    }
   ],
   "source": [
    "reload(main)\n",
    "c = main.Cube()\n",
    "\n",
    "print(np.array(c.cube))"
   ]
  },
  {
   "cell_type": "code",
   "execution_count": null,
   "id": "a7648bc6",
   "metadata": {},
   "outputs": [
    {
     "name": "stdout",
     "output_type": "stream",
     "text": [
      "756 ns ± 5.5 ns per loop (mean ± std. dev. of 7 runs, 1,000,000 loops each)\n",
      "776 ns ± 4.9 ns per loop (mean ± std. dev. of 7 runs, 1,000,000 loops each)\n",
      "740 ns ± 3.79 ns per loop (mean ± std. dev. of 7 runs, 1,000,000 loops each)\n",
      "701 ns ± 4.47 ns per loop (mean ± std. dev. of 7 runs, 1,000,000 loops each)\n"
     ]
    }
   ],
   "source": [
    "%timeit c.U()\n",
    "%timeit c.Ui()\n",
    "%timeit c.D()\n",
    "%timeit c.Di()\n",
    "# 750 ns"
   ]
  },
  {
   "cell_type": "code",
   "execution_count": null,
   "id": "a471a5bd",
   "metadata": {},
   "outputs": [
    {
     "name": "stdout",
     "output_type": "stream",
     "text": [
      "1.35 μs ± 13.9 ns per loop (mean ± std. dev. of 7 runs, 1,000,000 loops each)\n",
      "1.33 μs ± 8.33 ns per loop (mean ± std. dev. of 7 runs, 1,000,000 loops each)\n",
      "1.35 μs ± 13.4 ns per loop (mean ± std. dev. of 7 runs, 1,000,000 loops each)\n",
      "1.32 μs ± 16.5 ns per loop (mean ± std. dev. of 7 runs, 1,000,000 loops each)\n"
     ]
    }
   ],
   "source": [
    "%timeit c.L()\n",
    "%timeit c.Li()\n",
    "%timeit c.R()\n",
    "%timeit c.Ri()\n",
    "# 1350 ns"
   ]
  },
  {
   "cell_type": "code",
   "execution_count": null,
   "id": "c34ba825",
   "metadata": {},
   "outputs": [
    {
     "name": "stdout",
     "output_type": "stream",
     "text": [
      "1.41 μs ± 8.97 ns per loop (mean ± std. dev. of 7 runs, 1,000,000 loops each)\n",
      "1.36 μs ± 9.55 ns per loop (mean ± std. dev. of 7 runs, 1,000,000 loops each)\n",
      "1.37 μs ± 8.34 ns per loop (mean ± std. dev. of 7 runs, 1,000,000 loops each)\n",
      "1.36 μs ± 9.95 ns per loop (mean ± std. dev. of 7 runs, 1,000,000 loops each)\n"
     ]
    }
   ],
   "source": [
    "%timeit c.F()\n",
    "%timeit c.Fi()\n",
    "%timeit c.B()\n",
    "%timeit c.Bi()\n",
    "# 1370 ns"
   ]
  },
  {
   "cell_type": "code",
   "execution_count": null,
   "id": "6101d555",
   "metadata": {},
   "outputs": [
    {
     "name": "stdout",
     "output_type": "stream",
     "text": [
      "574 ns ± 7.51 ns per loop (mean ± std. dev. of 7 runs, 1,000,000 loops each)\n",
      "628 ns ± 8.37 ns per loop (mean ± std. dev. of 7 runs, 1,000,000 loops each)\n"
     ]
    }
   ],
   "source": [
    "c = main.Cube()\n",
    "%timeit c._clockwise(0) # 574 ns\n",
    "%timeit c._clockwise2(0) #628 ns\n",
    "#print(np.array(c.cube[0]))"
   ]
  },
  {
   "cell_type": "code",
   "execution_count": 9,
   "id": "9e2bd5c0",
   "metadata": {},
   "outputs": [
    {
     "name": "stdout",
     "output_type": "stream",
     "text": [
      "('W02', 'W12', 'W22')\n",
      "('W01', 'W11', 'W21')\n",
      "('W00', 'W10', 'W20')\n"
     ]
    }
   ],
   "source": [
    "for row in zip(*c.cube[0][::-1]):\n",
    "    print(row)"
   ]
  },
  {
   "cell_type": "code",
   "execution_count": null,
   "id": "8e26255c",
   "metadata": {},
   "outputs": [
    {
     "name": "stdout",
     "output_type": "stream",
     "text": [
      "[['W20' 'W10' 'W00']\n",
      " ['W21' 'W11' 'W01']\n",
      " ['W22' 'W12' 'W02']]\n"
     ]
    }
   ],
   "source": [
    "\n",
    "print(np.array(c.cube[0]))"
   ]
  }
 ],
 "metadata": {
  "kernelspec": {
   "display_name": "Python 3",
   "language": "python",
   "name": "python3"
  },
  "language_info": {
   "codemirror_mode": {
    "name": "ipython",
    "version": 3
   },
   "file_extension": ".py",
   "mimetype": "text/x-python",
   "name": "python",
   "nbconvert_exporter": "python",
   "pygments_lexer": "ipython3",
   "version": "3.13.3"
  }
 },
 "nbformat": 4,
 "nbformat_minor": 5
}
