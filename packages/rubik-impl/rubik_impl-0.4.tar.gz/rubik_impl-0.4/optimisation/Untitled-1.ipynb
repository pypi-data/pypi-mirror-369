{
 "cells": [
  {
   "cell_type": "code",
   "execution_count": 2,
   "id": "0bd715d3",
   "metadata": {},
   "outputs": [],
   "source": [
    "import numpy as np\n",
    "\n",
    "ndim = 3\n",
    "def setup_cube(ndim=3):\n",
    "    return [[[f\"{c}{i}{j}\" for j in range(ndim)] for i in range(ndim)] for c in \"WOGRBY\"]\n",
    "#cube_list_solved = [[[f\"{c}{i}{j}\" for j in range(3)] for i in range(3)] for c in \"WOGRBY\"]\n",
    "# cube = [[[0,0,0],[0,0,0],[0,0,0]],\n",
    "#         [[1,1,1],[1,1,1],[1,1,1]],\n",
    "#         [[2,2,2],[2,2,2],[2,2,2]],\n",
    "#         [[3,3,3],[3,3,3],[3,3,3]],\n",
    "#         [[4,4,4],[4,4,4],[4,4,4]],\n",
    "#         [[5,5,5],[5,5,5],[5,5,5]]]\n",
    "cube_list = setup_cube()\n",
    "cube_array = np.array(setup_cube())\n",
    "#print(cube_array)\n",
    "\n",
    "\n",
    "# def U(cube):\n",
    "#     #cube[1][0], cube[2][0], cube[3][0], cube[4][0] = cube[2][0], cube[3][0], cube[4][0], cube[1][0] #htwist\n",
    "#     #cube[1,0],cube[4,0] = cube[4,0],cube[1,0]\n",
    "#     cube[1],cube[4] = cube[4], cube[1]\n",
    "#     #cube[1,0], cube[2,0], cube[3,0], cube[4,0] = cube[2,0], cube[3,0], cube[4,0], cube[1,0]\n",
    "#     cube[0] = [[cube[0][2-j][i] for j in range(3)] for i in range(3)] # i=line, j=column, cube[i][j]\n",
    "#     print(cube)\n",
    "#     print(\"\\n\\n\\n\")\n",
    "#     pass\n",
    "\n",
    "\n",
    "    #print(cube)\n",
    "# U(cube_array)\n",
    "# #print(cube_array)\n",
    "# for _ in range(3):\n",
    "#     U(cube_array)"
   ]
  },
  {
   "cell_type": "code",
   "execution_count": 3,
   "id": "1380bed5",
   "metadata": {},
   "outputs": [
    {
     "name": "stdout",
     "output_type": "stream",
     "text": [
      "127 ns ± 0.371 ns per loop (mean ± std. dev. of 7 runs, 10,000,000 loops each)\n",
      "1.52 μs ± 15.3 ns per loop (mean ± std. dev. of 7 runs, 1,000,000 loops each)\n"
     ]
    }
   ],
   "source": [
    "## U move ~ y rotation ##\n",
    "%timeit cube_list[1][0],cube_list[2][0],cube_list[3][0],cube_list[4][0] = cube_list[2][0],cube_list[3][0],cube_list[4][0],cube_list[1][0]\n",
    "%timeit cube_array[1,0],cube_array[2,0],cube_array[3,0],cube_array[4,0] = cube_array[2,0],cube_array[3,0],cube_array[4,0],cube_array[1,0].copy()\n",
    "#print(np.array(cube_list))\n",
    "\n",
    "# 110 ns\n",
    "# 1.53 µs, 15x slower (1.26 µs without .copy())\n"
   ]
  },
  {
   "cell_type": "code",
   "execution_count": null,
   "id": "76f1ce01",
   "metadata": {},
   "outputs": [
    {
     "name": "stdout",
     "output_type": "stream",
     "text": [
      "628 ns ± 6.55 ns per loop (mean ± std. dev. of 7 runs, 1,000,000 loops each)\n",
      "5.71 μs ± 47.8 ns per loop (mean ± std. dev. of 7 runs, 100,000 loops each)\n"
     ]
    }
   ],
   "source": [
    "## clockwise turn ##\n",
    "%timeit cube_list[0] = [[cube_list[0][2-j][i] for j in range(3)] for i in range(3)] # i=line, j=column, cube[i][j]\n",
    "# 628 ns\n",
    "# 702 ns with ndim\n",
    "# ndim=10: 4.87 μs\n",
    "\n",
    "%timeit cube_array[0] = [[cube_array[0][2-j][i] for j in range(3)] for i in range(3)] # i=line, j=column, cube[i][j]\n",
    "# 6.15 µs, 10x slower\n",
    "# ndim=10: 57.3 μs\n",
    "#np.array(cube_array)\n"
   ]
  },
  {
   "cell_type": "code",
   "execution_count": null,
   "id": "72e52602",
   "metadata": {},
   "outputs": [
    {
     "name": "stdout",
     "output_type": "stream",
     "text": [
      "6.75 μs ± 16.3 ns per loop (mean ± std. dev. of 7 runs, 100,000 loops each)\n",
      "1.39 μs ± 4.44 ns per loop (mean ± std. dev. of 7 runs, 1,000,000 loops each)\n"
     ]
    }
   ],
   "source": [
    "\n",
    "\n",
    "# Example 2D array\n",
    "%timeit cube_array[0] = np.rot90(cube_array[0], k=-1)  # Rotate 90 degrees clockwise\n",
    "# 6050 ns\n",
    "# ndim=10: 6750 ns\n",
    "rotated_array = cube_array[0].T[::-1, :]\n",
    "%timeit cube_array[0] = cube_array[0].T[:, ::-1] # (for counter-clockwise: .T[::-1, :])\n",
    "# 968 ns, 6x faster, (still 1.5x slower than list)\n",
    "# ndim=10: 1390 ns\n",
    "#cube_array"
   ]
  },
  {
   "cell_type": "code",
   "execution_count": 95,
   "id": "48611064",
   "metadata": {},
   "outputs": [
    {
     "data": {
      "text/plain": [
       "array([['W02', 'W12', 'W22'],\n",
       "       ['W01', 'W11', 'W21'],\n",
       "       ['W00', 'W10', 'W20']], dtype='<U3')"
      ]
     },
     "execution_count": 95,
     "metadata": {},
     "output_type": "execute_result"
    }
   ],
   "source": [
    "cube_array[0].T[::-1, :]"
   ]
  },
  {
   "cell_type": "code",
   "execution_count": null,
   "id": "e46472f0",
   "metadata": {},
   "outputs": [
    {
     "name": "stdout",
     "output_type": "stream",
     "text": [
      "636 ns ± 2.2 ns per loop (mean ± std. dev. of 7 runs, 1,000,000 loops each)\n",
      "2.02 μs ± 5.75 ns per loop (mean ± std. dev. of 7 runs, 100,000 loops each)\n"
     ]
    }
   ],
   "source": [
    "## L move ~ x ##\n",
    "ndim=3\n",
    "cube_list = setup_cube(ndim=ndim)\n",
    "cube_array = np.array(setup_cube(ndim=ndim))\n",
    "#print(cube_list)\n",
    "# L move with list\n",
    "def L_list():\n",
    "    for i in range(ndim):\n",
    "        # cube_list[0][i][0], cube_list[4][ndim-1-i][ndim-1], cube_list[5][i][0], cube_list[2][i][0] = \\\n",
    "        # cube_list[4][ndim-1-i][ndim-1], cube_list[5][i][0], cube_list[2][i][0], cube_list[0][i][0]\n",
    "        cube_list[0][i][0], cube_list[4][2-i][2], cube_list[5][i][0], cube_list[2][i][0] = \\\n",
    "        cube_list[4][2-i][2], cube_list[5][i][0], cube_list[2][i][0], cube_list[0][i][0]\n",
    "\n",
    "def L_array():\n",
    "    # cube_array[0,:,0], cube_array[4,::-1,ndim-1], cube_array[5,:,0], cube_array[2,:,0],  = \\\n",
    "    # cube_array[4, ::-1, ndim-1], cube_array[5,:,0], cube_array[2,:,0], cube_array[0,:,0].copy()\n",
    "    cube_array[0,:,0], cube_array[4,::-1,2], cube_array[5,:,0], cube_array[2,:,0],  = \\\n",
    "    cube_array[4, ::-1, 2], cube_array[5,:,0], cube_array[2,:,0], cube_array[0,:,0].copy()\n",
    "#print(np.array(cube_list))\n",
    "#L_list()\n",
    "#print(np.array(cube_list))\n",
    "#L_array()\n",
    "#print(cube_array)\n",
    "%timeit L_list() \n",
    "# 669 ns with ndim-1\n",
    "# 636 ns without ndim-1\n",
    "%timeit L_array()\n",
    "# 2.03 µs 4x slower\n",
    "#np.array(cube_list)"
   ]
  },
  {
   "cell_type": "code",
   "execution_count": 22,
   "id": "913ff5ed",
   "metadata": {},
   "outputs": [
    {
     "name": "stdout",
     "output_type": "stream",
     "text": [
      "747 ns ± 4.13 ns per loop (mean ± std. dev. of 7 runs, 1,000,000 loops each)\n",
      "1.89 μs ± 21.6 ns per loop (mean ± std. dev. of 7 runs, 1,000,000 loops each)\n"
     ]
    }
   ],
   "source": [
    "## F move ~ z ##\n",
    "ndim=3\n",
    "def F_array():\n",
    "    # cube_array[0,ndim-1],       cube_array[1,:,ndim-1], cube_array[5,0,::-1],   cube_array[3,:,0] = \\\n",
    "    # cube_array[1,::-1,ndim-1],  cube_array[5,0],        cube_array[3,:,0],      cube_array[0,ndim-1].copy()\n",
    "    cube_array[0,2],       cube_array[1,:,2], cube_array[5,0,::-1],   cube_array[3,:,0] = \\\n",
    "    cube_array[1,::-1,2],  cube_array[5,0],        cube_array[3,:,0],      cube_array[0,2].copy()\n",
    "    # [1,:,ndim-1] -> [5,0] is equivalent to [1,::-1,ndim-1] -> [5,0,::-1]\n",
    "\n",
    "def F_list():\n",
    "    for i in range(ndim):\n",
    "        if i==2:\n",
    "            #print(np.array(cube_list))\n",
    "            pass\n",
    "        # cube_list[0][ndim-1][i], cube_list[1][ndim-1-i][ndim-1], cube_list[5][0][ndim-1-i], cube_list[3][i][0] = \\\n",
    "        # cube_list[1][ndim-1-i][ndim-1], cube_list[5][0][ndim-1-i], cube_list[3][i][0], cube_list[0][ndim-1][i]\n",
    "        cube_list[0][2][i], cube_list[1][2-i][-1], cube_list[5][0][2-i], cube_list[3][i][0] = \\\n",
    "        cube_list[1][2-i][-1], cube_list[5][0][2-i], cube_list[3][i][0], cube_list[0][2][i]\n",
    "#cube_array=np.array(setup_cube())\n",
    "cube_list = setup_cube(ndim=ndim)\n",
    "cube_array = np.array(setup_cube(ndim=ndim))\n",
    "%timeit F_list()\n",
    "# 816 ns (858 ns with reverse index)\n",
    "# 746 ns when replacing ndim-1 with 2 (ndim=3 specific), slightly faster\n",
    "\n",
    "%timeit F_array()\n",
    "# 1900 ns without ndim-1\n",
    "#print(np.array(cube_list))"
   ]
  },
  {
   "cell_type": "code",
   "execution_count": 15,
   "id": "31ad3e74",
   "metadata": {},
   "outputs": [
    {
     "name": "stdout",
     "output_type": "stream",
     "text": [
      "    WWW\n",
      "    WWW\n",
      "    WWW\n",
      "OOO GGG RRR BBB\n",
      "OOO GGG RRR BBB\n",
      "OOO GGG RRR BBB\n",
      "    YYY\n",
      "    YYY\n",
      "    YYY\n"
     ]
    }
   ],
   "source": [
    "from rubik.cube import Cube\n",
    "#c = Cube(\"OOOOOOOOOYYYWWWGGGBBBYYYWWWGGGBBBYYYWWWGGGBBBRRRRRRRRR\")\n",
    "c = Cube(\"WWWWWWWWW OOOGGGRRRBBB OOOGGGRRRBBB OOOGGGRRRBBB YYYYYYYYY\".replace(\" \", \"\"))\n",
    "print(c)"
   ]
  },
  {
   "cell_type": "code",
   "execution_count": 4,
   "id": "ea8cb8e1",
   "metadata": {},
   "outputs": [
    {
     "data": {
      "text/plain": [
       "(4, 1, 2, 3)"
      ]
     },
     "execution_count": 4,
     "metadata": {},
     "output_type": "execute_result"
    }
   ],
   "source": [
    "a,b,c,d=1,2,3,4\n",
    "a,b,c,d = d,a,b,c\n",
    "a,b,c,d"
   ]
  },
  {
   "cell_type": "code",
   "execution_count": 10,
   "id": "544e43c3",
   "metadata": {},
   "outputs": [
    {
     "data": {
      "text/plain": [
       "array([[4, 4],\n",
       "       [1, 1],\n",
       "       [2, 2],\n",
       "       [3, 3]])"
      ]
     },
     "execution_count": 10,
     "metadata": {},
     "output_type": "execute_result"
    }
   ],
   "source": [
    "import numpy as np\n",
    "a=np.array([[1,1],[2,2],[3,3],[4,4]])\n",
    "#a[0],a[1],a[2],a[3] = a[1],a[2],a[3],a[0].copy()\n",
    "a[0],a[1],a[2],a[3] = a[3],a[0].copy(),a[1].copy(),a[2].copy()\n",
    "a"
   ]
  },
  {
   "cell_type": "code",
   "execution_count": null,
   "id": "c0cfe4c0",
   "metadata": {},
   "outputs": [
    {
     "name": "stdout",
     "output_type": "stream",
     "text": [
      "61.1 μs ± 443 ns per loop (mean ± std. dev. of 7 runs, 10,000 loops each)\n",
      "61.4 μs ± 638 ns per loop (mean ± std. dev. of 7 runs, 10,000 loops each)\n",
      "62.4 μs ± 170 ns per loop (mean ± std. dev. of 7 runs, 10,000 loops each)\n"
     ]
    }
   ],
   "source": [
    "%timeit c.U() \n",
    "# 61 µs\n",
    "\n",
    "%timeit c.L() \n",
    "# 61 µs\n",
    "\n",
    "%timeit c.F()\n",
    "# 61 µs\n",
    "\n",
    "# really consistent but 60x slower"
   ]
  },
  {
   "cell_type": "code",
   "execution_count": null,
   "id": "996f5d6f",
   "metadata": {},
   "outputs": [],
   "source": [
    "# estimation of my moves:\n",
    "# U: Uy + cw = 110 + 628 = 738 ns\n",
    "# L: Lx + cw = 636 + 628 = 1264 ns\n",
    "# F: fz + cw = 746 + 628 = 1374 ns"
   ]
  },
  {
   "cell_type": "code",
   "execution_count": 35,
   "id": "50a94a09",
   "metadata": {},
   "outputs": [
    {
     "data": {
      "text/plain": [
       "1374"
      ]
     },
     "execution_count": 35,
     "metadata": {},
     "output_type": "execute_result"
    }
   ],
   "source": [
    "746 + 628"
   ]
  },
  {
   "cell_type": "code",
   "execution_count": 110,
   "id": "938ecc0b",
   "metadata": {},
   "outputs": [
    {
     "data": {
      "text/plain": [
       "array([[['B20', 'W01', 'W02'],\n",
       "        ['B10', 'W11', 'W12'],\n",
       "        ['B00', 'W21', 'W22']],\n",
       "\n",
       "       [['O00', 'O01', 'O02'],\n",
       "        ['O10', 'O11', 'O12'],\n",
       "        ['O20', 'O21', 'O22']],\n",
       "\n",
       "       [['B20', 'G01', 'G02'],\n",
       "        ['B10', 'G11', 'G12'],\n",
       "        ['B00', 'G21', 'G22']],\n",
       "\n",
       "       [['R00', 'R01', 'R02'],\n",
       "        ['R10', 'R11', 'R12'],\n",
       "        ['R20', 'R21', 'R22']],\n",
       "\n",
       "       [['B00', 'B01', 'B02'],\n",
       "        ['B10', 'B11', 'B12'],\n",
       "        ['B20', 'B21', 'B22']],\n",
       "\n",
       "       [['B20', 'Y01', 'Y02'],\n",
       "        ['B10', 'Y11', 'Y12'],\n",
       "        ['B00', 'Y21', 'Y22']]], dtype='<U3')"
      ]
     },
     "execution_count": 110,
     "metadata": {},
     "output_type": "execute_result"
    }
   ],
   "source": [
    "cube_array"
   ]
  },
  {
   "cell_type": "code",
   "execution_count": 107,
   "id": "1f07e39f",
   "metadata": {},
   "outputs": [
    {
     "data": {
      "text/plain": [
       "array([[['B20', 'W01', 'W02'],\n",
       "        ['B10', 'W11', 'W12'],\n",
       "        ['B00', 'W21', 'W22']],\n",
       "\n",
       "       [['O00', 'O01', 'O02'],\n",
       "        ['O10', 'O11', 'O12'],\n",
       "        ['O20', 'O21', 'O22']],\n",
       "\n",
       "       [['G00', 'G01', 'G02'],\n",
       "        ['G10', 'G11', 'G12'],\n",
       "        ['G20', 'G21', 'G22']],\n",
       "\n",
       "       [['R00', 'R01', 'R02'],\n",
       "        ['R10', 'R11', 'R12'],\n",
       "        ['R20', 'R21', 'R22']],\n",
       "\n",
       "       [['2', 'B01', 'B02'],\n",
       "        ['1', 'B11', 'B12'],\n",
       "        ['0', 'B21', 'B22']],\n",
       "\n",
       "       [['Y00', 'Y01', 'Y02'],\n",
       "        ['Y10', 'Y11', 'Y12'],\n",
       "        ['Y20', 'Y21', 'Y22']]], dtype='<U3')"
      ]
     },
     "execution_count": 107,
     "metadata": {},
     "output_type": "execute_result"
    }
   ],
   "source": [
    "c[0]=\"999\"\n",
    "c\n",
    "cube_array[4,::-1,0] = [0,1,2]\n",
    "cube_array"
   ]
  },
  {
   "cell_type": "code",
   "execution_count": 54,
   "id": "8b4bb6f9",
   "metadata": {},
   "outputs": [
    {
     "name": "stdout",
     "output_type": "stream",
     "text": [
      "[[['W00' 'W01' 'W02']\n",
      "  ['W10' 'W11' 'W12']\n",
      "  ['W20' 'W21' 'W22']]\n",
      "\n",
      " [['O00' 'O01' 'O02']\n",
      "  ['O10' 'O11' 'O12']\n",
      "  ['O20' 'O21' 'O22']]\n",
      "\n",
      " [['G00' 'G01' 'G02']\n",
      "  ['G10' 'G11' 'G12']\n",
      "  ['G20' 'G21' 'G22']]\n",
      "\n",
      " [['R00' 'R01' 'R02']\n",
      "  ['R10' 'R11' 'R12']\n",
      "  ['R20' 'R21' 'R22']]\n",
      "\n",
      " [['B00' 'B01' 'B02']\n",
      "  ['B10' 'B11' 'B12']\n",
      "  ['B20' 'B21' 'B22']]\n",
      "\n",
      " [['Y00' 'Y01' 'Y02']\n",
      "  ['Y10' 'Y11' 'Y12']\n",
      "  ['Y20' 'Y21' 'Y22']]]\n"
     ]
    }
   ],
   "source": [
    "cube_array[1,0],cube_array[2,0],cube_array[3,0],cube_array[4,0] = cube_array[2,0],cube_array[3,0],cube_array[4,0],cube_array[1,0].copy()\n",
    "print(cube_array)"
   ]
  },
  {
   "cell_type": "code",
   "execution_count": 30,
   "id": "26576473",
   "metadata": {},
   "outputs": [
    {
     "name": "stdout",
     "output_type": "stream",
     "text": [
      "[[0, 0], [1, 1], [2, 2], [3, 3], [4, 4], [5, 5]]\n"
     ]
    }
   ],
   "source": [
    "#a=np.array([[c,c] for c in [0,1,2,3,4,5]])\n",
    "a = [[c,c] for c in [0,1,2,3,4,5]]\n",
    "print(a)\n",
    "a[1],a[2],a[3],a[4] = a[2],a[3],a[4],a[1]"
   ]
  },
  {
   "cell_type": "code",
   "execution_count": 31,
   "id": "6caa6d50",
   "metadata": {},
   "outputs": [
    {
     "data": {
      "text/plain": [
       "[[0, 0], [2, 2], [3, 3], [4, 4], [1, 1], [5, 5]]"
      ]
     },
     "execution_count": 31,
     "metadata": {},
     "output_type": "execute_result"
    }
   ],
   "source": [
    "a"
   ]
  },
  {
   "cell_type": "code",
   "execution_count": 34,
   "id": "860ed268",
   "metadata": {},
   "outputs": [
    {
     "data": {
      "text/plain": [
       "[[0, 0], [9, 2], [10, 3], [11, 4], [1, 1], [5, 5]]"
      ]
     },
     "execution_count": 34,
     "metadata": {},
     "output_type": "execute_result"
    }
   ],
   "source": [
    "a[3][0]=11\n",
    "a"
   ]
  },
  {
   "cell_type": "code",
   "execution_count": 33,
   "id": "d7a100ca",
   "metadata": {},
   "outputs": [
    {
     "data": {
      "text/plain": [
       "array([[['W00', 'W01', 'W02'],\n",
       "        ['W10', 'W11', 'W12'],\n",
       "        ['W20', 'W21', 'W22']],\n",
       "\n",
       "       [['G00', 'G01', 'G02'],\n",
       "        ['O10', 'O11', 'O12'],\n",
       "        ['O20', 'O21', 'O22']],\n",
       "\n",
       "       [['R00', 'R01', 'R02'],\n",
       "        ['G10', 'G11', 'G12'],\n",
       "        ['G20', 'G21', 'G22']],\n",
       "\n",
       "       [['B00', 'B01', 'B02'],\n",
       "        ['R10', 'R11', 'R12'],\n",
       "        ['R20', 'R21', 'R22']],\n",
       "\n",
       "       [['G00', 'G01', 'G02'],\n",
       "        ['B10', 'B11', 'B12'],\n",
       "        ['B20', 'B21', 'B22']],\n",
       "\n",
       "       [['Y00', 'Y01', 'Y02'],\n",
       "        ['Y10', 'Y11', 'Y12'],\n",
       "        ['Y20', 'Y21', 'Y22']]], dtype='<U3')"
      ]
     },
     "execution_count": 33,
     "metadata": {},
     "output_type": "execute_result"
    }
   ],
   "source": [
    "cube_array"
   ]
  },
  {
   "cell_type": "code",
   "execution_count": 19,
   "id": "c6e66784",
   "metadata": {},
   "outputs": [],
   "source": [
    "cube_array[0] = [[cube_array[0][2-j][i] for j in range(3)] for i in range(3)] # i=line, j=column, cube[i][j]"
   ]
  },
  {
   "cell_type": "code",
   "execution_count": 17,
   "id": "ff2118fa",
   "metadata": {},
   "outputs": [
    {
     "data": {
      "text/plain": [
       "[[array([3, 3, 3]), array([2, 2, 2]), array([0, 0, 0])],\n",
       " [array([2, 2, 2]), array([1, 1, 1]), array([0, 0, 0])],\n",
       " [array([2, 2, 2]), array([1, 1, 1]), array([0, 0, 0])]]"
      ]
     },
     "execution_count": 17,
     "metadata": {},
     "output_type": "execute_result"
    }
   ],
   "source": [
    "[[cube_array[2-j, i, :] for j in range(3)] for i in range(3)]"
   ]
  },
  {
   "cell_type": "code",
   "execution_count": null,
   "id": "ae10250a",
   "metadata": {},
   "outputs": [
    {
     "data": {
      "text/plain": [
       "[array([['W00asf', 'W01asf', 'W02asf'],\n",
       "        ['W10asf', 'W11asf', 'W12asf'],\n",
       "        ['W20asf', 'W21asf', 'W22asf']], dtype='<U6'),\n",
       " array([['O00asf', 'O01asf', 'O02asf'],\n",
       "        ['O10asf', 'O11asf', 'O12asf'],\n",
       "        ['O20asf', 'O21asf', 'O22asf']], dtype='<U6'),\n",
       " array([['G00asf', 'G01asf', 'G02asf'],\n",
       "        ['G10asf', 'G11asf', 'G12asf'],\n",
       "        ['G20asf', 'G21asf', 'G22asf']], dtype='<U6'),\n",
       " array([['R00asf', 'R01asf', 'R02asf'],\n",
       "        ['R10asf', 'R11asf', 'R12asf'],\n",
       "        ['R20asf', 'R21asf', 'R22asf']], dtype='<U6'),\n",
       " array([['B00asf', 'B01asf', 'B02asf'],\n",
       "        ['B10asf', 'B11asf', 'B12asf'],\n",
       "        ['B20asf', 'B21asf', 'B22asf']], dtype='<U6'),\n",
       " array([['Y00asf', 'Y01asf', 'Y02asf'],\n",
       "        ['Y10asf', 'Y11asf', 'Y12asf'],\n",
       "        ['Y20asf', 'Y21asf', 'Y22asf']], dtype='<U6')]"
      ]
     },
     "execution_count": 4,
     "metadata": {},
     "output_type": "execute_result"
    }
   ],
   "source": [
    "list(cube_list)\n"
   ]
  },
  {
   "cell_type": "code",
   "execution_count": null,
   "id": "fe8349b5",
   "metadata": {},
   "outputs": [],
   "source": []
  }
 ],
 "metadata": {
  "kernelspec": {
   "display_name": "Python 3",
   "language": "python",
   "name": "python3"
  },
  "language_info": {
   "codemirror_mode": {
    "name": "ipython",
    "version": 3
   },
   "file_extension": ".py",
   "mimetype": "text/x-python",
   "name": "python",
   "nbconvert_exporter": "python",
   "pygments_lexer": "ipython3",
   "version": "3.13.3"
  }
 },
 "nbformat": 4,
 "nbformat_minor": 5
}
