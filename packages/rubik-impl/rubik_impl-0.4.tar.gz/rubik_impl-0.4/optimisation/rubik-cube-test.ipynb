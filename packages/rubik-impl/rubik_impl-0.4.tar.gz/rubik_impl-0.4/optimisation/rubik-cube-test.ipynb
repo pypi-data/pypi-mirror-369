{
 "cells": [
  {
   "cell_type": "code",
   "execution_count": null,
   "id": "b22b6a1f",
   "metadata": {},
   "outputs": [
    {
     "data": {
      "text/plain": [
       "<rubik.cube.Cube at 0x1fe56d86e40>"
      ]
     },
     "execution_count": 1,
     "metadata": {},
     "output_type": "execute_result"
    }
   ],
   "source": [
    "from rubik.cube import Cube\n",
    "c = Cube(\"OOOOOOOOOYYYWWWGGGBBBYYYWWWGGGBBBYYYWWWGGGBBBRRRRRRRRR\")\n"
   ]
  },
  {
   "cell_type": "code",
   "execution_count": 6,
   "id": "704e79cc",
   "metadata": {},
   "outputs": [
    {
     "name": "stdout",
     "output_type": "stream",
     "text": [
      "60.3 μs ± 1.15 μs per loop (mean ± std. dev. of 7 runs, 10,000 loops each)\n",
      "60 μs ± 497 ns per loop (mean ± std. dev. of 7 runs, 10,000 loops each)\n",
      "60.7 μs ± 616 ns per loop (mean ± std. dev. of 7 runs, 10,000 loops each)\n",
      "60.7 μs ± 728 ns per loop (mean ± std. dev. of 7 runs, 10,000 loops each)\n",
      "60.7 μs ± 1.13 μs per loop (mean ± std. dev. of 7 runs, 10,000 loops each)\n",
      "60.8 μs ± 842 ns per loop (mean ± std. dev. of 7 runs, 10,000 loops each)\n"
     ]
    }
   ],
   "source": [
    "%timeit c.U()\n",
    "%timeit c.L()\n",
    "%timeit c.F()\n",
    "%timeit c.R()\n",
    "%timeit c.B()\n",
    "%timeit c.D()"
   ]
  },
  {
   "cell_type": "code",
   "execution_count": 5,
   "id": "182414ae",
   "metadata": {},
   "outputs": [
    {
     "name": "stdout",
     "output_type": "stream",
     "text": [
      "    OOO\n",
      "    OOO\n",
      "    OOO\n",
      "WWW GGG BBB YYY\n",
      "YYY WWW GGG BBB\n",
      "YYY WWW GGG BBB\n",
      "    RRR\n",
      "    RRR\n",
      "    RRR\n"
     ]
    }
   ],
   "source": [
    "print(c)\n"
   ]
  },
  {
   "cell_type": "code",
   "execution_count": null,
   "id": "84d01069",
   "metadata": {},
   "outputs": [],
   "source": []
  }
 ],
 "metadata": {
  "kernelspec": {
   "display_name": "Python 3",
   "language": "python",
   "name": "python3"
  },
  "language_info": {
   "codemirror_mode": {
    "name": "ipython",
    "version": 3
   },
   "file_extension": ".py",
   "mimetype": "text/x-python",
   "name": "python",
   "nbconvert_exporter": "python",
   "pygments_lexer": "ipython3",
   "version": "3.13.3"
  }
 },
 "nbformat": 4,
 "nbformat_minor": 5
}
