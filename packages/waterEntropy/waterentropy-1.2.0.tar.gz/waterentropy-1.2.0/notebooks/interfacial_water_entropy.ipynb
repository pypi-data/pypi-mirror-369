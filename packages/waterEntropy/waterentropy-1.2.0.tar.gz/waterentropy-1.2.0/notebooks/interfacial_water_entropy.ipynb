{
 "cells": [
  {
   "cell_type": "markdown",
   "metadata": {},
   "source": [
    "# Entropy of interfacial water molecules with ``waterEntropy``"
   ]
  },
  {
   "cell_type": "markdown",
   "metadata": {},
   "source": [
    "Install the waterEntropy package and external packages used in this tutorial in a conda environment:"
   ]
  },
  {
   "cell_type": "code",
   "execution_count": null,
   "metadata": {},
   "outputs": [],
   "source": [
    "! conda create -n waterEntropy python==3.11\n",
    "! conda activate waterEntropy\n",
    "! pip install waterEntropy"
   ]
  },
  {
   "cell_type": "markdown",
   "metadata": {},
   "source": [
    "Import external and internal code required for this tutorial:"
   ]
  },
  {
   "cell_type": "code",
   "execution_count": null,
   "metadata": {},
   "outputs": [],
   "source": [
    "from MDAnalysis import Universe\n",
    "import waterEntropy.recipes.interfacial_solvent as GetSolvent"
   ]
  },
  {
   "cell_type": "markdown",
   "metadata": {},
   "source": [
    "Use the MDAnalysis package to read in molecular dynamics simulation files:"
   ]
  },
  {
   "cell_type": "code",
   "execution_count": null,
   "metadata": {},
   "outputs": [],
   "source": [
    "# load topology and trajectory into an MDAnalysis universe instance\n",
    "topology_file = \"example_inputs/lysozyme_solution/system.tpr\"\n",
    "trajectory_file = \"example_inputs/lysozyme_solution/system.trr\"\n",
    "u = Universe(topology_file, trajectory_file)"
   ]
  },
  {
   "cell_type": "markdown",
   "metadata": {},
   "source": [
    "Select the start and end frames, and the interval step between the start and end frames, to analyse:"
   ]
  },
  {
   "cell_type": "code",
   "execution_count": null,
   "metadata": {},
   "outputs": [],
   "source": [
    "start, end, step = 0, 1, 1 # this will select frame 0"
   ]
  },
  {
   "cell_type": "markdown",
   "metadata": {},
   "source": [
    "Find and calculate entropies for interfacial waters."
   ]
  },
  {
   "cell_type": "code",
   "execution_count": null,
   "metadata": {},
   "outputs": [],
   "source": [
    "Sorient_dict, covariances, vibrations, frame_solvent_indices = GetSolvent.get_interfacial_water_orient_entropy(u, start, end, step, temperature=298)"
   ]
  },
  {
   "cell_type": "markdown",
   "metadata": {},
   "source": [
    "Print out the orientational and vibrational entropies."
   ]
  },
  {
   "cell_type": "code",
   "execution_count": null,
   "metadata": {},
   "outputs": [],
   "source": [
    "import waterEntropy.entropy.vibrations as VIB\n",
    "import waterEntropy.entropy.orientations as OR\n",
    "\n",
    "OR.print_Sorient_dicts(Sorient_dict)\n",
    "VIB.print_Svib_data(vibrations, covariances)"
   ]
  }
 ],
 "metadata": {
  "language_info": {
   "name": "python"
  }
 },
 "nbformat": 4,
 "nbformat_minor": 2
}
