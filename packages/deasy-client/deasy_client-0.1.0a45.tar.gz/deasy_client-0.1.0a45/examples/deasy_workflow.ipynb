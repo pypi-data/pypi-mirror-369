{
 "cells": [
  {
   "cell_type": "code",
   "execution_count": null,
   "metadata": {},
   "outputs": [],
   "source": [
    "!pip install deasy-client"
   ]
  },
  {
   "cell_type": "code",
   "execution_count": null,
   "metadata": {},
   "outputs": [],
   "source": [
    "import os\n",
    "\n",
    "from dotenv import load_dotenv\n",
    "\n",
    "from deasy_client import Deasy\n",
    "\n",
    "load_dotenv()"
   ]
  },
  {
   "cell_type": "markdown",
   "metadata": {},
   "source": [
    "##### 1. Instantiate the Deasy Client"
   ]
  },
  {
   "cell_type": "code",
   "execution_count": null,
   "metadata": {},
   "outputs": [],
   "source": [
    "deasy_api_key = os.environ[\"DEASY_API_KEY\"]  # You get in the Deasy Tokens Dashboard\n",
    "username = \"<username>\"  # Your Deasy username\n",
    "\n",
    "data_connector_profile_name = \"<data-connector-profile-name>\"  # name of the vdb profile/datasource you want to use\n",
    "schema_name = \"<schema-name>\"\n",
    "\n",
    "schema_description = \"<schema-description>\"\n",
    "\n",
    "file_names = [\"<filename 1>\", \"<filename 2>\", \"<filename 3>\"]\n",
    "\n",
    "client = Deasy(\n",
    "    x_user=username,\n",
    "    x_token=deasy_api_key,\n",
    ")"
   ]
  },
  {
   "cell_type": "markdown",
   "metadata": {},
   "source": [
    "##### 2. Use the client to OCR the connector after adding files to the S3"
   ]
  },
  {
   "cell_type": "code",
   "execution_count": 5,
   "metadata": {},
   "outputs": [],
   "source": [
    "ocr_response = client.ocr.ingest(\n",
    "    data_connector_name=data_connector_profile_name,\n",
    "    file_names=file_names,\n",
    ")\n",
    "job_id = ocr_response[\"job_id\"]"
   ]
  },
  {
   "cell_type": "code",
   "execution_count": 12,
   "metadata": {},
   "outputs": [],
   "source": [
    "status = client.task_status.task_status(job_id=job_id)"
   ]
  },
  {
   "cell_type": "code",
   "execution_count": null,
   "metadata": {},
   "outputs": [],
   "source": [
    "status"
   ]
  },
  {
   "cell_type": "markdown",
   "metadata": {},
   "source": [
    "##### 3. Prepare your data"
   ]
  },
  {
   "cell_type": "code",
   "execution_count": null,
   "metadata": {},
   "outputs": [],
   "source": [
    "data_prepare_response = client.prepare_data.create(\n",
    "    data_connector_name=data_connector_profile_name,\n",
    ")"
   ]
  },
  {
   "cell_type": "code",
   "execution_count": null,
   "metadata": {},
   "outputs": [],
   "source": [
    "data_prepare_response"
   ]
  },
  {
   "cell_type": "markdown",
   "metadata": {},
   "source": [
    "##### 4. Suggest a schema (Optional)"
   ]
  },
  {
   "cell_type": "code",
   "execution_count": null,
   "metadata": {},
   "outputs": [],
   "source": [
    "schema_response = client.suggest_schema.create(\n",
    "    data_connector_name=data_connector_profile_name,\n",
    "    schema_name=schema_name,\n",
    "    node={\n",
    "        \"label\": \"Root\",\n",
    "        \"children\": []\n",
    "    }\n",
    ")"
   ]
  },
  {
   "cell_type": "code",
   "execution_count": null,
   "metadata": {},
   "outputs": [],
   "source": [
    "schema_response.suggestion"
   ]
  },
  {
   "cell_type": "markdown",
   "metadata": {},
   "source": [
    "##### 5. Extract Metadata"
   ]
  },
  {
   "cell_type": "code",
   "execution_count": 9,
   "metadata": {},
   "outputs": [],
   "source": [
    "import uuid\n",
    "\n",
    "job_id = str(uuid.uuid4())\n",
    "\n",
    "classify_response = client.classify_bulk.classify(\n",
    "    data_connector_name=data_connector_profile_name,\n",
    "    hierarchy_name=schema_name,\n",
    "    job_id=job_id,\n",
    ")"
   ]
  },
  {
   "cell_type": "markdown",
   "metadata": {},
   "source": [
    "##### 6. Check Job Status"
   ]
  },
  {
   "cell_type": "code",
   "execution_count": 10,
   "metadata": {},
   "outputs": [],
   "source": [
    "job_status = client.task_status.task_status(job_id=job_id)"
   ]
  },
  {
   "cell_type": "code",
   "execution_count": null,
   "metadata": {},
   "outputs": [],
   "source": [
    "job_status"
   ]
  },
  {
   "cell_type": "markdown",
   "metadata": {},
   "source": [
    "##### 7. Export"
   ]
  },
  {
   "cell_type": "code",
   "execution_count": 33,
   "metadata": {},
   "outputs": [],
   "source": [
    "file = client.dataslice.export.export_metadata(\n",
    "    data_connector_name=data_connector_profile_name,\n",
    "    export_format=\"csv\"\n",
    ")"
   ]
  },
  {
   "cell_type": "code",
   "execution_count": null,
   "metadata": {},
   "outputs": [],
   "source": [
    "import io\n",
    "\n",
    "import pandas as pd\n",
    "\n",
    "csv_buffer = io.StringIO(file)\n",
    "\n",
    "\n",
    "metadata = pd.read_csv(csv_buffer)\n",
    "metadata.head()"
   ]
  }
 ],
 "metadata": {
  "kernelspec": {
   "display_name": ".venv",
   "language": "python",
   "name": "python3"
  },
  "language_info": {
   "codemirror_mode": {
    "name": "ipython",
    "version": 3
   },
   "file_extension": ".py",
   "mimetype": "text/x-python",
   "name": "python",
   "nbconvert_exporter": "python",
   "pygments_lexer": "ipython3",
   "version": "3.11.9"
  }
 },
 "nbformat": 4,
 "nbformat_minor": 2
}
