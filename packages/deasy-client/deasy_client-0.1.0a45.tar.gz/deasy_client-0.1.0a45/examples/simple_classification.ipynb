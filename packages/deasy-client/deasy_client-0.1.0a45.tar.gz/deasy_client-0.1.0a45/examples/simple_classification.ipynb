{
 "cells": [
  {
   "cell_type": "code",
   "execution_count": null,
   "metadata": {},
   "outputs": [],
   "source": [
    "!pip install deasy-client"
   ]
  },
  {
   "cell_type": "code",
   "execution_count": null,
   "metadata": {},
   "outputs": [],
   "source": [
    "# Make sure you have added DEASY_API_KEY and required data connector variables to your environment\n",
    "\n",
    "import os\n",
    "\n",
    "from dotenv import load_dotenv\n",
    "\n",
    "load_dotenv()"
   ]
  },
  {
   "cell_type": "code",
   "execution_count": 14,
   "metadata": {},
   "outputs": [],
   "source": [
    "from deasy_client import Deasy\n",
    "from deasy_client.types.vdb_connector_create_params import QdrantConnectorConfigParam\n",
    "\n",
    "client = Deasy(\n",
    "    x_user=\"<username>\",\n",
    "    x_token=os.getenv(\"DEASY_API_KEY\"),\n",
    ")"
   ]
  },
  {
   "cell_type": "code",
   "execution_count": null,
   "metadata": {},
   "outputs": [],
   "source": [
    "data_connector_name = \"my-first-data-connector\" # update with data connector name from Deasy user profile\n",
    "# Add your vector database connection details\n",
    "connector_body = QdrantConnectorConfigParam(\n",
    "    url=os.getenv(\"QDRANT_URL\"),\n",
    "    api_key=os.getenv(\"QDRANT_API_KEY\"),\n",
    "    name=data_connector_name,\n",
    "    collection_name=\"<qdrnat collection name>\",    \n",
    ")\n",
    "response = client.vdb_connector.create(\n",
    "    connector_body=connector_body,\n",
    "    connector_name=data_connector_name\n",
    ")\n",
    "response"
   ]
  },
  {
   "cell_type": "code",
   "execution_count": 10,
   "metadata": {},
   "outputs": [],
   "source": [
    "tag_name = \"Business Sector\"\n",
    "\n",
    "tag_create_response = client.tags.create(\n",
    "    tag_data={\n",
    "        \"name\": tag_name,\n",
    "        \"description\": \"Extract the primary business sector this document pertains to.\",\n",
    "        \"output_type\": \"word\",\n",
    "    }\n",
    ")\n",
    "tag_create_response"
   ]
  },
  {
   "cell_type": "code",
   "execution_count": null,
   "metadata": {},
   "outputs": [],
   "source": [
    "response = client.classify_bulk.classify(\n",
    "    data_connector_name=data_connector_name,\n",
    "    tag_names=[tag_name]\n",
    ")\n",
    "response"
   ]
  },
  {
   "cell_type": "code",
   "execution_count": null,
   "metadata": {},
   "outputs": [],
   "source": [
    "list_meta_response = client.metadata.list(data_connector_name=data_connector_name, tag_names=[tag_name])\n",
    "list_meta_response"
   ]
  },
  {
   "cell_type": "code",
   "execution_count": null,
   "metadata": {},
   "outputs": [],
   "source": []
  }
 ],
 "metadata": {
  "kernelspec": {
   "display_name": ".venv",
   "language": "python",
   "name": "python3"
  },
  "language_info": {
   "codemirror_mode": {
    "name": "ipython",
    "version": 3
   },
   "file_extension": ".py",
   "mimetype": "text/x-python",
   "name": "python",
   "nbconvert_exporter": "python",
   "pygments_lexer": "ipython3",
   "version": "3.12.8"
  }
 },
 "nbformat": 4,
 "nbformat_minor": 2
}
