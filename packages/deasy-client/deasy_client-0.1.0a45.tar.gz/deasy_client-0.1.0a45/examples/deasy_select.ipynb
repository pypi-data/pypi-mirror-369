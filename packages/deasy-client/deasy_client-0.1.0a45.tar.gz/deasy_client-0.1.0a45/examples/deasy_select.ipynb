{
 "cells": [
  {
   "cell_type": "code",
   "execution_count": null,
   "metadata": {},
   "outputs": [],
   "source": [
    "!pip install deasy-client"
   ]
  },
  {
   "cell_type": "code",
   "execution_count": null,
   "metadata": {},
   "outputs": [],
   "source": [
    "import os\n",
    "\n",
    "from dotenv import load_dotenv\n",
    "\n",
    "from deasy_client import Deasy\n",
    "\n",
    "load_dotenv()"
   ]
  },
  {
   "cell_type": "markdown",
   "metadata": {},
   "source": [
    "### Deasy Meta-Filter Demo\n"
   ]
  },
  {
   "cell_type": "markdown",
   "metadata": {},
   "source": [
    "##### 1. Define tags you want to filter on and instantiate the Deasy Client\n"
   ]
  },
  {
   "cell_type": "code",
   "execution_count": null,
   "metadata": {},
   "outputs": [],
   "source": [
    "deasy_api_key = os.environ[\"DEASY_API_KEY\"]  # You get in the Deasy Tokens Dashboard\n",
    "username = \"<username>\"  # Your Deasy username\n",
    "\n",
    "data_connector_profile_name = \"<data_connector_profile_name>\"  # name of the vdb profile/datasource you want to use\n",
    "schema_name = \"<schema_name>\"\n",
    "\n",
    "client = Deasy(\n",
    "    x_user=username,\n",
    "    x_token=deasy_api_key,\n",
    ")"
   ]
  },
  {
   "cell_type": "markdown",
   "metadata": {},
   "source": [
    "##### 2. Use Deasy SDK to get tag schemas\n"
   ]
  },
  {
   "cell_type": "code",
   "execution_count": null,
   "metadata": {},
   "outputs": [],
   "source": [
    "all_tag_schemas = client.tags.list().tags\n",
    "schemas_and_distributions = client.metadata.get_distributions(\n",
    "    data_connector_name=data_connector_profile_name,\n",
    "    tag_names=[tag_schema.name for tag_schema in all_tag_schemas],\n",
    ")\n",
    "\n",
    "tag_schemas = schemas_and_distributions.tags_schemas\n",
    "tag_distributions = schemas_and_distributions.count_distribution"
   ]
  },
  {
   "cell_type": "markdown",
   "metadata": {},
   "source": [
    "##### 3. Pull tag value distributions (Optional)\n"
   ]
  },
  {
   "cell_type": "code",
   "execution_count": null,
   "metadata": {},
   "outputs": [],
   "source": [
    "from deasy_client.types.deasy_select_query_params import TagDistributions\n",
    "\n",
    "schemas_and_distributions = client.metadata.get_distributions(\n",
    "    data_connector_name=data_connector_profile_name,\n",
    "    schema_name=schema_name,\n",
    ")\n",
    "\n",
    "tag_schemas = schemas_and_distributions.tags_schemas\n",
    "tag_distributions_data = schemas_and_distributions.count_distribution\n",
    "tag_distributions = TagDistributions(tag_distributions_data)"
   ]
  },
  {
   "cell_type": "code",
   "execution_count": null,
   "metadata": {},
   "outputs": [],
   "source": [
    "tag_distributions"
   ]
  },
  {
   "cell_type": "markdown",
   "metadata": {},
   "source": [
    "##### 4. Ask your question\n"
   ]
  },
  {
   "cell_type": "markdown",
   "metadata": {},
   "source": [
    "Chunk and File Metadata Filtering"
   ]
  },
  {
   "cell_type": "code",
   "execution_count": 15,
   "metadata": {},
   "outputs": [],
   "source": [
    "question = \"How can I use Deasy's tag schemas and metadata filtering to improve the relevance of my retrieval results?\"\n",
    "\n",
    "\n",
    "# tag_level=\"both\"\n",
    "file_response = client.deasy_select.query(\n",
    "    query=question, # your question\n",
    "    data_connector_name=data_connector_profile_name, # name of the vdb profile/datasource you want to use\n",
    "    tag_schemas=tag_schemas, # tag schemas\n",
    "    tag_distributions=tag_distributions, # tag distributions\n",
    "    tag_level=\"both\", # both chunk and file metadata, returning the relevant files\n",
    ")"
   ]
  },
  {
   "cell_type": "markdown",
   "metadata": {},
   "source": [
    "Just Chunk Metadata Filtering"
   ]
  },
  {
   "cell_type": "code",
   "execution_count": 17,
   "metadata": {},
   "outputs": [],
   "source": [
    "# tag_level=\"chunk\"\n",
    "chunk_response = client.deasy_select.query(\n",
    "    query=question, # your question\n",
    "    data_connector_name=data_connector_profile_name, # name of the vdb profile/datasource you want to use\n",
    "    tag_schemas=tag_schemas, # tag schemas\n",
    "    tag_distributions=tag_distributions, # tag distributions\n",
    "    tag_level=\"chunk\", # only return relevant chunks\n",
    "    with_text=True # include text in the response\n",
    ")"
   ]
  },
  {
   "cell_type": "markdown",
   "metadata": {},
   "source": [
    "##### 5. Get the files or conditions most relevant to your query\n"
   ]
  },
  {
   "cell_type": "code",
   "execution_count": null,
   "metadata": {},
   "outputs": [],
   "source": [
    "file_response"
   ]
  },
  {
   "cell_type": "code",
   "execution_count": null,
   "metadata": {},
   "outputs": [],
   "source": [
    "chunk_response"
   ]
  }
 ],
 "metadata": {
  "kernelspec": {
   "display_name": ".venv",
   "language": "python",
   "name": "python3"
  },
  "language_info": {
   "codemirror_mode": {
    "name": "ipython",
    "version": 3
   },
   "file_extension": ".py",
   "mimetype": "text/x-python",
   "name": "python",
   "nbconvert_exporter": "python",
   "pygments_lexer": "ipython3",
   "version": "3.11.9"
  }
 },
 "nbformat": 4,
 "nbformat_minor": 2
}
