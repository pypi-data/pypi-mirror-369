{
    "cells": [
        {
            "cell_type": "markdown",
            "id": "dca78030",
            "metadata": {},
            "source": [
                "# PyWake P2X Example\n",
                "\n",
                "A hybrid power plant with wind, solar, storage and power-to-gas is evaluated \n",
                "using a PyWake based wind farm model, and selected outputs are plotted."
            ]
        },
        {
            "cell_type": "code",
            "execution_count": 0,
            "id": "c43b5901",
            "metadata": {},
            "outputs": [],
            "source": [
                "# Install hydesign if needed\n",
                "import importlib\n",
                "if not importlib.util.find_spec(\"hydesign\"):\n",
                "    !pip install git+https://gitlab.windenergy.dtu.dk/TOPFARM/hydesign.git"
            ]
        },
        {
            "cell_type": "code",
            "execution_count": null,
            "id": "bac43599",
            "metadata": {},
            "outputs": [],
            "source": [
                "# Install pywake if needed\n",
                "if not importlib.util.find_spec(\"py_wake\"):\n",
                "    !pip install git+https://gitlab.windenergy.dtu.dk/TOPFARM/PyWake.git   "
            ]
        },
        {
            "cell_type": "code",
            "execution_count": 1,
            "id": "17ccf434",
            "metadata": {},
            "outputs": [],
            "source": [
                "import numpy as np\n",
                "import pandas as pd\n",
                "from hydesign.assembly.hpp_pywake_p2x import hpp_model\n",
                "from hydesign.examples import examples_filepath\n",
                "from py_wake.examples.data.hornsrev1 import Hornsrev1Site\n",
                "from py_wake.turbulence_models.stf import STF2017TurbulenceModel\n",
                "from py_wake import NOJ\n",
                "from py_wake.deflection_models import JimenezWakeDeflection\n",
                "from py_wake.examples.data.dtu10mw_surrogate import DTU10MW_1WT_Surrogate\n",
                "from py_wake.superposition_models import LinearSum\n",
                "from topfarm.utils import regular_generic_layout\n",
                "from scipy.spatial import ConvexHull\n",
                "import matplotlib.pyplot as plt"
            ]
        },
        {
            "cell_type": "markdown",
            "id": "25e2b51d",
            "metadata": {},
            "source": [
                "## Setting up the model"
            ]
        },
        {
            "cell_type": "code",
            "execution_count": 2,
            "id": "887f7a98",
            "metadata": {},
            "outputs": [
                {
                    "name": "stderr",
                    "output_type": "stream",
                    "text": [
                        "c:\\Users\\mikf\\Anaconda3\\envs\\hydesign2\\Lib\\site-packages\\keras\\src\\layers\\core\\dense.py:87: UserWarning: Do not pass an `input_shape`/`input_dim` argument to a layer. When using Sequential models, prefer using an `Input(shape)` object as the first layer in the model instead.\n",
                        "  super().__init__(activity_regularizer=activity_regularizer, **kwargs)\n",
                        "c:\\Users\\mikf\\Anaconda3\\envs\\hydesign2\\Lib\\site-packages\\keras\\src\\optimizers\\base_optimizer.py:86: UserWarning: Argument `decay` is no longer supported and will be ignored.\n",
                        "  warnings.warn(\n",
                        "C:\\Sandbox\\Repo\\TOPFARM\\PyWake\\py_wake\\deficit_models\\noj.py:84: UserWarning: The NOJ model is not representative of the setup used in the literature. For this, use py_wake.literature.noj.Jensen_1983 instead\n",
                        "  DeprecatedModel.__init__(self, 'py_wake.literature.noj.Jensen_1983')\n"
                    ]
                },
                {
                    "name": "stdout",
                    "output_type": "stream",
                    "text": [
                        "\n",
                        "Fixed parameters on the site\n",
                        "-------------------------------\n",
                        "longitude = 8.594398\n",
                        "latitude = 56.227322\n",
                        "altitude = 85.0\n"
                    ]
                }
            ],
            "source": [
                "name = 'Denmark_good_wind'\n",
                "examples_sites = pd.read_csv(f'{examples_filepath}examples_sites.csv', index_col=0, sep=';')\n",
                "ex_site = examples_sites.loc[examples_sites.name == name]\n",
                "\n",
                "longitude = ex_site['longitude'].values[0]\n",
                "latitude = ex_site['latitude'].values[0]\n",
                "altitude = ex_site['altitude'].values[0]\n",
                "sim_pars_fn = examples_filepath + ex_site['sim_pars_fn'].values[0]\n",
                "input_ts_fn = examples_filepath + ex_site['input_ts_fn'].values[0]\n",
                "\n",
                "intervals_per_hour = 1\n",
                "n_wt = 40\n",
                "n_loads = 4\n",
                "wt = DTU10MW_1WT_Surrogate()\n",
                "d = wt.diameter()\n",
                "site = Hornsrev1Site()\n",
                "sx = 4 * d\n",
                "sy = 5 * d\n",
                "x, y = regular_generic_layout(n_wt, sx, sy, stagger=0, rotation=0)\n",
                "N_ws = 365 * 24 * intervals_per_hour\n",
                "time_stamp = np.arange(N_ws) / 6 / 24\n",
                "farm = NOJ(site, wt, turbulenceModel=STF2017TurbulenceModel(),\n",
                "    deflectionModel=JimenezWakeDeflection(), superpositionModel=LinearSum())\n",
                "yaw = 30 * np.sin(np.arange(N_ws) / 100)\n",
                "tilt = np.zeros(N_ws)\n",
                "\n",
                "hpp = hpp_model(latitude=latitude,\n",
                "                longitude=longitude,\n",
                "                altitude=altitude,\n",
                "                sim_pars_fn=sim_pars_fn,\n",
                "                input_ts_fn=input_ts_fn,\n",
                "                intervals_per_hour=intervals_per_hour,\n",
                "                farm=farm,\n",
                "                x=x,\n",
                "                y=y,\n",
                "                tilt=tilt,\n",
                "                time_stamp=time_stamp,\n",
                "                n_loads=n_loads,\n",
                "                H2_demand_fn=6000,\n",
                "               Nwt=n_wt)"
            ]
        },
        {
            "cell_type": "markdown",
            "id": "f2dc2182",
            "metadata": {},
            "source": [
                "## Evaluate the design"
            ]
        },
        {
            "cell_type": "code",
            "execution_count": null,
            "id": "fdbf1338",
            "metadata": {},
            "outputs": [
                {
                    "name": "stderr",
                    "output_type": "stream",
                    "text": [
                        "C:\\Sandbox\\Repo\\TOPFARM\\hydesign\\hydesign\\ems\\ems_P2X.py:1099: RuntimeWarning: invalid value encountered in divide\n",
                        "  f_ptg = np.nan_to_num(P_ptg_t / (wind_t + solar_t + b_t))\n",
                        "C:\\Sandbox\\Repo\\TOPFARM\\hydesign\\hydesign\\ems\\ems_P2X.py:1116: RuntimeWarning: divide by zero encountered in divide\n",
                        "  m_H2_offtake_t_deg = np.nan_to_num(m_H2_offtake_t / m_H2_t) * m_H2_t_deg\n",
                        "C:\\Sandbox\\Repo\\TOPFARM\\hydesign\\hydesign\\ems\\ems_P2X.py:1116: RuntimeWarning: invalid value encountered in divide\n",
                        "  m_H2_offtake_t_deg = np.nan_to_num(m_H2_offtake_t / m_H2_t) * m_H2_t_deg\n"
                    ]
                },
                {
                    "name": "stdout",
                    "output_type": "stream",
                    "text": [
                        "\n",
                        "Design:\n",
                        "---------------\n",
                        "clearance [m]: 29.850\n",
                        "sp [W/m2]: 360.000\n",
                        "p_rated [MW]: 10.000\n",
                        "Nwt: 40.000\n",
                        "wind_MW_per_km2 [MW/km2]: 3.000\n",
                        "solar_MW [MW]: 200.000\n",
                        "surface_tilt [deg]: 45.000\n",
                        "surface_azimuth [deg]: 180.000\n",
                        "DC_AC_ratio: 1.500\n",
                        "b_P [MW]: 40.000\n",
                        "b_E_h [h]: 4.000\n",
                        "cost_of_battery_P_fluct_in_peak_price_ratio: 5.000\n",
                        "ptg_MW [MW]: 800.000\n",
                        "HSS_kg [kg]: 5000.000\n",
                        "Yaw offset [deg]: mean, std, min, max 0.02312121.253333-29.99999430.000000\n",
                        "\n",
                        "\n",
                        "NPV_over_CAPEX: -0.012\n",
                        "NPV [MEuro]: -14.123\n",
                        "IRR: 0.000\n",
                        "LCOE [Euro/MWh]: 42.212\n",
                        "Revenues [MEuro]: 2046.103\n",
                        "CAPEX [MEuro]: 1159.921\n",
                        "OPEX [MEuro]: 22.807\n",
                        "Wind CAPEX [MEuro]: 344.319\n",
                        "Wind OPEX [MEuro]: 7.566\n",
                        "PV CAPEX [MEuro]: 67.000\n",
                        "PV OPEX [MEuro]: 1.350\n",
                        "Batt CAPEX [MEuro]: 16.119\n",
                        "Batt OPEX [MEuro]: 0.000\n",
                        "Shared CAPEX [MEuro]: 90.982\n",
                        "Shared OPEX [MEuro]: 0.000\n",
                        "penalty lifetime [MEuro]: 0.000\n",
                        "AEP [GWh]: 43.474\n",
                        "GUF: 0.017\n",
                        "grid [MW]: 300.000\n",
                        "wind [MW]: 400.000\n",
                        "solar [MW]: 200.000\n",
                        "Battery Energy [MWh]: 160.000\n",
                        "Battery Power [MW]: 40.000\n",
                        "Total curtailment [GWh]: 0.000\n",
                        "Total curtailment with deg [GWh]: 0.000\n",
                        "Awpp [km2]: 133.333\n",
                        "Apvp [km2]: 2.452\n",
                        "Plant area [km2]: 133.333\n",
                        "Rotor diam [m]: 188.063\n",
                        "Hub height [m]: 123.882\n",
                        "Number of batteries used in lifetime: 2.000\n",
                        "Break-even PPA price [Euro/MWh]: 78.713\n",
                        "Capacity factor wind [-]: 0.267\n",
                        "LCOH [Euro/kg]: 11.021\n",
                        "annual_H2 [tons]: 15902.277\n",
                        "annual_P_ptg [GWh]: 1119.792\n",
                        "PtG [MW]: 800.000\n",
                        "HSS [kg]: 5000.000\n",
                        "Break-even H2 price [Euro/kg]: 5.052\n",
                        "\n"
                    ]
                }
            ],
            "source": [
                "p_rated = 10.0\n",
                "points = np.asarray([x, y]).T\n",
                "hull = ConvexHull(points)\n",
                "area = hull.volume * 1e-6\n",
                "wind_MW_per_km2 = 3\n",
                "clearance = wt.hub_height() - d / 2\n",
                "sp = 360\n",
                "\n",
                "inputs = dict(clearance=clearance, sp=sp, p_rated=p_rated, Nwt=n_wt, wind_MW_per_km2=wind_MW_per_km2,\n",
                "              solar_MW=200, surface_tilt=45, surface_azimuth=180, DC_AC_ratio=1.5,\n",
                "              b_P=40, b_E_h=4, cost_of_battery_P_fluct_in_peak_price_ratio=5,\n",
                "              ptg_MW=800, HSS_kg=5000,\n",
                "              yaw=yaw)\n",
                "\n",
                "outs = hpp.evaluate(**inputs)\n",
                "hpp.print_design()"
            ]
        },
        {
            "cell_type": "markdown",
            "id": "4b1acf86",
            "metadata": {},
            "source": [
                "## Plotting example output"
            ]
        },
        {
            "cell_type": "code",
            "execution_count": 4,
            "id": "4405397f",
            "metadata": {},
            "outputs": [
                {
                    "data": {
                        "image/png": "[encoded data removed]",
                        "text/plain": [
                            "<Figure size 640x480 with 1 Axes>"
                        ]
                    },
                    "metadata": {},
                    "output_type": "display_data"
                }
            ],
            "source": [
                "sensors = wt.loadFunction.output_keys\n",
                "sensor_no = 0\n",
                "turb = 0\n",
                "plt.figure()\n",
                "plt.plot(hpp.prob['loads_rel_ext'][sensor_no, turb, :])\n",
                "plt.xlabel('Time [h]')\n",
                "plt.ylabel('Load ratio [-]')\n",
                "plt.title(f'Relative damage equivalent fatigue loads for {sensors[sensor_no]}')\n",
                "plt.show()"
            ]
        }
    ],
    "metadata": {
        "kernelspec": {
            "display_name": "hydesign2",
            "language": "python",
            "name": "python3"
        },
        "language_info": {
            "codemirror_mode": {
                "name": "ipython",
                "version": 3
            },
            "file_extension": ".py",
            "mimetype": "text/x-python",
            "name": "python",
            "nbconvert_exporter": "python",
            "pygments_lexer": "ipython3",
            "version": "3.11.11"
        }
    },
    "nbformat": 4,
    "nbformat_minor": 5
}
