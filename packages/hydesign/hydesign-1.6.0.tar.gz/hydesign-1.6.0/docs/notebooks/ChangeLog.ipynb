{
    "cells": [
        {
            "cell_type": "markdown",
            "metadata": {},
            "source": [
                "# Updates log"
            ]
        },
        {
            "cell_type": "markdown",
            "metadata": {},
            "source": [
                "## hydesign v1.6.0 (August 15, 2025)\n",
                "### New features\n",
                "1. New use case of using *PyWake* with wind turbine loads as wind plant model\n",
                "2. New multi-dimensional degradation model for wind plants using *PyWake*\n",
                "\n",
                "### Improvements\n",
                "1. Added notebooks tests to CI\n",
                "2. Code refactor - separated Components and Models automizing the assembly\n",
                "3. All assemblies inherit from base class\n",
                "4. Minimized the dependencies in the basic installation. Introduced the flags: `test`, `docs`, `loads`, `reliability`, `optional` and `all`\n",
                "5. Pep8 code format\n"
            ]
        },
        {
            "cell_type": "markdown",
            "metadata": {},
            "source": [
                "## hydesign v1.5.0 (April 3, 2025)\n",
                "### New features\n",
                "1. Solar-X use case is now available\n",
                "2. HiFi-EMS use case now available\n",
                "3. Documentation has been updated with more up-to-date sizing examples\n",
                "\n",
                "\n",
                "### Improvements\n",
                "1. HyDesign now uses Numpy 2 and SMT 2.9\n",
                "2. Installation with pyproject.toml instead of setup.py\n",
                "\n",
                "### Bug fix\n",
                "1. Dependencies have been updated for HyDesign to work on Google Colab again\n",
                "2. Fixed bug when zero solar was combined with reliablity model"
            ]
        },
        {
            "cell_type": "markdown",
            "metadata": {},
            "source": [
                "## hydesign v1.4.1 (September 12, 2024)\n",
                "### New features\n",
                "1. All inputs can now be provided in the yml-input file, including e.g. latitude and longitude. All inputs can also be passed when instantiating the hpp-model - this will update the values if they are also present in the yml-file.\n",
                "2. Both production and efficiency curves are supported for P2X. Use 'efficiency_curve_type' key word as either: ['efficiency', 'production'] in your yml-file or hpp instantiation.\n",
                "\n",
                "\n",
                "### Improvements\n",
                "1. EMS use cases batch sizes optimized for the community license of CPLEX\n",
                "2. Assembly base class introduced to reduce the amount of duplicated code\n",
                "3. Ramp limits removed from the bi-directional use case\n",
                "\n",
                "### Bug fix\n",
                "1. Explicitly selects netcdf engine for loading data sets to avoid recently occuring error on Colab."
            ]
        },
        {
            "cell_type": "markdown",
            "metadata": {},
            "source": [
                "## hydesign v1.4.0 (August 31, 2024)\n",
                "### New features\n",
                "1. New use case supported: Evaluation of HPP incl. reliability of components\n",
                "2. New use case supported: Sizing under uncertainty\n",
                "3. Publications section added to docs\n",
                "\n",
                "### Improvements\n",
                "1. Inputs to sizing cleaned up\n"
            ]
        },
        {
            "cell_type": "markdown",
            "metadata": {},
            "source": [
                "## hydesign v1.3.4 (April 08, 2024)\n",
                "### New features\n",
                "1. New use case supported: Sizing with hybridization of single technology plants\n"
            ]
        },
        {
            "cell_type": "markdown",
            "metadata": {},
            "source": [
                "## hydesign v1.3.3 (April 06, 2024)\n",
                "### New features\n",
                "1. New use case supported: Sizing with balancing market"
            ]
        },
        {
            "cell_type": "markdown",
            "metadata": {},
            "source": [
                "## hydesign v1.3.2 (December 22, 2023)\n",
                "### New features\n",
                "1. New use case supported: Sizing for meeting minimum required green hydrogen production including bidirectional flow to/from the grid. Including a notebook example in the documentation.\n",
                "## Improvements\n",
                "1. Re-organized the code for more transparency"
            ]
        },
        {
            "cell_type": "markdown",
            "metadata": {},
            "source": [
                "## hydesign v1.3.1 (December 14, 2023)\n",
                "### New features\n",
                "1. New use case supported: Sizing for meeting minimum required electrical load. Including a notebook example in the documentation.\n",
                "## Improvements\n",
                "1. Added inflation, depreciation and capex phasing in the financial calculations. The user now has the option to specify time varying inflation and depreciation of the assets. It is also possible to reflect if/how CAPEX is spent in the period before the plant is operational\n",
                "2. Corrected the way taxes was accounted for"
            ]
        },
        {
            "cell_type": "markdown",
            "metadata": {},
            "source": [
                "## hydesign v1.3.0 (November 16, 2023)\n",
                "### Improvements\n",
                "1. Fixed problem with battery degradation. Tref must be in Kelvin (@ruzhu, check if you have this problem). And added an if statement to ensure that the stress factor for temperature (S_T) is 1 for values lower than T_ref as suggested in . \n",
                "\n",
                "2. Fixed problem in the EMS-long-term: The function `operation_solar_batt_deg` now uses continoious battery degradation and follows closer the planned prescribed operation (EMS-optimization results). Battery degradation component now representes the battery as a continious time-series instead of in piecewise constant health levels. An update in related components was required to remove the variable `ii_time`.\n",
                "\n",
                "3. The dependency of the battery degradation on ambient temperature has been split into two submodules: \n",
                "    \n",
                "    (a) A permanent degradation factor ($S_T$) than increases for locations with mean temperature above T_ref = 25+273.15 [K]. \n",
                "    (b) A temporary drop in storage capacity when the instantaneous  temperature drops bellow zero Celsium.   \n",
                "\n",
                "4. New wind degradation model: This method ensures a prescribed degradation on the capacity factor over the age of the wind farm by mixing two mechanisms of degradation: \n",
                "\n",
                "    (a) A shift in the power curve towards higher wind speeds represents blade degradation and increasing friction losses. \n",
                "    (b) A loss factor applied to the power time series represent increase in availability losses.\n",
                "\n",
                "New specification of wind degradation curve in `hpp_pars.yml`. They can be non-linear.    \n",
                "\n",
                "```\n",
                "    wind_deg_yr: [0, 25]\n",
                "    wind_deg:    [0, 0.125] #25yr * 0.5%/yr\n",
                "    share_WT_deg_types: 0.5\n",
                "```\n",
                "\n",
                "5. New specification of PV degradation curve in `hpp_pars.yml`. They can be non-linear.\n",
                "\n",
                "```\n",
                "    pv_deg_yr: [0,    25]\n",
                "    pv_deg:    [0, 0.125] #25yr * 0.5%/yr\n",
                "```\n",
                "\n",
                " 6. Modification of the Net income definition in the finance model. The discount factor should not be used to reduce the income.  \n",
                "\n",
                "```\n",
                "     Net_income = (EBIT*(1-tax_rate))\n",
                " ```\n",
                "\n",
                "\n",
                "7. Added hyperparameter description in documentation of `get_sm`.\n",
                "\n",
                "## hydesign v1.2.0 (August 18, 2023)\n",
                "### Improvements\n",
                "- Updated to SMT 2.0\n",
                "- Enabled running notebooks in Kaggle\n",
                "- Unified simple and advanced model setups\n",
                "- Improved EGO algorithm\n",
                "- Fixed inconsistencies when using zero number of batteries\n",
                "\n",
                "## hydesign v1.1.0 (May 5, 2023)\n",
                "\n",
                "### New Features and API changes\n",
                "- New power to X functionality\n",
                "- Improved Efficient Global Optimization Algorithm for sizing\n",
                "- More flexible input to sizing optimization\n",
                "- Electrolyzer size added as a design variable in the sizing optimization\n",
                "- Exercise notebooks in the documentation\n",
                "\n",
                "\n",
                "### New models and functions\n",
                "- EGO algorithm\n",
                "  - A more efficient design space search `EfficientGlobalOptimizationDriver`\n",
                "  - More information on how the search was done\n",
                "- Energy management system optimization with P2X\n",
                "  - New EMS CPLEX function `ems_cplex_P2X`, with additional inputs inluding price of Hydrogen `price_H2`, electrolyzer power capacity `ptg_MW`,\n",
                "  compressor efficiency for hydrogen storage `storage_eff`, electrolyzer annual rate of degradation `ptg_deg`,  high heat value `hhv`\n",
                "- Flexible input and modification of sizing problem\n",
                "  - Ability to give design variables of choice a fixed value in the sizing optimization\n",
                "  - Specifying the design variables in the upper layer of the code\n",
                "\n",
                "- P2X sizing added to the sizing optimization `Parallel_EGO_P2X.py`\n",
                " - The following design variables were added: electrolyzer power capacity `ptg_MW` "
            ]
        },
        {
            "cell_type": "markdown",
            "metadata": {},
            "source": []
        }
    ],
    "metadata": {
        "kernelspec": {
            "display_name": "Python 3 (ipykernel)",
            "language": "python",
            "name": "python3"
        },
        "language_info": {
            "codemirror_mode": {
                "name": "ipython",
                "version": 3
            },
            "file_extension": ".py",
            "mimetype": "text/x-python",
            "name": "python",
            "nbconvert_exporter": "python",
            "pygments_lexer": "ipython3",
            "version": "3.11.9"
        },
        "toc": {
            "base_numbering": 1,
            "nav_menu": {},
            "number_sections": true,
            "sideBar": true,
            "skip_h1_title": false,
            "title_cell": "Table of Contents",
            "title_sidebar": "Contents",
            "toc_cell": false,
            "toc_position": {},
            "toc_section_display": true,
            "toc_window_display": true
        }
    },
    "nbformat": 4,
    "nbformat_minor": 4
}
