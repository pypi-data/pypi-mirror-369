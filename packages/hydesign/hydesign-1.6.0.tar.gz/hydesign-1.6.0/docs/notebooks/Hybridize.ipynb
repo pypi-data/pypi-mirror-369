{
    "cells": [
        {
            "cell_type": "markdown",
            "metadata": {},
            "source": [
                "# Hybridize\n",
                "\n",
                "## Evaluating hybridizing of a single technology power plant\n"
            ]
        },
        {
            "cell_type": "markdown",
            "metadata": {},
            "source": [
                "##\n",
                "**Imports**\n",
                "\n",
                "Install hydesign if needed.\n",
                "Import basic libraries. \n",
                "Import HPP model assembly class.\n",
                "Import the examples file path."
            ]
        },
        {
            "cell_type": "code",
            "execution_count": 1,
            "metadata": {},
            "outputs": [],
            "source": [
                "# Install hydesign if needed\n",
                "import importlib\n",
                "if not importlib.util.find_spec(\"hydesign\"):\n",
                "    !pip install git+https://gitlab.windenergy.dtu.dk/TOPFARM/hydesign.git   "
            ]
        },
        {
            "cell_type": "code",
            "execution_count": 2,
            "metadata": {},
            "outputs": [],
            "source": [
                "import time\n",
                "import pandas as pd\n",
                "from hydesign.examples import examples_filepath"
            ]
        },
        {
            "cell_type": "markdown",
            "metadata": {},
            "source": [
                "## Existing PV"
            ]
        },
        {
            "cell_type": "code",
            "execution_count": 3,
            "metadata": {},
            "outputs": [],
            "source": [
                "%%capture\n",
                "from hydesign.assembly.hpp_assembly_hybridization_pv import hpp_model"
            ]
        },
        {
            "cell_type": "code",
            "execution_count": 4,
            "metadata": {},
            "outputs": [
                {
                    "data": {
                        "text/html": [
                            "<div>\n",
                            "<style scoped>\n",
                            "    .dataframe tbody tr th:only-of-type {\n",
                            "        vertical-align: middle;\n",
                            "    }\n",
                            "\n",
                            "    .dataframe tbody tr th {\n",
                            "        vertical-align: top;\n",
                            "    }\n",
                            "\n",
                            "    .dataframe thead th {\n",
                            "        text-align: right;\n",
                            "    }\n",
                            "</style>\n",
                            "<table border=\"1\" class=\"dataframe\">\n",
                            "  <thead>\n",
                            "    <tr style=\"text-align: right;\">\n",
                            "      <th></th>\n",
                            "      <th>case</th>\n",
                            "      <th>name</th>\n",
                            "      <th>longitude</th>\n",
                            "      <th>latitude</th>\n",
                            "      <th>altitude</th>\n",
                            "      <th>input_ts_fn</th>\n",
                            "      <th>sim_pars_fn</th>\n",
                            "      <th>price_fn</th>\n",
                            "      <th>price_col</th>\n",
                            "      <th>H2_demand_col</th>\n",
                            "      <th>input_HA_ts_fn</th>\n",
                            "      <th>price_up_ts</th>\n",
                            "      <th>price_dwn_ts</th>\n",
                            "    </tr>\n",
                            "  </thead>\n",
                            "  <tbody>\n",
                            "    <tr>\n",
                            "      <th>13</th>\n",
                            "      <td>Europe</td>\n",
                            "      <td>Denmark_hybridization_solar_Langelinie</td>\n",
                            "      <td>11.290641</td>\n",
                            "      <td>54.717469</td>\n",
                            "      <td>0.042</td>\n",
                            "      <td>Europe/GWA2/input_ts_Denmark_hybridization_sol...</td>\n",
                            "      <td>Europe/hpp_pars_Langelinie.yml</td>\n",
                            "      <td>Europe/2030-EL_PRICE.csv</td>\n",
                            "      <td>DK_E</td>\n",
                            "      <td>Europe/H2_demand.csv</td>\n",
                            "      <td>NaN</td>\n",
                            "      <td>NaN</td>\n",
                            "      <td>NaN</td>\n",
                            "    </tr>\n",
                            "  </tbody>\n",
                            "</table>\n",
                            "</div>"
                        ],
                        "text/plain": [
                            "      case                                    name  longitude   latitude  \\\n",
                            "13  Europe  Denmark_hybridization_solar_Langelinie  11.290641  54.717469   \n",
                            "\n",
                            "    altitude                                        input_ts_fn  \\\n",
                            "13     0.042  Europe/GWA2/input_ts_Denmark_hybridization_sol...   \n",
                            "\n",
                            "                       sim_pars_fn                  price_fn price_col  \\\n",
                            "13  Europe/hpp_pars_Langelinie.yml  Europe/2030-EL_PRICE.csv      DK_E   \n",
                            "\n",
                            "           H2_demand_col input_HA_ts_fn price_up_ts price_dwn_ts  \n",
                            "13  Europe/H2_demand.csv            NaN         NaN          NaN  "
                        ]
                    },
                    "execution_count": 4,
                    "metadata": {},
                    "output_type": "execute_result"
                }
            ],
            "source": [
                "examples_sites = pd.read_csv(f'{examples_filepath}examples_sites.csv', index_col=0, sep=';')\n",
                "name = 'Denmark_hybridization_solar_Langelinie'\n",
                "ex_site = examples_sites.loc[examples_sites.name == name]\n",
                "ex_site"
            ]
        },
        {
            "cell_type": "markdown",
            "metadata": {},
            "source": [
                "select a site to run"
            ]
        },
        {
            "cell_type": "code",
            "execution_count": 5,
            "metadata": {},
            "outputs": [],
            "source": [
                "longitude = ex_site['longitude'].values[0]\n",
                "latitude = ex_site['latitude'].values[0]\n",
                "altitude = ex_site['altitude'].values[0]"
            ]
        },
        {
            "cell_type": "code",
            "execution_count": 6,
            "metadata": {},
            "outputs": [],
            "source": [
                "sim_pars_fn = examples_filepath+ex_site['sim_pars_fn'].values[0]\n",
                "input_ts_fn = examples_filepath+ex_site['input_ts_fn'].values[0]"
            ]
        },
        {
            "cell_type": "code",
            "execution_count": 7,
            "metadata": {},
            "outputs": [],
            "source": [
                "clearance = 50\n",
                "sp = 301\n",
                "p_rated = 2\n",
                "Nwt = 3\n",
                "wind_MW_per_km2 = 10\n",
                "b_P =  10 #MW\n",
                "b_E_h = 3 #hours\n",
                "cost_of_battery_P_fluct_in_peak_price_ratio = 0\n",
                "delta_life = 5\n",
                "\n",
                "x = [\n",
                "# Wind plant design\n",
                "clearance, sp, p_rated, Nwt, wind_MW_per_km2,\n",
                "# Energy storage & EMS price constrains\n",
                "b_P, b_E_h, cost_of_battery_P_fluct_in_peak_price_ratio,\n",
                "# Time design\n",
                "delta_life\n",
                "]"
            ]
        },
        {
            "cell_type": "markdown",
            "metadata": {},
            "source": [
                "## \n",
                "**Initializing the HPP model**\n",
                "\n",
                "Initialize the HPP model (hpp_model class) with the coordinates and the necessary input files."
            ]
        },
        {
            "cell_type": "code",
            "execution_count": 8,
            "metadata": {},
            "outputs": [
                {
                    "name": "stdout",
                    "output_type": "stream",
                    "text": [
                        "\n",
                        "Fixed parameters on the site\n",
                        "-------------------------------\n",
                        "longitude = 11.290641\n",
                        "latitude = 54.717469\n",
                        "altitude = 0.042\n"
                    ]
                }
            ],
            "source": [
                "hpp = hpp_model(\n",
                "    latitude=latitude,\n",
                "    longitude=longitude,\n",
                "    altitude=altitude,\n",
                "    num_batteries = 10,\n",
                "    work_dir = './',\n",
                "    sim_pars_fn = sim_pars_fn,\n",
                "    input_ts_fn = input_ts_fn,\n",
                ")\n"
            ]
        },
        {
            "cell_type": "code",
            "execution_count": 9,
            "metadata": {},
            "outputs": [
                {
                    "name": "stdout",
                    "output_type": "stream",
                    "text": [
                        "\n",
                        "Design:\n",
                        "---------------\n",
                        "clearance [m]: 50.000\n",
                        "sp [W/m2]: 301.000\n",
                        "p_rated [MW]: 2.000\n",
                        "Nwt: 3.000\n",
                        "wind_MW_per_km2 [MW/km2]: 10.000\n",
                        "b_P [MW]: 10.000\n",
                        "b_E_h [h]: 3.000\n",
                        "cost_of_battery_P_fluct_in_peak_price_ratio: 0.000\n",
                        "delta_life [years]: 5.000\n",
                        "\n",
                        "\n",
                        "NPV_over_CAPEX: 0.338\n",
                        "NPV [MEuro]: 3.989\n",
                        "IRR: 0.081\n",
                        "LCOE [Euro/MWh]: 39.052\n",
                        "COVE [-]: 15.779\n",
                        "CAPEX [MEuro]: 11.786\n",
                        "OPEX [MEuro]: 0.143\n",
                        "Wind CAPEX [MEuro]: 5.879\n",
                        "Wind OPEX [MEuro]: 0.088\n",
                        "PV CAPEX [MEuro]: 2.779\n",
                        "PV OPEX [MEuro]: 0.056\n",
                        "Batt CAPEX [MEuro]: 1.677\n",
                        "Batt OPEX [MEuro]: 0.000\n",
                        "Shared CAPEX [MEuro]: 0.152\n",
                        "Shared OPEX W [MEuro]: 1.299\n",
                        "Shared OPEX S [MEuro]: 0.000\n",
                        "penalty lifetime [MEuro]: 0.000\n",
                        "AEP [GWh]: 18.057\n",
                        "GUF: 0.206\n",
                        "grid [MW]: 10.000\n",
                        "wind [MW]: 6.000\n",
                        "solar [MW]: 7.480\n",
                        "Battery Energy [MWh]: 30.000\n",
                        "Battery Power [MW]: 10.000\n",
                        "Total curtailment [GWh]: 0.010\n",
                        "Awpp [km2]: 0.600\n",
                        "Apvp [km2]: 0.092\n",
                        "Plant area [km2]: 0.600\n",
                        "Rotor diam [m]: 91.979\n",
                        "Hub height [m]: 95.989\n",
                        "Number of batteries used in lifetime: 3.000\n",
                        "Break-even PPA price [Euro/MWh]: 5.000\n",
                        "Capacity factor wind [-]: 0.236\n",
                        "\n",
                        "exec. time [min]: 0.23894066015879314\n"
                    ]
                }
            ],
            "source": [
                "start = time.time()\n",
                "\n",
                "outs = hpp.evaluate(*x)\n",
                "\n",
                "hpp.print_design()\n",
                "\n",
                "end = time.time()\n",
                "\n",
                "print('exec. time [min]:', (end - start)/60 )\n"
            ]
        },
        {
            "cell_type": "markdown",
            "metadata": {},
            "source": [
                "## Existing wind"
            ]
        },
        {
            "cell_type": "code",
            "execution_count": 10,
            "metadata": {},
            "outputs": [],
            "source": [
                "from hydesign.assembly.hpp_assembly_hybridization_wind import hpp_model\n"
            ]
        },
        {
            "cell_type": "code",
            "execution_count": 11,
            "metadata": {},
            "outputs": [
                {
                    "name": "stdout",
                    "output_type": "stream",
                    "text": [
                        "\n",
                        "Fixed parameters on the site\n",
                        "-------------------------------\n",
                        "longitude = 8.3664\n",
                        "latitude = 56.0954\n",
                        "altitude = 16.662\n"
                    ]
                }
            ],
            "source": [
                "name = 'Denmark_hybridization_wind_Norhede_Hjortmose'\n",
                "ex_site = examples_sites.loc[examples_sites.name == name]\n",
                "longitude = ex_site['longitude'].values[0]\n",
                "latitude = ex_site['latitude'].values[0]\n",
                "altitude = ex_site['altitude'].values[0]\n",
                "\n",
                "sim_pars_fn = examples_filepath+ex_site['sim_pars_fn'].values[0]\n",
                "input_ts_fn = examples_filepath+ex_site['input_ts_fn'].values[0]\n",
                "\n",
                "hpp = hpp_model(\n",
                "latitude=latitude,\n",
                "longitude=longitude,\n",
                "altitude=altitude,\n",
                "num_batteries = 10,\n",
                "work_dir = './',\n",
                "sim_pars_fn = sim_pars_fn,\n",
                "input_ts_fn = input_ts_fn,\n",
                ")\n"
            ]
        },
        {
            "cell_type": "code",
            "execution_count": 12,
            "metadata": {},
            "outputs": [],
            "source": [
                "solar_MW = 100\n",
                "surface_tilt = 25\n",
                "surface_azimuth = 180\n",
                "DC_AC_ratio =  1.475\n",
                "b_P = 18 #MW\n",
                "b_E_h = 6 #hours\n",
                "cost_of_battery_P_fluct_in_peak_price_ratio = 0.319\n",
                "delta_life = 5\n",
                "\n",
                "\n",
                "x = [\n",
                "# PV plant design\n",
                "solar_MW,  surface_tilt, surface_azimuth, DC_AC_ratio,\n",
                "# Energy storage & EMS price constrains\n",
                "b_P, b_E_h, cost_of_battery_P_fluct_in_peak_price_ratio,\n",
                "# Time design\n",
                "delta_life\n",
                "]\n"
            ]
        },
        {
            "cell_type": "code",
            "execution_count": 13,
            "metadata": {},
            "outputs": [
                {
                    "name": "stdout",
                    "output_type": "stream",
                    "text": [
                        "\n",
                        "Design:\n",
                        "---------------\n",
                        "solar_MW [MW]: 100.000\n",
                        "surface_tilt [deg]: 25.000\n",
                        "surface_azimuth [deg]: 180.000\n",
                        "DC_AC_ratio: 1.475\n",
                        "b_P [MW]: 18.000\n",
                        "b_E_h [h]: 6.000\n",
                        "cost_of_battery_P_fluct_in_peak_price_ratio: 0.319\n",
                        "delta_life [years]: 5.000\n",
                        "\n",
                        "\n",
                        "NPV_over_CAPEX: 0.091\n",
                        "NPV [MEuro]: 11.025\n",
                        "IRR: 0.070\n",
                        "LCOE [Euro/MWh]: 43.152\n",
                        "COVE [-]: 16.883\n",
                        "CAPEX [MEuro]: 1.930\n",
                        "OPEX [MEuro]: 121.360\n",
                        "Wind CAPEX [MEuro]: 61.000\n",
                        "Wind OPEX [MEuro]: 1.100\n",
                        "PV CAPEX [MEuro]: 41.219\n",
                        "PV OPEX [MEuro]: 0.830\n",
                        "Batt CAPEX [MEuro]: 5.303\n",
                        "Batt OPEX [MEuro]: 0.000\n",
                        "Shared CAPEX W [MEuro]: 13.838\n",
                        "Shared CAPEX S [MEuro]: 0.000\n",
                        "Shared OPEX [MEuro]: 0.000\n",
                        "penalty lifetime [MEuro]: 0.000\n",
                        "AEP per year [GWh]: 235.897\n",
                        "GUF: 0.371\n",
                        "grid [MW]: 72.600\n",
                        "wind [MW]: 72.600\n",
                        "solar [MW]: 100.000\n",
                        "Battery Energy [MWh]: 108.000\n",
                        "Battery Power [MW]: 18.000\n",
                        "Total curtailment [GWh]: 575.760\n",
                        "Awpp [km2]: 5.000\n",
                        "Apvp [km2]: 1.226\n",
                        "Plant area [km2]: 5.000\n",
                        "Rotor diam [m]: 112.000\n",
                        "Hub height [m]: 94.000\n",
                        "Number of batteries used in lifetime: 3.000\n",
                        "Break-even PPA price [Euro/MWh]: 5.000\n",
                        "Capacity factor wind [-]: 0.286\n",
                        "\n",
                        "exec. time [min]: 0.22785449425379437\n"
                    ]
                }
            ],
            "source": [
                "start = time.time()\n",
                "\n",
                "outs = hpp.evaluate(*x)\n",
                "\n",
                "hpp.print_design()\n",
                "\n",
                "end = time.time()\n",
                "\n",
                "print('exec. time [min]:', (end - start)/60 )\n"
            ]
        }
    ],
    "metadata": {
        "kernelspec": {
            "display_name": "hydesign2",
            "language": "python",
            "name": "python3"
        },
        "language_info": {
            "codemirror_mode": {
                "name": "ipython",
                "version": 3
            },
            "file_extension": ".py",
            "mimetype": "text/x-python",
            "name": "python",
            "nbconvert_exporter": "python",
            "pygments_lexer": "ipython3",
            "version": "3.11.11"
        }
    },
    "nbformat": 4,
    "nbformat_minor": 4
}