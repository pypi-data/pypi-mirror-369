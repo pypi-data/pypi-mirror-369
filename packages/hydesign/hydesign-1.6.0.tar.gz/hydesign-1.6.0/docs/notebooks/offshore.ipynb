{
    "cells": [
        {
            "cell_type": "markdown",
            "id": "9e927382-02e2-4034-827d-b6498f7fd262",
            "metadata": {},
            "source": [
                "# Offshore HPP\n",
                "In this notebook we evaluate an islanded offshore HPP. This case is obtained by adjusting the technology costs in the input yml file."
            ]
        },
        {
            "cell_type": "code",
            "execution_count": 2,
            "id": "2e464e89-cc76-4406-ae4f-49c62e65e473",
            "metadata": {},
            "outputs": [],
            "source": [
                "# Install hydesign if needed\n",
                "import importlib\n",
                "if not importlib.util.find_spec(\"hydesign\"):\n",
                "    !pip install git+https://gitlab.windenergy.dtu.dk/TOPFARM/hydesign.git   "
            ]
        },
        {
            "cell_type": "code",
            "execution_count": 3,
            "id": "aba0467f-4fb9-4942-8031-524ad14c868f",
            "metadata": {},
            "outputs": [],
            "source": [
                "%%capture\n",
                "import time\n",
                "import numpy as np\n",
                "import pandas as pd\n",
                "import matplotlib.pyplot as plt\n",
                "import os\n",
                "from hydesign.assembly.hpp_assembly_P2X import hpp_model_P2X as hpp_model\n",
                "from hydesign.examples import examples_filepath"
            ]
        },
        {
            "cell_type": "code",
            "execution_count": 4,
            "id": "0d8dc60b-0ad6-448a-96ed-8d581f2ada93",
            "metadata": {},
            "outputs": [
                {
                    "name": "stdout",
                    "output_type": "stream",
                    "text": [
                        "\n",
                        "Fixed parameters on the site\n",
                        "-------------------------------\n",
                        "longitude = 7.906111\n",
                        "latitude = 55.529722\n",
                        "altitude = 85.0\n"
                    ]
                }
            ],
            "source": [
                "name = 'Denmark_offshore'\n",
                "examples_sites = pd.read_csv(f'{examples_filepath}examples_sites.csv', index_col=0, sep=';')\n",
                "ex_site = examples_sites.loc[examples_sites.name == name]\n",
                "\n",
                "longitude = ex_site['longitude'].values[0]\n",
                "latitude = ex_site['latitude'].values[0]\n",
                "altitude = ex_site['altitude'].values[0]\n",
                "\n",
                "input_ts_fn = examples_filepath+ex_site['input_ts_fn'].values[0]\n",
                "sim_pars_fn = examples_filepath+ex_site['sim_pars_fn'].values[0]\n",
                "H2_demand_fn = examples_filepath+ex_site['H2_demand_col'].values[0]\n",
                "\n",
                "hpp = hpp_model(\n",
                "        latitude=latitude,\n",
                "        longitude=longitude,\n",
                "        altitude=altitude,\n",
                "        num_batteries = 3,\n",
                "        work_dir = './',\n",
                "        sim_pars_fn = sim_pars_fn,\n",
                "        input_ts_fn = input_ts_fn,\n",
                "        H2_demand_fn = H2_demand_fn\n",
                ")\n",
                "\n",
                "start = time.time()\n",
                "\n",
                "x=[10, 360, 8, 50, 5,\n",
                "    0, 50, 210, 1.5,\n",
                "    40, 4, 10, 250, 0]"
            ]
        },
        {
            "cell_type": "code",
            "execution_count": 5,
            "id": "d82ca463-352e-49b7-a46e-fe69e7e82dd9",
            "metadata": {},
            "outputs": [
                {
                    "name": "stdout",
                    "output_type": "stream",
                    "text": [
                        "\n",
                        "Design:\n",
                        "---------------\n",
                        "clearance [m]: 10.000\n",
                        "sp [W/m2]: 360.000\n",
                        "p_rated [MW]: 8.000\n",
                        "Nwt: 50.000\n",
                        "wind_MW_per_km2 [MW/km2]: 5.000\n",
                        "solar_MW [MW]: 0.000\n",
                        "surface_tilt [deg]: 50.000\n",
                        "surface_azimuth [deg]: 210.000\n",
                        "DC_AC_ratio: 1.500\n",
                        "b_P [MW]: 40.000\n",
                        "b_E_h [h]: 4.000\n",
                        "cost_of_battery_P_fluct_in_peak_price_ratio: 10.000\n",
                        "ptg_MW [MW]: 250.000\n",
                        "HSS_kg [kg]: 0.000\n",
                        "\n",
                        "\n",
                        "NPV_over_CAPEX: 0.352\n",
                        "NPV [MEuro]: 253.845\n",
                        "IRR: 0.110\n",
                        "LCOE [Euro/MWh]: 31.547\n",
                        "LCOH [Euro/kg]: 6.001\n",
                        "Revenue [MEuro]: 3346.862\n",
                        "CAPEX [MEuro]: 721.690\n",
                        "OPEX [MEuro]: 23.761\n",
                        "penalty lifetime [MEuro]: 0.000\n",
                        "AEP [GWh]: 502.208\n",
                        "GUF: 0.191\n",
                        "annual_H2 [tons]: 22470.358\n",
                        "annual_P_ptg [GWh]: 1503.362\n",
                        "grid [MW]: 300.000\n",
                        "wind [MW]: 400.000\n",
                        "solar [MW]: 0.000\n",
                        "PtG [MW]: 250.000\n",
                        "HSS [kg]: 0.000\n",
                        "Battery Energy [MWh]: 160.000\n",
                        "Battery Power [MW]: 40.000\n",
                        "Total curtailment [GWh]: 0.000\n",
                        "Awpp [km2]: 80.000\n",
                        "Apvp [km2]: 0.000\n",
                        "Rotor diam [m]: 168.209\n",
                        "Hub height [m]: 94.104\n",
                        "Number of batteries used in lifetime: 1.000\n",
                        "Break-even H2 price [Euro/kg]: 3.725\n",
                        "Break-even PPA price [Euro/MWh]: 0.000\n",
                        "Capacity factor wind [-]: 0.573\n",
                        "\n",
                        "exec. time [min]: 0.5588633974393209\n"
                    ]
                }
            ],
            "source": [
                "outs = hpp.evaluate(*x)\n",
                "\n",
                "hpp.print_design(x, outs)\n",
                "\n",
                "end = time.time()\n",
                "print('exec. time [min]:', (end - start)/60 )\n"
            ]
        }
    ],
    "metadata": {
        "kernelspec": {
            "display_name": "Python 3 (ipykernel)",
            "language": "python",
            "name": "python3"
        },
        "language_info": {
            "codemirror_mode": {
                "name": "ipython",
                "version": 3
            },
            "file_extension": ".py",
            "mimetype": "text/x-python",
            "name": "python",
            "nbconvert_exporter": "python",
            "pygments_lexer": "ipython3",
            "version": "3.11.9"
        }
    },
    "nbformat": 4,
    "nbformat_minor": 5
}