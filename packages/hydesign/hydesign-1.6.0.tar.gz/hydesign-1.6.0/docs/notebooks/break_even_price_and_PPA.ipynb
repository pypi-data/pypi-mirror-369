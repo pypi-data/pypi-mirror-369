{
    "cells": [
        {
            "cell_type": "markdown",
            "id": "395c2d1b",
            "metadata": {},
            "source": [
                "# Break-even price and power purchase agreement\n",
                "HyDesign calculates the price of electricity and/or hydrogen that would break-even i.e. result in NPV of zero. These results are based on the current hybrid configuration and operation. This means that the results will vary depending on which input parameters you are using, but will generally converge when the input price parameters are approaching the resulting break-even prices."
            ]
        },
        {
            "cell_type": "markdown",
            "id": "899b3ddc",
            "metadata": {},
            "source": [
                "## Break-even price of H2\n",
                "The break-even price of H2 can be obtained as following."
            ]
        },
        {
            "cell_type": "code",
            "execution_count": 28,
            "id": "5aa76366",
            "metadata": {},
            "outputs": [],
            "source": [
                "# Install hydesign if needed\n",
                "import importlib\n",
                "if not importlib.util.find_spec(\"hydesign\"):\n",
                "    !pip install git+https://gitlab.windenergy.dtu.dk/TOPFARM/hydesign.git   "
            ]
        },
        {
            "cell_type": "code",
            "execution_count": 1,
            "id": "3971a63e",
            "metadata": {},
            "outputs": [],
            "source": [
                "%%capture\n",
                "import pandas as pd\n",
                "from hydesign.assembly.hpp_assembly import hpp_model\n",
                "from hydesign.assembly.hpp_assembly_P2X import hpp_model_P2X\n",
                "from hydesign.examples import examples_filepath"
            ]
        },
        {
            "cell_type": "code",
            "execution_count": 2,
            "id": "3c5920a0",
            "metadata": {},
            "outputs": [
                {
                    "name": "stdout",
                    "output_type": "stream",
                    "text": [
                        "\n",
                        "Fixed parameters on the site\n",
                        "-------------------------------\n",
                        "longitude = -0.864258\n",
                        "latitude = 48.744116\n",
                        "altitude = 302.0\n"
                    ]
                }
            ],
            "source": [
                "examples_sites = pd.read_csv(f'{examples_filepath}examples_sites.csv', index_col=0, sep=';')\n",
                "name = 'France_good_wind'\n",
                "ex_site = examples_sites.loc[examples_sites.name == name]\n",
                "longitude = ex_site['longitude'].values[0]\n",
                "latitude = ex_site['latitude'].values[0]\n",
                "altitude = ex_site['altitude'].values[0]\n",
                "input_ts_fn = examples_filepath+ex_site['input_ts_fn'].values[0]\n",
                "sim_pars_fn = examples_filepath+ex_site['sim_pars_fn'].values[0]\n",
                "H2_demand_fn = examples_filepath+ex_site['H2_demand_col'].values[0]\n",
                "hpp = hpp_model_P2X(\n",
                "    latitude=latitude,\n",
                "    longitude=longitude,\n",
                "    altitude=altitude,\n",
                "    num_batteries = 1,\n",
                "    work_dir = './',\n",
                "    sim_pars_fn = sim_pars_fn,\n",
                "    input_ts_fn = input_ts_fn,\n",
                "    H2_demand_fn=H2_demand_fn) \n"
            ]
        },
        {
            "cell_type": "code",
            "execution_count": 3,
            "id": "eebe55f8",
            "metadata": {},
            "outputs": [],
            "source": [
                "x = [10.0, 350.0, 5.0, 20.0, 7.0, 100.0, 50.0, 180.0, 1.5, 0.0, 3.0, 5.0, 100.0, 2500.0]\n",
                "outs = hpp.evaluate(*x)"
            ]
        },
        {
            "cell_type": "code",
            "execution_count": 4,
            "id": "0f71ef04",
            "metadata": {},
            "outputs": [
                {
                    "name": "stdout",
                    "output_type": "stream",
                    "text": [
                        "\n",
                        "Design:\n",
                        "---------------\n",
                        "clearance [m]: 10.000\n",
                        "sp [W/m2]: 350.000\n",
                        "p_rated [MW]: 5.000\n",
                        "Nwt: 20.000\n",
                        "wind_MW_per_km2 [MW/km2]: 7.000\n",
                        "solar_MW [MW]: 100.000\n",
                        "surface_tilt [deg]: 50.000\n",
                        "surface_azimuth [deg]: 180.000\n",
                        "DC_AC_ratio: 1.500\n",
                        "b_P [MW]: 0.000\n",
                        "b_E_h [h]: 3.000\n",
                        "cost_of_battery_P_fluct_in_peak_price_ratio: 5.000\n",
                        "ptg_MW [MW]: 100.000\n",
                        "HSS_kg [kg]: 2500.000\n",
                        "\n",
                        "\n",
                        "NPV_over_CAPEX: 1.019\n",
                        "NPV [MEuro]: 250.711\n",
                        "IRR: 0.140\n",
                        "LCOE [Euro/MWh]: 37.035\n",
                        "LCOH [Euro/kg]: 7.373\n",
                        "Revenue [MEuro]: 763.277\n",
                        "CAPEX [MEuro]: 245.948\n",
                        "OPEX [MEuro]: 4.221\n",
                        "penalty lifetime [MEuro]: 0.000\n",
                        "AEP [GWh]: 38.135\n",
                        "GUF: 0.015\n",
                        "annual_H2 [tons]: 5671.902\n",
                        "annual_P_ptg [GWh]: 372.724\n",
                        "grid [MW]: 300.000\n",
                        "wind [MW]: 100.000\n",
                        "solar [MW]: 100.000\n",
                        "PtG [MW]: 100.000\n",
                        "HSS [kg]: 2500.000\n",
                        "Battery Energy [MWh]: 0.000\n",
                        "Battery Power [MW]: 0.000\n",
                        "Total curtailment [GWh]: 0.000\n",
                        "Awpp [km2]: 14.286\n",
                        "Apvp [km2]: 1.226\n",
                        "Rotor diam [m]: 134.867\n",
                        "Hub height [m]: 77.434\n",
                        "Number of batteries used in lifetime: 0.000\n",
                        "Break-even H2 price [Euro/kg]: 2.513\n",
                        "Break-even PPA price [Euro/MWh]: 0.000\n",
                        "Capacity factor wind [-]: 0.303\n",
                        "\n"
                    ]
                }
            ],
            "source": [
                "hpp.print_design()"
            ]
        },
        {
            "cell_type": "markdown",
            "id": "ae1fb581",
            "metadata": {},
            "source": [
                "The break-even H2 price is seen in the above table and can also be extracted directly:"
            ]
        },
        {
            "cell_type": "code",
            "execution_count": 5,
            "id": "df6af8b7",
            "metadata": {},
            "outputs": [
                {
                    "name": "stdout",
                    "output_type": "stream",
                    "text": [
                        "Input H2 price: 5.00\n",
                        "Break-even H2 price: 2.51\n"
                    ]
                }
            ],
            "source": [
                "print(f'Input H2 price: {hpp.sim_pars[\"price_H2\"]:.2f}')\n",
                "print(f'Break-even H2 price: {float(hpp.prob[\"break_even_H2_price\"][0]):.2f}')"
            ]
        },
        {
            "cell_type": "markdown",
            "id": "6d366654",
            "metadata": {},
            "source": [
                "## Power Purchase Agreement (PPA)\n",
                "Constant price can be introduced by supplying a time series of constant prices or setting the PPA price directly when instantiating the hpp model:"
            ]
        },
        {
            "cell_type": "code",
            "execution_count": 6,
            "id": "6b357810",
            "metadata": {},
            "outputs": [
                {
                    "name": "stdout",
                    "output_type": "stream",
                    "text": [
                        "\n",
                        "Fixed parameters on the site\n",
                        "-------------------------------\n",
                        "longitude = -0.864258\n",
                        "latitude = 48.744116\n",
                        "altitude = 302.0\n"
                    ]
                }
            ],
            "source": [
                "PPA = 40 # Euro/MWh\n",
                "hpp = hpp_model(\n",
                "    latitude=latitude,\n",
                "    longitude=longitude,\n",
                "    altitude=altitude,\n",
                "    num_batteries = 1,\n",
                "    work_dir = './',\n",
                "    sim_pars_fn = sim_pars_fn,\n",
                "    input_ts_fn = input_ts_fn,\n",
                "    ppa_price=PPA,)"
            ]
        },
        {
            "cell_type": "code",
            "execution_count": 7,
            "id": "2b028066",
            "metadata": {},
            "outputs": [],
            "source": [
                "x = [10.0, 350.0, 5.0, 20.0, 7.0, 100.0, 50.0, 180.0, 1.5, 0.0, 3.0, 5.0]\n",
                "outs = hpp.evaluate(*x)"
            ]
        },
        {
            "cell_type": "code",
            "execution_count": 8,
            "id": "327c8aaa",
            "metadata": {},
            "outputs": [
                {
                    "name": "stdout",
                    "output_type": "stream",
                    "text": [
                        "\n",
                        "Design:\n",
                        "---------------\n",
                        "clearance [m]: 10.000\n",
                        "sp [W/m2]: 350.000\n",
                        "p_rated [MW]: 5.000\n",
                        "Nwt: 20.000\n",
                        "wind_MW_per_km2 [MW/km2]: 7.000\n",
                        "solar_MW [MW]: 100.000\n",
                        "surface_tilt [deg]: 50.000\n",
                        "surface_azimuth [deg]: 180.000\n",
                        "DC_AC_ratio: 1.500\n",
                        "b_P [MW]: 0.000\n",
                        "b_E_h [h]: 3.000\n",
                        "cost_of_battery_P_fluct_in_peak_price_ratio: 5.000\n",
                        "\n",
                        "\n",
                        "NPV_over_CAPEX: 0.538\n",
                        "NPV [MEuro]: 88.878\n",
                        "IRR: 0.102\n",
                        "LCOE [Euro/MWh]: 41.348\n",
                        "Revenues [MEuro]: 14.233\n",
                        "CAPEX [MEuro]: 165.198\n",
                        "OPEX [MEuro]: 2.293\n",
                        "Wind CAPEX [MEuro]: 76.430\n",
                        "Wind OPEX [MEuro]: 1.618\n",
                        "PV CAPEX [MEuro]: 33.500\n",
                        "PV OPEX [MEuro]: 0.675\n",
                        "Batt CAPEX [MEuro]: 0.000\n",
                        "Batt OPEX [MEuro]: 0.000\n",
                        "Shared CAPEX [MEuro]: 55.268\n",
                        "Shared OPEX [MEuro]: 0.000\n",
                        "penalty lifetime [MEuro]: 0.000\n",
                        "AEP [GWh]: 355.831\n",
                        "GUF: 0.135\n",
                        "grid [MW]: 300.000\n",
                        "wind [MW]: 100.000\n",
                        "solar [MW]: 100.000\n",
                        "Battery Energy [MWh]: 0.000\n",
                        "Battery Power [MW]: 0.000\n",
                        "Total curtailment [GWh]: 0.000\n",
                        "Total curtailment with deg [GWh]: 0.000\n",
                        "Awpp [km2]: 14.286\n",
                        "Apvp [km2]: 1.226\n",
                        "Plant area [km2]: 14.286\n",
                        "Rotor diam [m]: 134.867\n",
                        "Hub height [m]: 77.434\n",
                        "Number of batteries used in lifetime: 0.000\n",
                        "Break-even PPA price [Euro/MWh]: 27.191\n",
                        "Capacity factor wind [-]: 0.265\n",
                        "\n"
                    ]
                }
            ],
            "source": [
                "hpp.print_design()"
            ]
        },
        {
            "cell_type": "markdown",
            "id": "f5149488",
            "metadata": {},
            "source": [
                "The break-even PPA price is seen in the above table and can also be extracted directly:"
            ]
        },
        {
            "cell_type": "code",
            "execution_count": 9,
            "id": "3ff78d71",
            "metadata": {},
            "outputs": [
                {
                    "name": "stdout",
                    "output_type": "stream",
                    "text": [
                        "Input H2 price: 40.00\n",
                        "Break-even H2 price: 27.19\n"
                    ]
                }
            ],
            "source": [
                "print(f'Input H2 price: {float(PPA):.2f}')\n",
                "print(f'Break-even H2 price: {float(hpp.prob[\"break_even_PPA_price\"][0]):.2f}')"
            ]
        },
        {
            "cell_type": "markdown",
            "id": "ae66addd",
            "metadata": {},
            "source": [
                "LCOE is a measure of lifetime cost of producing power, but comes out somewhat different from the break-even price. This is because break-even price is based on NPV calculations that takes into account e.g. the corporate tax rate as well as penalties incurred from not meeting expected loads."
            ]
        }
    ],
    "metadata": {
        "kernelspec": {
            "display_name": "hydesign2",
            "language": "python",
            "name": "python3"
        },
        "language_info": {
            "codemirror_mode": {
                "name": "ipython",
                "version": 3
            },
            "file_extension": ".py",
            "mimetype": "text/x-python",
            "name": "python",
            "nbconvert_exporter": "python",
            "pygments_lexer": "ipython3",
            "version": "3.11.11"
        }
    },
    "nbformat": 4,
    "nbformat_minor": 5
}
