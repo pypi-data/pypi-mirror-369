{
 "cells": [
  {
   "cell_type": "markdown",
   "metadata": {
    "pycharm": {
     "name": "#%% md\n"
    }
   },
   "source": [
    "# Reusing Results"
   ]
  },
  {
   "cell_type": "markdown",
   "metadata": {
    "pycharm": {
     "name": "#%% md\n"
    }
   },
   "source": [
    "This notebook demonstrates how to reuse previously computed results across tools and across analyzers.\n",
    "\n",
    "---"
   ]
  },
  {
   "attachments": {},
   "cell_type": "markdown",
   "metadata": {
    "pycharm": {
     "name": "#%% md\n"
    }
   },
   "source": [
    "Include the repository root in your path and import all required packages and components from the Model Agnostic Toolkit."
   ]
  },
  {
   "cell_type": "code",
   "execution_count": 17,
   "metadata": {
    "ExecuteTime": {
     "end_time": "2023-06-21T12:42:11.514616800Z",
     "start_time": "2023-06-21T12:42:11.485981900Z"
    },
    "pycharm": {
     "name": "#%%\n"
    }
   },
   "outputs": [],
   "source": [
    "import sys\n",
    "sys.path.insert(0, '..')\n",
    "\n",
    "from model_agnostic_toolkit import Model, ImportanceAnalyzer, InteractionAnalyzer\n",
    "from model_agnostic_toolkit.datasets import MultiplicationTwoDataset\n",
    "from model_agnostic_toolkit.tools import PDPImportance, PDPInteraction, VIPImportance, VIPInteraction, ALEImportance, ALEInteraction"
   ]
  },
  {
   "cell_type": "markdown",
   "metadata": {
    "pycharm": {
     "name": "#%% md\n"
    }
   },
   "source": [
    "Create or load a dataset and retrieve its features and feature pairs. Additionally, create the default gradient-boosted tree model."
   ]
  },
  {
   "cell_type": "code",
   "execution_count": 18,
   "metadata": {
    "ExecuteTime": {
     "end_time": "2023-06-21T12:42:11.582905800Z",
     "start_time": "2023-06-21T12:42:11.514616800Z"
    },
    "pycharm": {
     "name": "#%%\n"
    }
   },
   "outputs": [
    {
     "name": "stdout",
     "output_type": "stream",
     "text": [
      "Loading data from ../data/multiplication_two.hdf5 ... done.\n"
     ]
    }
   ],
   "source": [
    "data = MultiplicationTwoDataset(file='../data/multiplication_two.hdf5')\n",
    "features = data.features\n",
    "feature_pairs = data.feature_pairs"
   ]
  },
  {
   "cell_type": "code",
   "execution_count": 19,
   "metadata": {
    "ExecuteTime": {
     "end_time": "2023-06-21T12:42:11.601189600Z",
     "start_time": "2023-06-21T12:42:11.582905800Z"
    },
    "pycharm": {
     "name": "#%%\n"
    }
   },
   "outputs": [
    {
     "name": "stdout",
     "output_type": "stream",
     "text": [
      "Created XGBRegressor.\n"
     ]
    }
   ],
   "source": [
    "model = Model(data_type=data.data_type)"
   ]
  },
  {
   "cell_type": "markdown",
   "metadata": {
    "pycharm": {
     "name": "#%% md\n"
    }
   },
   "source": [
    "Create an importance analyzer with a list of tool instances you want to run and start the analysis by calling its `run_analysis()` method.\n",
    "\n",
    "Without needing to do more, results of these tools are already reused by the respective other tools. Here, the VIP importance tool internally relies on PDP importance results and reuses the existing ones without recomputation. The order of tools does not matter."
   ]
  },
  {
   "cell_type": "code",
   "execution_count": 20,
   "metadata": {
    "ExecuteTime": {
     "end_time": "2023-06-21T12:42:13.203774800Z",
     "start_time": "2023-06-21T12:42:11.601189600Z"
    },
    "pycharm": {
     "name": "#%%\n"
    }
   },
   "outputs": [],
   "source": [
    "tools_importance = [PDPImportance(), VIPImportance()]\n",
    "ana_importance = ImportanceAnalyzer(model=model, dataset=data, tools=tools_importance)\n",
    "\n",
    "res_importance = ana_importance.run_analysis(features=features)"
   ]
  },
  {
   "cell_type": "markdown",
   "metadata": {
    "pycharm": {
     "name": "#%% md\n"
    }
   },
   "source": [
    "In addition to sharing results across tools within an analyzer, results can also be shared across analyzers.\n",
    "\n",
    "Create an interaction analyzer with a list of tool instances you want to run. Pass the previous importance analyzer with the `reuse_analyzers` parameter. Then start the analysis.\n",
    "\n",
    "The interaction analyzer can then reuse the importance analyzer's results."
   ]
  },
  {
   "cell_type": "code",
   "execution_count": 21,
   "metadata": {
    "pycharm": {
     "name": "#%%\n"
    }
   },
   "outputs": [],
   "source": [
    "tools_interaction = [PDPInteraction(), VIPInteraction()]\n",
    "ana_interaction = InteractionAnalyzer(model=model, dataset=data, tools=tools_interaction,\n",
    "                                  reuse_analyzers=ana_importance)\n",
    "\n",
    "res_interaction = ana_interaction.run_analysis(features=feature_pairs)"
   ]
  },
  {
   "cell_type": "markdown",
   "metadata": {
    "pycharm": {
     "name": "#%% md\n"
    }
   },
   "source": [
    "Tools can also be reused if they have not been run before. Results from running them through other tools are then temporarily stored in their analyzer until they are evaluated themselves. Also, reuse analyzers can be added even after an analyzer is initialized."
   ]
  },
  {
   "cell_type": "markdown",
   "metadata": {
    "pycharm": {
     "name": "#%% md\n"
    }
   },
   "source": [
    "Create an importance analyzer with a list of tool instances you want to run."
   ]
  },
  {
   "cell_type": "code",
   "execution_count": 22,
   "metadata": {
    "ExecuteTime": {
     "end_time": "2023-06-21T12:44:08.314373200Z",
     "start_time": "2023-06-21T12:42:09.336704500Z"
    },
    "pycharm": {
     "name": "#%%\n"
    }
   },
   "outputs": [],
   "source": [
    "tools_importance = [ALEImportance()]\n",
    "ana_importance = ImportanceAnalyzer(model=model, dataset=data, tools=tools_importance)"
   ]
  },
  {
   "cell_type": "markdown",
   "metadata": {
    "pycharm": {
     "name": "#%% md\n"
    }
   },
   "source": [
    "Add tools to the interaction analyzer and specify the importance analyzer as a reuse analyzer via the `add_reuse_analyzers()` method. Then run the interaction analysis again (this yields all tools' results, including those computed earlier).\n",
    "\n",
    "Here, the ALE interaction internally relies on ALE importance results. Those are computed and temporarily stored in the importance analyzer."
   ]
  },
  {
   "cell_type": "code",
   "execution_count": 23,
   "metadata": {
    "ExecuteTime": {
     "end_time": "2023-06-21T12:44:12.078244100Z",
     "start_time": "2023-06-21T12:42:09.355809400Z"
    },
    "pycharm": {
     "name": "#%%\n"
    }
   },
   "outputs": [],
   "source": [
    "ana_interaction.add_tools(ALEInteraction(include_first_order=True))\n",
    "ana_interaction.add_reuse_analyzers(ana_importance)\n",
    "\n",
    "res_interaction = ana_interaction.run_analysis(features=feature_pairs)"
   ]
  },
  {
   "cell_type": "markdown",
   "metadata": {
    "pycharm": {
     "name": "#%% md\n"
    }
   },
   "source": [
    "Start the importance analysis. The temporary results for ALE importance, computed while calculating the ALE interaction, are now reused and not recomputed."
   ]
  },
  {
   "cell_type": "code",
   "execution_count": 24,
   "metadata": {
    "ExecuteTime": {
     "end_time": "2023-06-21T12:44:12.163246200Z",
     "start_time": "2023-06-21T12:42:11.434339400Z"
    },
    "collapsed": false,
    "pycharm": {
     "name": "#%%\n"
    }
   },
   "outputs": [],
   "source": [
    "res_importance = ana_importance.run_analysis(features=features)"
   ]
  },
  {
   "cell_type": "code",
   "execution_count": null,
   "metadata": {
    "collapsed": false
   },
   "outputs": [],
   "source": []
  }
 ],
 "metadata": {
  "kernelspec": {
   "display_name": "Python 3.9.12 ('ima-r')",
   "language": "python",
   "name": "python3"
  },
  "language_info": {
   "codemirror_mode": {
    "name": "ipython",
    "version": 3
   },
   "file_extension": ".py",
   "mimetype": "text/x-python",
   "name": "python",
   "nbconvert_exporter": "python",
   "pygments_lexer": "ipython3",
   "version": "3.9.12"
  },
  "orig_nbformat": 4,
  "vscode": {
   "interpreter": {
    "hash": "38bc4c7201265a8b588710337b5805f15f85cbef78d21927657580f67b79a9f9"
   }
  }
 },
 "nbformat": 4,
 "nbformat_minor": 2
}
