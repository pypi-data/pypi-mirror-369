{
 "cells": [
  {
   "cell_type": "code",
   "execution_count": null,
   "metadata": {
    "vscode": {
     "languageId": "plaintext"
    }
   },
   "outputs": [],
   "source": [
    "job_id = \"ft-b9453f5e-79d7\"\n",
    "model_name = \"strategic_sdf\"\n",
    "print(\"Downloading Model...\")\n",
    "!together fine-tuning download {job_id}\n",
    "!mkdir -p {model_name}\n",
    "print(\"Unzipping model...\")\n",
    "!tar --use-compress-program=unzstd -xvf *.tar.zst -C {model_name}\n",
    "from huggingface_hub import HfApi, upload_folder\n",
    "api = HfApi()\n",
    "print(\"Uploading Model...\")\n",
    "api.upload_large_folder(\n",
    "    folder_path=model_name,\n",
    "    repo_id=f\"alignment-faking-ctf/{model_name}\",\n",
    "    repo_type=\"model\",\n",
    ")\n",
    "print(\"Cleaning up...\")\n",
    "!rm -rf {model_name}\n",
    "!rm *.tar.zst\n",
    "print(\"Finished successfully.\")"
   ]
  }
 ],
 "metadata": {
  "language_info": {
   "name": "python"
  }
 },
 "nbformat": 4,
 "nbformat_minor": 2
}
