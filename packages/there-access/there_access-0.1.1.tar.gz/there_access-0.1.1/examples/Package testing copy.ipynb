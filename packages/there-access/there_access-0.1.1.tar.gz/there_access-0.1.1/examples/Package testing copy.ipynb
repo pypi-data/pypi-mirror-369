{
 "cells": [
  {
   "cell_type": "markdown",
   "id": "fbfef795",
   "metadata": {},
   "source": [
    "This notebook is for testing the there package."
   ]
  },
  {
   "cell_type": "code",
   "execution_count": 2,
   "id": "e81e297d",
   "metadata": {},
   "outputs": [
    {
     "name": "stderr",
     "output_type": "stream",
     "text": [
      "c:\\Users\\z3258367\\Anaconda3\\envs\\ox_ua_there\\lib\\site-packages\\osmnx\\projection.py:3: UserWarning: Shapely 2.0 is installed, but because PyGEOS is also installed, GeoPandas will still use PyGEOS by default for now. To force to use and test Shapely 2.0, you have to set the environment variable USE_PYGEOS=0. You can do this before starting the Python process, or in your code before importing geopandas:\n",
      "\n",
      "import os\n",
      "os.environ['USE_PYGEOS'] = '0'\n",
      "import geopandas\n",
      "\n",
      "In a future release, GeoPandas will switch to using Shapely by default. If you are using PyGEOS directly (calling PyGEOS functions on geometries from GeoPandas), this will then stop working and you are encouraged to migrate from PyGEOS to Shapely 2.0 (https://shapely.readthedocs.io/en/latest/migration_pygeos.html).\n",
      "  import geopandas as gpd\n"
     ]
    }
   ],
   "source": [
    "import sys\n",
    "import osmnx as ox\n",
    "import geopandas as gpd\n",
    "import urbanaccess as ua\n",
    "import pandas as pd\n",
    "import there as there"
   ]
  },
  {
   "cell_type": "code",
   "execution_count": 3,
   "id": "1df968e6",
   "metadata": {},
   "outputs": [],
   "source": [
    "place = \"Adelaide, Australia\"\n",
    "proj_crs = \"EPSG:28355\"  # GDA94 / MGA zone 55"
   ]
  },
  {
   "cell_type": "markdown",
   "id": "84fd589a",
   "metadata": {},
   "source": [
    "Having selected a location, we download destination points of interest using OSMnx and the inbuilt POI dictionary. This dictionary can be edited to calculate access to different POIs."
   ]
  },
  {
   "cell_type": "code",
   "execution_count": 4,
   "id": "8be3d21b",
   "metadata": {},
   "outputs": [],
   "source": [
    "poi_dict = there.get_poi_dict()\n",
    "place_gdf = ox.geocode_to_gdf(place).to_crs(proj_crs)\n",
    "osm_pois = there.poi_downloader(place_gdf, poi_dict, proj_crs)"
   ]
  },
  {
   "cell_type": "markdown",
   "id": "36f059ea",
   "metadata": {},
   "source": [
    "For Australian case studies, employment data is added using ABS census data prepared previously. The basic format required is a location plus a number of jobs available there. If employment data is not available, this can be removed from the indexes."
   ]
  },
  {
   "cell_type": "code",
   "execution_count": 5,
   "id": "a127b3f4",
   "metadata": {},
   "outputs": [],
   "source": [
    "employment_centrs = gpd.read_file((\"example employment data.gpkg\")).to_crs(proj_crs)\n",
    "employment_centrs['category'] = 'employment' #set a category column matching the POI dictionary"
   ]
  },
  {
   "cell_type": "code",
   "execution_count": 6,
   "id": "bf2cba90",
   "metadata": {},
   "outputs": [
    {
     "name": "stderr",
     "output_type": "stream",
     "text": [
      "c:\\Users\\z3258367\\Anaconda3\\envs\\ox_ua_there\\lib\\site-packages\\geopandas\\array.py:1406: UserWarning: CRS not set for some of the concatenation inputs. Setting output's CRS as GDA94 / MGA zone 55 (the single non-null crs provided).\n",
      "  warnings.warn(\n"
     ]
    }
   ],
   "source": [
    "all_pois = pd.concat([osm_pois, employment_centrs])\n",
    "all_pois = gpd.clip(all_pois, place_gdf.to_crs(proj_crs))"
   ]
  },
  {
   "cell_type": "code",
   "execution_count": 7,
   "id": "27f47539",
   "metadata": {},
   "outputs": [],
   "source": [
    "walk_network = there.prepare_walk_net(place_gdf, proj_crs)"
   ]
  },
  {
   "cell_type": "code",
   "execution_count": 8,
   "id": "1e573ac7",
   "metadata": {},
   "outputs": [],
   "source": [
    "poi_params = there.default_poi_params()\n",
    "poi_params.loc['employment','num_pois'] = 1200\n",
    "poi_params.loc['employment','variable'] = \"MB Job Count\""
   ]
  },
  {
   "cell_type": "markdown",
   "id": "ffa8c0cb",
   "metadata": {},
   "source": [
    "## Calculate walking index"
   ]
  },
  {
   "cell_type": "code",
   "execution_count": 14,
   "id": "ac04a749",
   "metadata": {},
   "outputs": [
    {
     "name": "stdout",
     "output_type": "stream",
     "text": [
      "Finished category: employment\n",
      "Maximum score: 15.730007015824427 out of 31.9\n",
      "Finished category: education\n",
      "Maximum score: 8.375054762147114 out of 14.3\n",
      "Finished category: shopping\n",
      "Maximum score: 15.824273051935048 out of 21.6\n",
      "Finished category: errands\n",
      "Maximum score: 6.4027665243008975 out of 8.9\n",
      "Finished category: recreation\n",
      "Maximum score: 17.22566031440409 out of 23.3\n"
     ]
    }
   ],
   "source": [
    "maximum_dist = 2400\n",
    "results_walk = there.there_index(walk_network, all_pois, poi_dict, poi_params['weight'], poi_params['distance_constant'],poi_params['num_pois'],\n",
    "                             poi_params['diminishing_returns_constant'],poi_variables=poi_params['variable'],distance=maximum_dist)"
   ]
  },
  {
   "cell_type": "code",
   "execution_count": 32,
   "id": "76b6c9be",
   "metadata": {},
   "outputs": [
    {
     "name": "stdout",
     "output_type": "stream",
     "text": [
      "Finished category: employment\n",
      "Maximum score: 10.486671343882943 out of 31.9\n",
      "Finished category: education\n",
      "Maximum score: 5.583369841431411 out of 14.3\n",
      "Finished category: shopping\n",
      "Maximum score: 10.549515367956698 out of 21.6\n",
      "Finished category: errands\n",
      "Maximum score: 4.268511016200598 out of 8.9\n",
      "Finished category: recreation\n",
      "Maximum score: 11.483773542936062 out of 23.3\n",
      "loop: 0\n",
      "Finished category: employment\n",
      "Maximum score: 12.400349057686912 out of 31.9\n",
      "Finished category: education\n",
      "Maximum score: 6.422506380677627 out of 14.3\n",
      "Finished category: shopping\n",
      "Maximum score: 12.607254520202057 out of 21.6\n",
      "Finished category: errands\n",
      "Maximum score: 5.110533474978783 out of 8.9\n",
      "Finished category: recreation\n",
      "Maximum score: 13.712359813717104 out of 23.3\n",
      "loop: 1\n"
     ]
    }
   ],
   "source": [
    "maximum_dist = 2400\n",
    "results_walk = there.cluster_index(walk_network, all_pois, poi_dict, poi_params['weight'], poi_params['distance_constant'],poi_params['num_pois'],\n",
    "                             poi_params['diminishing_returns_constant'],poi_variables=poi_params['variable'],distance=maximum_dist)"
   ]
  },
  {
   "cell_type": "markdown",
   "id": "8b322a50",
   "metadata": {},
   "source": [
    "## Calculate index for public transport\n",
    "For public transport, different functions are needed in order to correctly join POI locations to street-level nodes only. Two networks must be used - an integrated public transport & walking network prepared by UrbanAccess, and a walking only network."
   ]
  },
  {
   "cell_type": "code",
   "execution_count": 11,
   "id": "9be76718",
   "metadata": {},
   "outputs": [
    {
     "name": "stdout",
     "output_type": "stream",
     "text": [
      "Checking GTFS text file header whitespace... Reading files using encoding: utf-8 set in configuration.\n",
      "GTFS text file header whitespace check completed. Took 0.18 seconds\n",
      "--------------------------------\n",
      "Processing GTFS feed: Adelaide_gtfs_2.5.2025\n"
     ]
    },
    {
     "name": "stderr",
     "output_type": "stream",
     "text": [
      "c:\\Users\\z3258367\\Anaconda3\\envs\\ox_ua_there\\lib\\site-packages\\urbanaccess\\gtfs\\utils_format.py:1066: FutureWarning: The default value of regex will change from True to False in a future version.\n",
      "  col_snake_case = col.str.replace(r'\\s+', '_')\n"
     ]
    },
    {
     "name": "stdout",
     "output_type": "stream",
     "text": [
      "GTFS feed: Adelaide_gtfs_2.5.2025, calendar_dates uses the same service_id across multiple agency_ids. This feed calendar_dates table will be modified from its original format to provide service_ids for each agency using a one to many join\n",
      "GTFS feed: Adelaide_gtfs_2.5.2025, calendar uses the same service_id across multiple agency_ids. This feed calendar table will be modified from its original format to provide service_ids for each agency using a one to many join\n"
     ]
    },
    {
     "name": "stderr",
     "output_type": "stream",
     "text": [
      "c:\\Users\\z3258367\\Anaconda3\\envs\\ox_ua_there\\lib\\site-packages\\urbanaccess\\gtfs\\utils_format.py:1066: FutureWarning: The default value of regex will change from True to False in a future version.\n",
      "  col_snake_case = col.str.replace(r'\\s+', '_')\n",
      "c:\\Users\\z3258367\\Anaconda3\\envs\\ox_ua_there\\lib\\site-packages\\urbanaccess\\gtfs\\utils_format.py:1066: FutureWarning: The default value of regex will change from True to False in a future version.\n",
      "  col_snake_case = col.str.replace(r'\\s+', '_')\n",
      "c:\\Users\\z3258367\\Anaconda3\\envs\\ox_ua_there\\lib\\site-packages\\urbanaccess\\gtfs\\utils_format.py:1066: FutureWarning: The default value of regex will change from True to False in a future version.\n",
      "  col_snake_case = col.str.replace(r'\\s+', '_')\n"
     ]
    },
    {
     "name": "stdout",
     "output_type": "stream",
     "text": [
      "GTFS feed: Adelaide_gtfs_2.5.2025, stops uses the same stop_id across multiple agency_ids. This feed stops table will be modified from its original format to provide stop_ids for each agency using a one to many join\n"
     ]
    },
    {
     "name": "stderr",
     "output_type": "stream",
     "text": [
      "c:\\Users\\z3258367\\Anaconda3\\envs\\ox_ua_there\\lib\\site-packages\\urbanaccess\\gtfs\\utils_format.py:1066: FutureWarning: The default value of regex will change from True to False in a future version.\n",
      "  col_snake_case = col.str.replace(r'\\s+', '_')\n",
      "c:\\Users\\z3258367\\Anaconda3\\envs\\ox_ua_there\\lib\\site-packages\\urbanaccess\\gtfs\\utils_format.py:1066: FutureWarning: The default value of regex will change from True to False in a future version.\n",
      "  col_snake_case = col.str.replace(r'\\s+', '_')\n"
     ]
    },
    {
     "name": "stdout",
     "output_type": "stream",
     "text": [
      "agency.txt agency_name column has more than one agency name listed. Unique agency id was assigned using the agency id and associated agency name.\n",
      "Unique agency id operation complete. Took 4.31 seconds\n",
      "Unique GTFS feed id operation complete. Took 0.00 seconds\n",
      "WARNING: Adelaide_gtfs_2.5.2025 GTFS feed stops: 189 of 9,886 (1.91 percent of total) record(s) are outside the bounding box coordinates\n",
      "Records:\n",
      "     stop_id            unique_agency_id  stop_code  \\\n",
      "306     5488  school_service_-_southlink    15338.0   \n",
      "307     5488                   southlink    15338.0   \n",
      "308     5516  school_service_-_southlink    15366.0   \n",
      "309     5516                   southlink    15366.0   \n",
      "310     7304                   southlink    16670.0   \n",
      "...      ...                         ...        ...   \n",
      "1189  100787                   southlink    17882.0   \n",
      "1190  100790                   southlink    17885.0   \n",
      "1191  100792                   southlink    17887.0   \n",
      "1253  101272                   southlink    18363.0   \n",
      "4155  101237             torrens_transit    18328.0   \n",
      "\n",
      "                              stop_name                        stop_desc  \\\n",
      "306   Stop 61 Mt Barker Rd - North side          2 Mt Barker Rd, Totness   \n",
      "307   Stop 61 Mt Barker Rd - North side          2 Mt Barker Rd, Totness   \n",
      "308     Stop 62 Adelaide Rd - East side     68 Adelaide Rd, Mount Barker   \n",
      "309     Stop 62 Adelaide Rd - East side     68 Adelaide Rd, Mount Barker   \n",
      "310     Stop 63 Adelaide Rd - East side  50-52 Adelaide Rd, Mount Barker   \n",
      "...                                 ...                              ...   \n",
      "1189    Stop 89 Thiele Ave - North side      24 Thiele Ave, Mount Barker   \n",
      "1190      Stop 90 Dumas St - North side     16-18 Dumas St, Mount Barker   \n",
      "1191      Stop 91 Dumas St - North side         4 Dumas St, Mount Barker   \n",
      "1253           Stop Cameron Rd Terminus       6 Cameron Rd, Mount Barker   \n",
      "4155   Stop 116 Osprey Pde - North side            36 Osprey Pde, Hewett   \n",
      "\n",
      "       stop_lat    stop_lon  zone_id  \\\n",
      "306  -35.054230  138.851760      NaN   \n",
      "307  -35.054230  138.851760      NaN   \n",
      "308  -35.060520  138.852600      NaN   \n",
      "309  -35.060520  138.852600      NaN   \n",
      "310  -35.064380  138.854690      NaN   \n",
      "...         ...         ...      ...   \n",
      "1189 -35.071526  138.849178      NaN   \n",
      "1190 -35.070017  138.851197      NaN   \n",
      "1191 -35.069088  138.852885      NaN   \n",
      "1253 -35.064531  138.860963      NaN   \n",
      "4155 -34.571043  138.750882      NaN   \n",
      "\n",
      "                                              stop_url  location_type  \\\n",
      "306   http://www.adelaidemetro.com.au/stops/view/15338            NaN   \n",
      "307   http://www.adelaidemetro.com.au/stops/view/15338            NaN   \n",
      "308   http://www.adelaidemetro.com.au/stops/view/15366            NaN   \n",
      "309   http://www.adelaidemetro.com.au/stops/view/15366            NaN   \n",
      "310   http://www.adelaidemetro.com.au/stops/view/16670            NaN   \n",
      "...                                                ...            ...   \n",
      "1189  http://www.adelaidemetro.com.au/stops/view/17882            NaN   \n",
      "1190  http://www.adelaidemetro.com.au/stops/view/17885            NaN   \n",
      "1191  http://www.adelaidemetro.com.au/stops/view/17887            NaN   \n",
      "1253  http://www.adelaidemetro.com.au/stops/view/18363            NaN   \n",
      "4155  http://www.adelaidemetro.com.au/stops/view/18328            NaN   \n",
      "\n",
      "      parent_station  stop_timezone  wheelchair_boarding  \\\n",
      "306              NaN            NaN                  NaN   \n",
      "307              NaN            NaN                  NaN   \n",
      "308              NaN            NaN                  NaN   \n",
      "309              NaN            NaN                  NaN   \n",
      "310              NaN            NaN                  NaN   \n",
      "...              ...            ...                  ...   \n",
      "1189             NaN            NaN                  NaN   \n",
      "1190             NaN            NaN                  NaN   \n",
      "1191             NaN            NaN                  NaN   \n",
      "1253             NaN            NaN                  NaN   \n",
      "4155             NaN            NaN                  NaN   \n",
      "\n",
      "                unique_feed_id  \n",
      "306   adelaide_gtfs_2.5.2025_1  \n",
      "307   adelaide_gtfs_2.5.2025_1  \n",
      "308   adelaide_gtfs_2.5.2025_1  \n",
      "309   adelaide_gtfs_2.5.2025_1  \n",
      "310   adelaide_gtfs_2.5.2025_1  \n",
      "...                        ...  \n",
      "1189  adelaide_gtfs_2.5.2025_1  \n",
      "1190  adelaide_gtfs_2.5.2025_1  \n",
      "1191  adelaide_gtfs_2.5.2025_1  \n",
      "1253  adelaide_gtfs_2.5.2025_1  \n",
      "4155  adelaide_gtfs_2.5.2025_1  \n",
      "\n",
      "[189 rows x 14 columns]\n",
      "Removed identified stops that are outside of bounding box.\n",
      "Adelaide_gtfs_2.5.2025 GTFS feed stops: coordinates are in southeast hemisphere. Latitude = South (-90); Longitude = East (90).\n",
      "Appended route type to stops\n",
      "Appended route type to stop_times\n",
      "['stop times df', 329426, Index(['trip_id', 'arrival_time', 'departure_time', 'stop_id', 'stop_sequence',\n",
      "       'stop_headsign', 'pickup_type', 'drop_off_type', 'timepoint',\n",
      "       'unique_agency_id', 'unique_feed_id', 'route_type'],\n",
      "      dtype='object')]\n",
      "--------------------------------\n",
      "Added descriptive definitions to stops, routes, stop_times, and trips tables\n",
      "Successfully converted ['departure_time'] to seconds past midnight and appended new columns to stop_times. Took 2.17 seconds\n",
      "1 GTFS feed file(s) successfully read as dataframes:\n",
      "     Adelaide_gtfs_2.5.2025\n",
      "     Took 8.33 seconds\n",
      "WARNING: Time range passed: ['07:00:00', '12:00:00'] is a 5 hour period. Long periods over 3 hours may take a significant amount of time to process.\n",
      "Using calendar to extract service_ids to select trips.\n",
      "57 service_ids were extracted from calendar\n",
      "10,541 trip(s) 41.27 percent of 25,542 total trip records were found in calendar for GTFS feed(s): ['adelaide gtfs 2.5.2025']\n",
      "NOTE: If you expected more trips to have been extracted and your GTFS feed(s) have a calendar_dates file, consider utilizing the calendar_dates_lookup parameter in order to add additional trips based on information inside of calendar_dates. This should only be done if you know the corresponding GTFS feed is using calendar_dates instead of calendar to specify service_ids. When in doubt do not use the calendar_dates_lookup parameter.\n",
      "10,541 of 25,542 total trips were extracted representing calendar day: monday. Took 0.08 seconds\n",
      "There are no departure time records missing from trips following the specified schedule. There are no records to interpolate.\n",
      "Difference between stop times has been successfully calculated. Took 0.03 seconds\n",
      "Stop times from 07:00:00 to 12:00:00 successfully selected 137,469 records out of 160,361 total records (85.72 percent of total). Took 0.07 seconds\n",
      "Starting transformation process for 3,962 total trips...\n"
     ]
    },
    {
     "name": "stderr",
     "output_type": "stream",
     "text": [
      "c:\\Users\\z3258367\\Anaconda3\\envs\\ox_ua_there\\lib\\site-packages\\urbanaccess\\gtfs\\network.py:744: FutureWarning: In a future version of pandas, a length 1 tuple will be returned when iterating over a groupby with a grouper equal to a list of length 1. Don't supply a list with a single grouper to avoid this warning.\n",
      "  for trip, tmp_trip_df in stop_times_df.groupby(['unique_trip_id']):\n"
     ]
    },
    {
     "name": "stdout",
     "output_type": "stream",
     "text": [
      "stop time table transformation to Pandana format edge table completed. Took 15.68 seconds\n",
      "Time conversion completed: seconds converted to minutes.\n",
      "9,304 of 9,697 records selected from stops. Took 0.04 seconds\n",
      "stop time table transformation to Pandana format node table completed. Took 0.01 seconds\n",
      "route type successfully joined to transit edges. Took 3.07 seconds\n",
      "route id successfully joined to transit edges. Took 0.20 seconds\n",
      "Successfully created transit network. Took 19.90 seconds\n",
      "WARNING: Time range passed: ['07:00:00', '12:00:00'] is a 5 hour period. Long periods over 3 hours may take a significant amount of time to process.\n",
      "Stop times from 07:00:00 to 12:00:00 successfully selected 137,469 records out of 160,361 total records (85.72 percent of total). Took 0.05 seconds\n",
      "Starting route stop headway calculation for 20,479 route stops...\n",
      "Route stop headway calculation complete. Took 128.32 seconds\n",
      "headway calculation complete. Took 132.85 seconds\n",
      "Created OSM network with travel time impedance using a travel speed of 1.875 MPH. Took 0.03 seconds\n",
      "Loaded UrbanAccess network components comprised of:\n",
      "     Transit: 9,304 nodes and 133,507 edges;\n",
      "     OSM: 149,839 nodes and 445,164 edges\n",
      "routes successfully joined to transit nodes. Took 0.56 seconds\n",
      "Connector edges between the OSM and transit network nodes successfully completed. Took 32.66 seconds\n",
      "mean route stop headway will be used for pedestrian to transit edge impedance.\n",
      "Headway impedance calculation completed. Took 0.22 seconds\n"
     ]
    },
    {
     "name": "stderr",
     "output_type": "stream",
     "text": [
      "c:\\Users\\z3258367\\Anaconda3\\envs\\ox_ua_there\\lib\\site-packages\\geopandas\\array.py:1406: UserWarning: CRS not set for some of the concatenation inputs. Setting output's CRS as WGS 84 (the single non-null crs provided).\n",
      "  warnings.warn(\n"
     ]
    },
    {
     "name": "stdout",
     "output_type": "stream",
     "text": [
      "Edge and node tables formatted for Pandana with integer node ids: id_int, to_int, and from_int. Took 5.87 seconds\n",
      "Network edge and node network integration completed successfully resulting in a total of 170,317 nodes and 736,617 edges:\n",
      "     Transit: 20,478 nodes 133,507 edges;\n",
      "     OSM: 149,839 nodes 445,164 edges; and\n",
      "     OSM/Transit connector: 157,946 edges.\n"
     ]
    }
   ],
   "source": [
    "#gtfs_loc = (\"Adelaide_gtfs_2.5.2025\")\n",
    "gtfs_loc = \"C:\\\\Users\\\\z3258367\\\\OneDrive - UNSW\\\\#PhD\\\\Walkability\\\\WalkTHERE\\\\there\\\\examples\\\\Adelaide_gtfs_2.5.2025\"\n",
    "transit_net = there.prepare_transit_net(place_gdf, proj_crs, gtfs_loc, walk_network=walk_network)"
   ]
  },
  {
   "cell_type": "code",
   "execution_count": 12,
   "id": "a256d3ea",
   "metadata": {},
   "outputs": [],
   "source": [
    "transit_net_pandana, walk_transit_net_pandana = there.pandana_transit_net(transit_net, place_gdf)"
   ]
  },
  {
   "cell_type": "code",
   "execution_count": 15,
   "id": "3bf1a3cc",
   "metadata": {},
   "outputs": [
    {
     "name": "stdout",
     "output_type": "stream",
     "text": [
      "Finished category: employment\n",
      "Maximum score: 1.7125164852478252 out of 31.9\n",
      "Finished category: education\n",
      "Maximum score: 10.587841345549155 out of 14.3\n",
      "Finished category: shopping\n",
      "Maximum score: 15.992823291179144 out of 21.6\n",
      "Finished category: errands\n",
      "Maximum score: 6.589635522754369 out of 8.9\n",
      "Finished category: recreation\n",
      "Maximum score: 17.2515177168738 out of 23.3\n",
      "loop: 0\n",
      "Finished category: employment\n",
      "Maximum score: 1.4392806803041156 out of 31.9\n",
      "Finished category: education\n",
      "Maximum score: 8.898527766621028 out of 14.3\n",
      "Finished category: shopping\n",
      "Maximum score: 13.441132850280711 out of 21.6\n",
      "Finished category: errands\n",
      "Maximum score: 5.5382445540508485 out of 8.9\n",
      "Finished category: recreation\n",
      "Maximum score: 14.498999787571323 out of 23.3\n",
      "loop: 1\n"
     ]
    }
   ],
   "source": [
    "transit_index = there.transit_cluster_index(walk_transit_net_pandana, transit_net_pandana, all_pois, poi_dict, poi_params['weight'], poi_params['distance_constant'],\n",
    "                                poi_params['num_pois'], poi_params['diminishing_returns_constant'], poi_variables=poi_params['variable'],\n",
    "                                distance=90)"
   ]
  },
  {
   "cell_type": "code",
   "execution_count": 50,
   "id": "b0426912",
   "metadata": {},
   "outputs": [],
   "source": [
    "wgs_pois = all_pois.to_crs(\"EPSG:4326\")"
   ]
  },
  {
   "cell_type": "code",
   "execution_count": 51,
   "id": "50585339",
   "metadata": {},
   "outputs": [
    {
     "name": "stdout",
     "output_type": "stream",
     "text": [
      "Finished category: employment\n",
      "Maximum score: 29.586309423153022 out of 31.9\n",
      "Finished category: education\n",
      "Maximum score: 10.545235860232033 out of 14.3\n",
      "Finished category: shopping\n",
      "Maximum score: 15.989382850308775 out of 21.6\n",
      "Finished category: errands\n",
      "Maximum score: 6.585686117317276 out of 8.9\n",
      "Finished category: recreation\n",
      "Maximum score: 17.251103516569348 out of 23.3\n"
     ]
    }
   ],
   "source": [
    "transit_index = there.transit_index(walk_transit_net_pandana, transit_net_pandana, wgs_pois, poi_dict, poi_params['weight'], poi_params['distance_constant'],\n",
    "                                poi_params['num_pois'], poi_params['diminishing_returns_constant'], poi_variables=poi_params['variable'],\n",
    "                                distance=90)"
   ]
  }
 ],
 "metadata": {
  "kernelspec": {
   "display_name": "ox_ua_there",
   "language": "python",
   "name": "python3"
  },
  "language_info": {
   "codemirror_mode": {
    "name": "ipython",
    "version": 3
   },
   "file_extension": ".py",
   "mimetype": "text/x-python",
   "name": "python",
   "nbconvert_exporter": "python",
   "pygments_lexer": "ipython3",
   "version": "3.8.17"
  }
 },
 "nbformat": 4,
 "nbformat_minor": 5
}
