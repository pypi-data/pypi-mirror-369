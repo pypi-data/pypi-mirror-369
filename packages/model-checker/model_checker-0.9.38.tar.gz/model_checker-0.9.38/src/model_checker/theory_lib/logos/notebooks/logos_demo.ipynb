{
 "cells": [
  {
   "cell_type": "markdown",
   "metadata": {},
   "source": [
    "# Logos Theory Demo\n",
    "\n",
    "Welcome to the Logos Theory demonstration notebook! This notebook provides an interactive introduction to the Logos Theory implementation in ModelChecker.\n",
    "\n",
    "## Overview\n",
    "\n",
    "The Logos Theory provides a unified hyperintensional semantic framework for counterfactuals, constitutive operators, and modal logic. It implements a comprehensive approach to hyperintensional reasoning with over 20 operators organized across 5 subtheories.\n",
    "\n",
    "### Key Features:\n",
    "- **Hyperintensional bilateral propositions**: More fine-grained than possible world semantics\n",
    "- **Truthmaker semantics**: For extensional connectives\n",
    "- **Counterfactual conditionals**: Via alternative world-states\n",
    "- **Constitutive operators**: For essence, ground, and propositional identity\n",
    "- **Modular architecture**: 5 subtheories with selective loading\n",
    "\n",
    "### Author:\n",
    "- **Theory Author**: Benjamin Brast-McKie\n",
    "- **Implementation Author**: Benjamin Brast-McKie\n",
    "- **Contributors**: Miguel Buitrago\n",
    "- **Key Papers**:\n",
    "  - Brast-McKie (2021) \"Identity and Aboutness\", Journal of Philosophical Logic\n",
    "  - Brast-McKie (2025) \"Counterfactual Worlds\", Journal of Philosophical Logic"
   ]
  },
  {
   "cell_type": "markdown",
   "metadata": {},
   "source": [
    "## Setup and Imports\n",
    "\n",
    "Let's start by importing the necessary modules and exploring the modular structure of logos theory:"
   ]
  },
  {
   "cell_type": "code",
   "execution_count": null,
   "metadata": {},
   "outputs": [],
   "source": [
    "# Import the model checker and logos theory\n",
    "from model_checker.theory_lib import logos\n",
    "from model_checker.jupyter.interactive import check_formula, find_countermodel, ModelExplorer\n",
    "from model_checker import BuildExample\n",
    "\n",
    "# Explore available subtheories\n",
    "print(\"Logos Theory Subtheories:\")\n",
    "subtheories = ['extensional', 'modal', 'constitutive', 'counterfactual', 'conditional']\n",
    "for sub in subtheories:\n",
    "    print(f\"  - {sub}\")\n",
    "\n",
    "print(\"\\nLoading logos theory with all subtheories...\")\n",
    "logos_theory = logos.get_theory(subtheories)\n",
    "print(f\"Available operators: {len(logos_theory['operators'].operator_dictionary)} total\")"
   ]
  },
  {
   "cell_type": "markdown",
   "metadata": {},
   "source": [
    "## 1. Theory Introduction\n",
    "\n",
    "### Logos Semantics Fundamentals\n",
    "\n",
    "The Logos Theory is built on several key semantic innovations:\n",
    "\n",
    "#### Core Concepts:\n",
    "\n",
    "1. **Hyperintensional Propositions**: Go beyond possible world semantics\n",
    "2. **Bilateral Truth Conditions**: Separate verifiers and falsifiers\n",
    "3. **Alternative World-States**: For counterfactual reasoning\n",
    "4. **Constitutive Relations**: Essence, ground, and identity\n",
    "5. **Truthmaker Semantics**: For extensional operators\n",
    "\n",
    "Let's explore the modular structure:"
   ]
  },
  {
   "cell_type": "code",
   "execution_count": null,
   "metadata": {},
   "outputs": [],
   "source": [
    "# Load specific subtheories to see their operators\n",
    "extensional_theory = logos.get_theory(['extensional'])\n",
    "modal_theory = logos.get_theory(['modal'])\n",
    "\n",
    "print(\"Extensional operators:\")\n",
    "ext_ops = list(extensional_theory['operators'].operator_dictionary.keys())\n",
    "for op in sorted(ext_ops):\n",
    "    print(f\"  {op}\")\n",
    "\n",
    "print(\"\\nModal operators:\")\n",
    "modal_ops = list(modal_theory['operators'].operator_dictionary.keys())\n",
    "modal_only = [op for op in modal_ops if op not in ext_ops]\n",
    "for op in sorted(modal_only):\n",
    "    print(f\"  {op}\")"
   ]
  },
  {
   "cell_type": "markdown",
   "metadata": {},
   "source": [
    "## 2. Basic Examples\n",
    "\n",
    "Let's start with basic examples using different subtheories:"
   ]
  },
  {
   "cell_type": "markdown",
   "metadata": {},
   "source": [
    "### Example 1: Extensional Logic\n",
    "\n",
    "First, let's explore basic extensional reasoning in the logos framework:"
   ]
  },
  {
   "cell_type": "code",
   "execution_count": null,
   "metadata": {},
   "outputs": [],
   "source": [
    "# Test basic extensional logic\n",
    "result1 = check_formula(\"p → (q → p)\", theory_name=\"logos\")\n",
    "display(result1)"
   ]
  },
  {
   "cell_type": "code",
   "execution_count": null,
   "metadata": {},
   "outputs": [],
   "source": [
    "# Test conjunction and disjunction\n",
    "result2 = check_formula(\"(p ∧ q) → (p ∨ q)\", theory_name=\"logos\")\n",
    "display(result2)"
   ]
  },
  {
   "cell_type": "markdown",
   "metadata": {},
   "source": [
    "### Example 2: Modal Logic\n",
    "\n",
    "Now let's explore modal operators:"
   ]
  },
  {
   "cell_type": "code",
   "execution_count": null,
   "metadata": {},
   "outputs": [],
   "source": [
    "# Test basic modal logic\n",
    "result3 = check_formula(\"□p → p\", theory_name=\"logos\")\n",
    "display(result3)"
   ]
  },
  {
   "cell_type": "code",
   "execution_count": null,
   "metadata": {},
   "outputs": [],
   "source": [
    "# Test modal interdefinability\n",
    "result4 = find_countermodel(\"□p ↔ ¬◇¬p\", theory_name=\"logos\")\n",
    "display(result4)"
   ]
  },
  {
   "cell_type": "markdown",
   "metadata": {},
   "source": [
    "### Example 3: Hyperintensional Reasoning\n",
    "\n",
    "Let's explore what makes logos truly hyperintensional:"
   ]
  },
  {
   "cell_type": "code",
   "execution_count": null,
   "metadata": {},
   "outputs": [],
   "source": [
    "# Test hyperintensional distinctions\n",
    "# In classical logic, equivalent formulas are substitutable\n",
    "# In hyperintensional logic, this may fail\n",
    "\n",
    "result5 = find_countermodel(\"□(p ∨ ¬p) → □(q ∨ ¬q)\", theory_name=\"logos\")\n",
    "display(result5)"
   ]
  },
  {
   "cell_type": "markdown",
   "metadata": {},
   "source": [
    "## 3. Advanced Features\n",
    "\n",
    "Now let's explore the advanced features that make logos theory unique:"
   ]
  },
  {
   "cell_type": "markdown",
   "metadata": {},
   "source": [
    "### Constitutive Operators\n",
    "\n",
    "Logos theory includes operators for constitutive relations like essence and ground:"
   ]
  },
  {
   "cell_type": "code",
   "execution_count": null,
   "metadata": {},
   "outputs": [],
   "source": [
    "# Load constitutive operators\n",
    "constitutive_theory = logos.get_theory(['extensional', 'modal', 'constitutive'])\n",
    "\n",
    "print(\"Constitutive operators available:\")\n",
    "const_ops = list(constitutive_theory['operators'].operator_dictionary.keys())\n",
    "base_ops = list(modal_theory['operators'].operator_dictionary.keys())\n",
    "const_only = [op for op in const_ops if op not in base_ops]\n",
    "for op in sorted(const_only):\n",
    "    print(f\"  {op}\")"
   ]
  },
  {
   "cell_type": "markdown",
   "metadata": {},
   "source": [
    "### Counterfactual Reasoning\n",
    "\n",
    "Let's explore counterfactual conditionals in the logos framework:"
   ]
  },
  {
   "cell_type": "code",
   "execution_count": null,
   "metadata": {},
   "outputs": [],
   "source": [
    "# Load counterfactual operators\n",
    "counterfactual_theory = logos.get_theory(['extensional', 'modal', 'counterfactual'])\n",
    "\n",
    "# Test basic counterfactual reasoning\n",
    "# Note: Specific counterfactual operators depend on implementation\n",
    "example_cf = [\n",
    "    [\"p\"],  # premises\n",
    "    [\"◇p\"],  # conclusions - if p then possibly p\n",
    "    {'N': 3, 'max_time': 5, 'expectation': False}\n",
    "]\n",
    "\n",
    "cf_model = BuildExample(\"counterfactual_test\", counterfactual_theory, example_cf)\n",
    "cf_result = cf_model.check_result()\n",
    "\n",
    "print(f\"Counterfactual example is {'valid' if cf_result else 'invalid'}\")\n",
    "if not cf_result:\n",
    "    print(\"\\nCountermodel structure:\")\n",
    "    cf_model.model_structure.print_all()"
   ]
  },
  {
   "cell_type": "markdown",
   "metadata": {},
   "source": [
    "### Interactive Model Explorer\n",
    "\n",
    "Let's use the interactive model explorer with logos theory:"
   ]
  },
  {
   "cell_type": "code",
   "execution_count": null,
   "metadata": {},
   "outputs": [],
   "source": [
    "# Create an interactive explorer for logos theory\n",
    "explorer = ModelExplorer(theory_name=\"logos\")\n",
    "\n",
    "# Set up a complex modal example\n",
    "explorer.set_formula(\"□(p → q) → (□p → □q)\")\n",
    "explorer.set_premises([])\n",
    "\n",
    "# Update settings for modal logic\n",
    "explorer.update_settings({\n",
    "    'N': 4,\n",
    "    'max_time': 10,\n",
    "    'contingent': True\n",
    "})\n",
    "\n",
    "# Display the explorer\n",
    "explorer.display()"
   ]
  },
  {
   "cell_type": "markdown",
   "metadata": {},
   "source": [
    "## 4. Subtheory Comparison\n",
    "\n",
    "Let's compare how different subtheories handle the same formulas:"
   ]
  },
  {
   "cell_type": "code",
   "execution_count": null,
   "metadata": {},
   "outputs": [],
   "source": [
    "# Test formula across different subtheory combinations\n",
    "test_formula = \"□p → ◇p\"\n",
    "subtheory_combinations = [\n",
    "    ['extensional'],\n",
    "    ['extensional', 'modal'],\n",
    "    ['extensional', 'modal', 'constitutive'],\n",
    "    ['extensional', 'modal', 'counterfactual']\n",
    "]\n",
    "\n",
    "print(f\"Testing formula: {test_formula}\")\n",
    "print(\"Across different subtheory combinations:\\n\")\n",
    "\n",
    "for subs in subtheory_combinations:\n",
    "    try:\n",
    "        theory = logos.get_theory(subs)\n",
    "        example = [[], [test_formula], {'N': 3, 'max_time': 5, 'expectation': False}]\n",
    "        model = BuildExample(f\"test_{'+'.join(subs)}\", theory, example)\n",
    "        result = model.check_result()\n",
    "        \n",
    "        print(f\"Subtheories {'+'.join(subs)}: {'Valid' if result else 'Invalid'}\")\n",
    "        \n",
    "    except Exception as e:\n",
    "        print(f\"Subtheories {'+'.join(subs)}: Error - {str(e)[:50]}...\")"
   ]
  },
  {
   "cell_type": "markdown",
   "metadata": {},
   "source": [
    "## 5. Comparison with Other Theories\n",
    "\n",
    "Let's compare logos theory with classical and other non-classical approaches:"
   ]
  },
  {
   "cell_type": "markdown",
   "metadata": {},
   "source": [
    "### Logos vs Classical Logic\n",
    "\n",
    "| Principle | Classical Logic | Logos Theory |\n",
    "|-----------|----------------|---------------|\n",
    "| Substitution of Equivalents | Always valid | May fail (hyperintensional) |\n",
    "| Modal Logic | Standard S5/S4 | Hyperintensional modal logic |\n",
    "| Truth Conditions | Classical two-valued | Bilateral (verifiers/falsifiers) |\n",
    "| Counterfactuals | Not primitive | Alternative world-states |"
   ]
  },
  {
   "cell_type": "code",
   "execution_count": null,
   "metadata": {},
   "outputs": [],
   "source": [
    "# Test substitution failure in hyperintensional contexts\n",
    "substitution_tests = [\n",
    "    \"□(2+2=4) → □(3+3=6)\",  # Mathematical equivalents\n",
    "    \"□(p ∨ ¬p) → □(q ∨ ¬q)\",  # Logical equivalents\n",
    "    \"◇(p ∧ q) → ◇(q ∧ p)\",  # Conjunction commutativity\n",
    "]\n",
    "\n",
    "print(\"Testing substitution in hyperintensional contexts:\")\n",
    "for i, formula in enumerate(substitution_tests, 1):\n",
    "    try:\n",
    "        result = find_countermodel(formula, theory_name=\"logos\")\n",
    "        print(f\"\\n{i}. {formula}\")\n",
    "        display(result)\n",
    "    except Exception as e:\n",
    "        print(f\"\\n{i}. {formula}: Error - {e}\")"
   ]
  },
  {
   "cell_type": "markdown",
   "metadata": {},
   "source": [
    "### Comparison with Exclusion Theory\n",
    "\n",
    "Let's compare how logos and exclusion theories handle similar formulas:"
   ]
  },
  {
   "cell_type": "code",
   "execution_count": null,
   "metadata": {},
   "outputs": [],
   "source": [
    "# Compare basic logical principles across theories\n",
    "comparison_formulas = [\n",
    "    \"p ∨ ¬p\",  # Law of excluded middle\n",
    "    \"(p ∧ q) → p\",  # Conjunction elimination\n",
    "    \"p → (q → p)\",  # Weakening\n",
    "]\n",
    "\n",
    "theories_to_compare = [\"logos\", \"exclusion\"]\n",
    "\n",
    "print(\"Comparing theories on basic principles:\\n\")\n",
    "for formula in comparison_formulas:\n",
    "    print(f\"Formula: {formula}\")\n",
    "    for theory in theories_to_compare:\n",
    "        try:\n",
    "            result = check_formula(formula, theory_name=theory)\n",
    "            # Extract validity from HTML result (simplified)\n",
    "            validity = \"Valid\" if \"Valid\" in str(result) else \"Invalid\"\n",
    "            print(f\"  {theory.capitalize()}: {validity}\")\n",
    "        except Exception as e:\n",
    "            print(f\"  {theory.capitalize()}: Error\")\n",
    "    print()"
   ]
  },
  {
   "cell_type": "markdown",
   "metadata": {},
   "source": [
    "## 6. Interactive Exercises\n",
    "\n",
    "Try these exercises to explore logos theory:"
   ]
  },
  {
   "cell_type": "markdown",
   "metadata": {},
   "source": [
    "### Exercise 1: Selective Subtheory Loading\n",
    "\n",
    "Experiment with different subtheory combinations:"
   ]
  },
  {
   "cell_type": "code",
   "execution_count": null,
   "metadata": {},
   "outputs": [],
   "source": [
    "# Exercise 1: Modify the subtheories list and observe available operators\n",
    "my_subtheories = ['extensional', 'modal']  # Try different combinations\n",
    "\n",
    "my_theory = logos.get_theory(my_subtheories)\n",
    "available_ops = list(my_theory['operators'].operator_dictionary.keys())\n",
    "\n",
    "print(f\"Selected subtheories: {my_subtheories}\")\n",
    "print(f\"Available operators: {len(available_ops)}\")\n",
    "print(\"Operators:\")\n",
    "for op in sorted(available_ops):\n",
    "    print(f\"  {op}\")"
   ]
  },
  {
   "cell_type": "markdown",
   "metadata": {},
   "source": [
    "### Exercise 2: Modal Logic Exploration\n",
    "\n",
    "Test different modal logic principles:"
   ]
  },
  {
   "cell_type": "code",
   "execution_count": null,
   "metadata": {},
   "outputs": [],
   "source": [
    "# Exercise 2: Test modal logic principles\n",
    "modal_formulas = [\n",
    "    \"□p → p\",  # T axiom\n",
    "    \"□p → □□p\",  # 4 axiom\n",
    "    \"◇p → □◇p\",  # 5 axiom\n",
    "    \"□(p → q) → (□p → □q)\",  # K axiom\n",
    "]\n",
    "\n",
    "print(\"Testing modal logic axioms in logos theory:\\n\")\n",
    "for axiom in modal_formulas:\n",
    "    result = check_formula(axiom, theory_name=\"logos\")\n",
    "    print(f\"Testing: {axiom}\")\n",
    "    display(result)\n",
    "    print()"
   ]
  },
  {
   "cell_type": "markdown",
   "metadata": {},
   "source": [
    "### Exercise 3: Build Complex Examples\n",
    "\n",
    "Create sophisticated logical arguments:"
   ]
  },
  {
   "cell_type": "code",
   "execution_count": null,
   "metadata": {},
   "outputs": [],
   "source": [
    "# Exercise 3: Build your own complex example\n",
    "complex_premises = [\n",
    "    \"□(p → q)\",  # Necessarily, if p then q\n",
    "    \"◇p\",        # Possibly p\n",
    "    \"□¬r\"        # Necessarily not r\n",
    "]\n",
    "\n",
    "complex_conclusions = [\n",
    "    \"◇q\",        # Possibly q\n",
    "    \"¬◇r\"        # Not possibly r\n",
    "]\n",
    "\n",
    "complex_settings = {\n",
    "    'N': 4,\n",
    "    'max_time': 10,\n",
    "    'contingent': True,\n",
    "    'expectation': False\n",
    "}\n",
    "\n",
    "complex_example = [complex_premises, complex_conclusions, complex_settings]\n",
    "complex_model = BuildExample(\"complex_modal\", logos_theory, complex_example)\n",
    "\n",
    "result = complex_model.check_result()\n",
    "print(f\"Complex modal argument is {'valid' if result else 'invalid'}\")\n",
    "print(f\"Premises: {complex_premises}\")\n",
    "print(f\"Conclusions: {complex_conclusions}\")\n",
    "\n",
    "if not result:\n",
    "    print(\"\\nCountermodel found:\")\n",
    "    complex_model.model_structure.print_all()\n",
    "else:\n",
    "    print(\"\\nNo countermodel found - the argument is valid!\")"
   ]
  },
  {
   "cell_type": "markdown",
   "metadata": {},
   "source": [
    "### Exercise 4: Hyperintensional Distinctions\n",
    "\n",
    "Explore what makes logos theory hyperintensional:"
   ]
  },
  {
   "cell_type": "code",
   "execution_count": null,
   "metadata": {},
   "outputs": [],
   "source": [
    "# Exercise 4: Test hyperintensional phenomena\n",
    "hyperintensional_tests = [\n",
    "    # Test if necessarily equivalent formulas are substitutable\n",
    "    (\"□(p ↔ p)\", \"□(q ↔ q)\", \"Should tautologies be substitutable?\"),\n",
    "    \n",
    "    # Test fine-grained distinctions\n",
    "    (\"□(p ∧ q)\", \"□(q ∧ p)\", \"Are conjunctions commutative in modal contexts?\"),\n",
    "    \n",
    "    # Test content sensitivity\n",
    "    (\"□((p → q) → p)\", \"□((r → s) → r)\", \"Do logically equivalent schemas substitute?\"),\n",
    "]\n",
    "\n",
    "print(\"Testing hyperintensional distinctions:\\n\")\n",
    "for formula1, formula2, question in hyperintensional_tests:\n",
    "    print(f\"Question: {question}\")\n",
    "    equivalence = f\"({formula1}) ↔ ({formula2})\"\n",
    "    \n",
    "    result = find_countermodel(equivalence, theory_name=\"logos\")\n",
    "    print(f\"Testing: {equivalence}\")\n",
    "    display(result)\n",
    "    print(\"-\" * 50)"
   ]
  },
  {
   "cell_type": "markdown",
   "metadata": {},
   "source": [
    "## 7. Summary and Further Reading\n",
    "\n",
    "### What We've Learned:\n",
    "\n",
    "1. **Modular Architecture**: How to selectively load subtheories for specific needs\n",
    "2. **Hyperintensional Semantics**: Going beyond possible world semantics\n",
    "3. **Bilateral Truth Conditions**: Separate treatment of verifiers and falsifiers\n",
    "4. **Rich Operator Set**: 20+ operators across 5 semantic domains\n",
    "5. **Advanced Modal Logic**: Hyperintensional approach to necessity and possibility\n",
    "\n",
    "### Key Innovations:\n",
    "\n",
    "- **Hyperintensional Propositions**: Finer-grained than classical propositions\n",
    "- **Truthmaker Semantics**: Connects truth to what makes things true\n",
    "- **Alternative World-States**: Novel approach to counterfactuals\n",
    "- **Constitutive Relations**: Essence, ground, and identity as primitive\n",
    "- **Modular Design**: Load only the operators you need\n",
    "\n",
    "### Subtheory Guide:\n",
    "\n",
    "- **Extensional**: Basic truth-functional operators\n",
    "- **Modal**: Necessity, possibility, and related operators\n",
    "- **Constitutive**: Essence, ground, and identity operators\n",
    "- **Counterfactual**: Alternative world-state semantics\n",
    "- **Conditional**: Various conditional operators\n",
    "\n",
    "### Further Reading:\n",
    "\n",
    "- Brast-McKie (2021) \"Identity and Aboutness\", Journal of Philosophical Logic\n",
    "- Brast-McKie (2025) \"Counterfactual Worlds\", Journal of Philosophical Logic\n",
    "- ModelChecker documentation: [Logos Theory README](../README.md)\n",
    "- Individual subtheory documentation in `logos/subtheories/`\n",
    "\n",
    "### Next Steps:\n",
    "\n",
    "1. Explore individual subtheory notebooks (if available)\n",
    "2. Compare with [Exclusion Theory notebook](../../exclusion/notebooks/exclusion_demo.ipynb)\n",
    "3. Experiment with constitutive operators for metaphysical reasoning\n",
    "4. Try counterfactual reasoning with alternative world-states\n",
    "5. Study the implementation in `logos/` directory for technical details"
   ]
  },
  {
   "cell_type": "markdown",
   "metadata": {},
   "source": [
    "### Creating Custom Subtheory Combinations\n",
    "\n",
    "One of the most powerful features of logos theory is its modularity. Here's how to create your own combinations:"
   ]
  },
  {
   "cell_type": "code",
   "execution_count": null,
   "metadata": {},
   "outputs": [],
   "source": [
    "# Example: Create a theory with just what you need\n",
    "def create_custom_logos(subtheories, description=\"\"):\n",
    "    \"\"\"Create a custom logos theory with specific subtheories.\"\"\"\n",
    "    theory = logos.get_theory(subtheories)\n",
    "    \n",
    "    print(f\"Custom Logos Theory: {description}\")\n",
    "    print(f\"Subtheories: {', '.join(subtheories)}\")\n",
    "    print(f\"Total operators: {len(theory['operators'].operator_dictionary)}\")\n",
    "    \n",
    "    return theory\n",
    "\n",
    "# Example combinations for different purposes\n",
    "basic_modal = create_custom_logos(\n",
    "    ['extensional', 'modal'], \n",
    "    \"Basic Modal Logic\"\n",
    ")\n",
    "\n",
    "print()\n",
    "\n",
    "metaphysics = create_custom_logos(\n",
    "    ['extensional', 'modal', 'constitutive'], \n",
    "    \"Metaphysical Reasoning\"\n",
    ")\n",
    "\n",
    "print()\n",
    "\n",
    "full_theory = create_custom_logos(\n",
    "    ['extensional', 'modal', 'constitutive', 'counterfactual', 'conditional'],\n",
    "    \"Complete Hyperintensional Framework\"\n",
    ")"
   ]
  },
  {
   "cell_type": "markdown",
   "metadata": {},
   "source": [
    "---\n",
    "\n",
    "*This notebook was created as part of the ModelChecker project. The Logos Theory represents a significant advance in computational metaphysics and hyperintensional logic. For questions, contributions, or to cite this work, please visit the [project repository](https://github.com/benbrastmckie/ModelChecker).*"
   ]
  }
 ],
 "metadata": {
  "kernelspec": {
   "display_name": "Python 3 (ipykernel)",
   "language": "python",
   "name": "python3"
  },
  "language_info": {
   "codemirror_mode": {
    "name": "ipython",
    "version": 3
   },
   "file_extension": ".py",
   "mimetype": "text/x-python",
   "name": "python",
   "nbconvert_exporter": "python",
   "pygments_lexer": "ipython3",
   "version": "3.12.0"
  }
 },
 "nbformat": 4,
 "nbformat_minor": 4
}