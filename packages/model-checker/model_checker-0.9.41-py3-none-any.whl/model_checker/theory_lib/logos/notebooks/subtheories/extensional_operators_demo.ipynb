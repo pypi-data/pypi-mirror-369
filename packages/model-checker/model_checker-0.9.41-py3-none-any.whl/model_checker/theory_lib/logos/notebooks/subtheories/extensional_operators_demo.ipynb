{
 "cells": [
  {
   "cell_type": "markdown",
   "metadata": {},
   "source": [
    "# Logos Extensional Operators Demo\n",
    "\n",
    "This notebook focuses on the extensional (truth-functional) operators in the Logos Theory. These form the foundation for all other logical reasoning in the system.\n",
    "\n",
    "## Overview\n",
    "\n",
    "The extensional subtheory of Logos provides truthmaker semantics for basic logical connectives. Unlike classical logic, Logos uses bilateral propositions with separate verifiers and falsifiers, enabling more fine-grained semantic analysis.\n",
    "\n",
    "### Key Features:\n",
    "- **Bilateral propositions**: Separate verifiers and falsifiers\n",
    "- **Truthmaker semantics**: What makes propositions true/false\n",
    "- **Hyperintensional distinctions**: Even among extensional operators\n",
    "- **Foundation for modal logic**: Extensional base for modal reasoning"
   ]
  },
  {
   "cell_type": "markdown",
   "metadata": {},
   "source": [
    "## Setup"
   ]
  },
  {
   "cell_type": "code",
   "execution_count": null,
   "metadata": {},
   "outputs": [],
   "source": [
    "# Import necessary modules\n",
    "from model_checker.theory_lib import logos\n",
    "from model_checker.jupyter.interactive import check_formula, find_countermodel\n",
    "from model_checker import BuildExample\n",
    "\n",
    "# Load only extensional operators\n",
    "ext_theory = logos.get_theory(['extensional'])\n",
    "print(\"Extensional theory loaded successfully!\")\n",
    "\n",
    "# Show available extensional operators\n",
    "ext_ops = list(ext_theory['operators'].operator_dictionary.keys())\n",
    "print(f\"\\nExtensional operators available: {len(ext_ops)}\")\n",
    "for op in sorted(ext_ops):\n",
    "    print(f\"  {op}\")"
   ]
  },
  {
   "cell_type": "markdown",
   "metadata": {},
   "source": [
    "## 1. Basic Truth-Functional Operators\n",
    "\n",
    "Let's explore the fundamental truth-functional operators:"
   ]
  },
  {
   "cell_type": "markdown",
   "metadata": {},
   "source": [
    "### Negation"
   ]
  },
  {
   "cell_type": "code",
   "execution_count": null,
   "metadata": {},
   "outputs": [],
   "source": [
    "# Test basic negation properties\n",
    "negation_tests = [\n",
    "    \"¬¬p → p\",  # Double negation elimination\n",
    "    \"p → ¬¬p\",  # Double negation introduction\n",
    "    \"¬(p ∧ ¬p)\",  # Law of non-contradiction\n",
    "    \"p ∨ ¬p\",  # Law of excluded middle\n",
    "]\n",
    "\n",
    "print(\"Testing negation properties in Logos extensional logic:\\n\")\n",
    "\n",
    "for formula in negation_tests:\n",
    "    print(f\"Testing: {formula}\")\n",
    "    result = check_formula(formula, theory_name=\"logos\")\n",
    "    display(result)\n",
    "    print(\"-\" * 50)"
   ]
  },
  {
   "cell_type": "markdown",
   "metadata": {},
   "source": [
    "### Conjunction and Disjunction"
   ]
  },
  {
   "cell_type": "code",
   "execution_count": null,
   "metadata": {},
   "outputs": [],
   "source": [
    "# Test conjunction properties\n",
    "conjunction_tests = [\n",
    "    \"(p ∧ q) → p\",  # Conjunction elimination (left)\n",
    "    \"(p ∧ q) → q\",  # Conjunction elimination (right)\n",
    "    \"p → (q → (p ∧ q))\",  # Conjunction introduction\n",
    "    \"(p ∧ q) ↔ (q ∧ p)\",  # Conjunction commutativity\n",
    "    \"((p ∧ q) ∧ r) ↔ (p ∧ (q ∧ r))\",  # Conjunction associativity\n",
    "]\n",
    "\n",
    "print(\"Testing conjunction properties:\\n\")\n",
    "\n",
    "for formula in conjunction_tests:\n",
    "    print(f\"Testing: {formula}\")\n",
    "    result = check_formula(formula, theory_name=\"logos\")\n",
    "    display(result)\n",
    "    print(\"-\" * 50)"
   ]
  },
  {
   "cell_type": "code",
   "execution_count": null,
   "metadata": {},
   "outputs": [],
   "source": [
    "# Test disjunction properties\n",
    "disjunction_tests = [\n",
    "    \"p → (p ∨ q)\",  # Disjunction introduction (left)\n",
    "    \"q → (p ∨ q)\",  # Disjunction introduction (right)\n",
    "    \"((p → r) ∧ (q → r)) → ((p ∨ q) → r)\",  # Disjunction elimination\n",
    "    \"(p ∨ q) ↔ (q ∨ p)\",  # Disjunction commutativity\n",
    "    \"((p ∨ q) ∨ r) ↔ (p ∨ (q ∨ r))\",  # Disjunction associativity\n",
    "]\n",
    "\n",
    "print(\"Testing disjunction properties:\\n\")\n",
    "\n",
    "for formula in disjunction_tests:\n",
    "    print(f\"Testing: {formula}\")\n",
    "    result = check_formula(formula, theory_name=\"logos\")\n",
    "    display(result)\n",
    "    print(\"-\" * 50)"
   ]
  },
  {
   "cell_type": "markdown",
   "metadata": {},
   "source": [
    "### Implication and Biconditional"
   ]
  },
  {
   "cell_type": "code",
   "execution_count": null,
   "metadata": {},
   "outputs": [],
   "source": [
    "# Test implication properties\n",
    "implication_tests = [\n",
    "    \"p → (q → p)\",  # Weakening\n",
    "    \"(p → (q → r)) → ((p → q) → (p → r))\",  # Distribution\n",
    "    \"(p → q) ↔ (¬q → ¬p)\",  # Contraposition\n",
    "    \"((p → q) ∧ (q → r)) → (p → r)\",  # Hypothetical syllogism\n",
    "    \"((p → q) ∧ p) → q\",  # Modus ponens\n",
    "]\n",
    "\n",
    "print(\"Testing implication properties:\\n\")\n",
    "\n",
    "for formula in implication_tests:\n",
    "    print(f\"Testing: {formula}\")\n",
    "    result = check_formula(formula, theory_name=\"logos\")\n",
    "    display(result)\n",
    "    print(\"-\" * 50)"
   ]
  },
  {
   "cell_type": "code",
   "execution_count": null,
   "metadata": {},
   "outputs": [],
   "source": [
    "# Test biconditional properties\n",
    "biconditional_tests = [\n",
    "    \"(p ↔ q) ↔ ((p → q) ∧ (q → p))\",  # Biconditional definition\n",
    "    \"(p ↔ q) ↔ (q ↔ p)\",  # Biconditional symmetry\n",
    "    \"((p ↔ q) ∧ (q ↔ r)) → (p ↔ r)\",  # Biconditional transitivity\n",
    "    \"(p ↔ p)\",  # Biconditional reflexivity\n",
    "]\n",
    "\n",
    "print(\"Testing biconditional properties:\\n\")\n",
    "\n",
    "for formula in biconditional_tests:\n",
    "    print(f\"Testing: {formula}\")\n",
    "    result = check_formula(formula, theory_name=\"logos\")\n",
    "    display(result)\n",
    "    print(\"-\" * 50)"
   ]
  },
  {
   "cell_type": "markdown",
   "metadata": {},
   "source": [
    "## 2. De Morgan's Laws and Distribution\n",
    "\n",
    "Let's test the classical laws of Boolean algebra:"
   ]
  },
  {
   "cell_type": "code",
   "execution_count": null,
   "metadata": {},
   "outputs": [],
   "source": [
    "# Test De Morgan's laws\n",
    "demorgan_tests = [\n",
    "    \"¬(p ∧ q) ↔ (¬p ∨ ¬q)\",  # De Morgan 1\n",
    "    \"¬(p ∨ q) ↔ (¬p ∧ ¬q)\",  # De Morgan 2\n",
    "]\n",
    "\n",
    "print(\"Testing De Morgan's laws:\\n\")\n",
    "\n",
    "for formula in demorgan_tests:\n",
    "    print(f\"Testing: {formula}\")\n",
    "    result = check_formula(formula, theory_name=\"logos\")\n",
    "    display(result)\n",
    "    print(\"-\" * 50)"
   ]
  },
  {
   "cell_type": "code",
   "execution_count": null,
   "metadata": {},
   "outputs": [],
   "source": [
    "# Test distribution laws\n",
    "distribution_tests = [\n",
    "    \"(p ∧ (q ∨ r)) ↔ ((p ∧ q) ∨ (p ∧ r))\",  # Conjunction over disjunction\n",
    "    \"(p ∨ (q ∧ r)) ↔ ((p ∨ q) ∧ (p ∨ r))\",  # Disjunction over conjunction\n",
    "]\n",
    "\n",
    "print(\"Testing distribution laws:\\n\")\n",
    "\n",
    "for formula in distribution_tests:\n",
    "    print(f\"Testing: {formula}\")\n",
    "    result = check_formula(formula, theory_name=\"logos\")\n",
    "    display(result)\n",
    "    print(\"-\" * 50)"
   ]
  },
  {
   "cell_type": "markdown",
   "metadata": {},
   "source": [
    "## 3. Truthmaker Semantics Features\n",
    "\n",
    "Now let's explore what's unique about Logos extensional logic:"
   ]
  },
  {
   "cell_type": "markdown",
   "metadata": {},
   "source": [
    "### Bilateral Truth Conditions\n",
    "\n",
    "In Logos, propositions have separate verifiers (what makes them true) and falsifiers (what makes them false):"
   ]
  },
  {
   "cell_type": "code",
   "execution_count": null,
   "metadata": {},
   "outputs": [],
   "source": [
    "# Create examples to show bilateral semantics\n",
    "bilateral_examples = [\n",
    "    {\n",
    "        'premises': [\"p\"],\n",
    "        'conclusions': [\"p ∨ q\"],\n",
    "        'description': \"From p to p or q (disjunction introduction)\"\n",
    "    },\n",
    "    {\n",
    "        'premises': [\"p ∧ q\"],\n",
    "        'conclusions': [\"p\"],\n",
    "        'description': \"From p and q to p (conjunction elimination)\"\n",
    "    },\n",
    "    {\n",
    "        'premises': [\"¬p\"],\n",
    "        'conclusions': [\"¬(p ∧ q)\"],\n",
    "        'description': \"From not p to not (p and q)\"\n",
    "    }\n",
    "]\n",
    "\n",
    "print(\"Testing bilateral truth conditions:\\n\")\n",
    "\n",
    "for i, example in enumerate(bilateral_examples, 1):\n",
    "    print(f\"Example {i}: {example['description']}\")\n",
    "    print(f\"Premises: {example['premises']}\")\n",
    "    print(f\"Conclusions: {example['conclusions']}\")\n",
    "    \n",
    "    # Build and test the example\n",
    "    bilateral_test = [\n",
    "        example['premises'],\n",
    "        example['conclusions'],\n",
    "        {'N': 3, 'max_time': 5, 'expectation': False}\n",
    "    ]\n",
    "    \n",
    "    model = BuildExample(f\"bilateral_{i}\", ext_theory, bilateral_test)\n",
    "    result = model.check_result()\n",
    "    \n",
    "    print(f\"Result: {'Valid' if result else 'Invalid'}\")\n",
    "    \n",
    "    if not result:\n",
    "        print(\"Countermodel structure (showing verifiers/falsifiers):\")\n",
    "        model.model_structure.print_all()\n",
    "    \n",
    "    print(\"=\" * 60)"
   ]
  },
  {
   "cell_type": "markdown",
   "metadata": {},
   "source": [
    "### Hyperintensional Distinctions\n",
    "\n",
    "Even among extensional operators, Logos can make hyperintensional distinctions:"
   ]
  },
  {
   "cell_type": "code",
   "execution_count": null,
   "metadata": {},
   "outputs": [],
   "source": [
    "# Test hyperintensional features in extensional logic\n",
    "hyperintensional_tests = [\n",
    "    # Test if equivalent formulas are always substitutable\n",
    "    (\"(p ∧ q)\", \"(q ∧ p)\", \"Conjunction commutativity substitution\"),\n",
    "    (\"(p ∨ ¬p)\", \"(q ∨ ¬q)\", \"Tautology substitution\"),\n",
    "    (\"¬¬p\", \"p\", \"Double negation substitution\"),\n",
    "]\n",
    "\n",
    "print(\"Testing hyperintensional distinctions in extensional contexts:\\n\")\n",
    "\n",
    "for formula1, formula2, description in hyperintensional_tests:\n",
    "    print(f\"Test: {description}\")\n",
    "    \n",
    "    # Test equivalence\n",
    "    equivalence = f\"({formula1}) ↔ ({formula2})\"\n",
    "    print(f\"Testing equivalence: {equivalence}\")\n",
    "    \n",
    "    result = check_formula(equivalence, theory_name=\"logos\")\n",
    "    display(result)\n",
    "    \n",
    "    # Also look for potential countermodels to substitutivity\n",
    "    print(f\"Looking for substitution failures...\")\n",
    "    counter_result = find_countermodel(equivalence, theory_name=\"logos\")\n",
    "    display(counter_result)\n",
    "    \n",
    "    print(\"-\" * 60)"
   ]
  },
  {
   "cell_type": "markdown",
   "metadata": {},
   "source": [
    "## 4. Complex Extensional Reasoning\n",
    "\n",
    "Let's test more sophisticated extensional arguments:"
   ]
  },
  {
   "cell_type": "code",
   "execution_count": null,
   "metadata": {},
   "outputs": [],
   "source": [
    "# Complex extensional reasoning examples\n",
    "complex_examples = [\n",
    "    {\n",
    "        'name': 'Disjunctive Syllogism',\n",
    "        'premises': [\"p ∨ q\", \"¬p\"],\n",
    "        'conclusions': [\"q\"],\n",
    "    },\n",
    "    {\n",
    "        'name': 'Constructive Dilemma',\n",
    "        'premises': [\"(p → q) ∧ (r → s)\", \"p ∨ r\"],\n",
    "        'conclusions': [\"q ∨ s\"],\n",
    "    },\n",
    "    {\n",
    "        'name': 'Reductio ad Absurdum Pattern',\n",
    "        'premises': [\"p → (q ∧ ¬q)\"],\n",
    "        'conclusions': [\"¬p\"],\n",
    "    },\n",
    "    {\n",
    "        'name': 'Resolution Pattern',\n",
    "        'premises': [\"p ∨ q\", \"¬p ∨ r\"],\n",
    "        'conclusions': [\"q ∨ r\"],\n",
    "    }\n",
    "]\n",
    "\n",
    "print(\"Testing complex extensional reasoning patterns:\\n\")\n",
    "\n",
    "for example in complex_examples:\n",
    "    print(f\"Testing: {example['name']}\")\n",
    "    print(f\"Premises: {example['premises']}\")\n",
    "    print(f\"Conclusions: {example['conclusions']}\")\n",
    "    \n",
    "    # Build the example\n",
    "    complex_test = [\n",
    "        example['premises'],\n",
    "        example['conclusions'],\n",
    "        {'N': 3, 'max_time': 10, 'expectation': False}\n",
    "    ]\n",
    "    \n",
    "    model = BuildExample(example['name'].lower().replace(' ', '_'), ext_theory, complex_test)\n",
    "    result = model.check_result()\n",
    "    \n",
    "    print(f\"Result: {'Valid' if result else 'Invalid'}\")\n",
    "    \n",
    "    if not result:\n",
    "        print(\"Countermodel found - showing truthmaker structure:\")\n",
    "        model.model_structure.print_all()\n",
    "    \n",
    "    print(\"=\" * 70)"
   ]
  },
  {
   "cell_type": "markdown",
   "metadata": {},
   "source": [
    "## 5. Interactive Exercises\n",
    "\n",
    "Try building your own extensional logic examples:"
   ]
  },
  {
   "cell_type": "markdown",
   "metadata": {},
   "source": [
    "### Exercise 1: Test Classical Tautologies"
   ]
  },
  {
   "cell_type": "code",
   "execution_count": null,
   "metadata": {},
   "outputs": [],
   "source": [
    "# Exercise 1: Test your own formulas\n",
    "my_formulas = [\n",
    "    \"((p → q) ∧ (q → r)) → (p → r)\",  # Add your formulas here\n",
    "    \"(p ∧ (p → q)) → q\",\n",
    "    \"(p → (q → r)) ↔ ((p ∧ q) → r)\",  # Exportation\n",
    "    # Add more formulas to test...\n",
    "]\n",
    "\n",
    "print(\"Testing your extensional formulas:\\n\")\n",
    "\n",
    "for i, formula in enumerate(my_formulas, 1):\n",
    "    print(f\"Formula {i}: {formula}\")\n",
    "    result = check_formula(formula, theory_name=\"logos\")\n",
    "    display(result)\n",
    "    print(\"-\" * 50)"
   ]
  },
  {
   "cell_type": "markdown",
   "metadata": {},
   "source": [
    "### Exercise 2: Build Complex Arguments"
   ]
  },
  {
   "cell_type": "code",
   "execution_count": null,
   "metadata": {},
   "outputs": [],
   "source": [
    "# Exercise 2: Create your own complex argument\n",
    "my_argument = {\n",
    "    'name': 'My Custom Extensional Argument',\n",
    "    'premises': [\n",
    "        \"(p ∨ q) → r\",  # Modify these premises\n",
    "        \"s → p\",\n",
    "        \"s ∨ t\",\n",
    "        \"t → q\"\n",
    "    ],\n",
    "    'conclusions': [\n",
    "        \"r\"  # Modify this conclusion\n",
    "    ],\n",
    "    'settings': {\n",
    "        'N': 4,\n",
    "        'max_time': 15,\n",
    "        'contingent': True,\n",
    "        'expectation': False\n",
    "    }\n",
    "}\n",
    "\n",
    "print(f\"Testing: {my_argument['name']}\")\n",
    "print(f\"Premises: {my_argument['premises']}\")\n",
    "print(f\"Conclusions: {my_argument['conclusions']}\")\n",
    "\n",
    "my_example = [\n",
    "    my_argument['premises'],\n",
    "    my_argument['conclusions'],\n",
    "    my_argument['settings']\n",
    "]\n",
    "\n",
    "my_model = BuildExample(\"custom_extensional\", ext_theory, my_example)\n",
    "my_result = my_model.check_result()\n",
    "\n",
    "print(f\"\\nResult: The argument is {'valid' if my_result else 'invalid'}\")\n",
    "\n",
    "if not my_result:\n",
    "    print(\"\\nCountermodel details (showing bilateral truth conditions):\")\n",
    "    my_model.model_structure.print_all()\n",
    "else:\n",
    "    print(\"\\nNo countermodel found - the argument is logically valid!\")\n",
    "    print(\"The premises guarantee the conclusion in all models.\")"
   ]
  },
  {
   "cell_type": "markdown",
   "metadata": {},
   "source": [
    "### Exercise 3: Truth Table Analysis"
   ]
  },
  {
   "cell_type": "code",
   "execution_count": null,
   "metadata": {},
   "outputs": [],
   "source": [
    "# Exercise 3: Simulate truth table analysis\n",
    "def analyze_formula_systematically(formula, variables=None):\n",
    "    \"\"\"Analyze a formula by testing different truth value assignments.\"\"\"\n",
    "    if variables is None:\n",
    "        variables = ['p', 'q']  # Default variables\n",
    "    \n",
    "    print(f\"Analyzing formula: {formula}\")\n",
    "    print(f\"Variables: {variables}\")\n",
    "    \n",
    "    # Test the formula as a tautology\n",
    "    tautology_result = check_formula(formula, theory_name=\"logos\")\n",
    "    print(\"\\nTautology test:\")\n",
    "    display(tautology_result)\n",
    "    \n",
    "    # Test for countermodels\n",
    "    counter_result = find_countermodel(formula, theory_name=\"logos\")\n",
    "    print(\"\\nCountermodel search:\")\n",
    "    display(counter_result)\n",
    "    \n",
    "    return tautology_result, counter_result\n",
    "\n",
    "# Test a formula of your choice\n",
    "test_formula = \"(p → q) ↔ (¬p ∨ q)\"  # Material conditional definition\n",
    "analyze_formula_systematically(test_formula)"
   ]
  },
  {
   "cell_type": "markdown",
   "metadata": {},
   "source": [
    "## 6. Comparison with Classical Logic\n",
    "\n",
    "Let's see how Logos extensional logic compares to classical propositional logic:"
   ]
  },
  {
   "cell_type": "code",
   "execution_count": null,
   "metadata": {},
   "outputs": [],
   "source": [
    "# Test classical equivalences that might fail in hyperintensional contexts\n",
    "classical_equivalences = [\n",
    "    (\"p → q\", \"¬p ∨ q\", \"Material conditional\"),\n",
    "    (\"p ↔ q\", \"(p → q) ∧ (q → p)\", \"Biconditional definition\"),\n",
    "    (\"¬(p → q)\", \"p ∧ ¬q\", \"Negated conditional\"),\n",
    "    (\"p ∧ (q ∨ r)\", \"(p ∧ q) ∨ (p ∧ r)\", \"Distribution\"),\n",
    "]\n",
    "\n",
    "print(\"Testing classical logical equivalences in Logos:\\n\")\n",
    "\n",
    "for formula1, formula2, name in classical_equivalences:\n",
    "    print(f\"Testing {name}:\")\n",
    "    print(f\"  {formula1} ≡ {formula2}\")\n",
    "    \n",
    "    equivalence = f\"({formula1}) ↔ ({formula2})\"\n",
    "    result = check_formula(equivalence, theory_name=\"logos\")\n",
    "    display(result)\n",
    "    \n",
    "    print(\"-\" * 60)"
   ]
  },
  {
   "cell_type": "markdown",
   "metadata": {},
   "source": [
    "## Summary\n",
    "\n",
    "In this notebook, we've explored:\n",
    "\n",
    "1. **Basic Truth-Functional Operators**: Negation, conjunction, disjunction, implication, biconditional\n",
    "2. **Classical Laws**: De Morgan's laws, distribution, etc.\n",
    "3. **Truthmaker Semantics**: Bilateral truth conditions with verifiers and falsifiers\n",
    "4. **Hyperintensional Features**: Even extensional operators can make fine-grained distinctions\n",
    "5. **Complex Reasoning**: Sophisticated extensional arguments\n",
    "6. **Classical Comparison**: How Logos relates to classical propositional logic\n",
    "\n",
    "### Key Insights:\n",
    "\n",
    "- Logos **extensional logic is still hyperintensional** - it makes distinctions beyond classical logic\n",
    "- **Bilateral semantics** separates what makes propositions true from what makes them false\n",
    "- **Truthmaker semantics** provides a foundation for modal and other intensional operators\n",
    "- Most **classical equivalences hold**, but with richer semantic structure\n",
    "- The system provides a **solid foundation** for building more complex logical systems\n",
    "\n",
    "### Applications:\n",
    "\n",
    "- **Formal verification** of logical arguments\n",
    "- **Semantic analysis** of natural language reasoning\n",
    "- **Foundation for modal logic** and other intensional systems\n",
    "- **Philosophical analysis** of truth conditions and logical structure\n",
    "\n",
    "### Next Steps:\n",
    "\n",
    "1. Explore [modal operators](./modal_operators_demo.ipynb) built on this foundation\n",
    "2. Try [constitutive operators](./constitutive_operators_demo.ipynb) if available\n",
    "3. Return to the [main Logos notebook](../logos_demo.ipynb) for the complete system\n",
    "4. Compare with [Exclusion Theory](../../exclusion/notebooks/exclusion_demo.ipynb)\n",
    "5. Study the implementation in `logos/subtheories/extensional/`"
   ]
  }
 ],
 "metadata": {
  "kernelspec": {
   "display_name": "Python 3 (ipykernel)",
   "language": "python",
   "name": "python3"
  },
  "language_info": {
   "codemirror_mode": {
    "name": "ipython",
    "version": 3
   },
   "file_extension": ".py",
   "mimetype": "text/x-python",
   "name": "python",
   "nbconvert_exporter": "python",
   "pygments_lexer": "ipython3",
   "version": "3.12.0"
  }
 },
 "nbformat": 4,
 "nbformat_minor": 4
}