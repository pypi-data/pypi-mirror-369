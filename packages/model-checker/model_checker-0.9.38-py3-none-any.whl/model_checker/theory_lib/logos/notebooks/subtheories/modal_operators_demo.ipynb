{
 "cells": [
  {
   "cell_type": "markdown",
   "metadata": {},
   "source": [
    "# Logos Modal Operators Demo\n",
    "\n",
    "This notebook focuses specifically on the modal operators available in the Logos Theory. Modal logic deals with concepts of necessity, possibility, and related notions.\n",
    "\n",
    "## Overview\n",
    "\n",
    "The Logos modal subtheory provides a hyperintensional approach to modal logic that goes beyond traditional possible world semantics. This allows for finer-grained distinctions between necessarily equivalent propositions.\n",
    "\n",
    "### Key Modal Operators:\n",
    "- **□** (Box): Necessity\n",
    "- **◇** (Diamond): Possibility  \n",
    "- **Various accessibility relations**: For different modal systems\n",
    "- **Hyperintensional distinctions**: Beyond S5 modal logic"
   ]
  },
  {
   "cell_type": "markdown",
   "metadata": {},
   "source": [
    "## Setup"
   ]
  },
  {
   "cell_type": "code",
   "execution_count": null,
   "metadata": {},
   "outputs": [],
   "source": [
    "# Import necessary modules\n",
    "from model_checker.theory_lib import logos\n",
    "from model_checker.jupyter.interactive import check_formula, find_countermodel\n",
    "from model_checker import BuildExample\n",
    "\n",
    "# Load modal operators specifically\n",
    "modal_theory = logos.get_theory(['extensional', 'modal'])\n",
    "print(\"Modal theory loaded successfully!\")\n",
    "\n",
    "# Show available modal operators\n",
    "all_ops = list(modal_theory['operators'].operator_dictionary.keys())\n",
    "ext_only = logos.get_theory(['extensional'])\n",
    "ext_ops = list(ext_only['operators'].operator_dictionary.keys())\n",
    "modal_ops = [op for op in all_ops if op not in ext_ops]\n",
    "\n",
    "print(f\"\\nModal-specific operators: {len(modal_ops)}\")\n",
    "for op in sorted(modal_ops):\n",
    "    print(f\"  {op}\")"
   ]
  },
  {
   "cell_type": "markdown",
   "metadata": {},
   "source": [
    "## 1. Basic Modal Logic\n",
    "\n",
    "Let's start with fundamental modal logic principles:"
   ]
  },
  {
   "cell_type": "markdown",
   "metadata": {},
   "source": [
    "### Necessity and Possibility"
   ]
  },
  {
   "cell_type": "code",
   "execution_count": null,
   "metadata": {},
   "outputs": [],
   "source": [
    "# Test basic modal interdefinability\n",
    "print(\"Testing modal interdefinability:\")\n",
    "\n",
    "# Possibility defined via necessity\n",
    "result1 = check_formula(\"◇p ↔ ¬□¬p\", theory_name=\"logos\")\n",
    "print(\"◇p ↔ ¬□¬p (possibility via necessity):\")\n",
    "display(result1)\n",
    "\n",
    "# Necessity defined via possibility  \n",
    "result2 = check_formula(\"□p ↔ ¬◇¬p\", theory_name=\"logos\")\n",
    "print(\"\\n□p ↔ ¬◇¬p (necessity via possibility):\")\n",
    "display(result2)"
   ]
  },
  {
   "cell_type": "markdown",
   "metadata": {},
   "source": [
    "### Modal System Axioms\n",
    "\n",
    "Let's test which modal logic axioms hold in the Logos framework:"
   ]
  },
  {
   "cell_type": "code",
   "execution_count": null,
   "metadata": {},
   "outputs": [],
   "source": [
    "# Test standard modal logic axioms\n",
    "modal_axioms = [\n",
    "    (\"K\", \"□(p → q) → (□p → □q)\", \"Distribution of necessity over implication\"),\n",
    "    (\"T\", \"□p → p\", \"What is necessary is actual\"),\n",
    "    (\"4\", \"□p → □□p\", \"Necessity of necessity\"),\n",
    "    (\"5\", \"◇p → □◇p\", \"Possibility of possibility\"),\n",
    "    (\"B\", \"p → □◇p\", \"What is actual is possibly necessary\")\n",
    "]\n",
    "\n",
    "print(\"Testing modal logic axioms in Logos theory:\\n\")\n",
    "\n",
    "for name, axiom, description in modal_axioms:\n",
    "    print(f\"Axiom {name}: {description}\")\n",
    "    print(f\"Formula: {axiom}\")\n",
    "    \n",
    "    result = check_formula(axiom, theory_name=\"logos\")\n",
    "    display(result)\n",
    "    print(\"-\" * 60)"
   ]
  },
  {
   "cell_type": "markdown",
   "metadata": {},
   "source": [
    "## 2. Hyperintensional Modal Logic\n",
    "\n",
    "Now let's explore what makes Logos modal logic hyperintensional:"
   ]
  },
  {
   "cell_type": "markdown",
   "metadata": {},
   "source": [
    "### Substitution Failures\n",
    "\n",
    "In hyperintensional logic, logically equivalent formulas may not be substitutable in modal contexts:"
   ]
  },
  {
   "cell_type": "code",
   "execution_count": null,
   "metadata": {},
   "outputs": [],
   "source": [
    "# Test substitution of logical equivalents\n",
    "substitution_tests = [\n",
    "    (\"□(p ∨ ¬p)\", \"□(q ∨ ¬q)\", \"Substitution of tautologies\"),\n",
    "    (\"□(p ∧ q)\", \"□(q ∧ p)\", \"Conjunction commutativity\"),\n",
    "    (\"□((p → q) → p)\", \"□((r → s) → r)\", \"Schema substitution\"),\n",
    "    (\"□(p ↔ p)\", \"□(q ↔ q)\", \"Identity substitution\")\n",
    "]\n",
    "\n",
    "print(\"Testing hyperintensional substitution failures:\\n\")\n",
    "\n",
    "for formula1, formula2, description in substitution_tests:\n",
    "    print(f\"Test: {description}\")\n",
    "    equivalence = f\"({formula1}) ↔ ({formula2})\"\n",
    "    print(f\"Checking: {equivalence}\")\n",
    "    \n",
    "    # Look for countermodels to the equivalence\n",
    "    result = find_countermodel(equivalence, theory_name=\"logos\")\n",
    "    display(result)\n",
    "    print(\"-\" * 60)"
   ]
  },
  {
   "cell_type": "markdown",
   "metadata": {},
   "source": [
    "### Content Sensitivity\n",
    "\n",
    "Hyperintensional logic is sensitive to the content or subject matter of propositions:"
   ]
  },
  {
   "cell_type": "code",
   "execution_count": null,
   "metadata": {},
   "outputs": [],
   "source": [
    "# Test content sensitivity\n",
    "content_tests = [\n",
    "    # Mathematical vs empirical necessities\n",
    "    (\"□(2+2=4) → □(snow_is_white)\", \"Mathematical necessity doesn't imply empirical necessity\"),\n",
    "    \n",
    "    # Logical vs metaphysical necessity\n",
    "    (\"□(p → p) → □(water_is_H2O)\", \"Logical necessity doesn't imply metaphysical necessity\"),\n",
    "    \n",
    "    # Subject matter distinctions\n",
    "    (\"□(p ∨ ¬p) → □(q ∨ ¬q)\", \"Tautologies with different subject matters\"),\n",
    "]\n",
    "\n",
    "print(\"Testing content sensitivity in modal contexts:\\n\")\n",
    "\n",
    "for formula, description in content_tests:\n",
    "    print(f\"Test: {description}\")\n",
    "    print(f\"Formula: {formula}\")\n",
    "    \n",
    "    result = find_countermodel(formula, theory_name=\"logos\")\n",
    "    display(result)\n",
    "    print(\"-\" * 60)"
   ]
  },
  {
   "cell_type": "markdown",
   "metadata": {},
   "source": [
    "## 3. Complex Modal Reasoning\n",
    "\n",
    "Let's explore more sophisticated modal reasoning patterns:"
   ]
  },
  {
   "cell_type": "markdown",
   "metadata": {},
   "source": [
    "### Nested Modalities"
   ]
  },
  {
   "cell_type": "code",
   "execution_count": null,
   "metadata": {},
   "outputs": [],
   "source": [
    "# Test complex nested modal formulas\n",
    "nested_examples = [\n",
    "    {\n",
    "        'premises': [\"□(p → □q)\", \"◇p\"],\n",
    "        'conclusions': [\"◇□q\"],\n",
    "        'description': \"From necessary conditional and possibility\"\n",
    "    },\n",
    "    {\n",
    "        'premises': [\"□◇p\", \"□(p → q)\"],\n",
    "        'conclusions': [\"□◇q\"],\n",
    "        'description': \"Necessity of possibility with conditional\"\n",
    "    },\n",
    "    {\n",
    "        'premises': [\"◇□p\", \"□(p ↔ q)\"],\n",
    "        'conclusions': [\"◇□q\"],\n",
    "        'description': \"Possibility of necessity with biconditional\"\n",
    "    }\n",
    "]\n",
    "\n",
    "print(\"Testing complex nested modal reasoning:\\n\")\n",
    "\n",
    "for i, example in enumerate(nested_examples, 1):\n",
    "    print(f\"Example {i}: {example['description']}\")\n",
    "    print(f\"Premises: {example['premises']}\")\n",
    "    print(f\"Conclusions: {example['conclusions']}\")\n",
    "    \n",
    "    # Build the example\n",
    "    modal_example = [\n",
    "        example['premises'],\n",
    "        example['conclusions'],\n",
    "        {'N': 4, 'max_time': 10, 'expectation': False}\n",
    "    ]\n",
    "    \n",
    "    model = BuildExample(f\"nested_modal_{i}\", modal_theory, modal_example)\n",
    "    result = model.check_result()\n",
    "    \n",
    "    print(f\"Result: {'Valid' if result else 'Invalid'}\")\n",
    "    \n",
    "    if not result:\n",
    "        print(\"Countermodel found - detailed structure:\")\n",
    "        model.model_structure.print_all()\n",
    "    \n",
    "    print(\"=\" * 70)"
   ]
  },
  {
   "cell_type": "markdown",
   "metadata": {},
   "source": [
    "## 4. Interactive Modal Explorer\n",
    "\n",
    "Use this interactive section to experiment with modal formulas:"
   ]
  },
  {
   "cell_type": "code",
   "execution_count": null,
   "metadata": {},
   "outputs": [],
   "source": [
    "# Interactive modal logic explorer\n",
    "def explore_modal_formula(formula, premises=None, settings=None):\n",
    "    \"\"\"Explore a modal formula with detailed analysis.\"\"\"\n",
    "    if premises is None:\n",
    "        premises = []\n",
    "    if settings is None:\n",
    "        settings = {'N': 3, 'max_time': 10}\n",
    "    \n",
    "    print(f\"Exploring modal formula: {formula}\")\n",
    "    if premises:\n",
    "        print(f\"With premises: {premises}\")\n",
    "    \n",
    "    # Check validity\n",
    "    if premises:\n",
    "        example = [premises, [formula], {**settings, 'expectation': False}]\n",
    "        model = BuildExample(\"modal_exploration\", modal_theory, example)\n",
    "        result = model.check_result()\n",
    "        print(f\"\\nArgument is {'valid' if result else 'invalid'}\")\n",
    "    else:\n",
    "        result = check_formula(formula, theory_name=\"logos\")\n",
    "        display(result)\n",
    "    \n",
    "    # Also check for countermodels\n",
    "    print(\"\\nLooking for countermodels:\")\n",
    "    counter_result = find_countermodel(formula, theory_name=\"logos\", premises=premises)\n",
    "    display(counter_result)\n",
    "\n",
    "# Try your own modal formulas here!\n",
    "explore_modal_formula(\"□(p → q) → (□p → □q)\")  # K axiom"
   ]
  },
  {
   "cell_type": "code",
   "execution_count": null,
   "metadata": {},
   "outputs": [],
   "source": [
    "# Exercise: Modify this cell to test your own modal formulas\n",
    "my_formula = \"◇□p → □◇p\"  # Change this formula\n",
    "my_premises = []  # Add premises if needed\n",
    "\n",
    "explore_modal_formula(my_formula, my_premises)"
   ]
  },
  {
   "cell_type": "markdown",
   "metadata": {},
   "source": [
    "## 5. Comparative Analysis\n",
    "\n",
    "Compare modal logic in Logos vs classical systems:"
   ]
  },
  {
   "cell_type": "code",
   "execution_count": null,
   "metadata": {},
   "outputs": [],
   "source": [
    "# Compare Logos modal logic with standard systems\n",
    "def test_modal_system_features():\n",
    "    \"\"\"Test which features of standard modal systems hold in Logos.\"\"\"\n",
    "    \n",
    "    systems = {\n",
    "        'K': [\"□(p → q) → (□p → □q)\"],\n",
    "        'T (K + T)': [\"□(p → q) → (□p → □q)\", \"□p → p\"],\n",
    "        'S4 (T + 4)': [\"□(p → q) → (□p → □q)\", \"□p → p\", \"□p → □□p\"],\n",
    "        'S5 (S4 + 5)': [\"□(p → q) → (□p → □q)\", \"□p → p\", \"□p → □□p\", \"◇p → □◇p\"]\n",
    "    }\n",
    "    \n",
    "    print(\"Testing correspondence to standard modal systems:\\n\")\n",
    "    \n",
    "    for system_name, axioms in systems.items():\n",
    "        print(f\"System {system_name}:\")\n",
    "        all_valid = True\n",
    "        \n",
    "        for axiom in axioms:\n",
    "            # Quick test - just check if it's a tautology\n",
    "            try:\n",
    "                example = [[], [axiom], {'N': 3, 'max_time': 5, 'expectation': False}]\n",
    "                model = BuildExample(f\"test_{system_name}\", modal_theory, example)\n",
    "                result = model.check_result()\n",
    "                status = \"✓\" if result else \"✗\"\n",
    "                print(f\"  {status} {axiom}\")\n",
    "                if not result:\n",
    "                    all_valid = False\n",
    "            except Exception as e:\n",
    "                print(f\"  ? {axiom} (error: {str(e)[:30]}...)\")\n",
    "                all_valid = False\n",
    "        \n",
    "        correspondence = \"Full\" if all_valid else \"Partial\"\n",
    "        print(f\"  → {correspondence} correspondence to {system_name}\")\n",
    "        print()\n",
    "\n",
    "test_modal_system_features()"
   ]
  },
  {
   "cell_type": "markdown",
   "metadata": {},
   "source": [
    "## 6. Advanced Exercises\n",
    "\n",
    "Try these advanced modal logic exercises:"
   ]
  },
  {
   "cell_type": "markdown",
   "metadata": {},
   "source": [
    "### Exercise 1: Modal Paradoxes\n",
    "\n",
    "Test how Logos handles classical modal paradoxes:"
   ]
  },
  {
   "cell_type": "code",
   "execution_count": null,
   "metadata": {},
   "outputs": [],
   "source": [
    "# Exercise 1: Modal paradoxes\n",
    "paradoxes = [\n",
    "    (\"□(□p → p) → □p\", \"Löb's theorem\"),\n",
    "    (\"□(□(□p → p) → p) → □p\", \"Generalized Löb\"),\n",
    "    (\"◇□⊥ → ⊥\", \"Impossibility of necessary contradiction\"),\n",
    "]\n",
    "\n",
    "print(\"Testing modal paradoxes and theorems:\\n\")\n",
    "\n",
    "for formula, name in paradoxes:\n",
    "    print(f\"Testing {name}:\")\n",
    "    print(f\"Formula: {formula}\")\n",
    "    \n",
    "    try:\n",
    "        result = find_countermodel(formula, theory_name=\"logos\")\n",
    "        display(result)\n",
    "    except Exception as e:\n",
    "        print(f\"Error: {e}\")\n",
    "    \n",
    "    print(\"-\" * 50)"
   ]
  },
  {
   "cell_type": "markdown",
   "metadata": {},
   "source": [
    "### Exercise 2: Build Your Own Modal Argument\n",
    "\n",
    "Create and test your own modal logic argument:"
   ]
  },
  {
   "cell_type": "code",
   "execution_count": null,
   "metadata": {},
   "outputs": [],
   "source": [
    "# Exercise 2: Design your own modal argument\n",
    "# Example: Ontological argument structure\n",
    "\n",
    "my_modal_argument = {\n",
    "    'name': 'Custom Modal Argument',\n",
    "    'premises': [\n",
    "        \"◇□p\",  # Possibly necessarily p\n",
    "        \"□(□p → q)\",  # Necessarily, if necessarily p then q\n",
    "    ],\n",
    "    'conclusions': [\n",
    "        \"◇q\",  # Possibly q\n",
    "    ],\n",
    "    'settings': {\n",
    "        'N': 4,\n",
    "        'max_time': 15,\n",
    "        'contingent': True,\n",
    "        'expectation': False  # We're testing validity\n",
    "    }\n",
    "}\n",
    "\n",
    "print(f\"Testing: {my_modal_argument['name']}\")\n",
    "print(f\"Premises: {my_modal_argument['premises']}\")\n",
    "print(f\"Conclusions: {my_modal_argument['conclusions']}\")\n",
    "\n",
    "example = [\n",
    "    my_modal_argument['premises'],\n",
    "    my_modal_argument['conclusions'],\n",
    "    my_modal_argument['settings']\n",
    "]\n",
    "\n",
    "model = BuildExample(\"custom_modal\", modal_theory, example)\n",
    "result = model.check_result()\n",
    "\n",
    "print(f\"\\nResult: The argument is {'valid' if result else 'invalid'}\")\n",
    "\n",
    "if not result:\n",
    "    print(\"\\nCountermodel details:\")\n",
    "    model.model_structure.print_all()\n",
    "else:\n",
    "    print(\"\\nNo countermodel found - the argument is logically valid!\")"
   ]
  },
  {
   "cell_type": "markdown",
   "metadata": {},
   "source": [
    "## Summary\n",
    "\n",
    "In this notebook, we've explored:\n",
    "\n",
    "1. **Basic Modal Logic**: Necessity, possibility, and standard axioms\n",
    "2. **Hyperintensional Features**: How Logos goes beyond classical modal logic\n",
    "3. **Substitution Failures**: When equivalent formulas aren't substitutable\n",
    "4. **Complex Reasoning**: Nested modalities and sophisticated arguments\n",
    "5. **System Comparison**: How Logos relates to K, T, S4, S5\n",
    "6. **Advanced Applications**: Paradoxes and custom arguments\n",
    "\n",
    "### Key Takeaways:\n",
    "\n",
    "- Logos modal logic is **hyperintensional** - it makes distinctions beyond possible world semantics\n",
    "- **Substitution failures** occur even for necessarily equivalent formulas\n",
    "- The system may not correspond exactly to classical modal systems\n",
    "- **Content and subject matter** affect modal reasoning\n",
    "- The framework enables sophisticated **nested modal reasoning**\n",
    "\n",
    "### Next Steps:\n",
    "\n",
    "1. Explore the [main Logos notebook](../logos_demo.ipynb) for the full theory\n",
    "2. Try the [constitutive operators](./constitutive_operators_demo.ipynb) if available\n",
    "3. Compare with [Exclusion Theory](../../exclusion/notebooks/exclusion_demo.ipynb)\n",
    "4. Study the implementation in `logos/subtheories/modal/`"
   ]
  }
 ],
 "metadata": {
  "kernelspec": {
   "display_name": "Python 3 (ipykernel)",
   "language": "python",
   "name": "python3"
  },
  "language_info": {
   "codemirror_mode": {
    "name": "ipython",
    "version": 3
   },
   "file_extension": ".py",
   "mimetype": "text/x-python",
   "name": "python",
   "nbconvert_exporter": "python",
   "pygments_lexer": "ipython3",
   "version": "3.12.0"
  }
 },
 "nbformat": 4,
 "nbformat_minor": 4
}