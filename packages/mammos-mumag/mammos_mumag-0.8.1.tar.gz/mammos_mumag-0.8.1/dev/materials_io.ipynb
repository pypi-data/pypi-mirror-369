{
 "cells": [
  {
   "cell_type": "code",
   "execution_count": 1,
   "metadata": {},
   "outputs": [
    {
     "name": "stderr",
     "output_type": "stream",
     "text": [
      "/home/mlang/repos/mammos/mammos-mumag/.pixi/envs/docs/lib/python3.11/site-packages/mammos_entity/base.py:15: RuntimeWarning: Failed to load ontology from the internet.\n",
      "  from mammos_entity.onto import HAVE_INTERNET, mammos_ontology\n",
      "/home/mlang/repos/mammos/mammos-mumag/.pixi/envs/docs/lib/python3.11/site-packages/mammos_entity/base.py:135: RuntimeWarning: Failed to load ontology from the interent. Hence, no check for unit or ontology_label will be performed!\n",
      "  warnings.warn(\n"
     ]
    }
   ],
   "source": [
    "from mammos_mumag.materials import MaterialDomain, Materials"
   ]
  },
  {
   "cell_type": "markdown",
   "metadata": {},
   "source": [
    "# Materials input/output\n",
    "\n",
    "Materials are composed of different domains, each with their own set of material constants:\n",
    "- `theta`: Angle of the magnetocrystalline anisotropy axis from the z-direction in radians.\n",
    "- `phi`: angle of the magnetocrystalline anisotropy axis from the x-direction in radians.\n",
    "- `K1`: First uniaxial anisotropy constant in $\\mathrm{J}/\\mathrm{m}^3$.\n",
    "- `K2`: Second uniaxial anisotropy constant in $\\mathrm{J}/\\mathrm{m}^3$.\n",
    "- `Ms`: Spontaneous magnetic magnetisation in $\\mathrm{A}/\\mathrm{m}$.\n",
    "- `A`: Exchange stiffness constant in $\\mathrm{J}/\\mathrm{m}$."
   ]
  },
  {
   "cell_type": "markdown",
   "metadata": {},
   "source": [
    "Each domain is stored as a `mammos_mumag.materials.MaterialDomain` dataclass, and `Materials` instances will stored its domains as a list of such dataclass."
   ]
  },
  {
   "cell_type": "markdown",
   "metadata": {
    "vscode": {
     "languageId": "plaintext"
    }
   },
   "source": [
    "## Material files\n",
    "At the moment two formats are accepted: `yaml` and `krn`.\n",
    "\n",
    "- In `yaml` material files each block contains the parameters in each domain:"
   ]
  },
  {
   "cell_type": "code",
   "execution_count": 2,
   "metadata": {},
   "outputs": [
    {
     "name": "stdout",
     "output_type": "stream",
     "text": [
      "-\n",
      "  theta: 0.0\n",
      "  phi: 0.0\n",
      "  K1: 4.9e+06\n",
      "  K2: 0.0\n",
      "  Ms: 1.61\n",
      "  A: 8.0e-11\n",
      "-\n",
      "  theta: 0.0\n",
      "  phi: 0.0\n",
      "  K1: 0.0\n",
      "  K2: 0.0\n",
      "  Ms: 0.0\n",
      "  A: 0.0\n",
      "-\n",
      "  theta: 0.0\n",
      "  phi: 0.0\n",
      "  K1: 0.0\n",
      "  K2: 0.0\n",
      "  Ms: 0.0\n",
      "  A: 0.0\n"
     ]
    }
   ],
   "source": [
    "with open(\"data/materials.yaml\") as file:\n",
    "    print(file.read())"
   ]
  },
  {
   "cell_type": "markdown",
   "metadata": {},
   "source": [
    "- In `krn` material files each line represents a domain (and the different material parameters are stored in a more cryptic way):"
   ]
  },
  {
   "cell_type": "code",
   "execution_count": 3,
   "metadata": {},
   "outputs": [
    {
     "name": "stdout",
     "output_type": "stream",
     "text": [
      "0.0  0.0  4.9e6  0.0  1.61  8.0e-11 0.0 0.0\n",
      "0.0  0.0  0.0    0.0  0.0   0.0     0.0 0.0\n",
      "0.0  0.0  0.0    0.0  0.0   0.0     0.0 0.0\n",
      "\n"
     ]
    }
   ],
   "source": [
    "with open(\"data/cube.krn\") as file:\n",
    "    print(file.read())"
   ]
  },
  {
   "cell_type": "markdown",
   "metadata": {},
   "source": [
    "## Initialization\n",
    "A `Materials` instance can be initialized in different ways.\n",
    "1. As an empty instance (with zero domains).\n",
    "2. Starting from a material file.\n",
    "3. Defining the material parameters explicitly."
   ]
  },
  {
   "cell_type": "markdown",
   "metadata": {},
   "source": [
    "### Empty initialization\n",
    "The command"
   ]
  },
  {
   "cell_type": "code",
   "execution_count": 4,
   "metadata": {},
   "outputs": [],
   "source": [
    "mat = Materials()"
   ]
  },
  {
   "cell_type": "markdown",
   "metadata": {},
   "source": [
    "defines a material with an empty domain list:"
   ]
  },
  {
   "cell_type": "code",
   "execution_count": 5,
   "metadata": {},
   "outputs": [
    {
     "data": {
      "text/plain": [
       "[]"
      ]
     },
     "execution_count": 5,
     "metadata": {},
     "output_type": "execute_result"
    }
   ],
   "source": [
    "mat.domains"
   ]
  },
  {
   "cell_type": "markdown",
   "metadata": {},
   "source": [
    "Domains can be added either using the method `add_domain`:"
   ]
  },
  {
   "cell_type": "code",
   "execution_count": 6,
   "metadata": {},
   "outputs": [
    {
     "data": {
      "text/plain": [
       "[MaterialDomain(theta=0.0, phi=0.0, K1=UniaxialAnisotropyConstant(value=4900000.0, unit=J / m3), K2=UniaxialAnisotropyConstant(value=0.0, unit=J / m3), Ms=SpontaneousMagnetization(value=1.61, unit=A / m), A=ExchangeStiffnessConstant(value=8e-11, unit=J / m))]"
      ]
     },
     "execution_count": 6,
     "metadata": {},
     "output_type": "execute_result"
    }
   ],
   "source": [
    "mat.add_domain(\n",
    "    theta=0.0,\n",
    "    phi=0.0,\n",
    "    K1=4.9e06,\n",
    "    K2=0.0,\n",
    "    Ms=1.61,\n",
    "    A=8.0e-11,\n",
    ")\n",
    "mat.domains"
   ]
  },
  {
   "cell_type": "markdown",
   "metadata": {},
   "source": [
    "Or a material file can be read using the `read` method (attention: this will overwrite the previous `domain` attribute):"
   ]
  },
  {
   "cell_type": "code",
   "execution_count": 7,
   "metadata": {},
   "outputs": [
    {
     "name": "stderr",
     "output_type": "stream",
     "text": [
      "/home/mlang/repos/mammos/mammos-mumag/.pixi/envs/docs/lib/python3.11/site-packages/mammos_entity/base.py:135: RuntimeWarning: Failed to load ontology from the interent. Hence, no check for unit or ontology_label will be performed!\n",
      "  warnings.warn(\n",
      "/home/mlang/repos/mammos/mammos-mumag/.pixi/envs/docs/lib/python3.11/site-packages/mammos_entity/base.py:135: RuntimeWarning: Failed to load ontology from the interent. Hence, no check for unit or ontology_label will be performed!\n",
      "  warnings.warn(\n",
      "/home/mlang/repos/mammos/mammos-mumag/.pixi/envs/docs/lib/python3.11/site-packages/mammos_entity/base.py:135: RuntimeWarning: Failed to load ontology from the interent. Hence, no check for unit or ontology_label will be performed!\n",
      "  warnings.warn(\n"
     ]
    },
    {
     "data": {
      "text/plain": [
       "Materials(domains=[MaterialDomain(theta=0.0, phi=0.0, K1=UniaxialAnisotropyConstant(value=4900000.0, unit=J / m3), K2=UniaxialAnisotropyConstant(value=0.0, unit=J / m3), Ms=SpontaneousMagnetization(value=1281197.2911923048, unit=A / m), A=ExchangeStiffnessConstant(value=8e-11, unit=J / m)), MaterialDomain(theta=0.0, phi=0.0, K1=UniaxialAnisotropyConstant(value=0.0, unit=J / m3), K2=UniaxialAnisotropyConstant(value=0.0, unit=J / m3), Ms=SpontaneousMagnetization(value=0.0, unit=A / m), A=ExchangeStiffnessConstant(value=0.0, unit=J / m)), MaterialDomain(theta=0.0, phi=0.0, K1=UniaxialAnisotropyConstant(value=0.0, unit=J / m3), K2=UniaxialAnisotropyConstant(value=0.0, unit=J / m3), Ms=SpontaneousMagnetization(value=0.0, unit=A / m), A=ExchangeStiffnessConstant(value=0.0, unit=J / m))])"
      ]
     },
     "execution_count": 7,
     "metadata": {},
     "output_type": "execute_result"
    }
   ],
   "source": [
    "mat.read(\"data/cube.krn\")\n",
    "mat"
   ]
  },
  {
   "cell_type": "markdown",
   "metadata": {},
   "source": [
    "### Reading a material file\n",
    "A `Materials` instance can be initialized by a material file if we specify the `filepath` attribute:"
   ]
  },
  {
   "cell_type": "code",
   "execution_count": 8,
   "metadata": {},
   "outputs": [
    {
     "name": "stderr",
     "output_type": "stream",
     "text": [
      "/home/mlang/repos/mammos/mammos-mumag/.pixi/envs/docs/lib/python3.11/site-packages/mammos_entity/base.py:135: RuntimeWarning: Failed to load ontology from the interent. Hence, no check for unit or ontology_label will be performed!\n",
      "  warnings.warn(\n",
      "/home/mlang/repos/mammos/mammos-mumag/.pixi/envs/docs/lib/python3.11/site-packages/mammos_entity/base.py:135: RuntimeWarning: Failed to load ontology from the interent. Hence, no check for unit or ontology_label will be performed!\n",
      "  warnings.warn(\n",
      "/home/mlang/repos/mammos/mammos-mumag/.pixi/envs/docs/lib/python3.11/site-packages/mammos_entity/base.py:135: RuntimeWarning: Failed to load ontology from the interent. Hence, no check for unit or ontology_label will be performed!\n",
      "  warnings.warn(\n"
     ]
    },
    {
     "data": {
      "text/plain": [
       "Materials(domains=[MaterialDomain(theta=0.0, phi=0.0, K1=UniaxialAnisotropyConstant(value=4900000.0, unit=J / m3), K2=UniaxialAnisotropyConstant(value=0.0, unit=J / m3), Ms=SpontaneousMagnetization(value=1281197.2911923048, unit=A / m), A=ExchangeStiffnessConstant(value=8e-11, unit=J / m)), MaterialDomain(theta=0.0, phi=0.0, K1=UniaxialAnisotropyConstant(value=0.0, unit=J / m3), K2=UniaxialAnisotropyConstant(value=0.0, unit=J / m3), Ms=SpontaneousMagnetization(value=0.0, unit=A / m), A=ExchangeStiffnessConstant(value=0.0, unit=J / m)), MaterialDomain(theta=0.0, phi=0.0, K1=UniaxialAnisotropyConstant(value=0.0, unit=J / m3), K2=UniaxialAnisotropyConstant(value=0.0, unit=J / m3), Ms=SpontaneousMagnetization(value=0.0, unit=A / m), A=ExchangeStiffnessConstant(value=0.0, unit=J / m))])"
      ]
     },
     "execution_count": 8,
     "metadata": {},
     "output_type": "execute_result"
    }
   ],
   "source": [
    "mat = Materials(filepath=\"data/cube.krn\")\n",
    "mat"
   ]
  },
  {
   "cell_type": "markdown",
   "metadata": {},
   "source": [
    "### Defining the list of `MaterialDomain`\n",
    "The `domains` attribute can also be given explicitly, either as a list of `MaterialDomain` objects or equivalently `dict`."
   ]
  },
  {
   "cell_type": "code",
   "execution_count": 11,
   "metadata": {},
   "outputs": [
    {
     "data": {
      "text/plain": [
       "Materials(domains=[MaterialDomain(theta=1.0, phi=2.0, K1=UniaxialAnisotropyConstant(value=3.0, unit=J / m3), K2=UniaxialAnisotropyConstant(value=4.0, unit=J / m3), Ms=SpontaneousMagnetization(value=5.0, unit=A / m), A=ExchangeStiffnessConstant(value=6.0, unit=J / m))])"
      ]
     },
     "execution_count": 11,
     "metadata": {},
     "output_type": "execute_result"
    }
   ],
   "source": [
    "mat = Materials(\n",
    "    domains=[\n",
    "        {\n",
    "            \"theta\": 1,\n",
    "            \"phi\": 2,\n",
    "            \"K1\": 3,\n",
    "            \"K2\": 4,\n",
    "            \"Ms\": 5,\n",
    "            \"A\": 6,\n",
    "        }\n",
    "    ]\n",
    ")\n",
    "mat"
   ]
  },
  {
   "cell_type": "code",
   "execution_count": 10,
   "metadata": {},
   "outputs": [
    {
     "data": {
      "text/plain": [
       "Materials(domains=[MaterialDomain(theta=8.0, phi=7.0, K1=UniaxialAnisotropyConstant(value=6.0, unit=J / m3), K2=UniaxialAnisotropyConstant(value=5.0, unit=J / m3), Ms=SpontaneousMagnetization(value=4.0, unit=A / m), A=ExchangeStiffnessConstant(value=3.0, unit=J / m))])"
      ]
     },
     "execution_count": 10,
     "metadata": {},
     "output_type": "execute_result"
    }
   ],
   "source": [
    "mat = Materials(\n",
    "    domains=[\n",
    "        MaterialDomain(\n",
    "            theta=8,\n",
    "            phi=7,\n",
    "            K1=6,\n",
    "            K2=5,\n",
    "            Ms=4,\n",
    "            A=3,\n",
    "        )\n",
    "    ]\n",
    ")\n",
    "mat"
   ]
  },
  {
   "cell_type": "markdown",
   "metadata": {},
   "source": [
    "## Write material files\n",
    "In the same way, we can export the material files either as `krn` or `yaml` with\n",
    "```python\n",
    "mat.write_krn(\"data/cube.krn\")\n",
    "```\n",
    "or\n",
    "```python\n",
    "mat.write_yaml(\"data/materials.yaml\")\n",
    "```"
   ]
  }
 ],
 "metadata": {
  "kernelspec": {
   "display_name": "Python 3 (ipykernel)",
   "language": "python",
   "name": "python3"
  },
  "language_info": {
   "codemirror_mode": {
    "name": "ipython",
    "version": 3
   },
   "file_extension": ".py",
   "mimetype": "text/x-python",
   "name": "python",
   "nbconvert_exporter": "python",
   "pygments_lexer": "ipython3",
   "version": "3.11.12"
  }
 },
 "nbformat": 4,
 "nbformat_minor": 4
}
