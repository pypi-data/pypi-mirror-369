{
 "cells": [
  {
   "cell_type": "markdown",
   "metadata": {},
   "source": [
    "# unvtofly: Conversion `unv` mesh to `fly` mesh"
   ]
  },
  {
   "cell_type": "markdown",
   "metadata": {},
   "source": [
    "The conversion simply needs the input `unv` file path, the output `fly` file path, and the dimensions to be excluded: for example, `[1,2]` will only take into consideration 3d cells objects."
   ]
  },
  {
   "cell_type": "code",
   "execution_count": 1,
   "metadata": {},
   "outputs": [],
   "source": [
    "from mammos_mumag.tofly import convert\n",
    "\n",
    "unv_mesh = \"data/mesh.unv\"\n",
    "fly_mesh = \"out/test.fly\"\n",
    "convert(unv_mesh, fly_mesh)"
   ]
  }
 ],
 "metadata": {
  "kernelspec": {
   "display_name": "docs",
   "language": "python",
   "name": "python3"
  },
  "language_info": {
   "codemirror_mode": {
    "name": "ipython",
    "version": 3
   },
   "file_extension": ".py",
   "mimetype": "text/x-python",
   "name": "python",
   "nbconvert_exporter": "python",
   "pygments_lexer": "ipython3",
   "version": "3.11.12"
  }
 },
 "nbformat": 4,
 "nbformat_minor": 4
}
