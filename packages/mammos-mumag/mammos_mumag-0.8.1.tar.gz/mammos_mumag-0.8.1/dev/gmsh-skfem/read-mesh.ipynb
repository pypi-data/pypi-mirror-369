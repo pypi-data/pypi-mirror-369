{
 "cells": [
  {
   "cell_type": "markdown",
   "id": "a3626edb-db03-42a6-8bc3-c74bc473073e",
   "metadata": {},
   "source": [
    "# Loading the different sub-regions of the mesh"
   ]
  },
  {
   "cell_type": "markdown",
   "id": "06e69205-3c04-4b42-811c-0402924ddc42",
   "metadata": {},
   "source": [
    "## Reading the mesh using `meshio`"
   ]
  },
  {
   "cell_type": "code",
   "execution_count": 1,
   "id": "c910338d-f9e4-4998-8701-8b304956ccf7",
   "metadata": {},
   "outputs": [],
   "source": [
    "import meshio"
   ]
  },
  {
   "cell_type": "code",
   "execution_count": 2,
   "id": "ec0e449f-2570-49bd-8fc7-dc09a308f761",
   "metadata": {},
   "outputs": [
    {
     "name": "stdout",
     "output_type": "stream",
     "text": [
      "\n"
     ]
    },
    {
     "data": {
      "text/plain": [
       "<meshio mesh object>\n",
       "  Number of points: 12595\n",
       "  Number of cells:\n",
       "    tetra: 36660\n",
       "    tetra: 28304\n",
       "    tetra: 8231\n",
       "  Cell sets: shell, air, material, gmsh:bounding_entities\n",
       "  Point data: gmsh:dim_tags\n",
       "  Cell data: gmsh:physical, gmsh:geometrical\n",
       "  Field data: shell, air, material"
      ]
     },
     "execution_count": 2,
     "metadata": {},
     "output_type": "execute_result"
    }
   ],
   "source": [
    "mesh = meshio.read(\"cube.msh\")\n",
    "mesh"
   ]
  },
  {
   "cell_type": "markdown",
   "id": "9bdb6e99-97d2-4b19-85ec-b32abed1d6d3",
   "metadata": {},
   "source": [
    "Obtain cell indices for different regions of the mesh."
   ]
  },
  {
   "cell_type": "code",
   "execution_count": 3,
   "id": "cced18c8-7c0c-4b25-80d5-f7254ce53396",
   "metadata": {},
   "outputs": [
    {
     "data": {
      "text/plain": [
       "{'shell': {'tetra': array([64964, 64965, 64966, ..., 73192, 73193, 73194],\n",
       "        shape=(8231,), dtype=uint64)},\n",
       " 'air': {'tetra': array([36660, 36661, 36662, ..., 64961, 64962, 64963],\n",
       "        shape=(28304,), dtype=uint64)},\n",
       " 'material': {'tetra': array([    0,     1,     2, ..., 36657, 36658, 36659],\n",
       "        shape=(36660,), dtype=uint64)},\n",
       " 'gmsh:bounding_entities': {'tetra': array([   -1,     2,    -3,     4,    -5,     6, 36667, 36661, 36663,\n",
       "         36654, 36656, 36665, 36658, 64972, 64957], dtype=int32)}}"
      ]
     },
     "execution_count": 3,
     "metadata": {},
     "output_type": "execute_result"
    }
   ],
   "source": [
    "mesh.cell_sets_dict"
   ]
  },
  {
   "cell_type": "markdown",
   "id": "0e569192-8fb0-48ec-a7d9-263962cf33a9",
   "metadata": {},
   "source": [
    "## Reading the mesh using `scikit-fem`"
   ]
  },
  {
   "cell_type": "code",
   "execution_count": 1,
   "id": "0f91f99c-7d56-449b-8f1c-d4cb9ddf7b85",
   "metadata": {},
   "outputs": [],
   "source": [
    "import skfem"
   ]
  },
  {
   "cell_type": "code",
   "execution_count": 2,
   "id": "f3621c43-542e-4e2e-8740-3329ccacacc3",
   "metadata": {},
   "outputs": [
    {
     "name": "stderr",
     "output_type": "stream",
     "text": [
      "Failure to parse tags from meshio.\n"
     ]
    },
    {
     "name": "stdout",
     "output_type": "stream",
     "text": [
      "\n"
     ]
    }
   ],
   "source": [
    "mesh_skfem = skfem.Mesh.load(\"cube.msh\")"
   ]
  },
  {
   "cell_type": "code",
   "execution_count": 3,
   "id": "9befe213-11b3-4348-a8b2-85e59ecb9bc0",
   "metadata": {},
   "outputs": [
    {
     "data": {
      "text/plain": [
       "<skfem MeshTet1 object>\n",
       "  Number of elements: 73195\n",
       "  Number of vertices: 12595\n",
       "  Number of nodes: 12595\n",
       "  Named subdomains [# elements]: shell [8231], air [28304], material [36660]"
      ]
     },
     "execution_count": 3,
     "metadata": {},
     "output_type": "execute_result"
    }
   ],
   "source": [
    "mesh_skfem"
   ]
  },
  {
   "cell_type": "code",
   "execution_count": 4,
   "id": "baf4d434-f28c-4846-adce-5b7ac92c6f97",
   "metadata": {},
   "outputs": [
    {
     "data": {
      "text/plain": [
       "{'shell': array([64964, 64965, 64966, ..., 73192, 73193, 73194],\n",
       "       shape=(8231,), dtype=int32),\n",
       " 'air': array([36660, 36661, 36662, ..., 64961, 64962, 64963],\n",
       "       shape=(28304,), dtype=int32),\n",
       " 'material': array([    0,     1,     2, ..., 36657, 36658, 36659],\n",
       "       shape=(36660,), dtype=int32)}"
      ]
     },
     "execution_count": 4,
     "metadata": {},
     "output_type": "execute_result"
    }
   ],
   "source": [
    "mesh_skfem.subdomains"
   ]
  },
  {
   "cell_type": "code",
   "execution_count": 8,
   "id": "39ed07fd-4429-4c81-962a-7a0e84fd81b6",
   "metadata": {},
   "outputs": [
    {
     "data": {
      "text/plain": [
       "array([    0,     1,     2, ..., 36657, 36658, 36659],\n",
       "      shape=(36660,), dtype=int32)"
      ]
     },
     "execution_count": 8,
     "metadata": {},
     "output_type": "execute_result"
    }
   ],
   "source": [
    "mesh_skfem.subdomains[\"material\"]"
   ]
  },
  {
   "cell_type": "markdown",
   "id": "e49ca067-4df7-4d83-bade-65bf60f903e2",
   "metadata": {},
   "source": [
    "### Create material properties"
   ]
  },
  {
   "cell_type": "code",
   "execution_count": 28,
   "id": "44cc8dc1-8f45-4d21-9be6-0dc27630e4ac",
   "metadata": {},
   "outputs": [],
   "source": [
    "import numpy as np"
   ]
  },
  {
   "cell_type": "code",
   "execution_count": 46,
   "id": "9c5e1db0-54c5-4f71-9bb5-c75af51bacf0",
   "metadata": {},
   "outputs": [
    {
     "data": {
      "text/plain": [
       "(73195,)"
      ]
     },
     "execution_count": 46,
     "metadata": {},
     "output_type": "execute_result"
    }
   ],
   "source": [
    "Ms = np.zeros(mesh_skfem.nelements)\n",
    "Ms.shape"
   ]
  },
  {
   "cell_type": "code",
   "execution_count": 47,
   "id": "d9901b43-3783-48c9-95da-b62c0aac67ea",
   "metadata": {},
   "outputs": [],
   "source": [
    "Ms[mesh_skfem.subdomains[\"material\"]] = 2"
   ]
  },
  {
   "cell_type": "code",
   "execution_count": 48,
   "id": "fd109610-f13e-4c24-a842-f425307db1b6",
   "metadata": {},
   "outputs": [
    {
     "data": {
      "text/plain": [
       "(1, 73195)"
      ]
     },
     "execution_count": 48,
     "metadata": {},
     "output_type": "execute_result"
    }
   ],
   "source": [
    "Ms = Ms.reshape(1, Ms.shape[0])\n",
    "Ms.shape"
   ]
  },
  {
   "cell_type": "code",
   "execution_count": 50,
   "id": "f7006ee7-6210-4074-8d17-e34bae4667db",
   "metadata": {},
   "outputs": [
    {
     "data": {
      "text/plain": [
       "array([[2., 2., 2., ..., 0., 0., 0.]], shape=(1, 73195))"
      ]
     },
     "execution_count": 50,
     "metadata": {},
     "output_type": "execute_result"
    }
   ],
   "source": [
    "Ms"
   ]
  },
  {
   "cell_type": "code",
   "execution_count": 49,
   "id": "1532556d-0a95-4d5c-9a12-1f885524aed6",
   "metadata": {},
   "outputs": [],
   "source": [
    "mesh_skfem.save(\"Ms.vtu\", cell_data={\"Ms\": Ms})"
   ]
  }
 ],
 "metadata": {
  "kernelspec": {
   "display_name": "Python 3 (ipykernel)",
   "language": "python",
   "name": "python3"
  },
  "language_info": {
   "codemirror_mode": {
    "name": "ipython",
    "version": 3
   },
   "file_extension": ".py",
   "mimetype": "text/x-python",
   "name": "python",
   "nbconvert_exporter": "python",
   "pygments_lexer": "ipython3",
   "version": "3.13.3"
  }
 },
 "nbformat": 4,
 "nbformat_minor": 5
}
