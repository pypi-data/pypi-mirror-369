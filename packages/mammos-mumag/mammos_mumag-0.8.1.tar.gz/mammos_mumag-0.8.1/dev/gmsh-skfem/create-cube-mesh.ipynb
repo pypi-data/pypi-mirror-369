{
 "cells": [
  {
   "cell_type": "markdown",
   "id": "942e690a-f377-4a79-a11a-3629ed255cd6",
   "metadata": {},
   "source": [
    "# Create a mesh using `gmsh`\n",
    "The aim here is to create a mesh where a material geometry in the form of a cube, surrounded by spherical air region, and finally a shell."
   ]
  },
  {
   "cell_type": "code",
   "execution_count": 1,
   "id": "b3b1b553-e4af-466d-9090-2a71ccc3587e",
   "metadata": {},
   "outputs": [],
   "source": [
    "import gmsh\n",
    "import math"
   ]
  },
  {
   "cell_type": "markdown",
   "id": "1ac73894-12d7-48e5-aafd-933e9e70e0ed",
   "metadata": {},
   "source": [
    "Initiate mesh parameters."
   ]
  },
  {
   "cell_type": "code",
   "execution_count": 2,
   "id": "0d90d299-32cd-47a1-a146-fd0cd006ad9d",
   "metadata": {},
   "outputs": [],
   "source": [
    "cube_length = 100 # nm\n",
    "inner_sphere_r = (cube_length * math.sqrt(3) / 2) + 2 # nm\n",
    "outer_sphere_r = inner_sphere_r + 10 # nm\n",
    "cube_length, inner_sphere_r, outer_sphere_r\n",
    "l_mat = 5\n",
    "l_rest = 10"
   ]
  },
  {
   "cell_type": "code",
   "execution_count": 3,
   "id": "875d344b-0e1d-4a96-a03e-d7e481ed75ae",
   "metadata": {},
   "outputs": [],
   "source": [
    "gmsh.initialize()"
   ]
  },
  {
   "cell_type": "code",
   "execution_count": 4,
   "id": "dfd77a8e-c37b-4be2-b5b9-80d46c6a65b9",
   "metadata": {},
   "outputs": [],
   "source": [
    "gmsh.model.add(\"cube\")"
   ]
  },
  {
   "cell_type": "code",
   "execution_count": 5,
   "id": "167951ed-8b86-4d02-866c-cae38a474bf1",
   "metadata": {},
   "outputs": [],
   "source": [
    "gmsh.logger.start()"
   ]
  },
  {
   "cell_type": "markdown",
   "id": "cb8098d5-aaed-4dd6-aede-b7f377f89d1b",
   "metadata": {},
   "source": [
    "Add a cube with origin at the centre of the cube."
   ]
  },
  {
   "cell_type": "code",
   "execution_count": 6,
   "id": "60f24921-f215-44f7-8133-7b273f10dfbe",
   "metadata": {},
   "outputs": [],
   "source": [
    "cube = gmsh.model.occ.add_box(-cube_length/2, -cube_length/2, -cube_length/2, cube_length, cube_length, cube_length)"
   ]
  },
  {
   "cell_type": "markdown",
   "id": "cd932fca-39f6-4ac2-b2f7-699cd00b137d",
   "metadata": {},
   "source": [
    "Add two spheres with the center at the origin."
   ]
  },
  {
   "cell_type": "code",
   "execution_count": 7,
   "id": "8c8434ec-d348-44cb-8593-03700b7f00cb",
   "metadata": {},
   "outputs": [],
   "source": [
    "inner_shpere = gmsh.model.occ.add_sphere(0, 0, 0, inner_sphere_r)"
   ]
  },
  {
   "cell_type": "code",
   "execution_count": 8,
   "id": "9338cd4e-c679-4f22-80d0-0d301372693d",
   "metadata": {},
   "outputs": [],
   "source": [
    "outer_shpere = gmsh.model.occ.add_sphere(0, 0, 0, outer_sphere_r)"
   ]
  },
  {
   "cell_type": "markdown",
   "id": "077a27b0-228c-4311-96b9-1d9c1ad473e4",
   "metadata": {},
   "source": [
    "Create a shell by removing the inner shere from of the outer sphere."
   ]
  },
  {
   "cell_type": "code",
   "execution_count": 9,
   "id": "984148ff-825a-4716-89ce-4b687334c49a",
   "metadata": {},
   "outputs": [
    {
     "name": "stdout",
     "output_type": "stream",
     "text": [
      "                                                                                                                          "
     ]
    }
   ],
   "source": [
    "shell = gmsh.model.occ.cut([(3, outer_shpere)], [(3, inner_shpere)], removeTool=False)"
   ]
  },
  {
   "cell_type": "code",
   "execution_count": 10,
   "id": "675dfde1-d61b-4b25-b813-5c8e34eef660",
   "metadata": {},
   "outputs": [
    {
     "data": {
      "text/plain": [
       "[(3, 3)]"
      ]
     },
     "execution_count": 10,
     "metadata": {},
     "output_type": "execute_result"
    }
   ],
   "source": [
    "shell[0]"
   ]
  },
  {
   "cell_type": "markdown",
   "id": "3bba1740-876f-4373-bd48-3b582686aed1",
   "metadata": {},
   "source": [
    "Create air region by removing cube from the inner sphere."
   ]
  },
  {
   "cell_type": "code",
   "execution_count": 11,
   "id": "7f18ad2a-c334-4744-b64d-858984c82cde",
   "metadata": {},
   "outputs": [
    {
     "name": "stdout",
     "output_type": "stream",
     "text": [
      "                                                                                                                             "
     ]
    }
   ],
   "source": [
    "air = gmsh.model.occ.cut([(3, inner_shpere)], [(3, cube)], removeTool=False)"
   ]
  },
  {
   "cell_type": "code",
   "execution_count": 12,
   "id": "bcb39c02-27f3-4211-a5df-ba6d90a08bef",
   "metadata": {},
   "outputs": [
    {
     "data": {
      "text/plain": [
       "[(3, 2)]"
      ]
     },
     "execution_count": 12,
     "metadata": {},
     "output_type": "execute_result"
    }
   ],
   "source": [
    "air[0]"
   ]
  },
  {
   "cell_type": "code",
   "execution_count": 13,
   "id": "342ed510-0d75-4ed5-99c9-6912942c8b32",
   "metadata": {},
   "outputs": [],
   "source": [
    "gmsh.model.occ.synchronize()"
   ]
  },
  {
   "cell_type": "markdown",
   "id": "9196ec89-522d-4088-aa44-fa6620aedcb7",
   "metadata": {},
   "source": [
    "Create **physical groups** in order to select the regions easily later."
   ]
  },
  {
   "cell_type": "code",
   "execution_count": 14,
   "id": "525c46b0-ff45-4126-ac70-5d792a23dafb",
   "metadata": {},
   "outputs": [
    {
     "data": {
      "text/plain": [
       "3"
      ]
     },
     "execution_count": 14,
     "metadata": {},
     "output_type": "execute_result"
    }
   ],
   "source": [
    "gmsh.model.add_physical_group(3, [shell[0][0][1]], name=\"shell\")\n",
    "gmsh.model.add_physical_group(3, [air[0][0][1]], name=\"air\")\n",
    "gmsh.model.add_physical_group(3, [cube], name=\"material\")"
   ]
  },
  {
   "cell_type": "markdown",
   "id": "82271574-f732-49d4-b8d2-d3632e1ebe8d",
   "metadata": {},
   "source": [
    "Set the mesh size to a default for all points first."
   ]
  },
  {
   "cell_type": "code",
   "execution_count": 15,
   "id": "3db8da1b-348e-43f5-b2fc-831c636f6dcb",
   "metadata": {},
   "outputs": [],
   "source": [
    "gmsh.model.mesh.setSize(gmsh.model.get_entities(0), l_rest)"
   ]
  },
  {
   "cell_type": "markdown",
   "id": "5a4b8ad8-f282-4f81-bb80-093f173dde34",
   "metadata": {},
   "source": [
    "Reduce the size of the mesh for the points inside the material cude."
   ]
  },
  {
   "cell_type": "code",
   "execution_count": 16,
   "id": "83c420be-f878-4624-b9ec-7f30dae99697",
   "metadata": {},
   "outputs": [],
   "source": [
    "gmsh.model.mesh.setSize(\n",
    "    gmsh.model.get_entities_in_bounding_box(\n",
    "        -cube_length/2,\n",
    "        -cube_length/2,\n",
    "        -cube_length/2,\n",
    "        cube_length/2,\n",
    "        cube_length/2,\n",
    "        cube_length/2\n",
    "    ),\n",
    "    l_mat\n",
    ")"
   ]
  },
  {
   "cell_type": "code",
   "execution_count": 17,
   "id": "52e76818-b480-45d9-a014-233aebaaee41",
   "metadata": {},
   "outputs": [
    {
     "name": "stdout",
     "output_type": "stream",
     "text": [
      "Info    : Meshing 1D...\n",
      "Info    : [  0%] Meshing curve 1 (Line)\n",
      "Info    : [ 10%] Meshing curve 2 (Line)\n",
      "Info    : [ 20%] Meshing curve 3 (Line)\n",
      "Info    : [ 20%] Meshing curve 4 (Line)\n",
      "Info    : [ 30%] Meshing curve 5 (Line)\n",
      "Info    : [ 30%] Meshing curve 6 (Line)\n",
      "Info    : [ 40%] Meshing curve 7 (Line)\n",
      "Info    : [ 40%] Meshing curve 8 (Line)\n",
      "Info    : [ 50%] Meshing curve 9 (Line)\n",
      "Info    : [ 60%] Meshing curve 10 (Line)\n",
      "Info    : [ 60%] Meshing curve 11 (Line)\n",
      "Info    : [ 70%] Meshing curve 12 (Line)\n",
      "Info    : [ 80%] Meshing curve 14 (Circle)\n",
      "Info    : [ 90%] Meshing curve 17 (Circle)\n",
      "Info    : Done meshing 1D (Wall 0.00306072s, CPU 0.005014s)\n",
      "Info    : Meshing 2D...\n",
      "Info    : [  0%] Meshing surface 1 (Plane, Frontal-Delaunay)\n",
      "Info    : [ 20%] Meshing surface 2 (Plane, Frontal-Delaunay)\n",
      "Info    : [ 30%] Meshing surface 3 (Plane, Frontal-Delaunay)\n",
      "Info    : [ 40%] Meshing surface 4 (Plane, Frontal-Delaunay)\n",
      "Info    : [ 60%] Meshing surface 5 (Plane, Frontal-Delaunay)\n",
      "Info    : [ 70%] Meshing surface 6 (Plane, Frontal-Delaunay)\n",
      "Info    : [ 80%] Meshing surface 7 (Sphere, Frontal-Delaunay)\n",
      "Info    : [ 90%] Meshing surface 8 (Sphere, Frontal-Delaunay)\n",
      "Info    : Done meshing 2D (Wall 0.201767s, CPU 0.203101s)\n",
      "Info    : Meshing 3D...\n",
      "Info    : 3D Meshing 3 volumes with 1 connected component\n",
      "Info    : Tetrahedrizing 5523 nodes...\n",
      "Info    : Done tetrahedrizing 5531 nodes (Wall 0.0699951s, CPU 0.068752s)\n",
      "Info    : Reconstructing mesh...\n",
      "Info    :  - Creating surface mesh\n",
      "Info    :  - Identifying boundary edges\n",
      "Info    :  - Recovering boundary\n",
      "Info    : Done reconstructing mesh (Wall 0.139159s, CPU 0.135236s)\n",
      "Info    : Found volume 1\n",
      "Info    : Found volume 3\n",
      "Info    : Found volume 2\n",
      "Info    : It. 0 - 0 nodes created - worst tet radius 10.0077 (nodes removed 0 0)\n",
      "Info    : It. 500 - 497 nodes created - worst tet radius 2.19732 (nodes removed 0 3)\n",
      "Info    : It. 1000 - 997 nodes created - worst tet radius 1.78944 (nodes removed 0 3)\n",
      "Info    : It. 1500 - 1497 nodes created - worst tet radius 1.58947 (nodes removed 0 3)\n",
      "Info    : It. 2000 - 1997 nodes created - worst tet radius 1.46655 (nodes removed 0 3)\n",
      "Info    : It. 2500 - 2497 nodes created - worst tet radius 1.36991 (nodes removed 0 3)\n",
      "Info    : It. 3000 - 2997 nodes created - worst tet radius 1.28861 (nodes removed 0 3)\n",
      "Info    : It. 3500 - 3497 nodes created - worst tet radius 1.22719 (nodes removed 0 3)\n",
      "Info    : It. 4000 - 3997 nodes created - worst tet radius 1.18099 (nodes removed 0 3)\n",
      "Info    : It. 4500 - 4497 nodes created - worst tet radius 1.14034 (nodes removed 0 3)\n",
      "Info    : It. 5000 - 4997 nodes created - worst tet radius 1.10657 (nodes removed 0 3)\n",
      "Info    : It. 5500 - 5497 nodes created - worst tet radius 1.07676 (nodes removed 0 3)\n",
      "Info    : It. 6000 - 5997 nodes created - worst tet radius 1.04827 (nodes removed 0 3)\n",
      "Info    : It. 6500 - 6496 nodes created - worst tet radius 1.02478 (nodes removed 0 4)\n",
      "Info    : It. 7000 - 6995 nodes created - worst tet radius 1.00307 (nodes removed 0 5)\n",
      "Info    : 3D refinement terminated (12595 nodes total):\n",
      "Info    :  - 1 Delaunay cavities modified for star shapeness\n",
      "Info    :  - 5 nodes could not be inserted\n",
      "Info    :  - 74512 tetrahedra created in 0.426128 sec. (174858 tets/s)\n",
      "Info    : 0 node relocations\n",
      "Info    : Done meshing 3D (Wall 0.94596s, CPU 0.943603s)\n",
      "Info    : Optimizing mesh...\n",
      "Info    : Optimizing volume 1\n",
      "Info    : Optimization starts (volume = 1e+06) with worst = 0.00334078 / average = 0.784335:\n",
      "Info    : 0.00 < quality < 0.10 :        92 elements\n",
      "Info    : 0.10 < quality < 0.20 :       224 elements\n",
      "Info    : 0.20 < quality < 0.30 :       371 elements\n",
      "Info    : 0.30 < quality < 0.40 :       604 elements\n",
      "Info    : 0.40 < quality < 0.50 :       913 elements\n",
      "Info    : 0.50 < quality < 0.60 :      1525 elements\n",
      "Info    : 0.60 < quality < 0.70 :      3701 elements\n",
      "Info    : 0.70 < quality < 0.80 :      8494 elements\n",
      "Info    : 0.80 < quality < 0.90 :     14221 elements\n",
      "Info    : 0.90 < quality < 1.00 :      7133 elements\n",
      "Info    : 682 edge swaps, 17 node relocations (volume = 1e+06): worst = 0.259319 / average = 0.796064 (Wall 0.0191634s, CPU 0.019219s)\n",
      "Info    : 685 edge swaps, 17 node relocations (volume = 1e+06): worst = 0.294841 / average = 0.796121 (Wall 0.0223315s, CPU 0.022458s)\n",
      "Info    : No ill-shaped tets in the mesh :-)\n",
      "Info    : 0.00 < quality < 0.10 :         0 elements\n",
      "Info    : 0.10 < quality < 0.20 :         0 elements\n",
      "Info    : 0.20 < quality < 0.30 :         1 elements\n",
      "Info    : 0.30 < quality < 0.40 :       604 elements\n",
      "Info    : 0.40 < quality < 0.50 :       859 elements\n",
      "Info    : 0.50 < quality < 0.60 :      1500 elements\n",
      "Info    : 0.60 < quality < 0.70 :      3678 elements\n",
      "Info    : 0.70 < quality < 0.80 :      8540 elements\n",
      "Info    : 0.80 < quality < 0.90 :     14389 elements\n",
      "Info    : 0.90 < quality < 1.00 :      7087 elements\n",
      "Info    : Optimizing volume 2\n",
      "Info    : Optimization starts (volume = 1.90022e+06) with worst = 0.00246478 / average = 0.749798:\n",
      "Info    : 0.00 < quality < 0.10 :        79 elements\n",
      "Info    : 0.10 < quality < 0.20 :       201 elements\n",
      "Info    : 0.20 < quality < 0.30 :       385 elements\n",
      "Info    : 0.30 < quality < 0.40 :       587 elements\n",
      "Info    : 0.40 < quality < 0.50 :       993 elements\n",
      "Info    : 0.50 < quality < 0.60 :      2279 elements\n",
      "Info    : 0.60 < quality < 0.70 :      3390 elements\n",
      "Info    : 0.70 < quality < 0.80 :      7939 elements\n",
      "Info    : 0.80 < quality < 0.90 :      9029 elements\n",
      "Info    : 0.90 < quality < 1.00 :      3972 elements\n",
      "Info    : 645 edge swaps, 14 node relocations (volume = 1.90022e+06): worst = 0.167987 / average = 0.762379 (Wall 0.0152367s, CPU 0.015394s)\n",
      "Info    : 655 edge swaps, 15 node relocations (volume = 1.90022e+06): worst = 0.256051 / average = 0.762475 (Wall 0.0177994s, CPU 0.018068s)\n",
      "Info    : No ill-shaped tets in the mesh :-)\n",
      "Info    : 0.00 < quality < 0.10 :         0 elements\n",
      "Info    : 0.10 < quality < 0.20 :         0 elements\n",
      "Info    : 0.20 < quality < 0.30 :         5 elements\n",
      "Info    : 0.30 < quality < 0.40 :       600 elements\n",
      "Info    : 0.40 < quality < 0.50 :      1005 elements\n",
      "Info    : 0.50 < quality < 0.60 :      2298 elements\n",
      "Info    : 0.60 < quality < 0.70 :      3364 elements\n",
      "Info    : 0.70 < quality < 0.80 :      7976 elements\n",
      "Info    : 0.80 < quality < 0.90 :      9094 elements\n",
      "Info    : 0.90 < quality < 1.00 :      3962 elements\n",
      "Info    : Optimizing volume 3\n",
      "Info    : Optimization starts (volume = 1.10033e+06) with worst = 0.00293572 / average = 0.828349:\n",
      "Info    : 0.00 < quality < 0.10 :        25 elements\n",
      "Info    : 0.10 < quality < 0.20 :        51 elements\n",
      "Info    : 0.20 < quality < 0.30 :        86 elements\n",
      "Info    : 0.30 < quality < 0.40 :       130 elements\n",
      "Info    : 0.40 < quality < 0.50 :       133 elements\n",
      "Info    : 0.50 < quality < 0.60 :       192 elements\n",
      "Info    : 0.60 < quality < 0.70 :       337 elements\n",
      "Info    : 0.70 < quality < 0.80 :       925 elements\n",
      "Info    : 0.80 < quality < 0.90 :      3854 elements\n",
      "Info    : 0.90 < quality < 1.00 :      2645 elements\n",
      "Info    : 161 edge swaps, 0 node relocations (volume = 1.10033e+06): worst = 0.188489 / average = 0.841369 (Wall 0.0025872s, CPU 0.002664s)\n",
      "Info    : 163 edge swaps, 0 node relocations (volume = 1.10033e+06): worst = 0.191082 / average = 0.841406 (Wall 0.00321771s, CPU 0.003406s)\n",
      "Info    : No ill-shaped tets in the mesh :-)\n",
      "Info    : 0.00 < quality < 0.10 :         0 elements\n",
      "Info    : 0.10 < quality < 0.20 :         1 elements\n",
      "Info    : 0.20 < quality < 0.30 :         3 elements\n",
      "Info    : 0.30 < quality < 0.40 :       137 elements\n",
      "Info    : 0.40 < quality < 0.50 :       133 elements\n",
      "Info    : 0.50 < quality < 0.60 :       173 elements\n",
      "Info    : 0.60 < quality < 0.70 :       274 elements\n",
      "Info    : 0.70 < quality < 0.80 :       989 elements\n",
      "Info    : 0.80 < quality < 0.90 :      3881 elements\n",
      "Info    : 0.90 < quality < 1.00 :      2640 elements\n",
      "Info    : Done optimizing mesh (Wall 0.124967s, CPU 0.12504s)\n",
      "Info    : 12595 nodes 84540 elements\n"
     ]
    }
   ],
   "source": [
    "gmsh.model.mesh.generate(3)"
   ]
  },
  {
   "cell_type": "markdown",
   "id": "935f1235-9a8a-42b0-b92d-c1ad7af30919",
   "metadata": {},
   "source": [
    "Visualise the mesh."
   ]
  },
  {
   "cell_type": "code",
   "execution_count": 18,
   "id": "f1a27d5e-a4a1-45aa-8cfd-12df34d02ca2",
   "metadata": {},
   "outputs": [
    {
     "name": "stdout",
     "output_type": "stream",
     "text": [
      "-------------------------------------------------------\n",
      "Version       : 4.13.1\n",
      "License       : GNU General Public License\n",
      "Build OS      : Linux64-sdk\n",
      "Build date    : 20240524\n",
      "Build host    : gmsh.info\n",
      "Build options : 64Bit ALGLIB[contrib] ANN[contrib] Bamg Blas[petsc] Blossom Cgns DIntegration Dlopen DomHex Eigen[contrib] Fltk Gmm[contrib] Hxt Jpeg Kbipack Lapack[petsc] LinuxJoystick MathEx[contrib] Med Mesh Metis[contrib] Mmg Mpeg Netgen Nii2mesh ONELAB ONELABMetamodel OpenCASCADE OpenCASCADE-CAF OpenGL OpenMP OptHom PETSc Parser Plugins Png Post QuadMeshingTools QuadTri Solver TetGen/BR TinyXML2[contrib] Untangle Voro++[contrib] WinslowUntangler Zlib\n",
      "FLTK version  : 1.4.0\n",
      "PETSc version : 3.14.4 (real arithmtic)\n",
      "OCC version   : 7.7.2\n",
      "MED version   : 4.1.0\n",
      "Packaged by   : geuzaine\n",
      "Web site      : https://gmsh.info\n",
      "Issue tracker : https://gitlab.onelab.info/gmsh/gmsh/issues\n",
      "-------------------------------------------------------\n"
     ]
    }
   ],
   "source": [
    "gmsh.fltk.run()"
   ]
  },
  {
   "cell_type": "code",
   "execution_count": 19,
   "id": "a4d56cdf-42a2-42f8-abfc-f91823ea21a7",
   "metadata": {},
   "outputs": [
    {
     "name": "stdout",
     "output_type": "stream",
     "text": [
      "Info    : Writing 'cube.msh'...\n",
      "Info    : Done writing 'cube.msh'\n"
     ]
    }
   ],
   "source": [
    "gmsh.write(\"cube.msh\")"
   ]
  },
  {
   "cell_type": "markdown",
   "id": "c322726a-86ce-475f-ab9a-ada199754dcd",
   "metadata": {},
   "source": [
    "Inspect the log."
   ]
  },
  {
   "cell_type": "code",
   "execution_count": 20,
   "id": "0b22cbcb-9224-403e-81cb-4ec5ec4cf3ee",
   "metadata": {},
   "outputs": [
    {
     "name": "stdout",
     "output_type": "stream",
     "text": [
      "Logger has recorded 196 lines\n"
     ]
    }
   ],
   "source": [
    "log = gmsh.logger.get()\n",
    "print(\"Logger has recorded \" + str(len(log)) + \" lines\")\n",
    "gmsh.logger.stop()"
   ]
  },
  {
   "cell_type": "code",
   "execution_count": 21,
   "id": "9efb0092-291d-4b93-a128-9e3173965327",
   "metadata": {},
   "outputs": [],
   "source": [
    "gmsh.finalize()"
   ]
  }
 ],
 "metadata": {
  "kernelspec": {
   "display_name": "Python 3 (ipykernel)",
   "language": "python",
   "name": "python3"
  },
  "language_info": {
   "codemirror_mode": {
    "name": "ipython",
    "version": 3
   },
   "file_extension": ".py",
   "mimetype": "text/x-python",
   "name": "python",
   "nbconvert_exporter": "python",
   "pygments_lexer": "ipython3",
   "version": "3.13.3"
  }
 },
 "nbformat": 4,
 "nbformat_minor": 5
}
