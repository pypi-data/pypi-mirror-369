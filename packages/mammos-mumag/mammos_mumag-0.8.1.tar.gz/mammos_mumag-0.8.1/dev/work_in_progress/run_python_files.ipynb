{
 "cells": [
  {
   "cell_type": "markdown",
   "metadata": {},
   "source": [
    "# Run python files\n",
    "In this notebook we show how to run python files that use `esys.escript`."
   ]
  },
  {
   "cell_type": "markdown",
   "metadata": {},
   "source": [
    "First, as usual, we initialize a `Simulation` instance and load mesh, material and parameter files."
   ]
  },
  {
   "cell_type": "code",
   "execution_count": null,
   "metadata": {},
   "outputs": [],
   "source": [
    "import pathlib\n",
    "from mammos_mmag import Simulation\n",
    "\n",
    "sim = Simulation()\n",
    "sim.mesh_path = \"data/cube.fly\"\n",
    "sim.materials.read(\"data/cube.krn\")\n",
    "sim.parameters.read(\"data/cube.p2\")"
   ]
  },
  {
   "cell_type": "markdown",
   "metadata": {},
   "source": [
    "Python files are specified with their path, and as with scripts we can define the following **optional** arguments:\n",
    "- `threads`: Number of execution thread\n",
    "- `outdir`: Path of the output folder, where all the files are going to be copied."
   ]
  },
  {
   "cell_type": "code",
   "execution_count": 2,
   "metadata": {},
   "outputs": [
    {
     "name": "stdout",
     "output_type": "stream",
     "text": [
      "m =  [1.         0.99999999 1.         1.         1.00000001 1.00000001\n",
      " 1.         1.         1.         1.         1.         1.00000001\n",
      " 1.         0.99999999 0.99999999 0.99999998 0.99999996 0.99999993\n",
      " 0.99999985 0.99999969]\n",
      "close to true solution?  True\n"
     ]
    }
   ],
   "source": [
    "python_file = pathlib.Path(\"rosenbrock/rosenbrock.py\").resolve()\n",
    "sim.run_file(python_file, outdir=\"rosenbrock\")"
   ]
  }
 ],
 "metadata": {
  "kernelspec": {
   "display_name": "Python 3 (ipykernel)",
   "language": "python",
   "name": "python3"
  },
  "language_info": {
   "codemirror_mode": {
    "name": "ipython",
    "version": 3
   },
   "file_extension": ".py",
   "mimetype": "text/x-python",
   "name": "python",
   "nbconvert_exporter": "python",
   "pygments_lexer": "ipython3",
   "version": "3.11.11"
  }
 },
 "nbformat": 4,
 "nbformat_minor": 4
}
