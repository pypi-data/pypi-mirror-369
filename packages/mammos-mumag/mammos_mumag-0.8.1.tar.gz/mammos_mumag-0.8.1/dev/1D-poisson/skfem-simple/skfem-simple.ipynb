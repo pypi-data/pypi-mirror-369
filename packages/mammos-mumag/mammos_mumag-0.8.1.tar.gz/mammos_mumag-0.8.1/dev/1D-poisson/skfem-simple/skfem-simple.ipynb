{
 "cells": [
  {
   "cell_type": "markdown",
   "id": "761d3485-d31e-47a6-b225-ec4180f43e7b",
   "metadata": {},
   "source": [
    "# Solution using `scikit-fem`"
   ]
  },
  {
   "cell_type": "code",
   "execution_count": 1,
   "id": "6c954d6b-4c58-4f93-b64c-2387dce496f3",
   "metadata": {},
   "outputs": [],
   "source": [
    "import skfem\n",
    "import skfem.visuals.matplotlib\n",
    "from skfem.helpers import grad, dot\n",
    "import numpy as np"
   ]
  },
  {
   "cell_type": "markdown",
   "id": "83277626-eee1-4548-9a3b-d01eb25df766",
   "metadata": {},
   "source": [
    "## Define 1D mesh"
   ]
  },
  {
   "cell_type": "markdown",
   "id": "070876cb-4522-4df9-b35e-d1ee31a75e20",
   "metadata": {},
   "source": [
    "In this case we use the functions in `skfem` to define the mesh."
   ]
  },
  {
   "cell_type": "code",
   "execution_count": 2,
   "id": "56f0991e-1a5f-4cc3-9e3a-c37664f9f33e",
   "metadata": {},
   "outputs": [
    {
     "data": {
      "text/plain": [
       "<skfem MeshLine1 object>\n",
       "  Number of elements: 100\n",
       "  Number of vertices: 101\n",
       "  Number of nodes: 101\n",
       "  Named boundaries [# facets]: left [1], right [1]"
      ]
     },
     "execution_count": 2,
     "metadata": {},
     "output_type": "execute_result"
    }
   ],
   "source": [
    "mesh = skfem.MeshLine(p=np.linspace(0, 1, num=101)).with_boundaries(\n",
    "    {\n",
    "        \"left\": lambda x: np.isclose(x[0], 0),\n",
    "        \"right\": lambda x: np.isclose(x[0], 1),\n",
    "    }\n",
    ")\n",
    "mesh"
   ]
  },
  {
   "cell_type": "markdown",
   "id": "e816807f-0f3c-4484-8283-0a9b54a14cfc",
   "metadata": {},
   "source": [
    "Next we plot the simple mesh, consisting of 101 points on the interval $[0,1]$."
   ]
  },
  {
   "cell_type": "code",
   "execution_count": 3,
   "id": "dde0c702-e010-49fa-bde2-6bdb895ddf33",
   "metadata": {},
   "outputs": [
    {
     "data": {
      "image/png": "[encoded data removed]",
      "text/plain": [
       "<Figure size 640x480 with 1 Axes>"
      ]
     },
     "metadata": {},
     "output_type": "display_data"
    }
   ],
   "source": [
    "skfem.visuals.matplotlib.draw(mesh);"
   ]
  },
  {
   "cell_type": "markdown",
   "id": "5e80971c-4235-4746-9495-64ac02ff8e79",
   "metadata": {},
   "source": [
    "## Define function spaces\n",
    "We use P1 (piecewise linear) continuous elements for the solution $u$ and the test function $v$, while we use P0 (piecewise constant) discontinuous Galerkin elements to discretize the domain-dependent parameter (which can be seen as a step function on $\\Omega$)."
   ]
  },
  {
   "cell_type": "code",
   "execution_count": 4,
   "id": "c5c16485-8eb1-4fdb-a862-6a39bc265842",
   "metadata": {},
   "outputs": [],
   "source": [
    "# For trial and test function\n",
    "basis_p1 = skfem.Basis(mesh=mesh, elem=skfem.ElementLineP1())\n",
    "\n",
    "# For material parameter a\n",
    "basis_p0 = skfem.Basis(mesh=mesh, elem=skfem.ElementDG(skfem.ElementLineP0()))"
   ]
  },
  {
   "cell_type": "code",
   "execution_count": 5,
   "id": "745e4b74-d057-45ec-9ec5-2599ff1cb07c",
   "metadata": {},
   "outputs": [
    {
     "data": {
      "text/plain": [
       "<skfem CellBasis(MeshLine1, ElementDG) object>\n",
       "  Number of elements: 100\n",
       "  Number of DOFs: 100\n",
       "  Size: 3200 B"
      ]
     },
     "execution_count": 5,
     "metadata": {},
     "output_type": "execute_result"
    }
   ],
   "source": [
    "basis_p0"
   ]
  },
  {
   "cell_type": "code",
   "execution_count": 6,
   "id": "63148fe0-93e4-4b3b-9d1c-3840da332534",
   "metadata": {},
   "outputs": [
    {
     "data": {
      "text/plain": [
       "<skfem CellBasis(MeshLine1, ElementLineP1) object>\n",
       "  Number of elements: 100\n",
       "  Number of DOFs: 101\n",
       "  Size: 6400 B"
      ]
     },
     "execution_count": 6,
     "metadata": {},
     "output_type": "execute_result"
    }
   ],
   "source": [
    "basis_p1"
   ]
  },
  {
   "cell_type": "markdown",
   "id": "d0e876f7-6399-4aff-8674-5f4d172524b8",
   "metadata": {},
   "source": [
    "## Define material parameter"
   ]
  },
  {
   "cell_type": "markdown",
   "id": "c5eee609-72ee-4dd2-8541-ec3cbb62a2c1",
   "metadata": {},
   "source": [
    "The array of the parameter $\\sigma$ can be defined as a `numpy.array`."
   ]
  },
  {
   "cell_type": "code",
   "execution_count": 7,
   "id": "a52bd95e-6c40-45a9-80b0-93de46e508a1",
   "metadata": {},
   "outputs": [
    {
     "data": {
      "text/plain": [
       "array([1., 1., 1., 1., 1., 1., 1., 1., 1., 1., 1., 1., 1., 1., 1., 1., 1.,\n",
       "       1., 1., 1., 1., 1., 1., 1., 1., 1., 1., 1., 1., 1., 1., 1., 1., 1.,\n",
       "       1., 1., 1., 1., 1., 1., 1., 1., 1., 1., 1., 1., 1., 1., 1., 1., 2.,\n",
       "       2., 2., 2., 2., 2., 2., 2., 2., 2., 2., 2., 2., 2., 2., 2., 2., 2.,\n",
       "       2., 2., 2., 2., 2., 2., 2., 2., 2., 2., 2., 2., 2., 2., 2., 2., 2.,\n",
       "       2., 2., 2., 2., 2., 2., 2., 2., 2., 2., 2., 2., 2., 2., 2.])"
      ]
     },
     "execution_count": 7,
     "metadata": {},
     "output_type": "execute_result"
    }
   ],
   "source": [
    "sigma_array = np.squeeze(np.where(basis_p0.doflocs < 0.5, 1., 2.))\n",
    "sigma_array"
   ]
  },
  {
   "cell_type": "markdown",
   "id": "febb87f0-f8ea-426a-af43-686dcb211bd9",
   "metadata": {},
   "source": [
    "And then it needs to be interpolate on the quadrature points as follows."
   ]
  },
  {
   "cell_type": "code",
   "execution_count": 8,
   "id": "937d6c38-bd43-4f59-85f1-fc2f8a8ba271",
   "metadata": {},
   "outputs": [
    {
     "data": {
      "text/plain": [
       "<skfem DiscreteField object>\n",
       "  Quadrature points per element: 2\n",
       "  Number of elements: 100\n",
       "  Order: 0\n",
       "  Attributes: grad"
      ]
     },
     "execution_count": 8,
     "metadata": {},
     "output_type": "execute_result"
    }
   ],
   "source": [
    "sigma = basis_p0.interpolate(sigma_array)\n",
    "sigma"
   ]
  },
  {
   "cell_type": "markdown",
   "id": "978a74ea-4879-41dd-8323-a88f32ec272d",
   "metadata": {},
   "source": [
    "## Assemble the system matrices"
   ]
  },
  {
   "cell_type": "markdown",
   "id": "59fc3773-9c03-49a8-885e-92a9f174c643",
   "metadata": {},
   "source": [
    "We use `skfem`'s `BilinearForm` decorator to define the left-hand side of the weak problem:"
   ]
  },
  {
   "cell_type": "code",
   "execution_count": 9,
   "id": "c578bf74-70ef-434f-a8fe-6b6159b4e2af",
   "metadata": {},
   "outputs": [],
   "source": [
    "@skfem.BilinearForm\n",
    "def stifness_matrix(u, v, w):\n",
    "    # u is the solution\n",
    "    # v is the test function\n",
    "    # w collects the parameter function a\n",
    "    return - w.sigma * dot(grad(u), grad(v))"
   ]
  },
  {
   "cell_type": "markdown",
   "id": "4d93d717-6fd4-4dad-9522-39656b558876",
   "metadata": {},
   "source": [
    "In a similar way we define the right-hand side."
   ]
  },
  {
   "cell_type": "code",
   "execution_count": 10,
   "id": "3179edc0-84b5-4de9-a4a7-25986a9b35ec",
   "metadata": {},
   "outputs": [],
   "source": [
    "@skfem.LinearForm\n",
    "def l(v, _):\n",
    "    return 0 * v"
   ]
  },
  {
   "cell_type": "markdown",
   "id": "f76bd915-f59b-469d-9418-db10d5bb18c6",
   "metadata": {},
   "source": [
    "Then we assemble the matrices."
   ]
  },
  {
   "cell_type": "code",
   "execution_count": 11,
   "id": "aed033e5-d4da-4bde-bd2c-acdccb2e4e20",
   "metadata": {},
   "outputs": [
    {
     "data": {
      "text/plain": [
       "<Compressed Sparse Row sparse matrix of dtype 'float64'\n",
       "\twith 301 stored elements and shape (101, 101)>"
      ]
     },
     "execution_count": 11,
     "metadata": {},
     "output_type": "execute_result"
    }
   ],
   "source": [
    "S = stifness_matrix.assemble(basis_p1, sigma=sigma)\n",
    "S"
   ]
  },
  {
   "cell_type": "markdown",
   "id": "4c874239-ce5b-4554-9897-c20c85ed3a43",
   "metadata": {},
   "source": [
    "The stiffness matrix is defined as $S_{i, j} := \\int_\\Omega a(x) \\, v'_j(x) \\, v'_i(x) \\, \\mathrm{d}x$ using the basis $\\{v_i\\}_i$ of $V$.\n",
    "\n",
    "As this is mostly empty, it is generated as a sparse matrix. The full matrix can be generated with the `toarray` method."
   ]
  },
  {
   "cell_type": "code",
   "execution_count": 12,
   "id": "4016d91a-d163-4265-a3f3-d9f1ce7144d1",
   "metadata": {},
   "outputs": [
    {
     "data": {
      "text/plain": [
       "array([[-100.,  100.,    0., ...,    0.,    0.,    0.],\n",
       "       [ 100., -200.,  100., ...,    0.,    0.,    0.],\n",
       "       [   0.,  100., -200., ...,    0.,    0.,    0.],\n",
       "       ...,\n",
       "       [   0.,    0.,    0., ..., -400.,  200.,    0.],\n",
       "       [   0.,    0.,    0., ...,  200., -400.,  200.],\n",
       "       [   0.,    0.,    0., ...,    0.,  200., -200.]], shape=(101, 101))"
      ]
     },
     "execution_count": 12,
     "metadata": {},
     "output_type": "execute_result"
    }
   ],
   "source": [
    "S.toarray()"
   ]
  },
  {
   "cell_type": "code",
   "execution_count": 13,
   "id": "f714d7ed-b5a6-44b0-90ac-eddbffdf03bf",
   "metadata": {},
   "outputs": [
    {
     "data": {
      "text/plain": [
       "array([0., 0., 0., 0., 0., 0., 0., 0., 0., 0., 0., 0., 0., 0., 0., 0., 0.,\n",
       "       0., 0., 0., 0., 0., 0., 0., 0., 0., 0., 0., 0., 0., 0., 0., 0., 0.,\n",
       "       0., 0., 0., 0., 0., 0., 0., 0., 0., 0., 0., 0., 0., 0., 0., 0., 0.,\n",
       "       0., 0., 0., 0., 0., 0., 0., 0., 0., 0., 0., 0., 0., 0., 0., 0., 0.,\n",
       "       0., 0., 0., 0., 0., 0., 0., 0., 0., 0., 0., 0., 0., 0., 0., 0., 0.,\n",
       "       0., 0., 0., 0., 0., 0., 0., 0., 0., 0., 0., 0., 0., 0., 0., 0.])"
      ]
     },
     "execution_count": 13,
     "metadata": {},
     "output_type": "execute_result"
    }
   ],
   "source": [
    "L = l.assemble(basis_p1)\n",
    "L"
   ]
  },
  {
   "cell_type": "markdown",
   "id": "d3d0fe67-6ff2-4ca5-b3d1-9a21e40803d7",
   "metadata": {},
   "source": [
    "## Apply Dirichlet BC"
   ]
  },
  {
   "cell_type": "markdown",
   "id": "c81921c6-fa7e-4ade-bdb8-a758c49e2d68",
   "metadata": {},
   "source": [
    "To apply the Dirichlet boundary conditions, we set the value of the solution to 0 on the left boundary and to 10 on the right."
   ]
  },
  {
   "cell_type": "code",
   "execution_count": 14,
   "id": "98202bff-4d24-4681-ac49-711c507e812c",
   "metadata": {},
   "outputs": [],
   "source": [
    "u = basis_p1.zeros()\n",
    "u[basis_p1.get_dofs(\"left\")] = 0.\n",
    "u[basis_p1.get_dofs(\"right\")] = 10."
   ]
  },
  {
   "cell_type": "markdown",
   "id": "8abeaf75-7687-4bd2-89b0-decf0d35c8e7",
   "metadata": {},
   "source": [
    "## Solve linear equations and plot"
   ]
  },
  {
   "cell_type": "markdown",
   "id": "12a19e6d-2775-42a8-beec-d46f02339df5",
   "metadata": {},
   "source": [
    "To solve the linear equation we *condense* the problem: we delete the degrees of freedom of `S`, `L`, and `u` coming from the boundary conditions indicated in `D`."
   ]
  },
  {
   "cell_type": "code",
   "execution_count": 15,
   "id": "257416b0-46a4-4118-b477-9e4382cabd23",
   "metadata": {},
   "outputs": [],
   "source": [
    "u = skfem.solve(*skfem.condense(S, L, x=u, D=basis_p1.get_dofs({\"left\", \"right\"})))"
   ]
  },
  {
   "cell_type": "code",
   "execution_count": 16,
   "id": "04812c2e-1ee4-4e8c-b72d-2f7b66db3ad4",
   "metadata": {},
   "outputs": [
    {
     "data": {
      "image/png": "[encoded data removed]",
      "text/plain": [
       "<Figure size 640x480 with 1 Axes>"
      ]
     },
     "metadata": {},
     "output_type": "display_data"
    }
   ],
   "source": [
    "skfem.visuals.matplotlib.plot(mesh, u);"
   ]
  },
  {
   "cell_type": "markdown",
   "id": "17a41e95-ecde-4f37-add1-d63663b459ad",
   "metadata": {},
   "source": [
    "## Comparing analytical and FEM solutions"
   ]
  },
  {
   "cell_type": "markdown",
   "id": "58e0ec2c-3741-4cb3-831d-c6a9088bf9de",
   "metadata": {},
   "source": [
    "Last, we compare the numerical solution with the analytical one."
   ]
  },
  {
   "cell_type": "code",
   "execution_count": 17,
   "id": "4c09a2d1-cfa6-4bcf-b9d4-1d18766d5d3e",
   "metadata": {},
   "outputs": [],
   "source": [
    "y = np.where(mesh.p[0]<0.5, mesh.p[0] * 40 / 3, (mesh.p[0] * 20 / 3) + (10/3))"
   ]
  },
  {
   "cell_type": "code",
   "execution_count": 18,
   "id": "b2f0ac78-615c-4415-9dae-12c462bad4fd",
   "metadata": {},
   "outputs": [
    {
     "data": {
      "text/plain": [
       "np.float64(1.1118107212104367e-12)"
      ]
     },
     "execution_count": 18,
     "metadata": {},
     "output_type": "execute_result"
    }
   ],
   "source": [
    "np.linalg.norm(y - u)"
   ]
  },
  {
   "cell_type": "code",
   "execution_count": 19,
   "id": "13b90641-ec38-4545-a04f-66280e2edcca",
   "metadata": {},
   "outputs": [],
   "source": [
    "import matplotlib.pyplot as plt"
   ]
  },
  {
   "cell_type": "code",
   "execution_count": 20,
   "id": "a2de21c2-5010-471b-a5fc-478a86495813",
   "metadata": {},
   "outputs": [
    {
     "data": {
      "image/png": "[encoded data removed]",
      "text/plain": [
       "<Figure size 640x480 with 1 Axes>"
      ]
     },
     "metadata": {},
     "output_type": "display_data"
    }
   ],
   "source": [
    "plt.plot(mesh.p[0], y, \"o\", label=\"analytical\")\n",
    "plt.plot(mesh.p[0], u, \"x\", label=\"FEM 101 points\")\n",
    "plt.legend()\n",
    "plt.grid()\n",
    "plt.show()"
   ]
  }
 ],
 "metadata": {
  "kernelspec": {
   "display_name": "Python 3 (ipykernel)",
   "language": "python",
   "name": "python3"
  },
  "language_info": {
   "codemirror_mode": {
    "name": "ipython",
    "version": 3
   },
   "file_extension": ".py",
   "mimetype": "text/x-python",
   "name": "python",
   "nbconvert_exporter": "python",
   "pygments_lexer": "ipython3",
   "version": "3.13.5"
  }
 },
 "nbformat": 4,
 "nbformat_minor": 5
}
