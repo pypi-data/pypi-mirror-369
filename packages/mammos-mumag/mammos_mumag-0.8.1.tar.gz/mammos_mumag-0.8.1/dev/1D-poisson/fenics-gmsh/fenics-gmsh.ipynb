{
 "cells": [
  {
   "cell_type": "markdown",
   "id": "0bba88cf-c5fc-4306-a997-349e4f76ba42",
   "metadata": {},
   "source": [
    "# Solution using `FEniCSx` and an external tagged mesh\n",
    "\n",
    "In this case we want to follow a geometry-agnostic approach. We define the mesh using `gmsh` in the notebook [create-interval-mesh.ipynb](./create-interval-mesh.ipynb) instead of doing it using `FEniCSx`."
   ]
  },
  {
   "cell_type": "code",
   "execution_count": 1,
   "id": "98fb4db5-3562-49be-a17c-88f333b0af34",
   "metadata": {},
   "outputs": [],
   "source": [
    "from dolfinx import default_scalar_type, fem, mesh\n",
    "from dolfinx.fem.petsc import LinearProblem, assemble_matrix, assemble_vector, apply_lifting, set_bc\n",
    "from dolfinx.io import gmshio\n",
    "import gmsh\n",
    "from mpi4py import MPI\n",
    "import numpy as np\n",
    "import matplotlib.pyplot as plt\n",
    "import ufl"
   ]
  },
  {
   "cell_type": "markdown",
   "id": "62fda070-54dc-490c-a990-969f0a74dc1e",
   "metadata": {},
   "source": [
    "## Load previously generated mesh"
   ]
  },
  {
   "cell_type": "markdown",
   "id": "592cd994-06c0-40b1-b9e2-03371efa874a",
   "metadata": {},
   "source": [
    "We load the mesh previously generated."
   ]
  },
  {
   "cell_type": "code",
   "execution_count": 2,
   "id": "08b715a1-aee0-4cb2-94ca-4ed76d082d2a",
   "metadata": {},
   "outputs": [
    {
     "name": "stdout",
     "output_type": "stream",
     "text": [
      "Info    : Reading 'interval.msh'...\n",
      "Info    : 5 entities\n",
      "Info    : 101 nodes\n",
      "Info    : 102 elements\n",
      "Info    : Done reading 'interval.msh'\n"
     ]
    }
   ],
   "source": [
    "Omega, cell_tags, facet_tags = gmshio.read_from_msh(\"interval.msh\", MPI.COMM_WORLD)"
   ]
  },
  {
   "cell_type": "markdown",
   "id": "99693054-b024-4cae-ab86-162b8ec5bf2c",
   "metadata": {},
   "source": [
    "`Omega` is the interval mesh."
   ]
  },
  {
   "cell_type": "code",
   "execution_count": 3,
   "id": "670948f2-fa53-4b61-9e64-addfeb03f47c",
   "metadata": {},
   "outputs": [
    {
     "data": {
      "text/plain": [
       "<dolfinx.mesh.Mesh at 0x7c07cc82a270>"
      ]
     },
     "execution_count": 3,
     "metadata": {},
     "output_type": "execute_result"
    }
   ],
   "source": [
    "Omega"
   ]
  },
  {
   "cell_type": "markdown",
   "id": "85097f55-e74b-45dd-8096-85d2fc68ed39",
   "metadata": {},
   "source": [
    "We can extract the mesh nodes from the geometry of `Omega`."
   ]
  },
  {
   "cell_type": "code",
   "execution_count": 4,
   "id": "a54e0591-fe7f-46bc-9d00-2a9f92880a4b",
   "metadata": {},
   "outputs": [
    {
     "data": {
      "text/plain": [
       "array([0.  , 0.01, 0.02, 0.03, 0.04, 0.05, 0.06, 0.07, 0.08, 0.09, 0.1 ,\n",
       "       0.11, 0.12, 0.13, 0.14, 0.15, 0.16, 0.17, 0.18, 0.19, 0.2 , 0.21,\n",
       "       0.22, 0.23, 0.24, 0.25, 0.26, 0.27, 0.28, 0.29, 0.3 , 0.31, 0.32,\n",
       "       0.33, 0.34, 0.35, 0.36, 0.37, 0.38, 0.39, 0.4 , 0.41, 0.42, 0.43,\n",
       "       0.44, 0.45, 0.46, 0.47, 0.48, 0.49, 0.5 , 0.51, 0.52, 0.53, 0.54,\n",
       "       0.55, 0.56, 0.57, 0.58, 0.59, 0.6 , 0.61, 0.62, 0.63, 0.64, 0.65,\n",
       "       0.66, 0.67, 0.68, 0.69, 0.7 , 0.71, 0.72, 0.73, 0.74, 0.75, 0.76,\n",
       "       0.77, 0.78, 0.79, 0.8 , 0.81, 0.82, 0.83, 0.84, 0.85, 0.86, 0.87,\n",
       "       0.88, 0.89, 0.9 , 0.91, 0.92, 0.93, 0.94, 0.95, 0.96, 0.97, 0.98,\n",
       "       0.99, 1.  ])"
      ]
     },
     "execution_count": 4,
     "metadata": {},
     "output_type": "execute_result"
    }
   ],
   "source": [
    "I = Omega.geometry.x[:,0]\n",
    "I"
   ]
  },
  {
   "cell_type": "markdown",
   "id": "76569500-01f6-4c8c-b55c-b5e84ef52cef",
   "metadata": {},
   "source": [
    "`material_tags` contains all the tags defined in the mesh."
   ]
  },
  {
   "cell_type": "code",
   "execution_count": 5,
   "id": "c478284e-fb8f-4ab4-a0e8-cad0adab874d",
   "metadata": {},
   "outputs": [
    {
     "data": {
      "text/plain": [
       "array([1, 2], dtype=int32)"
      ]
     },
     "execution_count": 5,
     "metadata": {},
     "output_type": "execute_result"
    }
   ],
   "source": [
    "material_tags = np.unique(cell_tags.values)\n",
    "material_tags"
   ]
  },
  {
   "cell_type": "markdown",
   "id": "200365d8-fc95-4da8-bfaa-01359a72ca76",
   "metadata": {},
   "source": [
    "## Function space, boundary conditions"
   ]
  },
  {
   "cell_type": "markdown",
   "id": "acc2be8f-9e68-449d-8f11-9d52494bc5e6",
   "metadata": {},
   "source": [
    "We procees as in [fenics-simple.ipynb](../fenics-simple/fenics-simple.ipynb)."
   ]
  },
  {
   "cell_type": "code",
   "execution_count": 6,
   "id": "2343386c-74fa-45cd-9f67-be3d64ebbca9",
   "metadata": {},
   "outputs": [],
   "source": [
    "V = fem.functionspace(Omega, (\"Lagrange\", 1))\n",
    "V0 = fem.functionspace(Omega, (\"DG\", 0))\n",
    "\n",
    "u = ufl.TrialFunction(V)\n",
    "phi = ufl.TestFunction(V)\n",
    "\n",
    "dofs_L = fem.locate_dofs_geometrical(V, lambda x: np.isclose(x[0], 0))\n",
    "dofs_R = fem.locate_dofs_geometrical(V, lambda x: np.isclose(x[0], 1))\n",
    "bc_L = fem.dirichletbc(default_scalar_type(0), dofs_L, V)\n",
    "bc_R = fem.dirichletbc(default_scalar_type(10), dofs_R, V)\n",
    "bcs = [bc_L, bc_R]"
   ]
  },
  {
   "cell_type": "markdown",
   "id": "c267d1e7-cb4d-478e-b56e-bd9101b68f3e",
   "metadata": {},
   "source": [
    "## Defining parameters on tags"
   ]
  },
  {
   "cell_type": "code",
   "execution_count": 7,
   "id": "d03fe7fa-81ac-4c94-868e-61a2fff7f610",
   "metadata": {},
   "outputs": [],
   "source": [
    "sigma = fem.Function(V0)\n",
    "sigma_list = {\n",
    "    1: 1,  # tag 1: value on subdomain 1\n",
    "    2: 2,  # tag 2: value on subdomain 2\n",
    "}\n",
    "for tag in material_tags:\n",
    "    cells = cell_tags.find(tag)\n",
    "    sigma.x.array[cells] = np.full_like(cells, sigma_list[tag], dtype=default_scalar_type)"
   ]
  },
  {
   "cell_type": "markdown",
   "id": "3fb20f21-3a3f-4b98-ac7c-b66d82b598c5",
   "metadata": {},
   "source": [
    "## Solve differential problem"
   ]
  },
  {
   "cell_type": "code",
   "execution_count": 8,
   "id": "71c8e1ba-7b8b-4733-9281-f5ba0b6a5635",
   "metadata": {},
   "outputs": [],
   "source": [
    "lhs = ufl.inner(sigma * ufl.grad(u), ufl.grad(phi)) * ufl.dx\n",
    "rhs = fem.Constant(Omega, default_scalar_type(0)) * phi * ufl.dx"
   ]
  },
  {
   "cell_type": "code",
   "execution_count": 9,
   "id": "7d1d8181-f024-4f8f-bd3b-bdb16c565c74",
   "metadata": {},
   "outputs": [],
   "source": [
    "problem = LinearProblem(lhs, rhs, bcs=bcs, petsc_options={\"ksp_type\": \"preonly\", \"pc_type\": \"lu\"})\n",
    "u = problem.solve()"
   ]
  },
  {
   "cell_type": "code",
   "execution_count": 10,
   "id": "9d328387-0b51-490f-a635-6c2ece4dce89",
   "metadata": {},
   "outputs": [
    {
     "data": {
      "text/plain": [
       "Coefficient(FunctionSpace(Mesh(blocked element (Basix element (P, interval, 1, equispaced, unset, False, float64, []), (3,)), 0), Basix element (P, interval, 1, gll_warped, unset, False, float64, [])), 1)"
      ]
     },
     "execution_count": 10,
     "metadata": {},
     "output_type": "execute_result"
    }
   ],
   "source": [
    "u"
   ]
  },
  {
   "cell_type": "markdown",
   "id": "7cedfba8-5d82-4bfe-97ce-2ce64f7a7120",
   "metadata": {},
   "source": [
    "## Comparison with analytic solution"
   ]
  },
  {
   "cell_type": "code",
   "execution_count": 11,
   "id": "03fc334f-2d82-4350-a5e6-1b82996f0bf8",
   "metadata": {},
   "outputs": [
    {
     "data": {
      "text/plain": [
       "3.7047448648904e-26"
      ]
     },
     "execution_count": 11,
     "metadata": {},
     "output_type": "execute_result"
    }
   ],
   "source": [
    "y = fem.Function(V)\n",
    "I = Omega.geometry.x[:,0]\n",
    "y.x.array[:] = np.where(I < 0.5, I * 40 / 3, I * 20 / 3 + 10 / 3)\n",
    "L2_error = fem.assemble_scalar(fem.form(ufl.inner(u - y, u - y) * ufl.dx))\n",
    "L2_error"
   ]
  },
  {
   "cell_type": "markdown",
   "id": "1c2cbdcd-d603-46e8-a4f3-53eebe0ec6ca",
   "metadata": {},
   "source": [
    "## Matrix generation\n",
    "\n",
    "We show how to obtain the arrays associated to the weak linear problem. `FEniCSx` can apply the Dirichlet boundary conditions on the matrix `A` and on the array `b`, so that the solution `x` of `Ax=b` has the Dirichlet conditions enforced on the corresponding indices."
   ]
  },
  {
   "cell_type": "code",
   "execution_count": 12,
   "id": "d83e0ad2-7767-4cb3-9c7d-16915f3f3cc5",
   "metadata": {},
   "outputs": [],
   "source": [
    "a = fem.form(lhs)\n",
    "A = assemble_matrix(a, bcs=bcs)\n",
    "A.assemble()"
   ]
  },
  {
   "cell_type": "code",
   "execution_count": 13,
   "id": "7c315c77-5166-4e5a-b020-646ca22669f3",
   "metadata": {},
   "outputs": [
    {
     "name": "stdout",
     "output_type": "stream",
     "text": [
      "[[   1.    0.    0. ...    0.    0.    0.]\n",
      " [   0.  200. -100. ...    0.    0.    0.]\n",
      " [   0. -100.  200. ...    0.    0.    0.]\n",
      " ...\n",
      " [   0.    0.    0. ...  400. -200.    0.]\n",
      " [   0.    0.    0. ... -200.  400.    0.]\n",
      " [   0.    0.    0. ...    0.    0.    1.]]\n"
     ]
    }
   ],
   "source": [
    "from scipy.sparse import csr_matrix\n",
    "csr = csr_matrix(A.getValuesCSR()[::-1], shape=A.size)\n",
    "print(csr.toarray())"
   ]
  },
  {
   "cell_type": "code",
   "execution_count": 14,
   "id": "a8963f26-1d3d-4283-aa59-185fd980b1e8",
   "metadata": {},
   "outputs": [
    {
     "data": {
      "text/plain": [
       "array([   0.,    0.,    0.,    0.,    0.,    0.,    0.,    0.,    0.,\n",
       "          0.,    0.,    0.,    0.,    0.,    0.,    0.,    0.,    0.,\n",
       "          0.,    0.,    0.,    0.,    0.,    0.,    0.,    0.,    0.,\n",
       "          0.,    0.,    0.,    0.,    0.,    0.,    0.,    0.,    0.,\n",
       "          0.,    0.,    0.,    0.,    0.,    0.,    0.,    0.,    0.,\n",
       "          0.,    0.,    0.,    0.,    0.,    0.,    0.,    0.,    0.,\n",
       "          0.,    0.,    0.,    0.,    0.,    0.,    0.,    0.,    0.,\n",
       "          0.,    0.,    0.,    0.,    0.,    0.,    0.,    0.,    0.,\n",
       "          0.,    0.,    0.,    0.,    0.,    0.,    0.,    0.,    0.,\n",
       "          0.,    0.,    0.,    0.,    0.,    0.,    0.,    0.,    0.,\n",
       "          0.,    0.,    0.,    0.,    0.,    0.,    0.,    0.,    0.,\n",
       "       2000.,   10.])"
      ]
     },
     "execution_count": 14,
     "metadata": {},
     "output_type": "execute_result"
    }
   ],
   "source": [
    "b = assemble_vector(fem.form(rhs))\n",
    "apply_lifting(b, [fem.form(a)], [bcs])\n",
    "set_bc(b, bcs)\n",
    "b.array"
   ]
  },
  {
   "cell_type": "markdown",
   "id": "05060209-fa84-4243-91e6-7c0679fbaceb",
   "metadata": {},
   "source": [
    "## Plotting"
   ]
  },
  {
   "cell_type": "code",
   "execution_count": 15,
   "id": "e882921d-70b3-4142-a3d3-aeff3ef35f30",
   "metadata": {},
   "outputs": [
    {
     "data": {
      "image/png": "[encoded data removed]",
      "text/plain": [
       "<Figure size 640x480 with 1 Axes>"
      ]
     },
     "metadata": {},
     "output_type": "display_data"
    }
   ],
   "source": [
    "plt.plot(I, y.x.array, \"o\", label=\"analytical\")\n",
    "plt.plot(I, u.x.array, \"x\", label=\"FEM 101 points\")\n",
    "plt.legend()\n",
    "plt.grid()\n",
    "plt.show()"
   ]
  },
  {
   "cell_type": "code",
   "execution_count": 16,
   "id": "5bf8380f-137c-48e9-8dc9-32e081959400",
   "metadata": {},
   "outputs": [
    {
     "data": {
      "text/plain": [
       "[<matplotlib.lines.Line2D at 0x7c07ca411e50>]"
      ]
     },
     "execution_count": 16,
     "metadata": {},
     "output_type": "execute_result"
    },
    {
     "data": {
      "image/png": "[encoded data removed]",
      "text/plain": [
       "<Figure size 640x480 with 1 Axes>"
      ]
     },
     "metadata": {},
     "output_type": "display_data"
    }
   ],
   "source": [
    "plt.plot(I, y.x.array - u.x.array)"
   ]
  }
 ],
 "metadata": {
  "kernelspec": {
   "display_name": "Python 3 (ipykernel)",
   "language": "python",
   "name": "python3"
  },
  "language_info": {
   "codemirror_mode": {
    "name": "ipython",
    "version": 3
   },
   "file_extension": ".py",
   "mimetype": "text/x-python",
   "name": "python",
   "nbconvert_exporter": "python",
   "pygments_lexer": "ipython3",
   "version": "3.13.5"
  }
 },
 "nbformat": 4,
 "nbformat_minor": 5
}
