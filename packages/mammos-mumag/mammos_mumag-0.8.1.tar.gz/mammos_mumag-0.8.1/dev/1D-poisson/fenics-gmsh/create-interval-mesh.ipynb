{
 "cells": [
  {
   "cell_type": "markdown",
   "id": "942e690a-f377-4a79-a11a-3629ed255cd6",
   "metadata": {},
   "source": [
    "# Create an interval mesh using `gmsh`\n",
    "We create an interval $[0,1]$ and a mesh with size 0.01.\n",
    "We use the tag 1 for the left half of the interval and the tag 2 for the right half."
   ]
  },
  {
   "cell_type": "code",
   "execution_count": 1,
   "id": "b3b1b553-e4af-466d-9090-2a71ccc3587e",
   "metadata": {},
   "outputs": [],
   "source": [
    "import gmsh\n",
    "import numpy as np"
   ]
  },
  {
   "cell_type": "markdown",
   "id": "1ac73894-12d7-48e5-aafd-933e9e70e0ed",
   "metadata": {},
   "source": [
    "Initiate mesh parameters."
   ]
  },
  {
   "cell_type": "code",
   "execution_count": 2,
   "id": "297c1b5f-3199-4517-86ac-a3c9cb359d55",
   "metadata": {},
   "outputs": [],
   "source": [
    "gmsh.initialize()\n",
    "gmsh.model.add(\"Omega\")"
   ]
  },
  {
   "cell_type": "markdown",
   "id": "abbbe07a-59ba-467c-bd50-d85399c93476",
   "metadata": {},
   "source": [
    "We add the three points specifying the interval boundaries and the middle point (i.e. the point separating the two subdomains)."
   ]
  },
  {
   "cell_type": "code",
   "execution_count": 3,
   "id": "eb5cfc1b-41f7-45c2-ade3-cbda620d5563",
   "metadata": {},
   "outputs": [],
   "source": [
    "lc = 1e-2\n",
    "P_L = gmsh.model.geo.add_point(0, 0, 0, lc)\n",
    "P_half = gmsh.model.geo.add_point(0.5, 0, 0, lc)\n",
    "P_R = gmsh.model.geo.add_point(1, 0, 0, lc)\n",
    "I_L = gmsh.model.geo.add_line(P_L, P_half)\n",
    "I_R = gmsh.model.geo.add_line(P_half, P_R)\n",
    "gmsh.model.geo.synchronize()"
   ]
  },
  {
   "cell_type": "markdown",
   "id": "c31cfde1-04ea-4687-9575-bd1c6c16f902",
   "metadata": {},
   "source": [
    "Next, we add physical names (recognized by `meshio` when using `scikit-fem`)."
   ]
  },
  {
   "cell_type": "code",
   "execution_count": 4,
   "id": "d8b540a2-8574-4d83-8a15-91d0b5afc09d",
   "metadata": {},
   "outputs": [
    {
     "data": {
      "text/plain": [
       "4"
      ]
     },
     "execution_count": 4,
     "metadata": {},
     "output_type": "execute_result"
    }
   ],
   "source": [
    "gmsh.model.add_physical_group(1, [I_L], tag=1, name=\"L\")  # set name \"L\" to element I_L of dimension 1\n",
    "gmsh.model.add_physical_group(1, [I_R], tag=2, name=\"R\")  # set name \"R\" to element I_R of dimension 1\n",
    "gmsh.model.add_physical_group(0, [P_L], tag=3, name=\"B_L\")  # set name \"B_L\" to element P_L of dimension 0\n",
    "gmsh.model.add_physical_group(0, [P_R], tag=4, name=\"B_R\")  # set name \"B_R\" to element P_R of dimension 0"
   ]
  },
  {
   "cell_type": "markdown",
   "id": "513660aa-277e-4b5d-bc97-cebbb7019b7c",
   "metadata": {},
   "source": [
    "Now we can generate the mesh."
   ]
  },
  {
   "cell_type": "code",
   "execution_count": 5,
   "id": "52e76818-b480-45d9-a014-233aebaaee41",
   "metadata": {},
   "outputs": [
    {
     "name": "stdout",
     "output_type": "stream",
     "text": [
      "Info    : Meshing 1D...\n",
      "Info    : [  0%] Meshing curve 1 (Line)\n",
      "Info    : [ 60%] Meshing curve 2 (Line)\n",
      "Info    : Done meshing 1D (Wall 0.000149335s, CPU 0.000181s)\n",
      "Info    : 101 nodes 103 elements\n"
     ]
    }
   ],
   "source": [
    "gmsh.model.mesh.generate(1)"
   ]
  },
  {
   "cell_type": "markdown",
   "id": "935f1235-9a8a-42b0-b92d-c1ad7af30919",
   "metadata": {},
   "source": [
    "Uncomment next cell to visualise the mesh."
   ]
  },
  {
   "cell_type": "code",
   "execution_count": 6,
   "id": "f1a27d5e-a4a1-45aa-8cfd-12df34d02ca2",
   "metadata": {},
   "outputs": [],
   "source": [
    "# gmsh.fltk.run()  # uncomment for gmsh GUI"
   ]
  },
  {
   "cell_type": "markdown",
   "id": "31af9124-d59e-494b-8514-459b60332f3a",
   "metadata": {},
   "source": [
    "Next, we write the mesh to a file and we finalize `gmsh` to conclude."
   ]
  },
  {
   "cell_type": "code",
   "execution_count": 7,
   "id": "a4d56cdf-42a2-42f8-abfc-f91823ea21a7",
   "metadata": {},
   "outputs": [
    {
     "name": "stdout",
     "output_type": "stream",
     "text": [
      "Info    : Writing 'interval.msh'...\n",
      "Info    : Done writing 'interval.msh'\n"
     ]
    }
   ],
   "source": [
    "gmsh.write(\"interval.msh\")"
   ]
  },
  {
   "cell_type": "code",
   "execution_count": 8,
   "id": "9efb0092-291d-4b93-a128-9e3173965327",
   "metadata": {},
   "outputs": [],
   "source": [
    "gmsh.finalize()"
   ]
  }
 ],
 "metadata": {
  "kernelspec": {
   "display_name": "Python 3 (ipykernel)",
   "language": "python",
   "name": "python3"
  },
  "language_info": {
   "codemirror_mode": {
    "name": "ipython",
    "version": 3
   },
   "file_extension": ".py",
   "mimetype": "text/x-python",
   "name": "python",
   "nbconvert_exporter": "python",
   "pygments_lexer": "ipython3",
   "version": "3.13.5"
  }
 },
 "nbformat": 4,
 "nbformat_minor": 5
}
