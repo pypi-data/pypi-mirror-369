{
 "cells": [
  {
   "cell_type": "markdown",
   "id": "b4419716-312d-4244-8de3-d66dfcc18288",
   "metadata": {},
   "source": [
    "# Solution using `FEniCSx`"
   ]
  },
  {
   "cell_type": "code",
   "execution_count": 1,
   "id": "98fb4db5-3562-49be-a17c-88f333b0af34",
   "metadata": {},
   "outputs": [],
   "source": [
    "from dolfinx import default_scalar_type, fem, mesh\n",
    "from dolfinx.fem.petsc import LinearProblem\n",
    "from mpi4py import MPI\n",
    "import numpy as np\n",
    "import matplotlib.pyplot as plt\n",
    "import ufl"
   ]
  },
  {
   "cell_type": "markdown",
   "id": "f22c07f7-643a-4294-9ed7-fa66ec667895",
   "metadata": {},
   "source": [
    "## Define mesh and function space"
   ]
  },
  {
   "cell_type": "markdown",
   "id": "2498bedd-7a9a-485e-9597-adc2562bf1b1",
   "metadata": {},
   "source": [
    "We can use the module `dolfinx.mesh` to create geometries and meshes. Then we define the function space `V` of P1 (piecewise linear) continuous elements."
   ]
  },
  {
   "cell_type": "code",
   "execution_count": 2,
   "id": "32a16757-0fd0-44b5-bfa2-fab5a5064d22",
   "metadata": {},
   "outputs": [],
   "source": [
    "Omega = mesh.create_interval(MPI.COMM_WORLD, 100, [0, 1])\n",
    "V = fem.functionspace(Omega, ('Lagrange', 1))\n",
    "V0 = fem.functionspace(Omega, ('DG', 0))"
   ]
  },
  {
   "cell_type": "markdown",
   "id": "84fb50b7-5c86-4985-b7cd-718de4829f8b",
   "metadata": {},
   "source": [
    "Then we define a trial function `u` (i.e., the solution) and a test function `v`."
   ]
  },
  {
   "cell_type": "code",
   "execution_count": 3,
   "id": "74fe0742-ce30-417d-a28c-436562c78c66",
   "metadata": {},
   "outputs": [],
   "source": [
    "u = ufl.TrialFunction(V)\n",
    "v = ufl.TestFunction(V)"
   ]
  },
  {
   "cell_type": "markdown",
   "id": "05f82a1e-1a60-4ffd-a8c3-453ade801b84",
   "metadata": {},
   "source": [
    "## Dirichlet boundary conditions"
   ]
  },
  {
   "cell_type": "markdown",
   "id": "5fa8a973-54a0-40e9-8882-11be27a2435f",
   "metadata": {},
   "source": [
    "Boundary conditions in `FEniCSx` are lists of `DirichletBC` objects defined by specifying the value (e.g., `default_scalar_type(0)` is the float `0`) on the set of points (e.g., `dofs_L`) where the boundary condition is defined (e.g., `np. isclose(x[0], 0)`)."
   ]
  },
  {
   "cell_type": "code",
   "execution_count": 4,
   "id": "bb19cfe9-98c3-435d-9a08-29cb557e3610",
   "metadata": {},
   "outputs": [],
   "source": [
    "dofs_L = fem.locate_dofs_geometrical(V, lambda x: np.isclose(x[0], 0))\n",
    "dofs_R = fem.locate_dofs_geometrical(V, lambda x: np.isclose(x[0], 1))\n",
    "bc_L = fem.dirichletbc(default_scalar_type(0), dofs_L, V)\n",
    "bc_R = fem.dirichletbc(default_scalar_type(10), dofs_R, V)\n",
    "bcs = [bc_L, bc_R]"
   ]
  },
  {
   "cell_type": "markdown",
   "id": "b4632c44-5470-4d54-90db-e4794166bb56",
   "metadata": {},
   "source": [
    "## Define parameter"
   ]
  },
  {
   "cell_type": "markdown",
   "id": "50f93fc8-5816-418f-b0c6-7a4e1062f0c6",
   "metadata": {},
   "source": [
    "First we define the two different subdomains."
   ]
  },
  {
   "cell_type": "code",
   "execution_count": 5,
   "id": "6d763683-131d-4838-845f-85a2927d96e7",
   "metadata": {},
   "outputs": [],
   "source": [
    "def Omega_0(x):\n",
    "    return x[0] <= 0.5\n",
    "\n",
    "def Omega_1(x):\n",
    "    return x[0] >= 0.5"
   ]
  },
  {
   "cell_type": "markdown",
   "id": "e77c63bf-5d73-4e49-aa6f-4151435ebf53",
   "metadata": {},
   "source": [
    "Then we take the function `a` and we assign different values depending on the subdomain."
   ]
  },
  {
   "cell_type": "code",
   "execution_count": 6,
   "id": "fcd7457c-23a1-4c58-9d51-6689194e46e3",
   "metadata": {},
   "outputs": [],
   "source": [
    "sigma = fem.Function(V0)\n",
    "\n",
    "cells_0 = mesh.locate_entities(Omega, Omega.topology.dim, Omega_0)\n",
    "cells_1 = mesh.locate_entities(Omega, Omega.topology.dim, Omega_1)\n",
    "\n",
    "sigma.x.array[cells_0] = np.full_like(cells_0, 1, dtype=default_scalar_type)\n",
    "sigma.x.array[cells_1] = np.full_like(cells_1, 2, dtype=default_scalar_type)"
   ]
  },
  {
   "cell_type": "markdown",
   "id": "72e257a4-76ba-469a-99bc-82354405cd98",
   "metadata": {},
   "source": [
    "## Weak formulation\n",
    "\n",
    "We define the operators of the weak formulation in the following way."
   ]
  },
  {
   "cell_type": "code",
   "execution_count": 7,
   "id": "71c8e1ba-7b8b-4733-9281-f5ba0b6a5635",
   "metadata": {},
   "outputs": [],
   "source": [
    "a = ufl.inner(sigma * ufl.grad(u), ufl.grad(v)) * ufl.dx\n",
    "L = fem.Constant(Omega, default_scalar_type(0)) * v * ufl.dx"
   ]
  },
  {
   "cell_type": "markdown",
   "id": "222e6881-ef06-4d72-96ed-cb18421228bf",
   "metadata": {},
   "source": [
    "Then we define the variational problem and we solve it."
   ]
  },
  {
   "cell_type": "code",
   "execution_count": 8,
   "id": "7d1d8181-f024-4f8f-bd3b-bdb16c565c74",
   "metadata": {},
   "outputs": [],
   "source": [
    "problem = LinearProblem(a, L, bcs=bcs)#, petsc_options={\"ksp_type\": \"preonly\", \"pc_type\": \"lu\"})\n",
    "u = problem.solve()"
   ]
  },
  {
   "cell_type": "markdown",
   "id": "d6cb45c3-f40b-4d95-81fb-7728d3b3f858",
   "metadata": {},
   "source": [
    "## Comparison with analytic solution"
   ]
  },
  {
   "cell_type": "code",
   "execution_count": 9,
   "id": "0be0fb86-d259-4e09-8ada-10971369d45c",
   "metadata": {},
   "outputs": [
    {
     "data": {
      "text/plain": [
       "2.38704710323707e-27"
      ]
     },
     "execution_count": 9,
     "metadata": {},
     "output_type": "execute_result"
    }
   ],
   "source": [
    "y = fem.Function(V)\n",
    "I = Omega.geometry.x[:,0]\n",
    "y.x.array[:] = np.where(I < 0.5, I * 40 / 3, I * 20 / 3 + 10 / 3)\n",
    "L2_error = fem.assemble_scalar(fem.form(ufl.inner(u - y, u - y) * ufl.dx))\n",
    "L2_error"
   ]
  },
  {
   "cell_type": "markdown",
   "id": "40a211ea-22fd-475e-ae00-29c623c083da",
   "metadata": {},
   "source": [
    "## Plotting"
   ]
  },
  {
   "cell_type": "code",
   "execution_count": 10,
   "id": "f29c94f8-bfab-4d2b-8468-f36cdf5f7a5f",
   "metadata": {},
   "outputs": [
    {
     "data": {
      "image/png": "[encoded data removed]",
      "text/plain": [
       "<Figure size 640x480 with 1 Axes>"
      ]
     },
     "metadata": {},
     "output_type": "display_data"
    }
   ],
   "source": [
    "plt.plot(I, y.x.array, \"o\", label=\"analytical\")\n",
    "plt.plot(I, u.x.array, \"x\", label=\"FEM 101 points\")\n",
    "plt.legend()\n",
    "plt.grid()\n",
    "plt.show()"
   ]
  },
  {
   "cell_type": "code",
   "execution_count": 11,
   "id": "7d89c895-ccaa-4eba-8c27-762562d55b8c",
   "metadata": {},
   "outputs": [
    {
     "data": {
      "text/plain": [
       "[<matplotlib.lines.Line2D at 0x7f1e4a1bbb10>]"
      ]
     },
     "execution_count": 11,
     "metadata": {},
     "output_type": "execute_result"
    },
    {
     "data": {
      "image/png": "[encoded data removed]",
      "text/plain": [
       "<Figure size 640x480 with 1 Axes>"
      ]
     },
     "metadata": {},
     "output_type": "display_data"
    }
   ],
   "source": [
    "plt.plot(I, y.x.array - u.x.array)"
   ]
  }
 ],
 "metadata": {
  "kernelspec": {
   "display_name": "Python 3 (ipykernel)",
   "language": "python",
   "name": "python3"
  },
  "language_info": {
   "codemirror_mode": {
    "name": "ipython",
    "version": 3
   },
   "file_extension": ".py",
   "mimetype": "text/x-python",
   "name": "python",
   "nbconvert_exporter": "python",
   "pygments_lexer": "ipython3",
   "version": "3.13.5"
  }
 },
 "nbformat": 4,
 "nbformat_minor": 5
}
