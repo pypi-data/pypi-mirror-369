{
 "cells": [
  {
   "cell_type": "markdown",
   "id": "cc464fc6-6074-4f18-9fd6-6e02f09aed84",
   "metadata": {},
   "source": [
    "# Solution using `scikit-fem` and an external tagged mesh\n",
    "\n",
    "Similarly to [fenics-gmsh.ipynb](../fenics-gmsh/fenics-gmsh.ipynb), we define the mesh using `gmsh` in the notebook [create-interval-mesh.ipynb](../fenics-gmsh/create-interval-mesh.ipynb) and we solve the problem without knowing the geometry."
   ]
  },
  {
   "cell_type": "code",
   "execution_count": 1,
   "id": "6c954d6b-4c58-4f93-b64c-2387dce496f3",
   "metadata": {},
   "outputs": [],
   "source": [
    "import skfem\n",
    "import skfem.visuals.matplotlib\n",
    "from skfem.helpers import grad, dot\n",
    "import numpy as np"
   ]
  },
  {
   "cell_type": "markdown",
   "id": "001893d0-dd42-4162-9d9a-8adfd24583f2",
   "metadata": {},
   "source": [
    "## Load a mesh"
   ]
  },
  {
   "cell_type": "code",
   "execution_count": 2,
   "id": "4c8c1b2b-1e94-4a30-ab4e-29f1c35ac93d",
   "metadata": {},
   "outputs": [
    {
     "name": "stderr",
     "output_type": "stream",
     "text": [
      "Failure to orient a boundary.\n",
      "Failure to orient a boundary.\n"
     ]
    },
    {
     "name": "stdout",
     "output_type": "stream",
     "text": [
      "\n"
     ]
    },
    {
     "data": {
      "text/plain": [
       "<skfem MeshLine1 object>\n",
       "  Number of elements: 100\n",
       "  Number of vertices: 101\n",
       "  Number of nodes: 101\n",
       "  Named subdomains [# elements]: L [50], R [50]\n",
       "  Named boundaries [# facets]: B_L [1], B_R [1]"
      ]
     },
     "execution_count": 2,
     "metadata": {},
     "output_type": "execute_result"
    }
   ],
   "source": [
    "mesh = skfem.mesh.Mesh.load(\"../fenics-gmsh/interval.msh\")\n",
    "mesh.subdomains.pop(\"gmsh:bounding_entities\", None)\n",
    "mesh"
   ]
  },
  {
   "cell_type": "code",
   "execution_count": 3,
   "id": "4bc3a4e2-4fb8-40d2-b2bb-94bd0016c5c2",
   "metadata": {},
   "outputs": [
    {
     "data": {
      "text/plain": [
       "{'L': array([ 0,  1,  2,  3,  4,  5,  6,  7,  8,  9, 10, 11, 12, 13, 14, 15, 16,\n",
       "        17, 18, 19, 20, 21, 22, 23, 24, 25, 26, 27, 28, 29, 30, 31, 32, 33,\n",
       "        34, 35, 36, 37, 38, 39, 40, 41, 42, 43, 44, 45, 46, 47, 48, 49],\n",
       "       dtype=int32),\n",
       " 'R': array([50, 51, 52, 53, 54, 55, 56, 57, 58, 59, 60, 61, 62, 63, 64, 65, 66,\n",
       "        67, 68, 69, 70, 71, 72, 73, 74, 75, 76, 77, 78, 79, 80, 81, 82, 83,\n",
       "        84, 85, 86, 87, 88, 89, 90, 91, 92, 93, 94, 95, 96, 97, 98, 99],\n",
       "       dtype=int32)}"
      ]
     },
     "execution_count": 3,
     "metadata": {},
     "output_type": "execute_result"
    }
   ],
   "source": [
    "mesh.subdomains"
   ]
  },
  {
   "cell_type": "markdown",
   "id": "9594521e-f227-4e76-9147-c0122c92449a",
   "metadata": {},
   "source": [
    "This mesh has two subdomains: \"L\" (left subdomain) and \"R\" (right subdomain). It also has two boundaries: \"B_L\" (at x=0) and \"B_R\" (at x=1)."
   ]
  },
  {
   "cell_type": "code",
   "execution_count": 4,
   "id": "7ed9c008-8921-4ec9-bebf-83ce8b8c30d4",
   "metadata": {},
   "outputs": [
    {
     "data": {
      "text/plain": [
       "{'L': array([ 0,  1,  2,  3,  4,  5,  6,  7,  8,  9, 10, 11, 12, 13, 14, 15, 16,\n",
       "        17, 18, 19, 20, 21, 22, 23, 24, 25, 26, 27, 28, 29, 30, 31, 32, 33,\n",
       "        34, 35, 36, 37, 38, 39, 40, 41, 42, 43, 44, 45, 46, 47, 48, 49],\n",
       "       dtype=int32),\n",
       " 'R': array([50, 51, 52, 53, 54, 55, 56, 57, 58, 59, 60, 61, 62, 63, 64, 65, 66,\n",
       "        67, 68, 69, 70, 71, 72, 73, 74, 75, 76, 77, 78, 79, 80, 81, 82, 83,\n",
       "        84, 85, 86, 87, 88, 89, 90, 91, 92, 93, 94, 95, 96, 97, 98, 99],\n",
       "       dtype=int32)}"
      ]
     },
     "execution_count": 4,
     "metadata": {},
     "output_type": "execute_result"
    }
   ],
   "source": [
    "mesh.subdomains"
   ]
  },
  {
   "cell_type": "markdown",
   "id": "83277626-eee1-4548-9a3b-d01eb25df766",
   "metadata": {},
   "source": [
    "## Solve linear problem\n",
    "\n",
    "We follow [skfem-simple.ipynb](../skfem-simple/skfem-simple.ipynb) for most of this notebook."
   ]
  },
  {
   "cell_type": "code",
   "execution_count": 5,
   "id": "c5c16485-8eb1-4fdb-a862-6a39bc265842",
   "metadata": {},
   "outputs": [],
   "source": [
    "# For trial and test function\n",
    "basis_p1 = skfem.Basis(mesh=mesh, elem=skfem.ElementLineP1())\n",
    "\n",
    "# For material parameter sigma\n",
    "basis_p0 = skfem.Basis(mesh=mesh, elem=skfem.ElementDG(skfem.ElementLineP0()))"
   ]
  },
  {
   "cell_type": "markdown",
   "id": "ce65bc08-319b-4085-8b24-b73c2b5b191e",
   "metadata": {},
   "source": [
    "We define the parameter `sigma` depending on the tags."
   ]
  },
  {
   "cell_type": "code",
   "execution_count": 6,
   "id": "275e626f-a21d-48cd-8ae7-b3915578cd8c",
   "metadata": {},
   "outputs": [
    {
     "data": {
      "text/plain": [
       "{'L': array([ 0,  1,  2,  3,  4,  5,  6,  7,  8,  9, 10, 11, 12, 13, 14, 15, 16,\n",
       "        17, 18, 19, 20, 21, 22, 23, 24, 25, 26, 27, 28, 29, 30, 31, 32, 33,\n",
       "        34, 35, 36, 37, 38, 39, 40, 41, 42, 43, 44, 45, 46, 47, 48, 49],\n",
       "       dtype=int32),\n",
       " 'R': array([50, 51, 52, 53, 54, 55, 56, 57, 58, 59, 60, 61, 62, 63, 64, 65, 66,\n",
       "        67, 68, 69, 70, 71, 72, 73, 74, 75, 76, 77, 78, 79, 80, 81, 82, 83,\n",
       "        84, 85, 86, 87, 88, 89, 90, 91, 92, 93, 94, 95, 96, 97, 98, 99],\n",
       "       dtype=int32)}"
      ]
     },
     "execution_count": 6,
     "metadata": {},
     "output_type": "execute_result"
    }
   ],
   "source": [
    "mesh.subdomains"
   ]
  },
  {
   "cell_type": "code",
   "execution_count": 7,
   "id": "2cc27354-e826-4e4e-bbaa-dbe854195645",
   "metadata": {},
   "outputs": [
    {
     "data": {
      "text/plain": [
       "array([ 0,  1,  2,  3,  4,  5,  6,  7,  8,  9, 10, 11, 12, 13, 14, 15, 16,\n",
       "       17, 18, 19, 20, 21, 22, 23, 24, 25, 26, 27, 28, 29, 30, 31, 32, 33,\n",
       "       34, 35, 36, 37, 38, 39, 40, 41, 42, 43, 44, 45, 46, 47, 48, 49],\n",
       "      dtype=int32)"
      ]
     },
     "execution_count": 7,
     "metadata": {},
     "output_type": "execute_result"
    }
   ],
   "source": [
    "s = mesh.subdomains[\"L\"]\n",
    "s"
   ]
  },
  {
   "cell_type": "code",
   "execution_count": 8,
   "id": "9c5a163c-d857-482e-815c-46b1cbc00538",
   "metadata": {},
   "outputs": [],
   "source": [
    "sigma_values = {\n",
    "    \"L\": 1,  # value is 1 on left subdomain\n",
    "    \"R\": 2,  # value is 2 on right subdomain\n",
    "}\n",
    "sigma = basis_p0.zeros()\n",
    "for sd in mesh.subdomains:\n",
    "    sigma[basis_p0.get_dofs(elements=sd)] = sigma_values[sd]"
   ]
  },
  {
   "cell_type": "code",
   "execution_count": 9,
   "id": "81ffbf23-c895-48d3-93ab-d910c05e36e6",
   "metadata": {},
   "outputs": [],
   "source": [
    "# aa = basis_p0.zeros()\n",
    "# aa[11] = 8\n",
    "# aa = basis_p0.interpolate(aa)"
   ]
  },
  {
   "cell_type": "markdown",
   "id": "72157dee-f76f-4403-afd9-ea5b115259cf",
   "metadata": {},
   "source": [
    "We define the variational forms."
   ]
  },
  {
   "cell_type": "code",
   "execution_count": 10,
   "id": "c578bf74-70ef-434f-a8fe-6b6159b4e2af",
   "metadata": {},
   "outputs": [],
   "source": [
    "@skfem.BilinearForm\n",
    "def stifness_matrix(u, v, w):\n",
    "    return - w.sigma * dot(grad(u), grad(v))"
   ]
  },
  {
   "cell_type": "code",
   "execution_count": 11,
   "id": "3179edc0-84b5-4de9-a4a7-25986a9b35ec",
   "metadata": {},
   "outputs": [],
   "source": [
    "@skfem.LinearForm\n",
    "def l(v, _):\n",
    "    return 0 * v"
   ]
  },
  {
   "cell_type": "code",
   "execution_count": 12,
   "id": "aed033e5-d4da-4bde-bd2c-acdccb2e4e20",
   "metadata": {},
   "outputs": [],
   "source": [
    "S = stifness_matrix.assemble(basis_p1, sigma=basis_p0.interpolate(sigma))"
   ]
  },
  {
   "cell_type": "code",
   "execution_count": 13,
   "id": "f714d7ed-b5a6-44b0-90ac-eddbffdf03bf",
   "metadata": {},
   "outputs": [],
   "source": [
    "L = l.assemble(basis_p1)"
   ]
  },
  {
   "cell_type": "markdown",
   "id": "d3d0fe67-6ff2-4ca5-b3d1-9a21e40803d7",
   "metadata": {},
   "source": [
    "We apply the boundary conditions"
   ]
  },
  {
   "cell_type": "code",
   "execution_count": 14,
   "id": "98202bff-4d24-4681-ac49-711c507e812c",
   "metadata": {},
   "outputs": [],
   "source": [
    "u = basis_p1.zeros()\n",
    "u[basis_p1.get_dofs(\"B_L\")] = 0.\n",
    "u[basis_p1.get_dofs(\"B_R\")] = 10."
   ]
  },
  {
   "cell_type": "markdown",
   "id": "8abeaf75-7687-4bd2-89b0-decf0d35c8e7",
   "metadata": {},
   "source": [
    "### Solve linear equations and plot"
   ]
  },
  {
   "cell_type": "code",
   "execution_count": 15,
   "id": "257416b0-46a4-4118-b477-9e4382cabd23",
   "metadata": {},
   "outputs": [],
   "source": [
    "u = skfem.solve(*skfem.condense(S, L, x=u, D=basis_p1.get_dofs()))"
   ]
  },
  {
   "cell_type": "code",
   "execution_count": 16,
   "id": "04812c2e-1ee4-4e8c-b72d-2f7b66db3ad4",
   "metadata": {},
   "outputs": [
    {
     "data": {
      "image/png": "[encoded data removed]",
      "text/plain": [
       "<Figure size 640x480 with 1 Axes>"
      ]
     },
     "metadata": {},
     "output_type": "display_data"
    }
   ],
   "source": [
    "skfem.visuals.matplotlib.plot(mesh, u);"
   ]
  },
  {
   "cell_type": "markdown",
   "id": "17a41e95-ecde-4f37-add1-d63663b459ad",
   "metadata": {},
   "source": [
    "## Comparing analytical and FEM solutions"
   ]
  },
  {
   "cell_type": "code",
   "execution_count": 17,
   "id": "4c09a2d1-cfa6-4bcf-b9d4-1d18766d5d3e",
   "metadata": {},
   "outputs": [],
   "source": [
    "y = np.where(mesh.p[0]<0.5, mesh.p[0] * 40 / 3, (mesh.p[0] * 20 / 3) + (10/3))"
   ]
  },
  {
   "cell_type": "code",
   "execution_count": 18,
   "id": "b2f0ac78-615c-4415-9dae-12c462bad4fd",
   "metadata": {},
   "outputs": [
    {
     "data": {
      "text/plain": [
       "np.float64(9.065226133860604e-13)"
      ]
     },
     "execution_count": 18,
     "metadata": {},
     "output_type": "execute_result"
    }
   ],
   "source": [
    "np.linalg.norm(y - u)"
   ]
  },
  {
   "cell_type": "code",
   "execution_count": 19,
   "id": "13b90641-ec38-4545-a04f-66280e2edcca",
   "metadata": {},
   "outputs": [],
   "source": [
    "import matplotlib.pyplot as plt"
   ]
  },
  {
   "cell_type": "code",
   "execution_count": 20,
   "id": "a2de21c2-5010-471b-a5fc-478a86495813",
   "metadata": {},
   "outputs": [
    {
     "data": {
      "image/png": "[encoded data removed]",
      "text/plain": [
       "<Figure size 640x480 with 1 Axes>"
      ]
     },
     "metadata": {},
     "output_type": "display_data"
    }
   ],
   "source": [
    "plt.plot(mesh.p[0], y, \"o\", label=\"analytical\")\n",
    "plt.plot(mesh.p[0], u, \"x\", label=\"FEM 101 points\")\n",
    "plt.legend()\n",
    "plt.grid()\n",
    "plt.show()"
   ]
  }
 ],
 "metadata": {
  "kernelspec": {
   "display_name": "Python 3 (ipykernel)",
   "language": "python",
   "name": "python3"
  },
  "language_info": {
   "codemirror_mode": {
    "name": "ipython",
    "version": 3
   },
   "file_extension": ".py",
   "mimetype": "text/x-python",
   "name": "python",
   "nbconvert_exporter": "python",
   "pygments_lexer": "ipython3",
   "version": "3.13.5"
  }
 },
 "nbformat": 4,
 "nbformat_minor": 5
}
