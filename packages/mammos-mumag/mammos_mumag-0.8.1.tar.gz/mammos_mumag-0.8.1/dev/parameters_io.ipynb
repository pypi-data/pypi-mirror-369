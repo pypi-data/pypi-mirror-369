{
 "cells": [
  {
   "cell_type": "markdown",
   "id": "cc245786-b017-47d2-aef2-39ea2db8713a",
   "metadata": {},
   "source": [
    "# Parameters input/output\n",
    "Simulation parameters are collected in `mammos_mumag.parameters.Parameters` objects.\n",
    "The parameters are stored in the following attributes.\n",
    "\n",
    "+ `size`: mesh size.\n",
    "+ `scale`: mesh scale.\n",
    "+ `state`: name of state. The recognized states are `vortex`, `flower`, `twisted`. Everything else will be treated as uniformly magnetized.\n",
    "+ `m_vect`: Vector $\\mathbf{m}$ represented as a list.\n",
    "\n",
    "+ `hmag_on`: Indicates whether the external field is on (1) or off (0)\n",
    "+ `hstart`: initial external field in $\\mathrm{T}$.\n",
    "+ `hfinal`: final external field in $\\mathrm{T}$.\n",
    "+ `hstep`: external field change step in $\\mathrm{T}$.\n",
    "+ `h_vect`: External field $\\mathbf{h}$ represented as a list.\n",
    "\n",
    "+ `tol_fun`: Tolerance of the total energy function.\n",
    "+ `tol_hmag_factor`: Factor defining the tolerance for the magnetostatic scalar potential.\n",
    "+ `tol_u`: idk\n",
    "+ `verbose`: Verbosity.\n"
   ]
  },
  {
   "cell_type": "code",
   "execution_count": 1,
   "id": "4fa9c6f5",
   "metadata": {},
   "outputs": [
    {
     "name": "stderr",
     "output_type": "stream",
     "text": [
      "/home/mlang/repos/mammos/mammos-mumag/.pixi/envs/docs/lib/python3.11/site-packages/mammos_entity/base.py:15: RuntimeWarning: Failed to load ontology from the internet.\n",
      "  from mammos_entity.onto import HAVE_INTERNET, mammos_ontology\n",
      "/home/mlang/repos/mammos/mammos-mumag/.pixi/envs/docs/lib/python3.11/site-packages/mammos_entity/base.py:135: RuntimeWarning: Failed to load ontology from the interent. Hence, no check for unit or ontology_label will be performed!\n",
      "  warnings.warn(\n"
     ]
    }
   ],
   "source": [
    "from mammos_mumag.parameters import Parameters"
   ]
  },
  {
   "cell_type": "markdown",
   "id": "541e0bd2-2be6-45c3-9934-f73df61c656d",
   "metadata": {},
   "source": [
    "## Initialization\n",
    "A `Parameters` instance can be initialized in different ways:\n",
    "- If initialized empty, it takes default values.\n",
    "- All parameters can be defined on initialization.\n",
    "- The instance can be initialized from a parameter file in `p2` or `yaml` format."
   ]
  },
  {
   "cell_type": "markdown",
   "id": "e11ff403",
   "metadata": {},
   "source": [
    "### Empty initialization"
   ]
  },
  {
   "cell_type": "code",
   "execution_count": 2,
   "id": "84ed97c9",
   "metadata": {},
   "outputs": [
    {
     "data": {
      "text/plain": [
       "Parameters(size=1e-09, scale=0.0, state='', m_vect=[0, 0, 0], hmag_on=1, hstart=0.0, hfinal=0.0, hstep=0.0, h_vect=[0, 0, 0], mstep=1.0, mfinal=-0.8, iter_max=1000, precond_iter=10, tol_fun=1e-10, tol_hmag_factor=1.0, tol_u=1e-10, verbose=0)"
      ]
     },
     "execution_count": 2,
     "metadata": {},
     "output_type": "execute_result"
    }
   ],
   "source": [
    "par = Parameters()\n",
    "par"
   ]
  },
  {
   "cell_type": "markdown",
   "id": "85ed174a",
   "metadata": {},
   "source": [
    "### Defining parameters on initialization"
   ]
  },
  {
   "cell_type": "code",
   "execution_count": 3,
   "id": "8ce5cf84",
   "metadata": {},
   "outputs": [
    {
     "data": {
      "text/plain": [
       "Parameters(size=1e-09, scale=0.0, state='', m_vect=[1.0, 0.0, 0.0], hmag_on=1, hstart=1.0, hfinal=-1.5, hstep=-0.01, h_vect=[0, 0, 0], mstep=1.0, mfinal=-0.8, iter_max=1000, precond_iter=5, tol_fun=1e-10, tol_hmag_factor=1.0, tol_u=1e-10, verbose=0)"
      ]
     },
     "execution_count": 3,
     "metadata": {},
     "output_type": "execute_result"
    }
   ],
   "source": [
    "par = Parameters(\n",
    "    m_vect=[1, 0, 0],\n",
    "    hstart=1.0,\n",
    "    hfinal=-1.5,\n",
    "    hstep=-0.01,\n",
    "    h=[0.999, 0, 0.002],\n",
    "    precond_iter=5,\n",
    ")\n",
    "par"
   ]
  },
  {
   "cell_type": "markdown",
   "id": "3fcf716b-960d-465a-b7eb-1971eb9cdf00",
   "metadata": {},
   "source": [
    "### Read parameter files\n",
    "Material files can be read using the `read` function or by setting the `filepath` when initializing the `Parameters` instance.\n",
    "> warning: this will overwrite all parameters previously defined.\n"
   ]
  },
  {
   "cell_type": "markdown",
   "id": "9eb2bb24",
   "metadata": {},
   "source": [
    "Recognized formats are `p2` and `yaml`:"
   ]
  },
  {
   "cell_type": "code",
   "execution_count": 4,
   "id": "f10e723b",
   "metadata": {},
   "outputs": [
    {
     "name": "stdout",
     "output_type": "stream",
     "text": [
      "[mesh]\n",
      "size = 1.e-9\n",
      "scale = 0.0\n",
      "\n",
      "[initial state]\n",
      "mx = 0.\n",
      "my = 0.\n",
      "mz = 1.\n",
      "\n",
      "[field]\n",
      "hstart = 1.0\n",
      "hfinal = -1.0\n",
      "hstep = -0.2\n",
      "hx = 0.01745\n",
      "hy = 0\n",
      "hz = 0.99984\n",
      "mstep = 0.4\n",
      "mfinal = -1.2\n",
      "\n",
      "[minimizer]\n",
      "tol_fun = 1e-10\n",
      "tol_hmag_factor = 1.0\n",
      "precond_iter = 10\n",
      "\n"
     ]
    }
   ],
   "source": [
    "with open(\"data/cube.p2\") as file:\n",
    "    print(file.read())"
   ]
  },
  {
   "cell_type": "code",
   "execution_count": 5,
   "id": "15a9522e",
   "metadata": {},
   "outputs": [
    {
     "name": "stdout",
     "output_type": "stream",
     "text": [
      "field:\n",
      "  hfinal: -1.0\n",
      "  hmag_on: 1\n",
      "  hstart: 1.0\n",
      "  hstep: -0.2\n",
      "  hx: 0.01745\n",
      "  hy: 0.0\n",
      "  hz: 0.99984\n",
      "  mfinal: -1.2\n",
      "  mstep: 0.4\n",
      "initial state:\n",
      "  mx: 0.0\n",
      "  my: 0.0\n",
      "  mz: 1.0\n",
      "  state: mxyz\n",
      "mesh:\n",
      "  scale: 0.0\n",
      "  size: 1.0e-09\n",
      "minimizer:\n",
      "  iter_max: 1000\n",
      "  precond_iter: 10\n",
      "  tol_fun: 1.0e-10\n",
      "  tol_hmag_factor: 1.0\n",
      "\n"
     ]
    }
   ],
   "source": [
    "with open(\"data/parameters.yaml\") as file:\n",
    "    print(file.read())"
   ]
  },
  {
   "cell_type": "code",
   "execution_count": 6,
   "id": "03020f33",
   "metadata": {},
   "outputs": [
    {
     "data": {
      "text/plain": [
       "Parameters(size=1e-09, scale=0.0, state='', m_vect=[0.0, 0.0, 1.0], hmag_on=1, hstart=1.0, hfinal=-1.0, hstep=-0.2, h_vect=[0.017450134993893963, 0.0, 0.9998477348020022], mstep=0.4, mfinal=-1.2, iter_max=1000, precond_iter=10, tol_fun=1e-10, tol_hmag_factor=1.0, tol_u=1e-10, verbose=0)"
      ]
     },
     "execution_count": 6,
     "metadata": {},
     "output_type": "execute_result"
    }
   ],
   "source": [
    "par = Parameters(filepath=\"data/cube.p2\")\n",
    "par"
   ]
  },
  {
   "cell_type": "markdown",
   "id": "5307c1f6-4b0e-46f2-98b9-35ccb87279fd",
   "metadata": {},
   "source": [
    "## Write parameter files\n",
    "We can export the parameter files either as `p2` or `yaml` as follows:\n",
    "```python\n",
    "par.write_p2(\"out/cube.p2\")\n",
    "```\n",
    "or\n",
    "```python\n",
    "par.write_yaml(\"out/parameters.yaml\")"
   ]
  }
 ],
 "metadata": {
  "kernelspec": {
   "display_name": "Python 3 (ipykernel)",
   "language": "python",
   "name": "python3"
  },
  "language_info": {
   "codemirror_mode": {
    "name": "ipython",
    "version": 3
   },
   "file_extension": ".py",
   "mimetype": "text/x-python",
   "name": "python",
   "nbconvert_exporter": "python",
   "pygments_lexer": "ipython3",
   "version": "3.11.12"
  }
 },
 "nbformat": 4,
 "nbformat_minor": 5
}
