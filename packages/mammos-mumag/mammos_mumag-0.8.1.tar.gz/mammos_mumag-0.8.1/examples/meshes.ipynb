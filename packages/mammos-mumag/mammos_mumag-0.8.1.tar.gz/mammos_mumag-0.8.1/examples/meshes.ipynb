{
 "cells": [
  {
   "attachments": {},
   "cell_type": "markdown",
   "id": "51ad1070-174a-4417-b361-2c6a0007a971",
   "metadata": {},
   "source": [
    "# Meshes\n",
    "\n",
    "`mammos_mumag` has the possibility to use pre-calculated meshes. Some are shipped with the package, while some other are stored elsewhere (e.g., on Zenodo) and will require an internet connection to access.\n",
    "\n",
    "At the moment, the package only works with meshes that fulfil certain properties.\n",
    "- The mesh must be in `.fly` format.\n",
    "- The mesh must be consistent with the shell-transformation method, where tags would divide the mesh in different regions:\n",
    "  - one or more regions represent the material (a single grain cube in this notebook case) and material parameters need to be assigned for each region;\n",
    "  - a free space (non magnetic) is present around the material;\n",
    "  - the last region is a shell sourrounding everything else (to map the outer region to infinity)."
   ]
  },
  {
   "cell_type": "code",
   "execution_count": 1,
   "id": "5a03b313-d153-48ab-ae36-703a97d50906",
   "metadata": {},
   "outputs": [],
   "source": [
    "from mammos_mumag.mesh import Mesh, find_mesh"
   ]
  },
  {
   "cell_type": "markdown",
   "id": "6110aadb-dd3c-43e0-9fa5-d96b2e88ce61",
   "metadata": {},
   "source": [
    "## List all available meshes\n",
    "\n",
    "The function `find_mesh` can be used to find a specific mesh (filtering by name) or, if run without arguments, it will list all the available meshes."
   ]
  },
  {
   "cell_type": "code",
   "execution_count": 2,
   "id": "0145871e-8e8b-4542-b2f0-870aad6de379",
   "metadata": {},
   "outputs": [
    {
     "data": {
      "text/plain": [
       "['cube20_singlegrain_msize1',\n",
       " 'cube20_singlegrain_msize2',\n",
       " 'cube50_singlegrain_msize1',\n",
       " 'cube50_singlegrain_msize2',\n",
       " 'cube40_equi_grains8_gsize20',\n",
       " 'cube80_equi_grains8_gsize40',\n",
       " 'cube160_equi_grains8_gsize80',\n",
       " 'cube40_colu_grains8_gsize20',\n",
       " 'cube80_colu_grains8_gsize40',\n",
       " 'cube160_colu_grains8_gsize80',\n",
       " 'cube40_3plat_grains12_gsize20',\n",
       " 'cube80_3plat_grains12_gsize40',\n",
       " 'cube160_3plat_grains12_gsize80']"
      ]
     },
     "execution_count": 2,
     "metadata": {},
     "output_type": "execute_result"
    }
   ],
   "source": [
    "find_mesh()"
   ]
  },
  {
   "cell_type": "code",
   "execution_count": 3,
   "id": "9a36d34e-d338-487f-9239-99ae05b6d545",
   "metadata": {},
   "outputs": [
    {
     "data": {
      "text/plain": [
       "['cube40_equi_grains8_gsize20',\n",
       " 'cube40_colu_grains8_gsize20',\n",
       " 'cube40_3plat_grains12_gsize20']"
      ]
     },
     "execution_count": 3,
     "metadata": {},
     "output_type": "execute_result"
    }
   ],
   "source": [
    "find_mesh(\"cube40\")"
   ]
  },
  {
   "cell_type": "code",
   "execution_count": 4,
   "id": "e2de0432-26a5-4408-925f-f81e7b4ec0a1",
   "metadata": {},
   "outputs": [
    {
     "data": {
      "text/plain": [
       "['cube40_3plat_grains12_gsize20',\n",
       " 'cube80_3plat_grains12_gsize40',\n",
       " 'cube160_3plat_grains12_gsize80']"
      ]
     },
     "execution_count": 4,
     "metadata": {},
     "output_type": "execute_result"
    }
   ],
   "source": [
    "find_mesh(\"3plat\")"
   ]
  },
  {
   "cell_type": "markdown",
   "id": "fc73de1e-df89-44dc-9aca-78a1cbb106be",
   "metadata": {},
   "source": [
    "These meshes are stored on Zenodo: [![DOI](https://zenodo.org/badge/DOI/10.5281/zenodo.16736877.svg)](https://doi.org/10.5281/zenodo.16736877).\n",
    "\n",
    "The package `mammos_mumag` also includes the mesh `cube20_singlegrain_msize2` stored locally. Its loading time will be faster and it can work without internet connection."
   ]
  },
  {
   "cell_type": "code",
   "execution_count": 5,
   "id": "94085c5c-7e3e-4fec-ad37-d80811db44ac",
   "metadata": {},
   "outputs": [],
   "source": [
    "mesh = Mesh(\"cube80_3plat_grains12_gsize40\")"
   ]
  },
  {
   "cell_type": "code",
   "execution_count": 6,
   "id": "bc8a279c-dfd2-4bd9-b6ed-198992489c30",
   "metadata": {},
   "outputs": [
    {
     "data": {
      "text/plain": [
       "Mesh('cube80_3plat_grains12_gsize40')"
      ]
     },
     "execution_count": 6,
     "metadata": {},
     "output_type": "execute_result"
    }
   ],
   "source": [
    "mesh"
   ]
  },
  {
   "cell_type": "markdown",
   "id": "7689933f-58af-40b8-9d78-895531d74d6f",
   "metadata": {},
   "source": [
    "We can see more detailed information when we print the object:"
   ]
  },
  {
   "cell_type": "code",
   "execution_count": 7,
   "id": "4c496d0e-5325-4a10-8eee-5112aa87c4b3",
   "metadata": {},
   "outputs": [
    {
     "name": "stdout",
     "output_type": "stream",
     "text": [
      "Mesh: cube80_3plat_grains12_gsize40\n",
      "description: Cube of side length 80 with 12 grains of size 40 generated as regular parallelepipeda on three layers.\n",
      "geometry: cube\n",
      "length: 80\n",
      "ngrains: 12\n",
      "grain_size: 40\n",
      "\n"
     ]
    }
   ],
   "source": [
    "print(mesh)"
   ]
  },
  {
   "cell_type": "markdown",
   "id": "2b13e874-a44d-4d3b-b402-8a41b2426f0f",
   "metadata": {},
   "source": [
    "## Write the mesh\n",
    "\n",
    "The `write` method downloads the mesh from Zenodo and saves it under the given name (which can be a relative or absolute path to save the mesh in a different directory than the current working directory) or it copies it to the requested location if the mesh is available locally as part of the package:"
   ]
  },
  {
   "cell_type": "code",
   "execution_count": 8,
   "id": "bf797048-f8c7-448d-8369-a04bd385c8d4",
   "metadata": {},
   "outputs": [],
   "source": [
    "mesh.write(\"mesh.fly\")"
   ]
  },
  {
   "cell_type": "markdown",
   "id": "5346b25d-8df6-4ef2-8bc1-15bc92a30658",
   "metadata": {},
   "source": [
    "The next command gives and error because this mesh is not available in MED format."
   ]
  },
  {
   "cell_type": "code",
   "execution_count": 9,
   "id": "6265e28b-9ba1-41b6-84cc-d23ba8fa9441",
   "metadata": {
    "editable": true,
    "slideshow": {
     "slide_type": ""
    },
    "tags": [
     "raises-exception"
    ]
   },
   "outputs": [
    {
     "ename": "ValueError",
     "evalue": "Only `.fly` meshes are available.",
     "output_type": "error",
     "traceback": [
      "\u001b[31m---------------------------------------------------------------------------\u001b[39m",
      "\u001b[31mValueError\u001b[39m                                Traceback (most recent call last)",
      "\u001b[36mCell\u001b[39m\u001b[36m \u001b[39m\u001b[32mIn[9]\u001b[39m\u001b[32m, line 1\u001b[39m\n\u001b[32m----> \u001b[39m\u001b[32m1\u001b[39m \u001b[43mmesh\u001b[49m\u001b[43m.\u001b[49m\u001b[43mwrite\u001b[49m\u001b[43m(\u001b[49m\u001b[33;43m\"\u001b[39;49m\u001b[33;43mmesh.med\u001b[39;49m\u001b[33;43m\"\u001b[39;49m\u001b[43m)\u001b[49m\n",
      "\u001b[36mFile \u001b[39m\u001b[32m~/repo/mammos/mammos-mumag/src/mammos_mumag/mesh.py:79\u001b[39m, in \u001b[36mMesh.write\u001b[39m\u001b[34m(self, dest)\u001b[39m\n\u001b[32m     77\u001b[39m dest = pathlib.Path(dest).resolve()\n\u001b[32m     78\u001b[39m \u001b[38;5;28;01mif\u001b[39;00m dest.suffix != \u001b[33m\"\u001b[39m\u001b[33m.fly\u001b[39m\u001b[33m\"\u001b[39m:\n\u001b[32m---> \u001b[39m\u001b[32m79\u001b[39m     \u001b[38;5;28;01mraise\u001b[39;00m \u001b[38;5;167;01mValueError\u001b[39;00m(\u001b[33m\"\u001b[39m\u001b[33mOnly `.fly` meshes are available.\u001b[39m\u001b[33m\"\u001b[39m)\n\u001b[32m     80\u001b[39m \u001b[38;5;28;01mif\u001b[39;00m \u001b[38;5;28mself\u001b[39m._local:\n\u001b[32m     81\u001b[39m     shutil.copy(\u001b[38;5;28mself\u001b[39m._path, dest)\n",
      "\u001b[31mValueError\u001b[39m: Only `.fly` meshes are available."
     ]
    }
   ],
   "source": [
    "mesh.write(\"mesh.med\")"
   ]
  },
  {
   "cell_type": "markdown",
   "id": "004c740e-ef70-45c7-896f-95d84a2c3809",
   "metadata": {},
   "source": [
    "## Using local user-defined meshes\n",
    "\n",
    "The `Mesh` class can also be used to read already existing local meshes."
   ]
  },
  {
   "cell_type": "code",
   "execution_count": 10,
   "id": "955d6c9f-82da-4eef-81fd-e2d30757252f",
   "metadata": {},
   "outputs": [],
   "source": [
    "m2 = Mesh(\"./mesh.fly\")"
   ]
  },
  {
   "cell_type": "code",
   "execution_count": 11,
   "id": "54aebd44-e1a9-4738-bc7a-a9b14a7b6ee1",
   "metadata": {},
   "outputs": [
    {
     "data": {
      "text/plain": [
       "Mesh('mesh.fly')"
      ]
     },
     "execution_count": 11,
     "metadata": {},
     "output_type": "execute_result"
    }
   ],
   "source": [
    "m2"
   ]
  },
  {
   "cell_type": "markdown",
   "id": "cfbac26b-35f8-4071-bc61-6f805ba17f67",
   "metadata": {},
   "source": [
    "In this case, we do not infer any information."
   ]
  },
  {
   "cell_type": "code",
   "execution_count": 12,
   "id": "d06377c5-8428-4013-ad5b-f83002c80c76",
   "metadata": {},
   "outputs": [
    {
     "name": "stdout",
     "output_type": "stream",
     "text": [
      "Mesh: mesh.fly\n",
      "description: User defined mesh.\n",
      "\n"
     ]
    }
   ],
   "source": [
    "print(m2)"
   ]
  },
  {
   "cell_type": "markdown",
   "id": "2a5354ee-cea5-455f-b977-e7b32970d03e",
   "metadata": {},
   "source": [
    "If needed, it is possible to create a dictionary of information to be showed with the `print` function."
   ]
  },
  {
   "cell_type": "code",
   "execution_count": 13,
   "id": "ac394533-8c83-42b9-b739-6a975a4f87b4",
   "metadata": {},
   "outputs": [
    {
     "name": "stdout",
     "output_type": "stream",
     "text": [
      "Mesh: mesh.fly\n",
      "description: Local mesh I created.\n",
      "geometry: cube\n",
      "\n"
     ]
    }
   ],
   "source": [
    "m2.info = {\n",
    "    \"description\": \"Local mesh I created.\",\n",
    "    \"geometry\": \"cube\",\n",
    "}\n",
    "print(m2)"
   ]
  },
  {
   "cell_type": "markdown",
   "id": "9195be9a-f93d-4f97-9d16-5cd84994d7f1",
   "metadata": {},
   "source": [
    "The `write` method will create copies of this mesh (in the same format)."
   ]
  },
  {
   "cell_type": "code",
   "execution_count": 14,
   "id": "be2383d9-dd8e-46c7-bcc8-776f221da9c0",
   "metadata": {},
   "outputs": [],
   "source": [
    "m2.write(\"copy.fly\")"
   ]
  }
 ],
 "metadata": {
  "kernelspec": {
   "display_name": "Python 3 (ipykernel)",
   "language": "python",
   "name": "python3"
  },
  "language_info": {
   "codemirror_mode": {
    "name": "ipython",
    "version": 3
   },
   "file_extension": ".py",
   "mimetype": "text/x-python",
   "name": "python",
   "nbconvert_exporter": "python",
   "pygments_lexer": "ipython3",
   "version": "3.11.0"
  }
 },
 "nbformat": 4,
 "nbformat_minor": 5
}
