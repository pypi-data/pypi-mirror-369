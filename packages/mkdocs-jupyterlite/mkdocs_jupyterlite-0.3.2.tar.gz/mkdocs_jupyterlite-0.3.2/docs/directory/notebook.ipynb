{
 "cells": [
  {
   "cell_type": "markdown",
   "id": "e311f1e4",
   "metadata": {},
   "source": [
    "# My Awesome Notebook\n",
    "\n",
    "Cell outputs are preserved."
   ]
  },
  {
   "cell_type": "code",
   "execution_count": 1,
   "id": "2de0b9fe",
   "metadata": {},
   "outputs": [
    {
     "data": {
      "text/plain": [
       "3"
      ]
     },
     "execution_count": 1,
     "metadata": {},
     "output_type": "execute_result"
    }
   ],
   "source": [
    "pre_executed_cell = 1\n",
    "pre_executed_cell + 2"
   ]
  },
  {
   "cell_type": "markdown",
   "id": "a6b80ff4",
   "metadata": {},
   "source": [
    "## Installing packages from PyPI\n",
    "\n",
    "pure-python wheels can be installed liked normal from PyPI:"
   ]
  },
  {
   "cell_type": "code",
   "execution_count": null,
   "id": "604559f2",
   "metadata": {},
   "outputs": [],
   "source": [
    "%pip install ibis-framework[duckdb]"
   ]
  },
  {
   "cell_type": "markdown",
   "id": "91c46e5a",
   "metadata": {},
   "source": [
    "Then you can import them like normal:"
   ]
  },
  {
   "cell_type": "code",
   "execution_count": null,
   "id": "28f91d4a",
   "metadata": {},
   "outputs": [],
   "source": [
    "import ibis\n",
    "\n",
    "ibis.options.interactive = True\n",
    "\n",
    "ibis.memtable(\n",
    "    {\"s\": [\"a\", \"b\", \"a\", \"b\"], \"i\": [1, 2, 3, 4]},\n",
    ").group_by(\"s\").aggregate(mean_i=ibis._.i.sum())"
   ]
  },
  {
   "cell_type": "markdown",
   "id": "4e8d2cc5",
   "metadata": {},
   "source": [
    "## Installing from a wheel bundled at docs build time\n",
    "\n",
    "This is the `mkdocs.yml` for this notebook:\n",
    "\n",
    "```yaml\n",
    "# more stuff up here\n",
    "plugins:\n",
    "  - jupyterlite:\n",
    "      notebook_patterns: ['*.ipynb']\n",
    "      wheels:\n",
    "        - url: \"https://files.pythonhosted.org/packages/44/53/5ae386965f4fc73a06a868dc92a22e163e0b3a5c6fb449f67172746a912c/cowsay-3.0-py2.py3-none-any.whl\"\n",
    "        - command: \"cd src/package_not_on_pypi/ && uv build --out-dir {wheels_dir}\"\n",
    "```\n",
    "\n",
    "See the list of `wheels`? Each entry in that list can either be a `url` or a `command`.\n",
    "\n",
    "The `url` type is straightforward.\n",
    "\n",
    "This plugin runs the `command` in the shell, with \"{wheels_dir}\" replaced with a temp directory.\n",
    "The command is expected to place 0-N files ending with `.whl` in that directory,\n",
    "which will be included in the jupyterlite build.\n",
    "\n",
    "Because of that, we can install with `%pip`, and the underlying micropip\n",
    "will be able to find that wheel, instead of looking for it on PyPI."
   ]
  },
  {
   "cell_type": "code",
   "execution_count": null,
   "id": "a44ad13c",
   "metadata": {},
   "outputs": [],
   "source": [
    "%pip install package-not-on-pypi"
   ]
  },
  {
   "cell_type": "code",
   "execution_count": null,
   "id": "79bfc955",
   "metadata": {},
   "outputs": [],
   "source": [
    "import package_not_on_pypi\n",
    "\n",
    "package_not_on_pypi.hello()"
   ]
  }
 ],
 "metadata": {
  "kernelspec": {
   "display_name": "mkdocs-jupyterlite",
   "language": "python",
   "name": "python3"
  },
  "language_info": {
   "codemirror_mode": {
    "name": "ipython",
    "version": 3
   },
   "file_extension": ".py",
   "mimetype": "text/x-python",
   "name": "python",
   "nbconvert_exporter": "python",
   "pygments_lexer": "ipython3",
   "version": "3.10.16"
  }
 },
 "nbformat": 4,
 "nbformat_minor": 5
}
