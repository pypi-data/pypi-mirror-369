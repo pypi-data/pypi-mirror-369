{
 "cells": [
  {
   "cell_type": "markdown",
   "id": "05575a04",
   "metadata": {},
   "source": [
    "This is a simple tutorial to get you started using toomanycells (à la Python)."
   ]
  },
  {
   "cell_type": "markdown",
   "id": "1c61bf71",
   "metadata": {},
   "source": [
    "If you you don't have toomanycells installed or you have an old version, run the following command without the comment tags (#). Note that we run it twice to make sure that the latest version is installed."
   ]
  },
  {
   "cell_type": "code",
   "execution_count": 2,
   "id": "b1f4f3f2",
   "metadata": {},
   "outputs": [],
   "source": [
    "#!pip install toomanycells -U\n",
    "#!pip install toomanycells -U"
   ]
  },
  {
   "cell_type": "code",
   "execution_count": 2,
   "id": "12b563d8",
   "metadata": {},
   "outputs": [
    {
     "name": "stderr",
     "output_type": "stream",
     "text": [
      "/var/folders/zr/7914wbxs6lb7gpzwj46w3dl40000gn/T/ipykernel_4984/1979468475.py:2: DeprecationWarning: \n",
      "Pyarrow will become a required dependency of pandas in the next major release of pandas (pandas 3.0),\n",
      "(to allow more performant data types, such as the Arrow string type, and better interoperability with other libraries)\n",
      "but was not found to be installed on your system.\n",
      "If this would cause problems for you,\n",
      "please provide us feedback at https://github.com/pandas-dev/pandas/issues/54466\n",
      "        \n",
      "  import pandas as pd\n"
     ]
    }
   ],
   "source": [
    "import os\n",
    "import pandas as pd\n",
    "import toomanycells\n",
    "from toomanycells import TooManyCells as tmc"
   ]
  },
  {
   "cell_type": "markdown",
   "id": "a7def0b6",
   "metadata": {},
   "source": [
    "We are going to download the data from the peripheral blood mononuclear cells scanpy [tutorial](https://scanpy.readthedocs.io/en/stable/tutorials/basics/clustering-2017.html)."
   ]
  },
  {
   "cell_type": "code",
   "execution_count": 3,
   "id": "cadf04f6",
   "metadata": {},
   "outputs": [
    {
     "name": "stdout",
     "output_type": "stream",
     "text": [
      "  % Total    % Received % Xferd  Average Speed   Time    Time     Time  Current\n",
      "                                 Dload  Upload   Total   Spent    Left  Speed\n",
      "100 7443k  100 7443k    0     0  20.4M      0 --:--:-- --:--:-- --:--:-- 20.8M\n"
     ]
    }
   ],
   "source": [
    "storage = \"./demo_data\"\n",
    "if not os.path.exists(storage):\n",
    "    os.makedirs(storage)\n",
    "!curl https://cf.10xgenomics.com/samples/cell-exp/1.1.0/pbmc3k/pbmc3k_filtered_gene_bc_matrices.tar.gz -o demo_data/pbmc3k_filtered_gene_bc_matrices.tar.gz\n",
    "!cd demo_data; tar -xzf pbmc3k_filtered_gene_bc_matrices.tar.gz    "
   ]
  },
  {
   "cell_type": "markdown",
   "id": "7d833f06",
   "metadata": {},
   "source": [
    "Now we load the data using toomanycells."
   ]
  },
  {
   "cell_type": "code",
   "execution_count": 4,
   "id": "fc9821db",
   "metadata": {},
   "outputs": [
    {
     "name": "stdout",
     "output_type": "stream",
     "text": [
      "Loading data from .mtx file.\n",
      "Note that we assume the format:\n",
      "genes=rows and cells=columns.\n",
      "Loading barcodes.tsv\n",
      "Loading genes.tsv\n",
      "AnnData object with n_obs × n_vars = 2700 × 32738\n",
      "    obs: 'sp_cluster', 'sp_path'\n"
     ]
    }
   ],
   "source": [
    "source_dir = os.path.join(\n",
    "    storage,\n",
    "    \"filtered_gene_bc_matrices/hg19/\")\n",
    "output = storage\n",
    "tmc_obj = tmc(source_dir,\n",
    "              output,\n",
    "              input_is_matrix_market=True)"
   ]
  },
  {
   "cell_type": "markdown",
   "id": "33d5618c",
   "metadata": {},
   "source": [
    "To facilitate the visualization, we'll annotate our cells with an arbitrary cell annotation file. Conveniently, toomanycells already includes one."
   ]
  },
  {
   "cell_type": "code",
   "execution_count": 5,
   "id": "7f7acb2f",
   "metadata": {},
   "outputs": [],
   "source": [
    "cell_annotations = toomanycells.load_metadata_for_demo()"
   ]
  },
  {
   "cell_type": "code",
   "execution_count": 6,
   "id": "f17706ae",
   "metadata": {},
   "outputs": [
    {
     "data": {
      "text/html": [
       "<div>\n",
       "<style scoped>\n",
       "    .dataframe tbody tr th:only-of-type {\n",
       "        vertical-align: middle;\n",
       "    }\n",
       "\n",
       "    .dataframe tbody tr th {\n",
       "        vertical-align: top;\n",
       "    }\n",
       "\n",
       "    .dataframe thead th {\n",
       "        text-align: right;\n",
       "    }\n",
       "</style>\n",
       "<table border=\"1\" class=\"dataframe\">\n",
       "  <thead>\n",
       "    <tr style=\"text-align: right;\">\n",
       "      <th></th>\n",
       "      <th>label</th>\n",
       "    </tr>\n",
       "  </thead>\n",
       "  <tbody>\n",
       "    <tr>\n",
       "      <th>AAACATACAACCAC-1</th>\n",
       "      <td>D</td>\n",
       "    </tr>\n",
       "    <tr>\n",
       "      <th>AAACATTGAGCTAC-1</th>\n",
       "      <td>E</td>\n",
       "    </tr>\n",
       "    <tr>\n",
       "      <th>AAACATTGATCAGC-1</th>\n",
       "      <td>A</td>\n",
       "    </tr>\n",
       "    <tr>\n",
       "      <th>AAACCGTGCTTCCG-1</th>\n",
       "      <td>B</td>\n",
       "    </tr>\n",
       "    <tr>\n",
       "      <th>AAACCGTGTATGCG-1</th>\n",
       "      <td>G</td>\n",
       "    </tr>\n",
       "    <tr>\n",
       "      <th>...</th>\n",
       "      <td>...</td>\n",
       "    </tr>\n",
       "    <tr>\n",
       "      <th>TTTCGAACTCTCAT-1</th>\n",
       "      <td>B</td>\n",
       "    </tr>\n",
       "    <tr>\n",
       "      <th>TTTCTACTGAGGCA-1</th>\n",
       "      <td>I</td>\n",
       "    </tr>\n",
       "    <tr>\n",
       "      <th>TTTCTACTTCCTCG-1</th>\n",
       "      <td>E</td>\n",
       "    </tr>\n",
       "    <tr>\n",
       "      <th>TTTGCATGAGAGGC-1</th>\n",
       "      <td>E</td>\n",
       "    </tr>\n",
       "    <tr>\n",
       "      <th>TTTGCATGCCTCAC-1</th>\n",
       "      <td>C</td>\n",
       "    </tr>\n",
       "  </tbody>\n",
       "</table>\n",
       "<p>2700 rows × 1 columns</p>\n",
       "</div>"
      ],
      "text/plain": [
       "                 label\n",
       "AAACATACAACCAC-1     D\n",
       "AAACATTGAGCTAC-1     E\n",
       "AAACATTGATCAGC-1     A\n",
       "AAACCGTGCTTCCG-1     B\n",
       "AAACCGTGTATGCG-1     G\n",
       "...                ...\n",
       "TTTCGAACTCTCAT-1     B\n",
       "TTTCTACTGAGGCA-1     I\n",
       "TTTCTACTTCCTCG-1     E\n",
       "TTTGCATGAGAGGC-1     E\n",
       "TTTGCATGCCTCAC-1     C\n",
       "\n",
       "[2700 rows x 1 columns]"
      ]
     },
     "execution_count": 6,
     "metadata": {},
     "output_type": "execute_result"
    }
   ],
   "source": [
    "cell_annotations"
   ]
  },
  {
   "cell_type": "code",
   "execution_count": 7,
   "id": "1b01a789",
   "metadata": {},
   "outputs": [],
   "source": [
    "#Column containing the cell annotations.\n",
    "ca_column = \"cell_annotations\"\n",
    "tmc_obj.update_cell_annotations(cell_annotations,\n",
    "                                ca_column)"
   ]
  },
  {
   "cell_type": "code",
   "execution_count": 8,
   "id": "86165174",
   "metadata": {},
   "outputs": [
    {
     "name": "stdout",
     "output_type": "stream",
     "text": [
      "Normalizing rows.\n",
      "The first iterations are typically slow.\n",
      "However, they tend to become faster as \n",
      "the size of the partition becomes smaller.\n",
      "Note that the number of iterations is\n",
      "only an estimate.\n"
     ]
    },
    {
     "name": "stderr",
     "output_type": "stream",
     "text": [
      "100%|█████████████████████████████| 73/73 [00:21<00:00,  3.40it/s]"
     ]
    },
    {
     "name": "stdout",
     "output_type": "stream",
     "text": [
      "Elapsed time for clustering: 21.55 seconds.\n"
     ]
    },
    {
     "name": "stderr",
     "output_type": "stream",
     "text": [
      "\n"
     ]
    }
   ],
   "source": [
    "tmc_obj.run_spectral_clustering()"
   ]
  },
  {
   "cell_type": "code",
   "execution_count": 9,
   "id": "31e30e52",
   "metadata": {},
   "outputs": [
    {
     "name": "stdout",
     "output_type": "stream",
     "text": [
      "DiGraph with 73 nodes and 72 edges\n",
      "Elapsed time for plotting: 0.20 seconds.\n"
     ]
    }
   ],
   "source": [
    "tmc_obj.store_outputs()"
   ]
  },
  {
   "cell_type": "markdown",
   "id": "7c65caf3",
   "metadata": {},
   "source": [
    "Note that the AnnData object now possesses two new columns. The first one is \"sp_cluster\", which indicates the cluster membership for each cell. The second is \"sp_path\", which shows the path that has to be taken, starting from the root node 0, to reach the leaf node cluster."
   ]
  },
  {
   "cell_type": "code",
   "execution_count": 10,
   "id": "21a78c0c",
   "metadata": {},
   "outputs": [
    {
     "data": {
      "text/html": [
       "<div>\n",
       "<style scoped>\n",
       "    .dataframe tbody tr th:only-of-type {\n",
       "        vertical-align: middle;\n",
       "    }\n",
       "\n",
       "    .dataframe tbody tr th {\n",
       "        vertical-align: top;\n",
       "    }\n",
       "\n",
       "    .dataframe thead th {\n",
       "        text-align: right;\n",
       "    }\n",
       "</style>\n",
       "<table border=\"1\" class=\"dataframe\">\n",
       "  <thead>\n",
       "    <tr style=\"text-align: right;\">\n",
       "      <th></th>\n",
       "      <th>sp_cluster</th>\n",
       "      <th>sp_path</th>\n",
       "      <th>cell_annotations</th>\n",
       "    </tr>\n",
       "    <tr>\n",
       "      <th>cell</th>\n",
       "      <th></th>\n",
       "      <th></th>\n",
       "      <th></th>\n",
       "    </tr>\n",
       "  </thead>\n",
       "  <tbody>\n",
       "    <tr>\n",
       "      <th>AAACATACAACCAC-1</th>\n",
       "      <td>72</td>\n",
       "      <td>72/60/29/14/6/2/0</td>\n",
       "      <td>D</td>\n",
       "    </tr>\n",
       "    <tr>\n",
       "      <th>AAACATTGAGCTAC-1</th>\n",
       "      <td>56</td>\n",
       "      <td>56/27/13/6/2/0</td>\n",
       "      <td>E</td>\n",
       "    </tr>\n",
       "    <tr>\n",
       "      <th>AAACATTGATCAGC-1</th>\n",
       "      <td>65</td>\n",
       "      <td>65/48/23/11/5/2/0</td>\n",
       "      <td>A</td>\n",
       "    </tr>\n",
       "    <tr>\n",
       "      <th>AAACCGTGCTTCCG-1</th>\n",
       "      <td>35</td>\n",
       "      <td>35/17/8/3/1/0</td>\n",
       "      <td>B</td>\n",
       "    </tr>\n",
       "    <tr>\n",
       "      <th>AAACCGTGTATGCG-1</th>\n",
       "      <td>64</td>\n",
       "      <td>64/32/15/7/3/1/0</td>\n",
       "      <td>G</td>\n",
       "    </tr>\n",
       "    <tr>\n",
       "      <th>...</th>\n",
       "      <td>...</td>\n",
       "      <td>...</td>\n",
       "      <td>...</td>\n",
       "    </tr>\n",
       "    <tr>\n",
       "      <th>TTTCGAACTCTCAT-1</th>\n",
       "      <td>43</td>\n",
       "      <td>43/21/10/4/1/0</td>\n",
       "      <td>B</td>\n",
       "    </tr>\n",
       "    <tr>\n",
       "      <th>TTTCTACTGAGGCA-1</th>\n",
       "      <td>56</td>\n",
       "      <td>56/27/13/6/2/0</td>\n",
       "      <td>I</td>\n",
       "    </tr>\n",
       "    <tr>\n",
       "      <th>TTTCTACTTCCTCG-1</th>\n",
       "      <td>57</td>\n",
       "      <td>57/28/13/6/2/0</td>\n",
       "      <td>E</td>\n",
       "    </tr>\n",
       "    <tr>\n",
       "      <th>TTTGCATGAGAGGC-1</th>\n",
       "      <td>47</td>\n",
       "      <td>47/23/11/5/2/0</td>\n",
       "      <td>E</td>\n",
       "    </tr>\n",
       "    <tr>\n",
       "      <th>TTTGCATGCCTCAC-1</th>\n",
       "      <td>61</td>\n",
       "      <td>61/30/14/6/2/0</td>\n",
       "      <td>C</td>\n",
       "    </tr>\n",
       "  </tbody>\n",
       "</table>\n",
       "<p>2700 rows × 3 columns</p>\n",
       "</div>"
      ],
      "text/plain": [
       "                  sp_cluster            sp_path cell_annotations\n",
       "cell                                                            \n",
       "AAACATACAACCAC-1          72  72/60/29/14/6/2/0                D\n",
       "AAACATTGAGCTAC-1          56     56/27/13/6/2/0                E\n",
       "AAACATTGATCAGC-1          65  65/48/23/11/5/2/0                A\n",
       "AAACCGTGCTTCCG-1          35      35/17/8/3/1/0                B\n",
       "AAACCGTGTATGCG-1          64   64/32/15/7/3/1/0                G\n",
       "...                      ...                ...              ...\n",
       "TTTCGAACTCTCAT-1          43     43/21/10/4/1/0                B\n",
       "TTTCTACTGAGGCA-1          56     56/27/13/6/2/0                I\n",
       "TTTCTACTTCCTCG-1          57     57/28/13/6/2/0                E\n",
       "TTTGCATGAGAGGC-1          47     47/23/11/5/2/0                E\n",
       "TTTGCATGCCTCAC-1          61     61/30/14/6/2/0                C\n",
       "\n",
       "[2700 rows x 3 columns]"
      ]
     },
     "execution_count": 10,
     "metadata": {},
     "output_type": "execute_result"
    }
   ],
   "source": [
    "tmc_obj.A.obs"
   ]
  },
  {
   "cell_type": "markdown",
   "id": "5f044aa6",
   "metadata": {},
   "source": [
    "After running the following block, go to your browser and enter localhost:9987"
   ]
  },
  {
   "cell_type": "code",
   "execution_count": null,
   "id": "eefe4a43",
   "metadata": {},
   "outputs": [
    {
     "name": "stdout",
     "output_type": "stream",
     "text": [
      "Once the app is running, just type in your browser \n",
      "        localhost:9987\n",
      "The app will start loading after pressing Enter.\n",
      "Press Enter to continue ...\n",
      "#0 building with \"desktop-linux\" instance using docker driver\n",
      "\n",
      "#1 [node internal] load build definition from Dockerfile\n",
      "#1 transferring dockerfile: 1.29kB done\n",
      "#1 DONE 0.0s\n",
      "\n",
      "#2 [node internal] load metadata for docker.io/library/node:18.7-buster\n",
      "#2 DONE 0.2s\n",
      "\n",
      "#3 [node internal] load .dockerignore\n",
      "#3 transferring context: 90B done\n",
      "#3 DONE 0.0s\n",
      "\n",
      "#4 [node  1/15] FROM docker.io/library/node:18.7-buster@sha256:347e3f2e173cfdc2b2dda9f2e5ca43eea4fb470b03bc54a07c8968742e2ba337\n",
      "#4 DONE 0.0s\n",
      "\n",
      "#5 [node internal] load build context\n",
      "#5 transferring context: 4.51kB done\n",
      "#5 DONE 0.0s\n",
      "\n",
      "#6 [node 14/15] WORKDIR /usr/app/\n",
      "#6 CACHED\n",
      "\n",
      "#7 [node  6/15] COPY ./react ./react\n",
      "#7 CACHED\n",
      "\n",
      "#8 [node  8/15] RUN chown -R 501:20 /usr/app\n",
      "#8 CACHED\n",
      "\n",
      "#9 [node  4/15] RUN id -u 501 || useradd --create-home --shell /bin/bash -g 20 -u 501 tmc-user\n",
      "#9 CACHED\n",
      "\n",
      "#10 [node  3/15] RUN id -u 501 || groupadd -f -g 20 tmc-user\n",
      "#10 CACHED\n",
      "\n",
      "#11 [node 12/15] RUN yarn install && yarn run build\n",
      "#11 CACHED\n",
      "\n",
      "#12 [node 10/15] RUN yarn install &&     yarn run build &&     cp -a dist/* /usr/app/node/static/\n",
      "#12 CACHED\n",
      "\n",
      "#13 [node  2/15] WORKDIR /usr/app\n",
      "#13 CACHED\n",
      "\n",
      "#14 [node 13/15] RUN chmod -R +x dist\n",
      "#14 CACHED\n",
      "\n",
      "#15 [node  5/15] RUN apt-get update && apt-get install -y     libpixman-1-dev     libcairo2-dev     libpangocairo-1.0-0     libpango1.0-dev\n",
      "#15 CACHED\n",
      "\n",
      "#16 [node 11/15] WORKDIR /usr/app/node\n",
      "#16 CACHED\n",
      "\n",
      "#17 [node  7/15] COPY ./node ./node\n",
      "#17 CACHED\n",
      "\n",
      "#18 [node  9/15] WORKDIR /usr/app/react\n",
      "#18 CACHED\n",
      "\n",
      "#19 [node 15/15] RUN cp -a /usr/app/node/* /usr/app/ &&     rm -r /usr/app/node &&     rm -r /usr/app/react\n",
      "#19 CACHED\n",
      "\n",
      "#20 [node] exporting to image\n",
      "#20 exporting layers done\n",
      "#20 writing image sha256:fb87a14c7e6f753e5249abcbf624360a5f5d9f27a47a0f795b4747fa78f4cf80 done\n",
      "#20 naming to docker.io/library/too-many-cells-js:latest done\n",
      "#20 DONE 0.0s\n"
     ]
    },
    {
     "name": "stderr",
     "output_type": "stream",
     "text": [
      " Container too-many-cells-interactive-postgres-1  Running\n"
     ]
    },
    {
     "name": "stdout",
     "output_type": "stream",
     "text": [
      "TRUNCATE TABLE\n",
      "yarn run v1.22.19\n",
      "$ node dist/server.js\n",
      "The app is running!\n"
     ]
    }
   ],
   "source": [
    "#Path to too-many-cells-interactive\n",
    "path_to_tmci = \"/Users/javier/Documents/too-many-cells-interactive\"\n",
    "#Column for cell annotations\n",
    "ca_column = \"cell_annotations\"\n",
    "#Port to use\n",
    "port = 9987\n",
    "tmc_obj.visualize_with_tmc_interactive(path_to_tmci,\n",
    "                                       ca_column,\n",
    "                                       port)"
   ]
  },
  {
   "cell_type": "markdown",
   "id": "8ddae83b",
   "metadata": {},
   "source": [
    "That's all folks.\n",
    "Javier Ruiz-Ramirez @ UHN April 2024"
   ]
  }
 ],
 "metadata": {
  "kernelspec": {
   "display_name": "Python 3 (ipykernel)",
   "language": "python",
   "name": "python3"
  },
  "language_info": {
   "codemirror_mode": {
    "name": "ipython",
    "version": 3
   },
   "file_extension": ".py",
   "mimetype": "text/x-python",
   "name": "python",
   "nbconvert_exporter": "python",
   "pygments_lexer": "ipython3",
   "version": "3.9.18"
  }
 },
 "nbformat": 4,
 "nbformat_minor": 5
}
