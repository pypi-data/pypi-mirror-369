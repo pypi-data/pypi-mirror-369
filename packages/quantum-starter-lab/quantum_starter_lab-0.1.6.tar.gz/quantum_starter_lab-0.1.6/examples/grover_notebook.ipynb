{
 "cells": [
  {
   "cell_type": "markdown",
   "metadata": {},
   "source": [
    "# Grover's Search Algorithm Demo\n",
    "\n",
    "This notebook demonstrates Grover's search algorithm using the `quantum-starter-lab` package.\n",
    "\n",
    "Grover's algorithm finds a 'marked' item in an unsorted database much faster than a classical computer.\n",
    "\n",
    "## What is Grover's Search Algorithm?\n",
    "\n",
    "Grover's algorithm is a quantum algorithm that can search an unsorted database of $N$ items in $O(\\sqrt{N})$ time, which is quadratically faster than the best classical algorithm. It works by amplifying the amplitude of the marked state.\n",
    "\n",
    "## How to Use This Notebook\n",
    "\n",
    "1.  Install the `quantum-starter-lab` package (if you haven't already): `pip install quantum-starter-lab`\n",
    "2.  Run the cells in order to see Grover's algorithm in action.\n",
    "3.  Modify the parameters to experiment with different numbers of qubits and marked items."
   ]
  },
  {
   "cell_type": "code",
   "execution_count": null,
   "metadata": {},
   "outputs": [],
   "source": [
    "# Import the necessary functions from the package\n",
    "from quantum_starter_lab.api import grover"
   ]
  },
  {
   "cell_type": "code",
   "execution_count": null,
   "metadata": {},
   "outputs": [],
   "source": [
    "# Run Grover's search demo with 3 qubits and marked item \"110\"\n",
    "results = grover(n_qubits=3, marked_item=\"110\", seed=42)\n",
    "\n",
    "# Print the explanation\n",
    "print(results.explanation)\n",
    "\n",
    "# Print the counts\n",
    "print(f\"Counts: {results.counts}\")"
   ]
  },
  {
   "cell_type": "code",
   "execution_count": null,
   "metadata": {},
   "outputs": [],
   "source": [
    "# Plot the results\n",
    "results.plot()"
   ]
  }
 ],
 "metadata": {
  "kernelspec": {
   "display_name": "Python 3",
   "language": "python",
   "name": "python3"
  },
  "language_info": {
   "codemirror_mode": {
    "name": "ipython",
    "version": 3
   },
   "file_extension": ".py",
   "mimetype": "text/x-python",
   "name": "python",
   "nbconvert_exporter": "python",
   "pygments_lexer": "ipython3",
   "version": "3.8.5"
  }
 },
 "nbformat": 4,
 "nbformat_minor": 4
}