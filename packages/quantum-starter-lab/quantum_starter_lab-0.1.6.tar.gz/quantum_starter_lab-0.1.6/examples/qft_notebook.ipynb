{
 "cells": [
  {
   "cell_type": "markdown",
   "metadata": {},
   "source": [
    "# Quantum Fourier Transform (QFT) Demo\n",
    "\n",
    "This notebook demonstrates the Quantum Fourier Transform (QFT) algorithm using the `quantum-starter-lab` package.\n",
    "\n",
    "The QFT is a fundamental algorithm in quantum computing, used in Shor's algorithm for factoring and quantum phase estimation.\n",
    "\n",
    "## What is the QFT?\n",
    "\n",
    "The QFT transforms a quantum state into its frequency domain representation. It's analogous to the classical Fourier transform but operates on quantum states.\n",
    "\n",
    "## How to Use This Notebook\n",
    "\n",
    "1.  Install the `quantum-starter-lab` package (if you haven't already): `pip install quantum-starter-lab`\n",
    "2.  Run the cells in order to see the QFT in action.\n",
    "3.  Modify the parameters to experiment with different numbers of qubits and noise models."
   ]
  },
  {
   "cell_type": "code",
   "execution_count": null,
   "metadata": {},
   "outputs": [],
   "source": [
    "# Import the necessary functions from the package\n",
    "from quantum_starter_lab.api import make_qft"
   ]
  },
  {
   "cell_type": "code",
   "execution_count": null,
   "metadata": {},
   "outputs": [],
   "source": [
    "# Run the QFT demo with 3 qubits\n",
    "results = make_qft(n_qubits=3, seed=42)\n",
    "\n",
    "# Print the explanation\n",
    "print(results.explanation)\n",
    "\n",
    "# Print the counts\n",
    "print(f\"Counts: {results.counts}\")"
   ]
  },
  {
   "cell_type": "code",
   "execution_count": null,
   "metadata": {},
   "outputs": [],
   "source": [
    "# Plot the results\n",
    "results.plot()"
   ]
  },
  {
   "cell_type": "code",
   "execution_count": null,
   "metadata": {},
   "outputs": [],
   "source": [
    "# Run the QFT demo with noise\n",
    "noisy_results = make_qft(n_qubits=3, noise_name=\"bit_flip\", p=0.1, seed=42)\n",
    "\n",
    "# Print the explanation\n",
    "print(noisy_results.explanation)\n",
    "\n",
    "# Print the counts\n",
    "print(f\"Counts: {noisy_results.counts}\")"
   ]
  },
  {
   "cell_type": "code",
   "execution_count": null,
   "metadata": {},
   "outputs": [],
   "source": [
    "# Plot the noisy results\n",
    "noisy_results.plot()"
   ]
  }
 ],
 "metadata": {
  "kernelspec": {
   "display_name": "Python 3",
   "language": "python",
   "name": "python3"
  },
  "language_info": {
   "codemirror_mode": {
    "name": "ipython",
    "version": 3
   },
   "file_extension": ".py",
   "mimetype": "text/x-python",
   "name": "python",
   "nbconvert_exporter": "python",
   "pygments_lexer": "ipython3",
   "version": "3.8.5"
  }
 },
 "nbformat": 4,
 "nbformat_minor": 4
}