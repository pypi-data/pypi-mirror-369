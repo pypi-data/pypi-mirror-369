{
 "cells": [
  {
   "cell_type": "markdown",
   "metadata": {},
   "source": [
    "# Bernstein-Vazirani Algorithm Demo\n",
    "\n",
    "This notebook demonstrates the Bernstein-Vazirani algorithm using the `quantum-starter-lab` package.\n",
    "\n",
    "The Bernstein-Vazirani algorithm finds a secret string hidden in a function.\n",
    "\n",
    "## What is the Bernstein-Vazirani Algorithm?\n",
    "\n",
    "The Bernstein-Vazirani algorithm is a quantum algorithm that finds a secret string $s$ of length $n$ by querying a function $f(x) = s \\cdot x$ (where $\\cdot$ is the bitwise dot product modulo 2) only once. Classically, this would require $n$ queries.\n",
    "\n",
    "## How to Use This Notebook\n",
    "\n",
    "1.  Install the `quantum-starter-lab` package (if you haven't already): `pip install quantum-starter-lab`\n",
    "2.  Run the cells in order to see the Bernstein-Vazirani algorithm in action.\n",
    "3.  Modify the parameters to experiment with different numbers of qubits and secret strings."
   ]
  },
  {
   "cell_type": "code",
   "execution_count": null,
   "metadata": {},
   "outputs": [],
   "source": [
    "# Import the necessary functions from the package\n",
    "from quantum_starter_lab.api import bernstein_vazirani"
   ]
  },
  {
   "cell_type": "code",
   "execution_count": null,
   "metadata": {},
   "outputs": [],
   "source": [
    "# Run the Bernstein-Vazirani demo with 4 qubits and secret string \"1011\"\n",
    "results = bernstein_vazirani(n_qubits=4, secret_string=\"1011\", seed=42)\n",
    "\n",
    "# Print the explanation\n",
    "print(results.explanation)\n",
    "\n",
    "# Print the counts\n",
    "print(f\"Counts: {results.counts}\")"
   ]
  },
  {
   "cell_type": "code",
   "execution_count": null,
   "metadata": {},
   "outputs": [],
   "source": [
    "# Plot the results\n",
    "results.plot()"
   ]
  }
 ],
 "metadata": {
  "kernelspec": {
   "display_name": "Python 3",
   "language": "python",
   "name": "python3"
  },
  "language_info": {
   "codemirror_mode": {
    "name": "ipython",
    "version": 3
   },
   "file_extension": ".py",
   "mimetype": "text/x-python",
   "name": "python",
   "nbconvert_exporter": "python",
   "pygments_lexer": "ipython3",
   "version": "3.8.5"
  }
 },
 "nbformat": 4,
 "nbformat_minor": 4
}