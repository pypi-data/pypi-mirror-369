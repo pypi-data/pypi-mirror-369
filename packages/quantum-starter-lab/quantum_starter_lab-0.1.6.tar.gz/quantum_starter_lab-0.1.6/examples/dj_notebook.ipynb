{
 "cells": [
  {
   "cell_type": "markdown",
   "metadata": {},
   "source": [
    "# Deutsch-Jozsa Algorithm Demo\n",
    "\n",
    "This notebook demonstrates the Deutsch-Jozsa algorithm using the `quantum-starter-lab` package.\n",
    "\n",
    "The Deutsch-Jozsa algorithm determines whether a function is constant or balanced in one query.\n",
    "\n",
    "## What is the Deutsch-Jozsa Algorithm?\n",
    "\n",
    "The Deutsch-Jozsa algorithm is a quantum algorithm that solves the problem of determining whether a function is constant or balanced. A function is constant if it returns the same value for all inputs, and balanced if it returns 0 for half of the inputs and 1 for the other half.\n",
    "\n",
    "## How to Use This Notebook\n",
    "\n",
    "1.  Install the `quantum-starter-lab` package (if you haven't already): `pip install quantum-starter-lab`\n",
    "2.  Run the cells in order to see the Deutsch-Jozsa algorithm in action.\n",
    "3.  Modify the parameters to experiment with different numbers of qubits and oracle types."
   ]
  },
  {
   "cell_type": "code",
   "execution_count": null,
   "metadata": {},
   "outputs": [],
   "source": [
    "# Import the necessary functions from the package\n",
    "from quantum_starter_lab.api import deutsch_jozsa"
   ]
  },
  {
   "cell_type": "code",
   "execution_count": null,
   "metadata": {},
   "outputs": [],
   "source": [
    "# Run the Deutsch-Jozsa demo for a constant function with 3 qubits\n",
    "results = deutsch_jozsa(n_qubits=3, oracle_type=\"constant\", seed=42)\n",
    "\n",
    "# Print the explanation\n",
    "print(results.explanation)\n",
    "\n",
    "# Print the counts\n",
    "print(f\"Counts: {results.counts}\")"
   ]
  },
  {
   "cell_type": "code",
   "execution_count": null,
   "metadata": {},
   "outputs": [],
   "source": [
    "# Plot the results\n",
    "results.plot()"
   ]
  },
  {
   "cell_type": "code",
   "execution_count": null,
   "metadata": {},
   "outputs": [],
   "source": [
    "# Run the Deutsch-Jozsa demo for a balanced function with 3 qubits\n",
    "results = deutsch_jozsa(n_qubits=3, oracle_type=\"balanced\", seed=42)\n",
    "\n",
    "# Print the explanation\n",
    "print(results.explanation)\n",
    "\n",
    "# Print the counts\n",
    "print(f\"Counts: {results.counts}\")"
   ]
  },
  {
   "cell_type": "code",
   "execution_count": null,
   "metadata": {},
   "outputs": [],
   "source": [
    "# Plot the results\n",
    "results.plot()"
   ]
  }
 ],
 "metadata": {
  "kernelspec": {
   "display_name": "Python 3",
   "language": "python",
   "name": "python3"
  },
  "language_info": {
   "codemirror_mode": {
    "name": "ipython",
    "version": 3
   },
   "file_extension": ".py",
   "mimetype": "text/x-python",
   "name": "python",
   "nbconvert_exporter": "python",
   "pygments_lexer": "ipython3",
   "version": "3.8.5"
  }
 },
 "nbformat": 4,
 "nbformat_minor": 4
}