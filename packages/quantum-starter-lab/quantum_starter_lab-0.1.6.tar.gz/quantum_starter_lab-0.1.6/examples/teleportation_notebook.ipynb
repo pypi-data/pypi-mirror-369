{
 "cells": [
  {
   "cell_type": "markdown",
   "metadata": {},
   "source": [
    "# Quantum Teleportation Demo\n",
    "\n",
    "This notebook demonstrates quantum teleportation using the `quantum-starter-lab` package.\n",
    "\n",
    "Quantum teleportation allows one qubit to be sent to another via entanglement.\n",
    "\n",
    "## What is Quantum Teleportation?\n",
    "\n",
    "Quantum teleportation is a process by which the state of a qubit can be transmitted from one location to another, with the help of classical communication and previously shared quantum entanglement between the sending and receiving location.\n",
    "\n",
    "## How to Use This Notebook\n",
    "\n",
    "1.  Install the `quantum-starter-lab` package (if you haven't already): `pip install quantum-starter-lab`\n",
    "2.  Run the cells in order to see quantum teleportation in action.\n",
    "3.  Modify the parameters to experiment with different initial state angles."
   ]
  },
  {
   "cell_type": "code",
   "execution_count": null,
   "metadata": {},
   "outputs": [],
   "source": [
    "# Import the necessary functions from the package\n",
    "from quantum_starter_lab.api import teleportation\n",
    "import math"
   ]
  },
  {
   "cell_type": "code",
   "execution_count": null,
   "metadata": {},
   "outputs": [],
   "source": [
    "# Run the teleportation demo with an initial state angle of π (|1⟩ state)\n",
    "results = teleportation(initial_state_angle=math.pi, seed=42)\n",
    "\n",
    "# Print the explanation\n",
    "print(results.explanation)\n",
    "\n",
    "# Print the counts\n",
    "print(f\"Counts: {results.counts}\")"
   ]
  },
  {
   "cell_type": "code",
   "execution_count": null,
   "metadata": {},
   "outputs": [],
   "source": [
    "# Plot the results\n",
    "results.plot()"
   ]
  }
 ],
 "metadata": {
  "kernelspec": {
   "display_name": "Python 3",
   "language": "python",
   "name": "python3"
  },
  "language_info": {
   "codemirror_mode": {
    "name": "ipython",
    "version": 3
   },
   "file_extension": ".py",
   "mimetype": "text/x-python",
   "name": "python",
   "nbconvert_exporter": "python",
   "pygments_lexer": "ipython3",
   "version": "3.8.5"
  }
 },
 "nbformat": 4,
 "nbformat_minor": 4
}