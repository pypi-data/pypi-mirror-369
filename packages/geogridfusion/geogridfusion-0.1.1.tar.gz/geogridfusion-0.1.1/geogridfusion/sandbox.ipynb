{
 "cells": [
  {
   "cell_type": "code",
   "execution_count": 1,
   "metadata": {},
   "outputs": [],
   "source": [
    "import geogridfusion\n",
    "import pvdeg\n",
    "import pvlib"
   ]
  },
  {
   "cell_type": "code",
   "execution_count": 2,
   "metadata": {},
   "outputs": [
    {
     "name": "stdout",
     "output_type": "stream",
     "text": [
      "Starting Postgres subprocess...\n",
      "PostgreSQL connection established after 2.70 seconds.\n",
      "postgis already installed\n"
     ]
    }
   ],
   "source": [
    "conn = geogridfusion.start()"
   ]
  },
  {
   "cell_type": "code",
   "execution_count": null,
   "metadata": {},
   "outputs": [],
   "source": [
    "import geogridfusion.queries\n",
    "\n",
    "\n",
    "geogridfusion.queries.rows_by_id(conn=conn, ids=[1, 2, 3, 4])"
   ]
  },
  {
   "cell_type": "code",
   "execution_count": null,
   "metadata": {},
   "outputs": [],
   "source": [
    "geogridfusion.initialize_tables(conn)"
   ]
  },
  {
   "cell_type": "code",
   "execution_count": null,
   "metadata": {},
   "outputs": [],
   "source": [
    "sw, sm = pvlib.iotools.get_solrad(station=\"abq\", start=\"2022-01-01\", end=\"2022-01-05\")"
   ]
  },
  {
   "cell_type": "code",
   "execution_count": null,
   "metadata": {},
   "outputs": [],
   "source": [
    "geogridfusion.store_single(\n",
    "    conn=conn,\n",
    "    weather_df=pvdeg.weather.map_weather(sw),\n",
    "    meta=pvdeg.weather.map_meta(sm),\n",
    "    source_name=\"solrad\",\n",
    "    tmy=False,\n",
    ")"
   ]
  },
  {
   "cell_type": "code",
   "execution_count": null,
   "metadata": {},
   "outputs": [],
   "source": [
    "client = pvdeg.geospatial.start_dask()\n",
    "\n",
    "coords = [(45 + i, -115 + k) for i in range(5) for k in range(5)]\n",
    "\n",
    "geo_weather, geo_meta, failed = pvdeg.weather.weather_distributed(\n",
    "    database=\"PVGIS\", coords=coords\n",
    ")\n",
    "\n",
    "client.close()"
   ]
  },
  {
   "cell_type": "code",
   "execution_count": null,
   "metadata": {},
   "outputs": [],
   "source": [
    "weather, meta = pvdeg.weather.get(database=\"PVGIS\", id=(45, -115))"
   ]
  },
  {
   "cell_type": "code",
   "execution_count": null,
   "metadata": {},
   "outputs": [],
   "source": [
    "geogridfusion.store_single(\n",
    "    conn=conn, weather_df=weather, meta=meta, tmy=True, source_res=\"pvgis\"\n",
    ")"
   ]
  },
  {
   "cell_type": "markdown",
   "metadata": {},
   "source": [
    "When we run the cell below, we see that we will get a collsion from the data inserted above.\n",
    "\n",
    "We want to rewrite this function so it can be done async or with multiprocessing."
   ]
  },
  {
   "cell_type": "code",
   "execution_count": null,
   "metadata": {},
   "outputs": [],
   "source": [
    "for i in range(25):\n",
    "    w = geo_weather.isel(gid=i).drop_vars((\"gid\",)).to_pandas()\n",
    "    m = geo_meta.iloc[i].to_dict()\n",
    "\n",
    "    geogridfusion.store_single(\n",
    "        conn=conn, weather_df=w, meta=m, tmy=True, source_name=\"pvgis\"\n",
    "    )"
   ]
  },
  {
   "cell_type": "markdown",
   "metadata": {},
   "source": [
    "We can easily get one output from what we have written so far. We need to be able to read MANY into dataset form."
   ]
  },
  {
   "cell_type": "code",
   "execution_count": null,
   "metadata": {},
   "outputs": [],
   "source": [
    "geogridfusion.sources(conn)"
   ]
  },
  {
   "cell_type": "code",
   "execution_count": null,
   "metadata": {},
   "outputs": [],
   "source": [
    "lw, lm = geogridfusion.load_single(\n",
    "    conn=conn,\n",
    "    latitude=sm[\"latitude\"] + 10,\n",
    "    longitude=sm[\"longitude\"],\n",
    "    source_name=\"solrad\",\n",
    ")\n",
    "\n",
    "lw.shape"
   ]
  },
  {
   "cell_type": "code",
   "execution_count": 7,
   "metadata": {},
   "outputs": [],
   "source": [
    "gw, gm = geogridfusion.load_many(\n",
    "    conn=conn,\n",
    "    source_name=\"pvgis\",\n",
    "    spatial_search=True,\n",
    "    spatial_search_distance_floor=140 * 1000,\n",
    "    spatial_search_latitude0=45,\n",
    "    spatial_search_longitude0=-114,\n",
    ")"
   ]
  },
  {
   "cell_type": "code",
   "execution_count": 8,
   "metadata": {},
   "outputs": [
    {
     "data": {
      "text/html": [
       "<div>\n",
       "<style scoped>\n",
       "    .dataframe tbody tr th:only-of-type {\n",
       "        vertical-align: middle;\n",
       "    }\n",
       "\n",
       "    .dataframe tbody tr th {\n",
       "        vertical-align: top;\n",
       "    }\n",
       "\n",
       "    .dataframe thead th {\n",
       "        text-align: right;\n",
       "    }\n",
       "</style>\n",
       "<table border=\"1\" class=\"dataframe\">\n",
       "  <thead>\n",
       "    <tr style=\"text-align: right;\">\n",
       "      <th></th>\n",
       "      <th>latitude</th>\n",
       "      <th>longitude</th>\n",
       "      <th>irradiance_time_offset</th>\n",
       "      <th>altitude</th>\n",
       "      <th>wind_height</th>\n",
       "      <th>Source</th>\n",
       "    </tr>\n",
       "  </thead>\n",
       "  <tbody>\n",
       "    <tr>\n",
       "      <th>3</th>\n",
       "      <td>45.0</td>\n",
       "      <td>-114.0</td>\n",
       "      <td>0.0</td>\n",
       "      <td>2076.0</td>\n",
       "      <td>10</td>\n",
       "      <td>PVGIS</td>\n",
       "    </tr>\n",
       "    <tr>\n",
       "      <th>5</th>\n",
       "      <td>45.0</td>\n",
       "      <td>-112.0</td>\n",
       "      <td>0.0</td>\n",
       "      <td>2219.0</td>\n",
       "      <td>10</td>\n",
       "      <td>PVGIS</td>\n",
       "    </tr>\n",
       "    <tr>\n",
       "      <th>12</th>\n",
       "      <td>47.0</td>\n",
       "      <td>-115.0</td>\n",
       "      <td>0.0</td>\n",
       "      <td>1515.0</td>\n",
       "      <td>10</td>\n",
       "      <td>PVGIS</td>\n",
       "    </tr>\n",
       "    <tr>\n",
       "      <th>14</th>\n",
       "      <td>47.0</td>\n",
       "      <td>-113.0</td>\n",
       "      <td>0.0</td>\n",
       "      <td>1281.0</td>\n",
       "      <td>10</td>\n",
       "      <td>PVGIS</td>\n",
       "    </tr>\n",
       "    <tr>\n",
       "      <th>23</th>\n",
       "      <td>49.0</td>\n",
       "      <td>-114.0</td>\n",
       "      <td>0.0</td>\n",
       "      <td>1549.0</td>\n",
       "      <td>10</td>\n",
       "      <td>PVGIS</td>\n",
       "    </tr>\n",
       "    <tr>\n",
       "      <th>26</th>\n",
       "      <td>49.0</td>\n",
       "      <td>-111.0</td>\n",
       "      <td>0.0</td>\n",
       "      <td>1056.0</td>\n",
       "      <td>10</td>\n",
       "      <td>PVGIS</td>\n",
       "    </tr>\n",
       "  </tbody>\n",
       "</table>\n",
       "</div>"
      ],
      "text/plain": [
       "    latitude  longitude  irradiance_time_offset  altitude  wind_height Source\n",
       "3       45.0     -114.0                     0.0    2076.0           10  PVGIS\n",
       "5       45.0     -112.0                     0.0    2219.0           10  PVGIS\n",
       "12      47.0     -115.0                     0.0    1515.0           10  PVGIS\n",
       "14      47.0     -113.0                     0.0    1281.0           10  PVGIS\n",
       "23      49.0     -114.0                     0.0    1549.0           10  PVGIS\n",
       "26      49.0     -111.0                     0.0    1056.0           10  PVGIS"
      ]
     },
     "execution_count": 8,
     "metadata": {},
     "output_type": "execute_result"
    }
   ],
   "source": [
    "gm"
   ]
  },
  {
   "cell_type": "code",
   "execution_count": null,
   "metadata": {},
   "outputs": [],
   "source": [
    "gm"
   ]
  },
  {
   "cell_type": "code",
   "execution_count": null,
   "metadata": {},
   "outputs": [],
   "source": []
  }
 ],
 "metadata": {
  "kernelspec": {
   "display_name": "geogridfusion-dbs",
   "language": "python",
   "name": "python3"
  },
  "language_info": {
   "codemirror_mode": {
    "name": "ipython",
    "version": 3
   },
   "file_extension": ".py",
   "mimetype": "text/x-python",
   "name": "python",
   "nbconvert_exporter": "python",
   "pygments_lexer": "ipython3",
   "version": "3.12.9"
  }
 },
 "nbformat": 4,
 "nbformat_minor": 2
}
