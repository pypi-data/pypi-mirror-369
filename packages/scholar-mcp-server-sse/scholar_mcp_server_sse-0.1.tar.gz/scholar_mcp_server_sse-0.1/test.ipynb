{
 "cells": [
  {
   "cell_type": "code",
   "execution_count": 1,
   "id": "2bf88300",
   "metadata": {},
   "outputs": [
    {
     "name": "stderr",
     "output_type": "stream",
     "text": [
      "2025-08-13 16:54:34,757 - INFO - Enabling proxies: http=http://127.0.0.1:17890 https=http://127.0.0.1:17890\n",
      "2025-08-13 16:54:35,390 - INFO - Proxy works! IP address: 210.45.70.84\n",
      "2025-08-13 16:54:35,593 - INFO - Proxy setup successfully\n"
     ]
    }
   ],
   "source": [
    "from scholarly import scholarly, ProxyGenerator\n",
    "import logging\n",
    "\n",
    "logging.basicConfig(level=logging.INFO, format='%(asctime)s - %(levelname)s - %(message)s')\n",
    "\n",
    "pg = ProxyGenerator()\n",
    "\n",
    "success = pg.SingleProxy(http=\"http://127.0.0.1:17890\", https=\"http://127.0.0.1:17890\")\n",
    "# success = pg.SingleProxy(http=None, https=None)\n",
    "if not success:\n",
    "    logging.warning(\"Failed to set up proxy.\")\n",
    "    # success = pg.FreeProxies()\n",
    "    scholarly.use_proxy(pg)\n",
    "\n",
    "    print(\"Failed to set up proxy.\")\n",
    "    # success = pg.FreeProxies()\n",
    "    scholarly.use_proxy(pg)"
   ]
  },
  {
   "cell_type": "code",
   "execution_count": 2,
   "id": "0924749b",
   "metadata": {},
   "outputs": [
    {
     "name": "stderr",
     "output_type": "stream",
     "text": [
      "2025-08-13 17:08:43,170 - INFO - Getting https://scholar.google.com/scholar?hl=en&q=model%20based%20testing&as_vis=0&as_sdt=0,33\n",
      "2025-08-13 17:08:45,490 - INFO - HTTP Request: GET https://scholar.google.com/scholar?hl=en&q=model%20based%20testing&as_vis=0&as_sdt=0,33 \"HTTP/1.1 200 OK\"\n"
     ]
    }
   ],
   "source": [
    "results = scholarly.search_pubs(\"model based testing\")"
   ]
  },
  {
   "cell_type": "code",
   "execution_count": 3,
   "id": "d61cac63",
   "metadata": {},
   "outputs": [
    {
     "name": "stdout",
     "output_type": "stream",
     "text": [
      "{\n",
      "  \"container_type\": \"Publication\",\n",
      "  \"source\": \"PUBLICATION_SEARCH_SNIPPET\",\n",
      "  \"bib\": {\n",
      "    \"title\": \"Practical model-based testing: a tools approach\",\n",
      "    \"author\": [\n",
      "      \"M Utting\",\n",
      "      \"B Legeard\"\n",
      "    ],\n",
      "    \"pub_year\": \"2010\",\n",
      "    \"venue\": \"NA\",\n",
      "    \"abstract\": \"benefits and limitations of modelbased testing and its impact on the software life cycle. But  before that, let us look at a realistic example of model-based testing to get a clearer picture of\"\n",
      "  },\n",
      "  \"filled\": false,\n",
      "  \"gsrank\": 1,\n",
      "  \"pub_url\": \"https://books.google.com/books?hl=en&lr=&id=8hAGtY4-oOoC&oi=fnd&pg=PP1&dq=model+based+testing&ots=OU7sLgCLES&sig=D1G6u8YU7Thp4Rh_ebF493RGziU\",\n",
      "  \"author_id\": [\n",
      "    \"\",\n",
      "    \"\"\n",
      "  ],\n",
      "  \"url_scholarbib\": \"/scholar?hl=en&q=info:qWuqXtA5S0cJ:scholar.google.com/&output=cite&scirp=0&hl=en\",\n",
      "  \"url_add_sclib\": \"/citations?hl=en&xsrf=&continue=/scholar%3Fq%3Dmodel%2Bbased%2Btesting%26hl%3Den%26as_sdt%3D0,33&citilm=1&update_op=library_add&info=qWuqXtA5S0cJ&ei=HVacaNmZErPM6rQP2abniAg&json=\",\n",
      "  \"num_citations\": 1969,\n",
      "  \"citedby_url\": \"/scholar?cites=5137263367050390441&as_sdt=5,33&sciodt=0,33&hl=en\",\n",
      "  \"url_related_articles\": \"/scholar?q=related:qWuqXtA5S0cJ:scholar.google.com/&scioq=model+based+testing&hl=en&as_sdt=0,33\"\n",
      "}\n"
     ]
    }
   ],
   "source": [
    "import json\n",
    "\n",
    "for i, result in enumerate(results):\n",
    "    if i >= 1:  # Limit to first 1 results\n",
    "        break\n",
    "    print(json.dumps(result, indent=2))"
   ]
  }
 ],
 "metadata": {
  "kernelspec": {
   "display_name": "duckduckgo-mcp-server",
   "language": "python",
   "name": "python3"
  },
  "language_info": {
   "codemirror_mode": {
    "name": "ipython",
    "version": 3
   },
   "file_extension": ".py",
   "mimetype": "text/x-python",
   "name": "python",
   "nbconvert_exporter": "python",
   "pygments_lexer": "ipython3",
   "version": "3.13.2"
  }
 },
 "nbformat": 4,
 "nbformat_minor": 5
}
