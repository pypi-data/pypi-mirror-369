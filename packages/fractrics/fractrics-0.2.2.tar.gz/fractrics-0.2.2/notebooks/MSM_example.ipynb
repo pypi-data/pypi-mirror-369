{
 "cells": [
  {
   "cell_type": "markdown",
   "id": "bcb91eac",
   "metadata": {},
   "source": [
    "# Example usage\n",
    "\n",
    "The main tool in fractrics is the MSM class, an implementation of the univariate [Markov Switching Multifractal Model](https://en.wikipedia.org/wiki/Markov_switching_multifractal). The logaritmic difference between observations is modeled as the noise-adjusted square root of the product of a chosen number of latent volatility components, each following the dynamics of discrete first order markov chains, whose transition depends on geometrically-spaced Poisson arrivals, and an unconditional term, effectively being the unconditional volatility.\n",
    "\n",
    "Such structure effectively captures the behaviour of time series with fat tails, hyperbolic correlation decay, and multifractal moments, such as the returns of many financial assets.\n",
    "\n",
    "The implementation is made in JAX, simplifying parallelization of the code. Moreover, following from [this](https://link.springer.com/article/10.1023/A:1007425814087) paper, the memory complexity of the forward algorithm is reduced, due to the factorization of latent states.\n",
    "\n",
    "To use the model, start with an example time series. Note that the model is only defined for positive time series (as it was created to model prices of financial assets)."
   ]
  },
  {
   "cell_type": "code",
   "execution_count": 1,
   "id": "d46bd0c2",
   "metadata": {},
   "outputs": [],
   "source": [
    "from fractrics.time_series.MSM import MSM\n",
    "from fractrics.utilities import summary\n",
    "import jax.numpy as jnp\n",
    "import numpy as np\n",
    "\n",
    "ts_test = np.loadtxt(\"data/msm_simulation.csv\")[:50]"
   ]
  },
  {
   "cell_type": "markdown",
   "id": "cd764185",
   "metadata": {},
   "source": [
    "Then initialize the model. It requires the following hyperparameters:\n",
    " - `n_latent`: how many volatility components, integer.\n",
    " - `marg_prob_mass`: the probability mass of the marginal distribution of the latent states, needs to sum to 1. "
   ]
  },
  {
   "cell_type": "code",
   "execution_count": 2,
   "id": "48737a63",
   "metadata": {},
   "outputs": [],
   "source": [
    "model = MSM(ts=ts_test, n_latent=3)"
   ]
  },
  {
   "cell_type": "markdown",
   "id": "9b8da494",
   "metadata": {},
   "source": [
    "To fit the model to the data, start with an initial guess. The `MSM.fit()` method then optimizes the parameters using `jaxopt`'s [Broyden–Fletcher–Goldfarb–Shanno algorithm](https://en.wikipedia.org/wiki/Broyden%E2%80%93Fletcher%E2%80%93Goldfarb%E2%80%93Shanno_algorithm).\n",
    "\n",
    "By assumption, all the parameters need to be positive, and have further individual constrains:\n",
    "\n",
    "- `marg_support`: the support of the marginal probability mass defined in the parameters. It needs to have unity expectation. In the symmetric binomial case, this can be enforced by specifying one value $m_0$, and having the second value be $2 - m_0$.\n",
    "\n",
    "- `unconditional_term`: the unconditional distribution of the model, a positive double.\n",
    "\n",
    "- `arrival_gdistance`: the geometric distance between the Poisson arrivals of each latent volatility component, a positive double.\n",
    "\n",
    "- `hf_arrival`: the highest poisson arrival probability (i.e. the proability of state switch of the highest frequency component).\n",
    "\n",
    "Note: to maintain the constrains during optimization, the parameters are transformed using mappings."
   ]
  },
  {
   "cell_type": "code",
   "execution_count": 3,
   "id": "b7e57eb4",
   "metadata": {},
   "outputs": [],
   "source": [
    "initial_params = jnp.array([\n",
    "    2,    #unconditional term\n",
    "    3.0,    #arrival_gdistance\n",
    "    0.98,   #hf_arrival\n",
    "    #support\n",
    "    1.5,    \n",
    "    0.5\n",
    "])\n",
    "\n",
    "msm_result = model.fit(initial_parameters=initial_params, maxiter=1000)"
   ]
  },
  {
   "cell_type": "markdown",
   "id": "c7afb671",
   "metadata": {},
   "source": [
    "`msm_result` is a custom dataclass (`msm_metadata`) that contains relevant information about the model. This construct reduces the verbosity of the API, as it can be passed as the only input required to operate with the following methods.\n",
    "\n",
    "It contains:\n",
    "- `filtered`: a dictionary containing the current distribution of the latent components, the list of distribution list at each time step, inferred using the forward algorithm, the transition tensor of the model (in factor form), and the vector of latent states\n",
    "- `parameters`: a dictionary containing the model parameters\n",
    "- `standard_errors`: a dictionary containing the model standard errors\n",
    "- `robust_standard_errors`: a dictionary containing the [Eicker–Huber–White](https://en.wikipedia.org/wiki/Heteroskedasticity-consistent_standard_errors) standard errors\n",
    "- `hyperparameters:` a dictionary containing the hyperparameters of the model (the number of volatility components and the marginal probability mass)\n",
    "- `optimization_info`: information about the optimization process\n",
    "- `name`: the internal name of the model (defaults to \"MSM\")\n",
    "- `data`: the input data\n",
    "- `data_log_change`: the logarithmic change between each data point and its next observation (e.g. the log. return if the original data is a series of financial prices).\n",
    "\n",
    "Most of this information can be printed using the `summary()` function. Note: if the attribute `latex` is True, then summary will print a latex table."
   ]
  },
  {
   "cell_type": "code",
   "execution_count": null,
   "id": "fd842784",
   "metadata": {},
   "outputs": [
    {
     "name": "stdout",
     "output_type": "stream",
     "text": [
      "------------------  -------------------------  -------------------\n",
      "model:              MSM\n",
      "------------------  -------------------------  -------------------\n",
      "Hyperparameters\n",
      "------------------  -------------------------  -------------------\n",
      "n_latent            marginal_probability_mass\n",
      "3                   [0.5 0.5]\n",
      "------------------  -------------------------  -------------------\n",
      "                    Parameters                 Standard Errors\n",
      "------------------  -------------------------  -------------------\n",
      "unconditional_term  0.6317223310470581         0.06381293386220932\n",
      "arrival_gdistance   3.0993151664733887         nan\n",
      "hf_arrival          0.5677862763404846         nan\n",
      "marginal_support    [1.        1.0000001]      [0.    0.125]\n",
      "------------------  -------------------------  -------------------\n",
      "Likelihood:         -20.905973434448242\n",
      "------------------  -------------------------  -------------------\n"
     ]
    }
   ],
   "source": [
    "summary(msm_result)"
   ]
  },
  {
   "cell_type": "markdown",
   "id": "67e697b2",
   "metadata": {},
   "source": [
    "It is also possible to make simulations with the MSM. The `MSM.simulation` method takes a `msm_metadata` object as input to choose the parameters, as it is intended to be used to simulate data from a fitted model, as above. If the user wants to simulate from chosen parameters, a `msm_metadata` object needs to be initialized with them.\n",
    "\n",
    "Follows an example with the parameters of the fitted model above. It returns a tuple containing the simulated logarithmic change (e.g. 1 step return) and corresponding implied volatility."
   ]
  },
  {
   "cell_type": "code",
   "execution_count": 5,
   "id": "2818701e",
   "metadata": {},
   "outputs": [],
   "source": [
    "ret, vol = model.simulation(n_simulations = 1000, model_info = msm_result, seed=123)"
   ]
  },
  {
   "cell_type": "markdown",
   "id": "ca9f14ff",
   "metadata": {},
   "source": [
    "Finally a 7 period forecast. The method returns the predictive distribution at each forecast horizon, so that it may be used for both point-expectation and uncertainty intervals."
   ]
  },
  {
   "cell_type": "code",
   "execution_count": 6,
   "id": "f61d3d27",
   "metadata": {},
   "outputs": [],
   "source": [
    "forecast = model.forecast(horizon=7, model_info=msm_result)"
   ]
  }
 ],
 "metadata": {
  "kernelspec": {
   "display_name": "usami",
   "language": "python",
   "name": "python3"
  },
  "language_info": {
   "codemirror_mode": {
    "name": "ipython",
    "version": 3
   },
   "file_extension": ".py",
   "mimetype": "text/x-python",
   "name": "python",
   "nbconvert_exporter": "python",
   "pygments_lexer": "ipython3",
   "version": "3.11.8"
  }
 },
 "nbformat": 4,
 "nbformat_minor": 5
}
