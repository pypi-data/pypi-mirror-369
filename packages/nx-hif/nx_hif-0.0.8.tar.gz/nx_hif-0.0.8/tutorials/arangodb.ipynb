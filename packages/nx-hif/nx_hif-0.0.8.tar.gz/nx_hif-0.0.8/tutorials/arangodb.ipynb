{
 "cells": [
  {
   "cell_type": "code",
   "execution_count": 1,
   "metadata": {},
   "outputs": [
    {
     "name": "stderr",
     "output_type": "stream",
     "text": [
      "[18:47:30 +0000] [INFO]: NetworkX-cuGraph is available.\n"
     ]
    }
   ],
   "source": [
    "import nx_hif\n",
    "import os\n",
    "import networkx as nx\n",
    "import nx_arangodb as nxadb\n",
    "\n",
    "os.environ[\"DATABASE_HOST\"] = \"http://localhost:8529\"\n",
    "os.environ[\"DATABASE_USERNAME\"] = \"root\"\n",
    "os.environ[\"DATABASE_PASSWORD\"] = \"openSesame\"\n",
    "os.environ[\"DATABASE_NAME\"] = \"_system\""
   ]
  },
  {
   "cell_type": "code",
   "execution_count": 2,
   "metadata": {},
   "outputs": [
    {
     "name": "stderr",
     "output_type": "stream",
     "text": [
      "[18:47:30 +0000] [INFO]: Overwriting graph 'MyGraph'\n",
      "[18:47:30 +0000] [INFO]: Graph 'MyGraph' exists.\n",
      "[18:47:30 +0000] [INFO]: Default node type set to 'MyGraph_node'\n"
     ]
    },
    {
     "data": {
      "text/plain": [
       "['MyGraph_node/e3398',\n",
       " 'MyGraph_node/n145',\n",
       " 'MyGraph_node/6176',\n",
       " 'MyGraph_node/n102',\n",
       " 'MyGraph_node/7837',\n",
       " 'MyGraph_node/n9']"
      ]
     },
     "execution_count": 2,
     "metadata": {},
     "output_type": "execute_result"
    }
   ],
   "source": [
    "G_adb = nxadb.Graph(name=\"MyGraph\", overwrite_graph=True)\n",
    "nx_hif.read_hif(G_adb, \"data/email-enron.json\")\n",
    "nxadb.shortest_path(G_adb, \"MyGraph_node/e3398\", \"MyGraph_node/n9\")"
   ]
  },
  {
   "cell_type": "code",
   "execution_count": 3,
   "metadata": {},
   "outputs": [
    {
     "data": {
      "text/plain": [
       "['e3398', 'n145', '6176', 'n21', 'e731', 'n9']"
      ]
     },
     "execution_count": 3,
     "metadata": {},
     "output_type": "execute_result"
    }
   ],
   "source": [
    "G_cpu = nx.Graph()\n",
    "nx_hif.read_hif(G_cpu, \"data/email-enron.json\")\n",
    "nx.shortest_path(G_cpu, \"e3398\", \"n9\")"
   ]
  }
 ],
 "metadata": {
  "kernelspec": {
   "display_name": "rapids-24.12",
   "language": "python",
   "name": "python3"
  },
  "language_info": {
   "codemirror_mode": {
    "name": "ipython",
    "version": 3
   },
   "file_extension": ".py",
   "mimetype": "text/x-python",
   "name": "python",
   "nbconvert_exporter": "python",
   "pygments_lexer": "ipython3",
   "version": "3.12.8"
  }
 },
 "nbformat": 4,
 "nbformat_minor": 2
}
