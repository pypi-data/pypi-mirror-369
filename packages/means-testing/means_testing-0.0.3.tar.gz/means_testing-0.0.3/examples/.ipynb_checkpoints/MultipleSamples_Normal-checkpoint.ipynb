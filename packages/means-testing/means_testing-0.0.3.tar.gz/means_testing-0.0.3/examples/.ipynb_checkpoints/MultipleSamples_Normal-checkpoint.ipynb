{
 "cells": [
  {
   "cell_type": "markdown",
   "id": "2e777e15-4405-4b66-8778-6a94096f0b8b",
   "metadata": {},
   "source": [
    "## Multiple Samples, from Normal Distributions\n",
    "If the underlying samples are normal, the means of multiple samples are compared using a one-way ANOVA. The following example is taken from Riffenburgh's book, *Statistics in Medicine*, page 272.\n",
    "\n",
    "### Parasite Infestation in Rats\n",
    "Are experimental animals equally resistant to parasites? In a study on the control of parasites, rats were injected with 500 larvae each of the parasitic worm Nippostrongylus muris. Ten days later, they were sacrificed and the number of adult worms counted. The question arose, “Is there a batch-to-batch difference in resistance to parasite infestation by groups of rats received from the supplier?” 4 batches of 5 rats each were tested. Data is shown below."
   ]
  },
  {
   "cell_type": "code",
   "execution_count": 1,
   "id": "11441bfa-2b89-4ed0-98a3-d678e34c00bf",
   "metadata": {},
   "outputs": [],
   "source": [
    "# Batch 1\n",
    "group1 = [279, 338, 334, 198, 303]\n",
    "\n",
    "# Batch 2\n",
    "group2 = [378, 275, 412, 265, 286]\n",
    "\n",
    "# Batch 3\n",
    "group3 = [172, 335, 335, 282, 250]\n",
    "\n",
    "# Batch 4\n",
    "group4 = [381, 346, 340, 471, 318]"
   ]
  },
  {
   "cell_type": "markdown",
   "id": "5293fdff-2fcd-464f-9309-4e967e29f0fb",
   "metadata": {},
   "source": [
    "We then initialize a `MeansTester` object, using the data collected from the rats as input arguments."
   ]
  },
  {
   "cell_type": "code",
   "execution_count": 2,
   "id": "52b457e7-efb2-4b5b-ae38-7c25f7a412da",
   "metadata": {},
   "outputs": [],
   "source": [
    "from means_testing import MeansTester\n",
    "\n",
    "StatToolbox = MeansTester(group1, group2, group3, group4)"
   ]
  },
  {
   "cell_type": "markdown",
   "id": "22a160cf-f752-4988-8bb6-2075c3bfe5fe",
   "metadata": {},
   "source": [
    "We then call the `test_means()` method, and set `verbose` to True, to have a better look of what is happening."
   ]
  },
  {
   "cell_type": "code",
   "execution_count": 3,
   "id": "e24ef603-8657-4d53-a3b2-c4905dd66a4f",
   "metadata": {},
   "outputs": [
    {
     "name": "stdout",
     "output_type": "stream",
     "text": [
      "Checking if samples have equal variances DONE!\n",
      " - test_type : Levene\n",
      " - stat      : 0.09016530178950566\n",
      " - p         : 0.9644052340641746\n",
      "Samples have unequal variances: No\n",
      "\n",
      "Checking if samples are drawn from normal distributions DONE!\n",
      "Samples #1 are NOT drawn from a normal distribution: False\n",
      " - {'test_type': 'Shapiro-Wilk', 'stat': np.float64(0.8700594242824126), 'p': np.float64(0.2666644744135396)}\n",
      "Samples #2 are NOT drawn from a normal distribution: False\n",
      " - {'test_type': 'Shapiro-Wilk', 'stat': np.float64(0.8353235653520554), 'p': np.float64(0.15240476020692212)}\n",
      "Samples #3 are NOT drawn from a normal distribution: False\n",
      " - {'test_type': 'Shapiro-Wilk', 'stat': np.float64(0.8982830736791482), 'p': np.float64(0.4004689634783874)}\n",
      "Samples #4 are NOT drawn from a normal distribution: False\n",
      " - {'test_type': 'Shapiro-Wilk', 'stat': np.float64(0.8590210837073065), 'p': np.float64(0.2247549687621656)}\n",
      "At least one sample not drawn from a normal distribution: No\n",
      "\n",
      "Comparing means of samples DONE!\n",
      " - test_type : one-way ANOVA\n",
      " - stat      : 2.2711632600301885\n",
      " - p         : 0.11945713935393149\n",
      "Samples are significantly different: No\n",
      "\n"
     ]
    }
   ],
   "source": [
    "StatToolbox.test_means(verbose=True)"
   ]
  },
  {
   "cell_type": "markdown",
   "id": "c849541d-dd67-4872-af70-cbcd6835fb0a",
   "metadata": {},
   "source": [
    "The computed p-value is 0.119 which is larger than our significant level of 0.05 and hence, we reject the null hypothesis::\n",
    "\n",
    "> There is no significant difference in the mean number parasitic worms of the four batches of rats, hence the four batches of rats show no difference in parasitic resistance.\n",
    "\n",
    "To double check the computed results, refer to Riffenburgh's book, *Statistics in Medicine*, page 618."
   ]
  },
  {
   "cell_type": "code",
   "execution_count": null,
   "id": "22e9b04d-8878-492a-8778-4240b26aef77",
   "metadata": {},
   "outputs": [],
   "source": []
  }
 ],
 "metadata": {
  "kernelspec": {
   "display_name": "Python 3 (ipykernel)",
   "language": "python",
   "name": "python3"
  },
  "language_info": {
   "codemirror_mode": {
    "name": "ipython",
    "version": 3
   },
   "file_extension": ".py",
   "mimetype": "text/x-python",
   "name": "python",
   "nbconvert_exporter": "python",
   "pygments_lexer": "ipython3",
   "version": "3.13.3"
  }
 },
 "nbformat": 4,
 "nbformat_minor": 5
}
