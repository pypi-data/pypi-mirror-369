{
 "cells": [
  {
   "cell_type": "markdown",
   "id": "2e777e15-4405-4b66-8778-6a94096f0b8b",
   "metadata": {},
   "source": [
    "## Two Samples, from Normal Distributions\n",
    "If the underlying samples are normal, the means of two samples are compared using a Student's t-test. The following example is taken from Riffenburgh's book, *Statistics in Medicine*, page 262.\n",
    "\n",
    "### Comparing the Effectiveness of Two Treatments\n",
    "An emergency medicine physician wants to compare the relative effectiveness of a “GI cocktail” (antacid plus viscous lidocaine) (treatment 1) versus IV ranitidine HCl (treatment 2) to treat emergency dyspeptic symptoms as measured on a 1–10 pain scale. He records data as pain before treatment minus pain 45 minutes after treatment for 28 patients, randomly assigned to the two treatments. The test is **two-tailed**, since either treatment could be the more effective one. Data is shown below."
   ]
  },
  {
   "cell_type": "code",
   "execution_count": 1,
   "id": "11441bfa-2b89-4ed0-98a3-d678e34c00bf",
   "metadata": {},
   "outputs": [],
   "source": [
    "# Treatment1\n",
    "t1_exp1 = [6, 7, 2, 5, 3, 0, 3, 4, 5, 6, 1, 1, 1, 8, 6]\n",
    "\n",
    "# Treatment 2\n",
    "t2_exp1 = [0, 1, 8, 4, 7, 4, 7, 7, 6, 1, 0, 4, 4]"
   ]
  },
  {
   "cell_type": "markdown",
   "id": "5293fdff-2fcd-464f-9309-4e967e29f0fb",
   "metadata": {},
   "source": [
    "We then initialize a `MeansTester` object, using the data collected from the patients as input arguments. We also set the `alternative` parameter to 'two-sided' to carry out a two-tailed test."
   ]
  },
  {
   "cell_type": "code",
   "execution_count": 2,
   "id": "52b457e7-efb2-4b5b-ae38-7c25f7a412da",
   "metadata": {},
   "outputs": [],
   "source": [
    "from means_testing import MeansTester\n",
    "\n",
    "StatToolbox = MeansTester(t1_exp1, t2_exp1, alternative='two-sided')"
   ]
  },
  {
   "cell_type": "markdown",
   "id": "22a160cf-f752-4988-8bb6-2075c3bfe5fe",
   "metadata": {},
   "source": [
    "We then call the `test_means()` method, and set `verbose` to True, to have a better look of what is happening."
   ]
  },
  {
   "cell_type": "code",
   "execution_count": 3,
   "id": "e24ef603-8657-4d53-a3b2-c4905dd66a4f",
   "metadata": {},
   "outputs": [
    {
     "name": "stdout",
     "output_type": "stream",
     "text": [
      "Checking if samples have equal variances DONE!\n",
      " - test_type : F-Test\n",
      " - stat      : 1.2888707037643208\n",
      " - p         : 0.3217900288296976\n",
      "Samples have unequal variances: No\n",
      "\n",
      "Checking if samples are drawn from normal distributions DONE!\n",
      "Samples #1 are NOT drawn from a normal distribution: False\n",
      " - {'test_type': 'Shapiro-Wilk', 'stat': np.float64(0.9427895895953966), 'p': np.float64(0.41874593539411115)}\n",
      "Samples #2 are NOT drawn from a normal distribution: False\n",
      " - {'test_type': 'Shapiro-Wilk', 'stat': np.float64(0.8934501174752366), 'p': np.float64(0.10874641860784667)}\n",
      "At least one sample not drawn from a normal distribution: No\n",
      "\n",
      "Comparing means of samples DONE!\n",
      " - test_type : t-test\n",
      " - stat      : -0.2082054124255433\n",
      " - p         : 0.8366909877678382\n",
      "Samples are significantly different: No\n",
      "\n"
     ]
    }
   ],
   "source": [
    "StatToolbox.test_means(verbose=True)"
   ]
  },
  {
   "cell_type": "markdown",
   "id": "c849541d-dd67-4872-af70-cbcd6835fb0a",
   "metadata": {},
   "source": [
    "The computed p-value is 0.837 which is much larger than our significant level of 0.05 and hence, we reject the null hypothesis::\n",
    "\n",
    "> There is no significant difference between the two treatments, hence the treatments show no difference in effectiveness.\n",
    "\n",
    "To double check the computed results, refer to Riffenburgh's book, *Statistics in Medicine*, page 262."
   ]
  },
  {
   "cell_type": "code",
   "execution_count": null,
   "id": "22e9b04d-8878-492a-8778-4240b26aef77",
   "metadata": {},
   "outputs": [],
   "source": []
  }
 ],
 "metadata": {
  "kernelspec": {
   "display_name": "Python 3 (ipykernel)",
   "language": "python",
   "name": "python3"
  },
  "language_info": {
   "codemirror_mode": {
    "name": "ipython",
    "version": 3
   },
   "file_extension": ".py",
   "mimetype": "text/x-python",
   "name": "python",
   "nbconvert_exporter": "python",
   "pygments_lexer": "ipython3",
   "version": "3.13.3"
  }
 },
 "nbformat": 4,
 "nbformat_minor": 5
}
