{
 "cells": [
  {
   "cell_type": "code",
   "execution_count": null,
   "id": "112a57f5",
   "metadata": {},
   "outputs": [
    {
     "ename": "ModuleNotFoundError",
     "evalue": "No module named 'coords_nsga2'",
     "output_type": "error",
     "traceback": [
      "\u001b[31m---------------------------------------------------------------------------\u001b[39m",
      "\u001b[31mModuleNotFoundError\u001b[39m                       Traceback (most recent call last)",
      "\u001b[36mCell\u001b[39m\u001b[36m \u001b[39m\u001b[32mIn[1]\u001b[39m\u001b[32m, line 2\u001b[39m\n\u001b[32m      1\u001b[39m \u001b[38;5;28;01mimport\u001b[39;00m\u001b[38;5;250m \u001b[39m\u001b[34;01mnumpy\u001b[39;00m\u001b[38;5;250m \u001b[39m\u001b[38;5;28;01mas\u001b[39;00m\u001b[38;5;250m \u001b[39m\u001b[34;01mnp\u001b[39;00m\n\u001b[32m----> \u001b[39m\u001b[32m2\u001b[39m \u001b[38;5;28;01mfrom\u001b[39;00m\u001b[38;5;250m \u001b[39m\u001b[34;01mcoords_nsga2\u001b[39;00m\u001b[38;5;250m \u001b[39m\u001b[38;5;28;01mimport\u001b[39;00m coords_nsga2\n",
      "\u001b[31mModuleNotFoundError\u001b[39m: No module named 'coords_nsga2'"
     ]
    }
   ],
   "source": [
    "import numpy as np\n",
    "from coords_nsga2 import CoordsNSGA2"
   ]
  },
  {
   "cell_type": "code",
   "execution_count": 3,
   "id": "eae35ce7",
   "metadata": {},
   "outputs": [],
   "source": [
    "def objective_1(coords):\n",
    "    \"\"\"\n",
    "    coords: shape为(N, 2)的坐标列表，已经处理为numpy数组\n",
    "    return标量值\n",
    "    \"\"\"\n",
    "    return coords[0][0]\n",
    "\n",
    "\n",
    "def objective_2(coords):\n",
    "    return coords[0][1]"
   ]
  },
  {
   "cell_type": "code",
   "execution_count": 4,
   "id": "5ce004e1",
   "metadata": {},
   "outputs": [],
   "source": [
    "def constraint_1(coords):\n",
    "    \"\"\"\n",
    "    coords: shape为(N, 2)的坐标列表，已经处理为numpy数组\n",
    "    return标量值表示违背约束的程度\n",
    "    \"\"\"\n",
    "    coords = np.array(coords)\n",
    "    return coords[0][0] + coords[0][1] - 1\n",
    "\n",
    "\n",
    "def constraint_2(coords):\n",
    "    coords = np.array(coords)\n",
    "    return coords[1][0] + coords[1][1] - 1"
   ]
  },
  {
   "cell_type": "code",
   "execution_count": null,
   "id": "031ff1c8",
   "metadata": {},
   "outputs": [],
   "source": [
    "# region = xxx # 给的点的可分布区域 可以是坐标各个分量的范围或者复杂的多边形或者其他 可以采用外部算子"
   ]
  },
  {
   "cell_type": "code",
   "execution_count": null,
   "id": "cb569e6e",
   "metadata": {},
   "outputs": [
    {
     "ename": "NameError",
     "evalue": "name 'region' is not defined",
     "output_type": "error",
     "traceback": [
      "\u001b[31m---------------------------------------------------------------------------\u001b[39m",
      "\u001b[31mNameError\u001b[39m                                 Traceback (most recent call last)",
      "\u001b[36mCell\u001b[39m\u001b[36m \u001b[39m\u001b[32mIn[5]\u001b[39m\u001b[32m, line 8\u001b[39m\n\u001b[32m      1\u001b[39m \u001b[38;5;66;03m# 定义优化问题\u001b[39;00m\n\u001b[32m      2\u001b[39m optimizer = coords_nsga2(objectives=[objective_1, objective_2],\n\u001b[32m      3\u001b[39m                         constraints=[constraint_1, constraint_2],\n\u001b[32m      4\u001b[39m                         n_points=\u001b[32m100\u001b[39m,\n\u001b[32m      5\u001b[39m                         population_size=\u001b[32m50\u001b[39m,\n\u001b[32m      6\u001b[39m                         prob_cross=\u001b[32m0.9\u001b[39m,\n\u001b[32m      7\u001b[39m                         prob_mut=\u001b[32m0.1\u001b[39m,\n\u001b[32m----> \u001b[39m\u001b[32m8\u001b[39m                         region=region,\n\u001b[32m      9\u001b[39m                         seed=\u001b[32m42\u001b[39m)\n",
      "\u001b[31mNameError\u001b[39m: name 'region' is not defined"
     ]
    }
   ],
   "source": [
    "# 定义优化问题\n",
    "optimizer = CoordsNSGA2(objectives=[objective_1, objective_2],\n",
    "                         constraints=[constraint_1, constraint_2],\n",
    "                         n_points=100,\n",
    "                         population_size=50,\n",
    "                         prob_cross=0.9,\n",
    "                         prob_mut=0.1,\n",
    "                         region=region,\n",
    "                         seed=42)"
   ]
  },
  {
   "cell_type": "code",
   "execution_count": null,
   "id": "566883df",
   "metadata": {},
   "outputs": [],
   "source": [
    "# 运行优化\n",
    "result = optimizer.run(iter_num=1000,\n",
    "                       verbose=0,  # 0表示不输出日志，其他表示每隔几步输出日志\n",
    "                       converge_handler=None,  # 设定收敛处理器\n",
    "                       #   save_path='results',  # 如果有的话运行完保存，设定保存结果的路径\n",
    "                       )"
   ]
  },
  {
   "cell_type": "code",
   "execution_count": null,
   "id": "e0bfda71",
   "metadata": {},
   "outputs": [],
   "source": [
    "# 中途更改突变交叉率\n",
    "optimizer.set_prob(prob_cross=0.8, prob_mut=0.2)"
   ]
  },
  {
   "cell_type": "code",
   "execution_count": null,
   "id": "d78a921c",
   "metadata": {},
   "outputs": [],
   "source": [
    "# 保存结果\n",
    "optimizer.save(path=\"./save.npz\")  # 保存结果\n",
    "# 加载结果\n",
    "optimizer.load(path=\"./save.npz\")  # 加载结果"
   ]
  },
  {
   "cell_type": "code",
   "execution_count": null,
   "id": "a37808a4",
   "metadata": {},
   "outputs": [],
   "source": [
    "# 后处理展示\n",
    "optimizer.postprocess.plot_objective_history()  # 绘制某个目标函数的历史变化\n",
    "# ..."
   ]
  }
 ],
 "metadata": {
  "kernelspec": {
   "display_name": "coords-nsga2",
   "language": "python",
   "name": "python3"
  },
  "language_info": {
   "codemirror_mode": {
    "name": "ipython",
    "version": 3
   },
   "file_extension": ".py",
   "mimetype": "text/x-python",
   "name": "python",
   "nbconvert_exporter": "python",
   "pygments_lexer": "ipython3",
   "version": "3.12.11"
  }
 },
 "nbformat": 4,
 "nbformat_minor": 5
}
